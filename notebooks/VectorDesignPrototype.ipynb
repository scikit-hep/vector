{
 "cells": [
  {
   "cell_type": "markdown",
   "metadata": {},
   "source": [
    "# Vector Design Prototype\n",
    "## Written by Jim Pivarski, with Henry Schreiner"
   ]
  },
  {
   "cell_type": "code",
   "execution_count": 1,
   "metadata": {},
   "outputs": [],
   "source": [
    "import sys\n",
    "import operator\n",
    "import json\n",
    "import numpy as np\n",
    "import numba as nb\n",
    "\n",
    "import uproot\n",
    "import awkward1 as ak\n",
    "from skhep_testdata import data_path"
   ]
  },
  {
   "cell_type": "markdown",
   "metadata": {},
   "source": [
    "This is an free-standing illustration of the original design of Vector and the integration with Awkward1."
   ]
  },
  {
   "cell_type": "markdown",
   "metadata": {},
   "source": [
    "### Import data\n",
    "Get some data from Uproot via scikit-hep-testdata"
   ]
  },
  {
   "cell_type": "code",
   "execution_count": 2,
   "metadata": {},
   "outputs": [],
   "source": [
    "tree = uproot.open(data_path(\"uproot-HZZ.root\"))[\"events\"]"
   ]
  },
  {
   "cell_type": "code",
   "execution_count": 3,
   "metadata": {},
   "outputs": [],
   "source": [
    "x, y, z, t = tree.arrays([\"Muon_Px\", \"Muon_Py\", \"Muon_Pz\", \"Muon_E\"], outputtype=tuple)\n",
    "offsets = ak.layout.Index64(x.offsets)\n",
    "content = ak.layout.RecordArray({\n",
    "    \"x\": ak.layout.NumpyArray(x.content.astype(np.float64)),\n",
    "    \"y\": ak.layout.NumpyArray(y.content.astype(np.float64)), \n",
    "    \"z\": ak.layout.NumpyArray(z.content.astype(np.float64)),\n",
    "    \"t\": ak.layout.NumpyArray(t.content.astype(np.float64))},\n",
    "    parameters={\"__record__\": \"LorentzXYZT\"})"
   ]
  },
  {
   "cell_type": "markdown",
   "metadata": {},
   "source": [
    "I like `LorentzXYZT` as a name for Cartesian Lorentz vectors. It can recognizably\n",
    "be shortened to `Lxyz` and it invites the cylindrical form to be `LorentzCyl`/`Lcyl`.\n",
    "\n",
    "They should be interchangeable: having the same methods/properties and freely\n",
    "returning whichever form is most convenient. Source vectors would likely be `Lcyl`\n",
    "and adding them would likely return `Lxyz`, for instance.\n",
    "\n",
    "This array is generic: it doesn't know what records labeled `LorentzXYZT` mean."
   ]
  },
  {
   "cell_type": "code",
   "execution_count": 4,
   "metadata": {},
   "outputs": [
    {
     "name": "stdout",
     "output_type": "stream",
     "text": [
      "<Array [[{x: -52.9, y: -11.7, ... t: 69.6}]] type='2421 * var * LorentzXYZT[\"x\":...'>\n"
     ]
    }
   ],
   "source": [
    "example = ak.Array(ak.layout.ListOffsetArray64(offsets, content))\n",
    "print(repr(example))"
   ]
  },
  {
   "cell_type": "markdown",
   "metadata": {},
   "source": [
    "### Free functions\n",
    "\n",
    "These functions can be reused for LorentzXYZT objects, LorentzXYZTArray arrays, and Numba."
   ]
  },
  {
   "cell_type": "code",
   "execution_count": 5,
   "metadata": {},
   "outputs": [],
   "source": [
    "def lorentz_xyz_pt(rec):\n",
    "    return np.sqrt(rec.x**2 + rec.y**2)\n",
    "\n",
    "def lorentz_xyz_eta(rec):\n",
    "    return np.arcsinh(rec.z / np.sqrt(rec.x**2 + rec.y**2))\n",
    "\n",
    "def lorentz_xyz_phi(rec):\n",
    "    return np.arctan2(rec.y, rec.x)\n",
    "\n",
    "def lorentz_xyz_mass(rec):\n",
    "    return np.sqrt(rec.t**2 - rec.x**2 - rec.y**2 - rec.z**2)"
   ]
  },
  {
   "cell_type": "markdown",
   "metadata": {},
   "source": [
    "This function only works as a ufunc overload"
   ]
  },
  {
   "cell_type": "code",
   "execution_count": 6,
   "metadata": {},
   "outputs": [],
   "source": [
    "def lorentz_add_xyz_xyz(left, right):\n",
    "    x = left.x + right.x\n",
    "    y = left.y + right.y\n",
    "    z = left.z + right.z\n",
    "    t = left.t + right.t\n",
    "\n",
    "    return ak.zip({\"x\": x, \"y\": y, \"z\": z, \"t\": t},\n",
    "                  with_name=\"LorentzXYZT\")"
   ]
  },
  {
   "cell_type": "markdown",
   "metadata": {},
   "source": [
    "### Mixin class\n",
    "\n",
    "Many of the functions can be used for records and arrays of them, so use a base class. This is a *mixin* - no **members** or **constructors** allowed."
   ]
  },
  {
   "cell_type": "code",
   "execution_count": 7,
   "metadata": {},
   "outputs": [],
   "source": [
    "class LorentzXYZTCommon(object):\n",
    "    @property\n",
    "    def pt(self):\n",
    "        with np.errstate(invalid=\"ignore\"):\n",
    "            return lorentz_xyz_pt(self)\n",
    "\n",
    "    @property\n",
    "    def eta(self):\n",
    "        with np.errstate(invalid=\"ignore\"):\n",
    "            return lorentz_xyz_eta(self)\n",
    "\n",
    "    @property\n",
    "    def phi(self):\n",
    "        with np.errstate(invalid=\"ignore\"):\n",
    "            return lorentz_xyz_phi(self)\n",
    "\n",
    "    @property\n",
    "    def mass(self):\n",
    "        with np.errstate(invalid=\"ignore\"):\n",
    "            return lorentz_xyz_mass(self)"
   ]
  },
  {
   "cell_type": "markdown",
   "metadata": {},
   "source": [
    "### Awkward behavior\n",
    "\n",
    "This is all that is required to make an Awkward array behavior:"
   ]
  },
  {
   "cell_type": "code",
   "execution_count": 8,
   "metadata": {},
   "outputs": [],
   "source": [
    "class LorentzXYZT(ak.Record, LorentzXYZTCommon):\n",
    "    def __repr__(self):\n",
    "        return \"Lxyz({0:.3g} {1:.3g} {2:.3g} {3:.3g})\".format(self.x, self.y, self.z, self.t)\n",
    "\n",
    "class LorentzXYZTArray(ak.Array, LorentzXYZTCommon):\n",
    "    pass"
   ]
  },
  {
   "cell_type": "markdown",
   "metadata": {},
   "source": [
    "Now, we need a behavior dict:"
   ]
  },
  {
   "cell_type": "code",
   "execution_count": 9,
   "metadata": {},
   "outputs": [],
   "source": [
    "# Define some behaviors for Lorentz vectors.\n",
    "lorentzbehavior = dict(ak.behavior)\n",
    "\n",
    "# Any records with __record__ = \"LorentzXYZT\" will be mapped to LorentzXYZT instances.\n",
    "lorentzbehavior[\"LorentzXYZT\"] = LorentzXYZT\n",
    "\n",
    "# Any arrays containing such records (any number of levels deep) will be LorentsXYZArrays.\n",
    "lorentzbehavior[\"*\", \"LorentzXYZT\"] = LorentzXYZTArray\n",
    "\n",
    "# The NumPy ufunc for \"add\" will use our definition for __record__ = \"LorentzXYZT\".\n",
    "lorentzbehavior[np.add, \"LorentzXYZT\", \"LorentzXYZT\"] = lorentz_add_xyz_xyz"
   ]
  },
  {
   "cell_type": "markdown",
   "metadata": {},
   "source": [
    "### Example with Awkward\n",
    "\n",
    "This is ready to be used:"
   ]
  },
  {
   "cell_type": "code",
   "execution_count": 10,
   "metadata": {},
   "outputs": [
    {
     "name": "stdout",
     "output_type": "stream",
     "text": [
      "<LorentzXYZTArray [[Lxyz(-52.9 -11.7 -8.16 54.8), ... ] type='2421 * var * Lorent...'>\n",
      "Lxyz(-52.9 -11.7 -8.16 54.8)\n",
      "0.10559298741436905\n",
      "<Array [[0.106, 0.105], ... [0.104]] type='2421 * var * float64'>\n"
     ]
    }
   ],
   "source": [
    "# This new array understands that data labeled \"LorentzXYZT\" should have the above methods.\n",
    "example2 = ak.Array(example, behavior=lorentzbehavior)\n",
    "\n",
    "print(repr(example2))\n",
    "print(repr(example2[0, 0]))\n",
    "print(repr(example2[0, 0].mass))\n",
    "print(repr(example2.mass))"
   ]
  },
  {
   "cell_type": "code",
   "execution_count": 11,
   "metadata": {},
   "outputs": [
    {
     "data": {
      "text/plain": [
       "<Array [[-52.9, 37.7], ... 1.14], [23.9]] type='2421 * var * float64'>"
      ]
     },
     "execution_count": 11,
     "metadata": {},
     "output_type": "execute_result"
    }
   ],
   "source": [
    "example.x"
   ]
  },
  {
   "cell_type": "code",
   "execution_count": 12,
   "metadata": {},
   "outputs": [
    {
     "name": "stdout",
     "output_type": "stream",
     "text": [
      "[Lxyz(-15.2 -11 -19.5 94.2), Lxyz(49.8 8.08 48.1 102), ... Lxyz(2.94 18.4 -262 273)]\n",
      "[90.2, 74.7, 89.8, 94.9, 92.1, 53.4, 89.8, ... 91.7, 88.8, 101, 91.5, 92.1, 85.4, 76]\n"
     ]
    }
   ],
   "source": [
    "# We need a \"ak.sizes\" function with a simpler interface than this...\n",
    "hastwo = ak.count(example2, axis=-1).x >= 2\n",
    "\n",
    "print(example2[hastwo, 0] + example2[hastwo, 1])\n",
    "print((example2[hastwo, 0] + example2[hastwo, 1]).mass)"
   ]
  },
  {
   "cell_type": "markdown",
   "metadata": {},
   "source": [
    "## Numba\n",
    "### Numba: Simple Awkward property access\n",
    "\n",
    "\n",
    "Now we need typers and lowerers:"
   ]
  },
  {
   "cell_type": "code",
   "execution_count": 13,
   "metadata": {},
   "outputs": [],
   "source": [
    "def typer_lorentz_xyz_pt(viewtype):\n",
    "    return nb.float64\n",
    "\n",
    "def lower_lorentz_xyz_pt(context, builder, sig, args):\n",
    "    return context.compile_internal(builder, lorentz_xyz_pt, sig, args)"
   ]
  },
  {
   "cell_type": "markdown",
   "metadata": {},
   "source": [
    "These can be awkward behaviors:"
   ]
  },
  {
   "cell_type": "code",
   "execution_count": 14,
   "metadata": {},
   "outputs": [],
   "source": [
    "lorentzbehavior[\"__numba_typer__\", \"LorentzXYZT\", \"pt\"] = typer_lorentz_xyz_pt\n",
    "lorentzbehavior[\"__numba_lower__\", \"LorentzXYZT\", \"pt\"] = lower_lorentz_xyz_pt"
   ]
  },
  {
   "cell_type": "markdown",
   "metadata": {},
   "source": [
    "If we wanted a method (with arguments determined in the typer), the signature would be:\n",
    "\n",
    "```python\n",
    "lorentzbehavior[\"__numba_lower__\", \"LorentzXYZT\", \"pt\", ()] = ...\n",
    "```"
   ]
  },
  {
   "cell_type": "markdown",
   "metadata": {},
   "source": [
    "#### Example\n",
    "\n",
    "Let's try accessing this in Numba:"
   ]
  },
  {
   "cell_type": "code",
   "execution_count": 15,
   "metadata": {},
   "outputs": [
    {
     "name": "stdout",
     "output_type": "stream",
     "text": [
      "[[{muon: Lxyz(-52.9 -11.7 -8.16 54.8), pt: 54.2}, ... pt: 42.9}]]\n"
     ]
    }
   ],
   "source": [
    "example3 = ak.Array(example, behavior=lorentzbehavior)\n",
    "\n",
    "@nb.njit\n",
    "def do_it_in_numba(input, output):\n",
    "    for event in input:\n",
    "        output.begin_list()\n",
    "\n",
    "        for muon in event:\n",
    "            output.begin_record()\n",
    "            output.field(\"muon\")\n",
    "            output.append(muon)\n",
    "            output.field(\"pt\")\n",
    "            output.append(muon.pt)\n",
    "            output.end_record()\n",
    "\n",
    "        output.end_list()\n",
    "\n",
    "output = ak.ArrayBuilder(behavior=lorentzbehavior)\n",
    "do_it_in_numba(example3, output)\n",
    "\n",
    "print(output.snapshot())"
   ]
  },
  {
   "cell_type": "markdown",
   "metadata": {},
   "source": [
    "### Numba: binary operators\n",
    "\n",
    "We can define binary operations (operator.add being the one we want most)..."
   ]
  },
  {
   "cell_type": "code",
   "execution_count": 16,
   "metadata": {},
   "outputs": [],
   "source": [
    "def typer_lorentz_xyz_eq(binop, left, right):\n",
    "    return nb.boolean(left, right)\n",
    "\n",
    "def lower_lorentz_xyz_eq(context, builder, sig, args):\n",
    "    def compute(left, right):\n",
    "        return abs(left.x - right.x) + abs(left.y - right.y) + abs(left.z - right.z) + abs(left.t - right.t) < 0.001\n",
    "    return context.compile_internal(builder, compute, sig, args)\n",
    "\n",
    "lorentzbehavior[\"__numba_typer__\", \"LorentzXYZT\", operator.eq, \"LorentzXYZT\"] = typer_lorentz_xyz_eq\n",
    "lorentzbehavior[\"__numba_lower__\", \"LorentzXYZT\", operator.eq, \"LorentzXYZT\"] = lower_lorentz_xyz_eq"
   ]
  },
  {
   "cell_type": "markdown",
   "metadata": {},
   "source": [
    "#### Example"
   ]
  },
  {
   "cell_type": "code",
   "execution_count": 17,
   "metadata": {},
   "outputs": [
    {
     "name": "stdout",
     "output_type": "stream",
     "text": [
      "[[[True, False], [True]], [[True]], [[True, ... [[True]], [[True]], [[True]]]\n"
     ]
    }
   ],
   "source": [
    "example4 = ak.Array(example, behavior=lorentzbehavior)\n",
    "\n",
    "@nb.njit\n",
    "def check_equality(input, output):\n",
    "    for muons in input:\n",
    "        output.begin_list()\n",
    "\n",
    "        for i in range(len(muons)):\n",
    "            output.begin_list()\n",
    "            for j in range(i, len(muons)):\n",
    "                output.append(muons[i] == muons[j])\n",
    "            output.end_list()\n",
    "\n",
    "        output.end_list()\n",
    "\n",
    "output = ak.ArrayBuilder(behavior=lorentzbehavior)\n",
    "check_equality(example4, output)\n",
    "\n",
    "print(output.snapshot())"
   ]
  },
  {
   "cell_type": "markdown",
   "metadata": {},
   "source": [
    "### Aside: free vectors\n",
    "\n",
    "The trouble with `operator.add` is that it returns new objects.\n",
    "\n",
    "The records we have been dealing with are not free-floating objects; they're views\n",
    "into the arrays, and Awkward Arrays can't be created in Numba (that restriction gives\n",
    "us a lot of freedom and this model favors the development of a functional language).\n",
    "\n",
    "So we need to create a new Numba type that is a free-floating `LorentzXYZTCommon`.\n",
    "Fortunately, that's a more conventional task and serves as a good introduction to Numba."
   ]
  },
  {
   "cell_type": "code",
   "execution_count": 18,
   "metadata": {},
   "outputs": [],
   "source": [
    "class LorentzXYZTFree(LorentzXYZTCommon):\n",
    "    def __init__(self, x, y, z, t):\n",
    "        self.x = x\n",
    "        self.y = y\n",
    "        self.z = z\n",
    "        self.t = t\n",
    "\n",
    "    def __repr__(self):\n",
    "        return \"Lxyz({0:.3g} {1:.3g} {2:.3g} {3:.3g})\".format(self.x, self.y, self.z, self.t)\n",
    "\n",
    "    def __getitem__(self, attr):\n",
    "        # It has to behave the same way as the bound objects or users will get confused.\n",
    "        if attr in (\"x\", \"y\", \"z\", \"t\"):\n",
    "            return getattr(self, attr)\n",
    "        else:\n",
    "            raise ValueError(\"key {0} does not exist (not in record)\".format(json.dumps(attr)))"
   ]
  },
  {
   "cell_type": "markdown",
   "metadata": {},
   "source": [
    "### Numba: Extending free vectors"
   ]
  },
  {
   "cell_type": "code",
   "execution_count": 19,
   "metadata": {},
   "outputs": [],
   "source": [
    "@nb.extending.typeof_impl.register(LorentzXYZTFree)\n",
    "def typeof_LorentzXYZTFree(obj, c):\n",
    "    return LorentzXYZTType()\n",
    "\n",
    "class LorentzXYZTType(nb.types.Type):\n",
    "    def __init__(self):\n",
    "        # Type names have to be unique identifiers; they determine whether Numba\n",
    "        # will recompile a function with new types.\n",
    "        super(LorentzXYZTType, self).__init__(name=\"LorentzXYZTType()\")\n",
    "\n",
    "@nb.extending.register_model(LorentzXYZTType)\n",
    "class LorentzXYZTModel(nb.extending.models.StructModel):\n",
    "    def __init__(self, dmm, fe_type):\n",
    "        # This is the C-style struct that will be used wherever LorentzXYZT are needed.\n",
    "        members = [(\"x\", nb.float64),\n",
    "                   (\"y\", nb.float64),\n",
    "                   (\"z\", nb.float64),\n",
    "                   (\"t\", nb.float64)]\n",
    "        super(LorentzXYZTModel, self).__init__(dmm, fe_type, members)"
   ]
  },
  {
   "cell_type": "markdown",
   "metadata": {},
   "source": [
    "#### Unboxing and boxing:"
   ]
  },
  {
   "cell_type": "code",
   "execution_count": 20,
   "metadata": {},
   "outputs": [],
   "source": [
    "@nb.extending.unbox(LorentzXYZTType)\n",
    "def unbox_LorentzXYZT(lxyztype, lxyzobj, c):\n",
    "    # How to turn LorentzXYZTFree Python objects into LorentzXYZTModel structs.\n",
    "    x_obj = c.pyapi.object_getattr_string(lxyzobj, \"x\")\n",
    "    y_obj = c.pyapi.object_getattr_string(lxyzobj, \"y\")\n",
    "    z_obj = c.pyapi.object_getattr_string(lxyzobj, \"z\")\n",
    "    t_obj = c.pyapi.object_getattr_string(lxyzobj, \"t\")\n",
    "\n",
    "    # \"values\" are raw LLVM code; \"proxies\" have getattr/setattr logic to access fields.\n",
    "    outproxy = c.context.make_helper(c.builder, lxyztype)\n",
    "\n",
    "    # https://github.com/numba/numba/blob/master/numba/core/pythonapi.py\n",
    "    outproxy.x = c.pyapi.float_as_double(x_obj)\n",
    "    outproxy.y = c.pyapi.float_as_double(y_obj)\n",
    "    outproxy.z = c.pyapi.float_as_double(z_obj)\n",
    "    outproxy.t = c.pyapi.float_as_double(t_obj)\n",
    "\n",
    "    # Yes, we're in that world...\n",
    "    c.pyapi.decref(x_obj)\n",
    "    c.pyapi.decref(y_obj)\n",
    "    c.pyapi.decref(z_obj)\n",
    "    c.pyapi.decref(t_obj)\n",
    "\n",
    "    is_error = nb.core.cgutils.is_not_null(c.builder, c.pyapi.err_occurred())\n",
    "    return nb.extending.NativeValue(outproxy._getvalue(), is_error)\n",
    "\n",
    "@nb.extending.box(LorentzXYZTType)\n",
    "def box_LorentzXYZT(lxyztype, lxyzval, c):\n",
    "    # This proxy is initialized with a value, used for getattr, rather than setattr.\n",
    "    inproxy = c.context.make_helper(c.builder, lxyztype, lxyzval)\n",
    "    x_obj = c.pyapi.float_from_double(inproxy.x)\n",
    "    y_obj = c.pyapi.float_from_double(inproxy.y)\n",
    "    z_obj = c.pyapi.float_from_double(inproxy.z)\n",
    "    t_obj = c.pyapi.float_from_double(inproxy.t)\n",
    "\n",
    "    # The way we get Python objects into this lowered world is by pickling them.\n",
    "    LorentzXYZTFree_obj = c.pyapi.unserialize(c.pyapi.serialize_object(LorentzXYZTFree))\n",
    "\n",
    "    out = c.pyapi.call_function_objargs(LorentzXYZTFree_obj, (x_obj, y_obj, z_obj, t_obj))\n",
    "\n",
    "    c.pyapi.decref(LorentzXYZTFree_obj)\n",
    "    c.pyapi.decref(x_obj)\n",
    "    c.pyapi.decref(y_obj)\n",
    "    c.pyapi.decref(z_obj)\n",
    "    c.pyapi.decref(t_obj)\n",
    "\n",
    "    return out"
   ]
  },
  {
   "cell_type": "markdown",
   "metadata": {},
   "source": [
    "#### Example\n",
    "\n",
    "Now we've defined enough that our objects can go into and come out of Numba."
   ]
  },
  {
   "cell_type": "code",
   "execution_count": 21,
   "metadata": {},
   "outputs": [
    {
     "name": "stdout",
     "output_type": "stream",
     "text": [
      "Lxyz(1 2 3 4)\n",
      "Lxyz(1 2 3 4) Lxyz(1 2 3 4)\n"
     ]
    }
   ],
   "source": [
    "testit = LorentzXYZTFree(1, 2, 3, 4)\n",
    "print(testit)\n",
    "\n",
    "@nb.njit\n",
    "def pass_through(obj):\n",
    "    return obj\n",
    "\n",
    "print(testit, pass_through(testit))"
   ]
  },
  {
   "cell_type": "markdown",
   "metadata": {},
   "source": [
    "Notice that the original has int fields and the passed-through has floats:"
   ]
  },
  {
   "cell_type": "code",
   "execution_count": 22,
   "metadata": {},
   "outputs": [
    {
     "name": "stdout",
     "output_type": "stream",
     "text": [
      "1 1.0\n"
     ]
    }
   ],
   "source": [
    "print(testit.x, pass_through(testit).x)"
   ]
  },
  {
   "cell_type": "markdown",
   "metadata": {},
   "source": [
    "### Numba: Constructors\n",
    "\n",
    "Defining an in-Numba constructor is a separate thing."
   ]
  },
  {
   "cell_type": "code",
   "execution_count": 23,
   "metadata": {},
   "outputs": [],
   "source": [
    "@nb.extending.type_callable(LorentzXYZTFree)\n",
    "def typer_LorentzXYZTFree_constructor(context):\n",
    "    def typer(x, y, z, t):\n",
    "        if x == nb.types.float64 and y == nb.types.float64 and z == nb.types.float64 and t == nb.types.float64:\n",
    "            return LorentzXYZTType()\n",
    "    return typer\n",
    "\n",
    "@nb.extending.lower_builtin(LorentzXYZTFree, nb.types.float64, nb.types.float64, nb.types.float64, nb.types.float64)\n",
    "def lower_LorentzXYZTFree_constructor(context, builder, sig, args):\n",
    "    rettype, (xtype, ytype, ztype, ttype) = sig.return_type, sig.args\n",
    "    xval, yval, zval, tval = args\n",
    "\n",
    "    outproxy = context.make_helper(builder, rettype)\n",
    "    outproxy.x = xval\n",
    "    outproxy.y = yval\n",
    "    outproxy.z = zval\n",
    "    outproxy.t = tval\n",
    "\n",
    "    return outproxy._getvalue()"
   ]
  },
  {
   "cell_type": "markdown",
   "metadata": {},
   "source": [
    "#### Example\n",
    "\n",
    "Test it!"
   ]
  },
  {
   "cell_type": "code",
   "execution_count": 24,
   "metadata": {},
   "outputs": [
    {
     "name": "stdout",
     "output_type": "stream",
     "text": [
      "Lxyz(1.1 2.2 3.3 4.4)\n"
     ]
    }
   ],
   "source": [
    "@nb.njit\n",
    "def test_constructor():\n",
    "    return LorentzXYZTFree(1.1, 2.2, 3.3, 4.4)\n",
    "\n",
    "print(test_constructor())"
   ]
  },
  {
   "cell_type": "markdown",
   "metadata": {},
   "source": [
    "### Numba: Methods and properties\n",
    "\n",
    "Now it's time to define the methods and properties.\n",
    "\n",
    "To simply map model attributes to user-accessible properties, use a macro."
   ]
  },
  {
   "cell_type": "code",
   "execution_count": 25,
   "metadata": {},
   "outputs": [],
   "source": [
    "nb.extending.make_attribute_wrapper(LorentzXYZTType, \"x\", \"x\")\n",
    "nb.extending.make_attribute_wrapper(LorentzXYZTType, \"y\", \"y\")\n",
    "nb.extending.make_attribute_wrapper(LorentzXYZTType, \"z\", \"z\")\n",
    "nb.extending.make_attribute_wrapper(LorentzXYZTType, \"t\", \"t\")"
   ]
  },
  {
   "cell_type": "markdown",
   "metadata": {},
   "source": [
    "For more general cases, there's an `AttributeTemplate`."
   ]
  },
  {
   "cell_type": "code",
   "execution_count": 26,
   "metadata": {},
   "outputs": [],
   "source": [
    "@nb.extending.infer_getattr\n",
    "class typer_LorentzXYZT_methods(nb.core.typing.templates.AttributeTemplate):\n",
    "    key = LorentzXYZTType\n",
    "\n",
    "    def generic_resolve(self, lxyztype, attr):\n",
    "        if attr == \"pt\":\n",
    "            return nb.float64\n",
    "        elif attr == \"eta\":\n",
    "            return nb.float64\n",
    "        elif attr == \"phi\":\n",
    "            return nb.float64\n",
    "        elif attr == \"mass\":\n",
    "            return nb.float64\n",
    "        else:\n",
    "            # typers that return None defer to other typers.\n",
    "            return None"
   ]
  },
  {
   "cell_type": "markdown",
   "metadata": {},
   "source": [
    "If we had any methods with arguments, this is how we'd do it.\n",
    "\n",
    "```python\n",
    "@nb.typing.templates.bound_function(\"pt\")\n",
    "def pt_resolve(self, lxyztype, args, kwargs):\n",
    "    ...\n",
    "```"
   ]
  },
  {
   "cell_type": "markdown",
   "metadata": {},
   "source": [
    "#### Lowering\n",
    "\n",
    "To lower these functions, we can duck-type the Python functions above.\n",
    "Since they're defined in terms of NumPy functions, they apply to\n",
    "\n",
    "* Python scalars\n",
    "* NumPy arrays\n",
    "* Awkward arrays\n",
    "* lowered Numba values"
   ]
  },
  {
   "cell_type": "code",
   "execution_count": 27,
   "metadata": {},
   "outputs": [],
   "source": [
    "@nb.extending.lower_getattr(LorentzXYZTType, \"pt\")\n",
    "def lower_LorentzXYZT_pt(context, builder, lxyztype, lxyzval):\n",
    "    return context.compile_internal(builder, lorentz_xyz_pt, nb.float64(lxyztype), (lxyzval,))\n",
    "\n",
    "@nb.extending.lower_getattr(LorentzXYZTType, \"eta\")\n",
    "def lower_LorentzXYZT_eta(context, builder, lxyztype, lxyzval):\n",
    "    return context.compile_internal(builder, lorentz_xyz_eta, nb.float64(lxyztype), (lxyzval,))\n",
    "\n",
    "@nb.extending.lower_getattr(LorentzXYZTType, \"phi\")\n",
    "def lower_LorentzXYZT_phi(context, builder, lxyztype, lxyzval):\n",
    "    return context.compile_internal(builder, lorentz_xyz_phi, nb.float64(lxyztype), (lxyzval,))\n",
    "\n",
    "@nb.extending.lower_getattr(LorentzXYZTType, \"mass\")\n",
    "def lower_LorentzXYZT_mass(context, builder, lxyztype, lxyzval):\n",
    "    return context.compile_internal(builder, lorentz_xyz_mass, nb.float64(lxyztype), (lxyzval,))"
   ]
  },
  {
   "cell_type": "markdown",
   "metadata": {},
   "source": [
    "And the `__getitem__` access..."
   ]
  },
  {
   "cell_type": "code",
   "execution_count": 28,
   "metadata": {},
   "outputs": [],
   "source": [
    "@nb.core.typing.templates.infer_global(operator.getitem)\n",
    "class typer_LorentzXYZT_getitem(nb.core.typing.templates.AbstractTemplate):\n",
    "    def generic(self, args, kwargs):\n",
    "        if len(args) == 2 and len(kwargs) == 0 and isinstance(args[0], LorentzXYZTType):\n",
    "            # Only accept compile-time constants. It's a fair restriction.\n",
    "            if isinstance(args[1], nb.types.StringLiteral):\n",
    "                if args[1].literal_value in (\"x\", \"y\", \"z\", \"t\"):\n",
    "                    return nb.float64(*args)"
   ]
  },
  {
   "cell_type": "code",
   "execution_count": 29,
   "metadata": {},
   "outputs": [],
   "source": [
    "@nb.extending.lower_builtin(operator.getitem, LorentzXYZTType, nb.types.StringLiteral)\n",
    "def lower_getitem_LorentzXYZT(context, builder, sig, args):\n",
    "    rettype, (lxyztype, wheretype) = sig.return_type, sig.args\n",
    "    lxyzval, whereval = args\n",
    "\n",
    "    inproxy = context.make_helper(builder, lxyztype, lxyzval)\n",
    "\n",
    "    # The value of a StringLiteral is in its compile-time type.\n",
    "    if wheretype.literal_value == \"x\":\n",
    "        return inproxy.x\n",
    "    elif wheretype.literal_value == \"y\":\n",
    "        return inproxy.y\n",
    "    elif wheretype.literal_value == \"z\":\n",
    "        return inproxy.z\n",
    "    elif wheretype.literal_value == \"t\":\n",
    "        return inproxy.t"
   ]
  },
  {
   "cell_type": "markdown",
   "metadata": {},
   "source": [
    "#### Example\n",
    "\n",
    "Now we can use all of these. `LorentzXYZTFree` is as fully functional as LorentzXYZT."
   ]
  },
  {
   "cell_type": "code",
   "execution_count": 30,
   "metadata": {},
   "outputs": [
    {
     "name": "stdout",
     "output_type": "stream",
     "text": [
      "(1.0, 1.0, 2.23606797749979, 1.103586841560145, 1.1071487177940904, 1.4142135623730951)\n"
     ]
    }
   ],
   "source": [
    "@nb.njit\n",
    "def try_it_out(testit):\n",
    "    return testit.x, testit[\"x\"], testit.pt, testit.eta, testit.phi, testit.mass\n",
    "\n",
    "print(try_it_out(testit))"
   ]
  },
  {
   "cell_type": "markdown",
   "metadata": {},
   "source": [
    "### Numba: Append to Awkward\n",
    "\n",
    "Finally, we want to be able to append `LorentzXYZTFree` to a `ArrayBuilder`, as though\n",
    "it were an attached `LorentzXYZT`. This doesn't need a typer; the types are obvious."
   ]
  },
  {
   "cell_type": "code",
   "execution_count": 31,
   "metadata": {},
   "outputs": [],
   "source": [
    "def lower_ArrayBuilder_append_LorentzXYZT(context, builder, sig, args):\n",
    "    def doit(output, lxyz):\n",
    "        output.begin_record(\"LorentzXYZT\")\n",
    "        output.field(\"x\")\n",
    "        output.real(lxyz.x)\n",
    "        output.field(\"y\")\n",
    "        output.real(lxyz.y)\n",
    "        output.field(\"z\")\n",
    "        output.real(lxyz.z)\n",
    "        output.field(\"t\")\n",
    "        output.real(lxyz.t)\n",
    "        output.end_record()\n",
    "    return context.compile_internal(builder, doit, sig, args)\n",
    "\n",
    "lorentzbehavior[\"__numba_lower__\", ak.ArrayBuilder.append, LorentzXYZTType] = lower_ArrayBuilder_append_LorentzXYZT"
   ]
  },
  {
   "cell_type": "markdown",
   "metadata": {},
   "source": [
    "#### Example\n",
    "\n",
    "Attaching free objects to a ArrayBuilder doesn't look any different to the user."
   ]
  },
  {
   "cell_type": "code",
   "execution_count": 32,
   "metadata": {},
   "outputs": [
    {
     "name": "stdout",
     "output_type": "stream",
     "text": [
      "[Lxyz(1 2 3 4), Lxyz(1 2 3 4)]\n"
     ]
    }
   ],
   "source": [
    "@nb.njit\n",
    "def fill_it(testit, output):\n",
    "    output.append(testit)\n",
    "    output.append(testit)\n",
    "    \n",
    "output = ak.ArrayBuilder(behavior=lorentzbehavior)\n",
    "fill_it(testit, output)\n",
    "\n",
    "print(output.snapshot())"
   ]
  },
  {
   "cell_type": "markdown",
   "metadata": {},
   "source": [
    "### Numba: Addition in Awkward\n",
    "\n",
    "Now that we have free Lorentz vectors, we can finally define addition."
   ]
  },
  {
   "cell_type": "code",
   "execution_count": 33,
   "metadata": {},
   "outputs": [],
   "source": [
    "def typer_lorentz_xyz_add(binop, left, right):\n",
    "    return LorentzXYZTType()(left, right)\n",
    "\n",
    "def lower_lorentz_xyz_add(context, builder, sig, args):\n",
    "    def compute(left, right):\n",
    "        return LorentzXYZTFree(left.x + right.x, left.y + right.y, left.z + right.z, left.t + right.t)\n",
    "    return context.compile_internal(builder, compute, sig, args)"
   ]
  },
  {
   "cell_type": "code",
   "execution_count": 34,
   "metadata": {},
   "outputs": [],
   "source": [
    "lorentzbehavior[\"__numba_typer__\", \"LorentzXYZT\", operator.add, \"LorentzXYZT\"] = typer_lorentz_xyz_add\n",
    "lorentzbehavior[\"__numba_lower__\", \"LorentzXYZT\", operator.add, \"LorentzXYZT\"] = lower_lorentz_xyz_add"
   ]
  },
  {
   "cell_type": "markdown",
   "metadata": {},
   "source": [
    "#### Example\n",
    "\n",
    "Test it..."
   ]
  },
  {
   "cell_type": "code",
   "execution_count": 35,
   "metadata": {},
   "outputs": [
    {
     "name": "stdout",
     "output_type": "stream",
     "text": [
      "Lxyz(-15.2 -11 -19.5 94.2)\n"
     ]
    }
   ],
   "source": [
    "@nb.njit\n",
    "def test_add(input):\n",
    "    for muons in input:\n",
    "        for i in range(len(muons)):\n",
    "            for j in range(i + 1, len(muons)):\n",
    "                return muons[i] + muons[j]\n",
    "\n",
    "example5 = ak.Array(example, behavior=lorentzbehavior)\n",
    "\n",
    "print(test_add(example5))"
   ]
  },
  {
   "cell_type": "markdown",
   "metadata": {},
   "source": [
    "## Complete example\n",
    "\n",
    "All together now!"
   ]
  },
  {
   "cell_type": "code",
   "execution_count": 36,
   "metadata": {},
   "outputs": [
    {
     "name": "stdout",
     "output_type": "stream",
     "text": [
      "[[[(Lxyz(-15.2 -11 -19.5 94.2), 90.2)], []], [[]], [[(, ... [[]], [[]], [[]], [[]]]\n"
     ]
    }
   ],
   "source": [
    "@nb.njit\n",
    "def do_cool_stuff(input, output):\n",
    "    for muons in input:\n",
    "        output.begin_list()\n",
    "\n",
    "        for i in range(len(muons)):\n",
    "            output.begin_list()\n",
    "\n",
    "            for j in range(i + 1, len(muons)):\n",
    "                zboson = muons[i] + muons[j]\n",
    "\n",
    "                output.begin_tuple(2)\n",
    "                output.index(0)\n",
    "                output.append(zboson)\n",
    "                output.index(1)\n",
    "                output.append(zboson.mass)\n",
    "                output.end_tuple()\n",
    "\n",
    "            output.end_list()\n",
    "\n",
    "        output.end_list()\n",
    "\n",
    "output = ak.ArrayBuilder(behavior=lorentzbehavior)\n",
    "do_cool_stuff(example5, output)\n",
    "\n",
    "print(output.snapshot())"
   ]
  }
 ],
 "metadata": {
  "kernelspec": {
   "display_name": "Python [conda env:vector] *",
   "language": "python",
   "name": "conda-env-vector-py"
  },
  "language_info": {
   "codemirror_mode": {
    "name": "ipython",
    "version": 3
   },
   "file_extension": ".py",
   "mimetype": "text/x-python",
   "name": "python",
   "nbconvert_exporter": "python",
   "pygments_lexer": "ipython3",
   "version": "3.8.5"
  }
 },
 "nbformat": 4,
 "nbformat_minor": 4
}
