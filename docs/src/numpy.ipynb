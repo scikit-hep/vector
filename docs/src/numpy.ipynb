{
 "cells": [
  {
   "cell_type": "markdown",
   "id": "20258df9-4dbb-4457-945c-c9b6abe58cf9",
   "metadata": {},
   "source": [
    "# NumPy arrays of vectors"
   ]
  },
  {
   "cell_type": "markdown",
   "id": "1144533f-0290-43f2-a9f2-adc9d042ed1a",
   "metadata": {},
   "source": [
    "First, [install](../index.md#installation) and import Vector and [NumPy](https://numpy.org/). (Vector requires NumPy, so if you can use Vector, you've already installed NumPy.)"
   ]
  },
  {
   "cell_type": "code",
   "execution_count": 1,
   "id": "04ce97c4-d7db-458a-9976-68af8eeb9b58",
   "metadata": {},
   "outputs": [],
   "source": [
    "import vector\n",
    "import numpy as np"
   ]
  },
  {
   "cell_type": "markdown",
   "id": "c9492633-fa30-458d-ba40-3c1b12a067b6",
   "metadata": {},
   "source": [
    "## Making an array of vectors"
   ]
  },
  {
   "cell_type": "markdown",
   "id": "f84dbc67-e195-4ee7-a11f-cd8040c09fa8",
   "metadata": {},
   "source": [
    "If you want to do calculations with large numbers of vectors or performance is important, it's better to make arrays of vectors than lists of [vector objects](object.md).\n",
    "\n",
    "The [vector.array](make_numpy.md#general-constructor) function is a general-purpose constructor. It works like [np.array](https://numpy.org/doc/stable/reference/generated/numpy.array.html) and expects the [dtype](https://numpy.org/doc/stable/reference/arrays.dtypes.html) to correspond to a [structured array](https://numpy.org/doc/stable/user/basics.rec.html) in which the field names are recognized coordinate names:"
   ]
  },
  {
   "cell_type": "code",
   "execution_count": 2,
   "id": "de83bfb0-37ec-4d1a-a6c4-31de7ee94998",
   "metadata": {},
   "outputs": [
    {
     "data": {
      "text/plain": [
       "VectorNumpy2D([(1.1, 2.2), (3.3, 4.4), (5.5, 6.6)],\n",
       "              dtype=[('x', '<f4'), ('y', '<f8')])"
      ]
     },
     "execution_count": 2,
     "metadata": {},
     "output_type": "execute_result"
    }
   ],
   "source": [
    "vector.array(\n",
    "    [(1.1, 2.2), (3.3, 4.4), (5.5, 6.6)], dtype=[(\"x\", np.float32), (\"y\", np.float64)]\n",
    ")"
   ]
  },
  {
   "cell_type": "markdown",
   "id": "f88b384f-fcd1-45bb-b732-3b00a4efba1c",
   "metadata": {},
   "source": [
    "Although this interface provides a lot of flexibility, it is inconvenient to type, compared to a Pandas-style constructor:"
   ]
  },
  {
   "cell_type": "code",
   "execution_count": 3,
   "id": "49723542-ee66-4965-9614-aaaf49ff8244",
   "metadata": {},
   "outputs": [
    {
     "data": {
      "text/plain": [
       "VectorNumpy2D([(1.1, 2.2), (3.3, 4.4), (5.5, 6.6)],\n",
       "              dtype=[('x', '<f4'), ('y', '<f8')])"
      ]
     },
     "execution_count": 3,
     "metadata": {},
     "output_type": "execute_result"
    }
   ],
   "source": [
    "vector.array(\n",
    "    {\"x\": np.array([1.1, 3.3, 5.5], np.float32), \"y\": np.array([2.2, 4.4, 6.6])}\n",
    ")"
   ]
  },
  {
   "cell_type": "markdown",
   "id": "e81be653-7dc5-4cc1-bc3e-967c0597281f",
   "metadata": {},
   "source": [
    "The [VectorNumpy2D](make_numpy.md#vector.VectorNumpy2D), [MomentumNumpy2D](make_numpy.md#vector.MomentumNumpy2D), [VectorNumpy3D](make_numpy.md#vector.VectorNumpy3D), [MomentumNumpy3D](make_numpy.md#vector.MomentumNumpy3D), [VectorNumpy4D](make_numpy.md#vector.VectorNumpy4D), and [MomentumNumpy4D](make_numpy.md#vector.MomentumNumpy4D) classes that this constructor creates can also be used to [np.ndarray.view](https://numpy.org/doc/stable/reference/generated/numpy.ndarray.view.html) an existing array as an array of vectors, which avoids copying data."
   ]
  },
  {
   "cell_type": "code",
   "execution_count": 4,
   "id": "0afdd47b-dc31-4364-b6d3-de4932a2cf39",
   "metadata": {},
   "outputs": [],
   "source": [
    "arr = np.array(\n",
    "    [(1.1, 2.2), (3.3, 4.4), (5.5, 6.6)], dtype=[(\"x\", np.float32), (\"y\", np.float64)]\n",
    ")"
   ]
  },
  {
   "cell_type": "code",
   "execution_count": 5,
   "id": "c5444a73-03bd-4762-b10c-9beaf022c720",
   "metadata": {},
   "outputs": [
    {
     "data": {
      "text/plain": [
       "VectorNumpy2D([(1.1, 2.2), (3.3, 4.4), (5.5, 6.6)],\n",
       "              dtype=[('x', '<f4'), ('y', '<f8')])"
      ]
     },
     "execution_count": 5,
     "metadata": {},
     "output_type": "execute_result"
    }
   ],
   "source": [
    "arr.view(vector.VectorNumpy2D)"
   ]
  },
  {
   "cell_type": "markdown",
   "id": "3b7b080b-f949-4c68-99e6-598fc1a65c06",
   "metadata": {},
   "source": [
    "If you're starting from arrays in an unstructured form, you can first [np.ndarray.view](https://numpy.org/doc/stable/reference/generated/numpy.ndarray.view.html) them as [structured arrays](https://numpy.org/doc/stable/user/basics.rec.html) and then view those as Vector's array subclasses."
   ]
  },
  {
   "cell_type": "code",
   "execution_count": 6,
   "id": "85a15639-57a1-4562-bfaf-897dba2df52f",
   "metadata": {},
   "outputs": [
    {
     "data": {
      "text/plain": [
       "array([[-0.11148816, -0.83807123,  1.89938172],\n",
       "       [ 0.07184076,  1.36148282, -1.57618995],\n",
       "       [ 0.46223533,  0.22770039,  0.62830773],\n",
       "       ...,\n",
       "       [-0.84363959, -0.89915358, -0.18437813],\n",
       "       [ 0.7430596 , -0.3939518 ,  0.15209156],\n",
       "       [ 0.40687548, -0.18103823,  0.78935375]])"
      ]
     },
     "execution_count": 6,
     "metadata": {},
     "output_type": "execute_result"
    }
   ],
   "source": [
    "arr = np.random.normal(0, 1, (10000, 3))\n",
    "arr"
   ]
  },
  {
   "cell_type": "code",
   "execution_count": 7,
   "id": "95914108-1426-43d4-b392-cfbfe65718a2",
   "metadata": {},
   "outputs": [
    {
     "data": {
      "text/plain": [
       "array([[(-0.11148816, -0.83807123,  1.89938172)],\n",
       "       [( 0.07184076,  1.36148282, -1.57618995)],\n",
       "       [( 0.46223533,  0.22770039,  0.62830773)],\n",
       "       ...,\n",
       "       [(-0.84363959, -0.89915358, -0.18437813)],\n",
       "       [( 0.7430596 , -0.3939518 ,  0.15209156)],\n",
       "       [( 0.40687548, -0.18103823,  0.78935375)]],\n",
       "      dtype=[('x', '<f8'), ('y', '<f8'), ('z', '<f8')])"
      ]
     },
     "execution_count": 7,
     "metadata": {},
     "output_type": "execute_result"
    }
   ],
   "source": [
    "arr.view([(name, arr.dtype) for name in (\"x\", \"y\", \"z\")])"
   ]
  },
  {
   "cell_type": "code",
   "execution_count": 8,
   "id": "507effe2-9020-48a4-8606-fbd8682a5443",
   "metadata": {},
   "outputs": [
    {
     "data": {
      "text/plain": [
       "VectorNumpy3D([[(-0.11148816, -0.83807123,  1.89938172)],\n",
       "               [( 0.07184076,  1.36148282, -1.57618995)],\n",
       "               [( 0.46223533,  0.22770039,  0.62830773)],\n",
       "               ...,\n",
       "               [(-0.84363959, -0.89915358, -0.18437813)],\n",
       "               [( 0.7430596 , -0.3939518 ,  0.15209156)],\n",
       "               [( 0.40687548, -0.18103823,  0.78935375)]],\n",
       "              dtype=[('x', '<f8'), ('y', '<f8'), ('z', '<f8')])"
      ]
     },
     "execution_count": 8,
     "metadata": {},
     "output_type": "execute_result"
    }
   ],
   "source": [
    "arr.view([(name, arr.dtype) for name in (\"x\", \"y\", \"z\")]).view(vector.VectorNumpy3D)"
   ]
  },
  {
   "cell_type": "markdown",
   "id": "119c7ea1-cd51-4675-b76e-b304457dba78",
   "metadata": {},
   "source": [
    "You can also have multidimensional arrays of vectors (just be sure not to confuse the two _different_ concepts of \"dimension\"):"
   ]
  },
  {
   "cell_type": "code",
   "execution_count": 9,
   "id": "af661957-f09b-4980-a43f-6157a46cb0a2",
   "metadata": {},
   "outputs": [
    {
     "data": {
      "text/plain": [
       "VectorNumpy3D([[[( 1.04123373, -0.99133844,  1.00077791e+00)],\n",
       "                [( 0.52169376,  0.11683251, -1.14363945e-03)],\n",
       "                [( 1.85318012, -0.31640048, -2.34568709e-01)],\n",
       "                ...,\n",
       "                [( 1.67155023, -0.33544467,  8.77562271e-01)],\n",
       "                [(-1.1018786 , -0.35744257, -1.05612336e+00)],\n",
       "                [( 0.79966766,  2.38293098,  5.96236617e-01)]],\n",
       "\n",
       "               [[( 1.94366521, -0.9855164 ,  4.60895006e-01)],\n",
       "                [( 0.3889074 , -0.85616641, -7.82467759e-01)],\n",
       "                [(-0.32565   ,  0.9830741 , -1.44864836e+00)],\n",
       "                ...,\n",
       "                [( 0.61327191,  1.43713057, -1.13442288e+00)],\n",
       "                [(-0.07791965,  0.65163304,  1.09988728e+00)],\n",
       "                [( 1.65952573, -2.78818342,  6.72730414e-01)]],\n",
       "\n",
       "               [[(-0.8903325 , -0.6297625 ,  6.67996204e-03)],\n",
       "                [(-0.6223236 , -1.37730236,  2.51833933e-01)],\n",
       "                [(-0.1018968 , -0.41731018,  9.47917924e-01)],\n",
       "                ...,\n",
       "                [( 0.34484408, -0.5465291 , -4.27092664e-01)],\n",
       "                [( 1.12237423, -0.25509153,  9.04461212e-01)],\n",
       "                [( 0.17489999,  0.92012174, -7.09007969e-01)]],\n",
       "\n",
       "               ...,\n",
       "\n",
       "               [[( 0.26270918, -1.05908501,  1.18350858e+00)],\n",
       "                [( 2.71511972, -1.34473636,  1.05541923e+00)],\n",
       "                [( 0.56873211,  0.08490973, -9.58420819e-01)],\n",
       "                ...,\n",
       "                [( 0.75977987,  1.01487493, -3.09104648e-01)],\n",
       "                [( 1.49991558,  0.31828259,  7.32527127e-01)],\n",
       "                [( 0.37631738, -0.13702323, -4.49895321e-01)]],\n",
       "\n",
       "               [[(-0.29811247,  0.22712161, -2.30229599e+00)],\n",
       "                [(-0.08367526, -0.6770184 ,  2.14906991e+00)],\n",
       "                [( 1.30232311, -1.19833055,  6.25619458e-01)],\n",
       "                ...,\n",
       "                [(-0.66017245,  0.71545281, -1.08721809e-01)],\n",
       "                [(-0.05371075,  0.14571677, -2.32778280e-01)],\n",
       "                [( 1.84950325,  0.20260285,  7.63400450e-01)]],\n",
       "\n",
       "               [[( 1.11391053, -0.92655026,  6.71088190e-01)],\n",
       "                [( 0.80958443, -0.87365369,  1.90746702e-01)],\n",
       "                [( 0.9196947 , -0.65898106,  5.13530528e-01)],\n",
       "                ...,\n",
       "                [(-0.06864652,  1.35126332, -3.85608104e-01)],\n",
       "                [(-0.59319991,  0.29826444, -9.87661503e-01)],\n",
       "                [( 0.85737793,  0.65006251,  1.14143652e-01)]]],\n",
       "              dtype=[('x', '<f8'), ('y', '<f8'), ('z', '<f8')])"
      ]
     },
     "execution_count": 9,
     "metadata": {},
     "output_type": "execute_result"
    }
   ],
   "source": [
    "arr = np.random.normal(0, 1, (100, 100, 3))\n",
    "arr.view([(_, float) for _ in \"xyz\"]).view(vector.VectorNumpy3D)"
   ]
  },
  {
   "cell_type": "markdown",
   "id": "0ae984be-4214-44a8-a704-71fa5fd82769",
   "metadata": {},
   "source": [
    "As with [vector objects](object.md), the type of vectors (2D/3D/4D, coordinate system, geometric or momentum) depend on the field names.\n",
    "\n",
    "Below is 10000 polar 2D vectors with a random distribution."
   ]
  },
  {
   "cell_type": "code",
   "execution_count": 10,
   "id": "2ad88503-24ad-4b22-8ad3-98082e793bd9",
   "metadata": {},
   "outputs": [
    {
     "data": {
      "text/plain": [
       "VectorNumpy2D([(5.76986734, -0.36991388), (6.24908325, -1.59263296),\n",
       "               (7.30828905,  2.44556635), ..., (4.22339573,  1.2802615 ),\n",
       "               (1.26336621,  1.3455241 ), (7.57120305,  0.49939363)],\n",
       "              dtype=[('rho', '<f8'), ('phi', '<f8')])"
      ]
     },
     "execution_count": 10,
     "metadata": {},
     "output_type": "execute_result"
    }
   ],
   "source": [
    "vector.array(\n",
    "    {\n",
    "        \"rho\": np.random.exponential(5, 10000),\n",
    "        \"phi\": np.random.uniform(-np.pi, np.pi, 10000),\n",
    "    }\n",
    ")"
   ]
  },
  {
   "cell_type": "markdown",
   "id": "42022ff7-5ed5-4f56-bb14-9cf54166329f",
   "metadata": {},
   "source": [
    "Below is 10000 simulated electron four-momenta, radiating in a spherically symmetric pattern."
   ]
  },
  {
   "cell_type": "code",
   "execution_count": 11,
   "id": "1f18789a-bdbd-4537-b932-0447bea9c27d",
   "metadata": {},
   "outputs": [
    {
     "data": {
      "text/plain": [
       "MomentumNumpy4D([(3.88889022,  2.09785462, 2.66867642, 0.000511),\n",
       "                 (0.26253295,  2.0104313 , 1.00648054, 0.000511),\n",
       "                 (4.50268027,  2.61219852, 1.26494007, 0.000511), ...,\n",
       "                 (1.69167777,  2.92313438, 0.64490048, 0.000511),\n",
       "                 (0.02264467,  2.72715258, 1.64896841, 0.000511),\n",
       "                 (0.47545426, -2.3042779 , 1.09635369, 0.000511)],\n",
       "                dtype=[('rho', '<f8'), ('phi', '<f8'), ('theta', '<f8'), ('tau', '<f8')])"
      ]
     },
     "execution_count": 11,
     "metadata": {},
     "output_type": "execute_result"
    }
   ],
   "source": [
    "vector.array(\n",
    "    {\n",
    "        \"pt\": np.random.exponential(5, 10000),\n",
    "        \"phi\": np.random.uniform(-np.pi, np.pi, 10000),\n",
    "        \"theta\": np.arccos(np.random.uniform(-1, 1, 10000)),\n",
    "        \"mass\": np.full(10000, 0.000511),\n",
    "    }\n",
    ")"
   ]
  },
  {
   "cell_type": "markdown",
   "id": "4b83072e-8f2e-4b70-a6e4-ce2107179c50",
   "metadata": {},
   "source": [
    "## Using arrays of vectors"
   ]
  },
  {
   "cell_type": "markdown",
   "id": "2672c0d3-6cf7-463e-ac17-9169ddcc5059",
   "metadata": {},
   "source": [
    "Calculations on arrays of vectors are more efficient than [vector objects](object.md) because loops over the data are performed in compiled code, not Python for loops. Therefore, while it's possible to iterate over the arrays like this:"
   ]
  },
  {
   "cell_type": "code",
   "execution_count": 12,
   "id": "73be53eb-0362-4723-bad0-fc616d06f6a6",
   "metadata": {},
   "outputs": [],
   "source": [
    "a = vector.array({\"x\": np.arange(10), \"y\": np.zeros(10), \"z\": np.arange(-5, 5)})\n",
    "b = vector.array({\"x\": np.ones(10), \"y\": np.arange(10, 0, -1), \"z\": np.arange(-10, 0)})"
   ]
  },
  {
   "cell_type": "code",
   "execution_count": 13,
   "id": "5d0efae2-2d90-454d-93e0-9fac76e0fd7a",
   "metadata": {},
   "outputs": [
    {
     "name": "stdout",
     "output_type": "stream",
     "text": [
      "VectorObject3D(x=50.0, y=-5.0, z=0.0)\n",
      "VectorObject3D(x=36.0, y=5.0, z=9.0)\n",
      "VectorObject3D(x=24.0, y=13.0, z=16.0)\n",
      "VectorObject3D(x=14.0, y=19.0, z=21.0)\n",
      "VectorObject3D(x=6.0, y=23.0, z=24.0)\n",
      "VectorObject3D(x=-0.0, y=25.0, z=25.0)\n",
      "VectorObject3D(x=-4.0, y=25.0, z=24.0)\n",
      "VectorObject3D(x=-6.0, y=23.0, z=21.0)\n",
      "VectorObject3D(x=-6.0, y=19.0, z=16.0)\n",
      "VectorObject3D(x=-4.0, y=13.0, z=9.0)\n"
     ]
    }
   ],
   "source": [
    "for i in range(len(a)):\n",
    "    print(a[i].cross(b[i]))"
   ]
  },
  {
   "cell_type": "markdown",
   "id": "10260ee0-44b9-4a83-aa88-723bf1842a31",
   "metadata": {},
   "source": [
    "It's much more efficient to express the operation in one (Python) function call:"
   ]
  },
  {
   "cell_type": "code",
   "execution_count": 14,
   "id": "63547ebf-bdcd-4fd8-ab15-be8948bbfbe6",
   "metadata": {},
   "outputs": [
    {
     "data": {
      "text/plain": [
       "VectorNumpy3D([(50., -5.,  0.), (36.,  5.,  9.), (24., 13., 16.), (14., 19., 21.),\n",
       "               ( 6., 23., 24.), (-0., 25., 25.), (-4., 25., 24.), (-6., 23., 21.),\n",
       "               (-6., 19., 16.), (-4., 13.,  9.)],\n",
       "              dtype=[('x', '<f8'), ('y', '<f8'), ('z', '<f8')])"
      ]
     },
     "execution_count": 14,
     "metadata": {},
     "output_type": "execute_result"
    }
   ],
   "source": [
    "a.cross(b)"
   ]
  },
  {
   "cell_type": "markdown",
   "id": "a78b019b-9177-4df9-b323-573a5cccb812",
   "metadata": {},
   "source": [
    "Here's a demonstration of that fact:"
   ]
  },
  {
   "cell_type": "code",
   "execution_count": 15,
   "id": "04e38b38-37e7-4727-a030-66cc02a592ad",
   "metadata": {},
   "outputs": [],
   "source": [
    "a = (\n",
    "    np.random.normal(0, 1, (100000, 3))\n",
    "    .view([(_, float) for _ in \"xyz\"])\n",
    "    .view(vector.VectorNumpy3D)\n",
    ")\n",
    "b = (\n",
    "    np.random.normal(0, 1, (100000, 3))\n",
    "    .view([(_, float) for _ in \"xyz\"])\n",
    "    .view(vector.VectorNumpy3D)\n",
    ")"
   ]
  },
  {
   "cell_type": "code",
   "execution_count": 16,
   "id": "3e676b0e-c008-4742-a1c3-8c31c229478d",
   "metadata": {},
   "outputs": [
    {
     "name": "stdout",
     "output_type": "stream",
     "text": [
      "2.34 s ± 0 ns per loop (mean ± std. dev. of 1 run, 1 loop each)\n"
     ]
    }
   ],
   "source": [
    "%%timeit -r1 -n1\n",
    "\n",
    "out = np.empty(100000)\n",
    "\n",
    "for i in range(len(out)):\n",
    "    (out[i],) = a[i].dot(b[i])"
   ]
  },
  {
   "cell_type": "code",
   "execution_count": 17,
   "id": "e1ea52f9-020b-4608-b344-029f1cb2a379",
   "metadata": {},
   "outputs": [
    {
     "name": "stdout",
     "output_type": "stream",
     "text": [
      "224 μs ± 23.9 μs per loop (mean ± std. dev. of 7 runs, 1,000 loops each)\n"
     ]
    }
   ],
   "source": [
    "%%timeit\n",
    "\n",
    "out = a.dot(b)"
   ]
  },
  {
   "cell_type": "markdown",
   "id": "5d9d529a-ae56-4039-bc0a-1cf8566ad5cf",
   "metadata": {},
   "source": [
    "(Note the units.)\n",
    "\n",
    "All of the properties and methods for Vector's NumPy backend operate an array at a time. This is often called \"vectorized\" processing, but using that terminology with Vector is confusing. This also applies to the properties that convert coordinates:"
   ]
  },
  {
   "cell_type": "code",
   "execution_count": 18,
   "id": "6ff354e6-f104-4b79-8c52-7b03dbf8c6e6",
   "metadata": {},
   "outputs": [
    {
     "data": {
      "text/plain": [
       "array([[ 2.23666277],\n",
       "       [-2.81852833],\n",
       "       [ 1.21493154],\n",
       "       ...,\n",
       "       [ 2.15235242],\n",
       "       [-0.95523549],\n",
       "       [ 2.76774914]])"
      ]
     },
     "execution_count": 18,
     "metadata": {},
     "output_type": "execute_result"
    }
   ],
   "source": [
    "a.phi"
   ]
  },
  {
   "cell_type": "code",
   "execution_count": 19,
   "id": "3642b7ca-32ea-4154-9486-6941ca3059dd",
   "metadata": {},
   "outputs": [
    {
     "data": {
      "text/plain": [
       "array([[0.49675579],\n",
       "       [3.01694143],\n",
       "       [1.3997076 ],\n",
       "       ...,\n",
       "       [2.4227274 ],\n",
       "       [1.56865499],\n",
       "       [1.63848396]])"
      ]
     },
     "execution_count": 19,
     "metadata": {},
     "output_type": "execute_result"
    }
   ],
   "source": [
    "a.theta"
   ]
  },
  {
   "cell_type": "markdown",
   "id": "210a5df6-33b7-460c-b368-7a7197e9d6a8",
   "metadata": {},
   "source": [
    "and the binary operators:"
   ]
  },
  {
   "cell_type": "code",
   "execution_count": 20,
   "id": "8102533c-e717-49fb-96c1-ff60572fce2c",
   "metadata": {},
   "outputs": [
    {
     "data": {
      "text/plain": [
       "VectorNumpy3D([[(-0.54670582,  2.89324033,  0.94011735)],\n",
       "               [(-0.72623161, -0.24806477, -0.82315251)],\n",
       "               [( 0.65875323, -0.03273066, -1.00717335)],\n",
       "               ...,\n",
       "               [(-0.4388786 ,  1.67843842, -2.02837515)],\n",
       "               [( 2.03465828, -0.28830504, -1.30802195)],\n",
       "               [(-1.14806043,  0.2955152 ,  0.31599728)]],\n",
       "              dtype=[('x', '<f8'), ('y', '<f8'), ('z', '<f8')])"
      ]
     },
     "execution_count": 20,
     "metadata": {},
     "output_type": "execute_result"
    }
   ],
   "source": [
    "a + b"
   ]
  },
  {
   "cell_type": "markdown",
   "id": "edac955a-509d-4662-b56c-f41afdf28b74",
   "metadata": {},
   "source": [
    "All of the above operations apply element by element, returning a new array of the same shape, just like NumPy's [ufuncs](https://numpy.org/doc/stable/reference/ufuncs.html). However, other functions, such as [np.where](https://numpy.org/doc/stable/reference/generated/numpy.where.html) and [np.sum](https://numpy.org/doc/stable/reference/generated/numpy.sum.html), work equally well:"
   ]
  },
  {
   "cell_type": "code",
   "execution_count": 21,
   "id": "ed749685-968c-4405-a1af-8ada31ed47a9",
   "metadata": {},
   "outputs": [
    {
     "data": {
      "text/plain": [
       "array([[(-0.37840277,  2.67899112,  0.4375337 )],\n",
       "       [(-0.09376478, -0.03139186, -0.78914169)],\n",
       "       [( 0.48146806, -0.50970237, -1.09509198)],\n",
       "       ...,\n",
       "       [(-0.64940632,  0.98784834, -1.35097802)],\n",
       "       [( 1.37797373,  0.64022737, -1.31045726)],\n",
       "       [(-1.23186483,  0.48325011, -0.0897055 )]],\n",
       "      dtype=[('x', '<f8'), ('y', '<f8'), ('z', '<f8')])"
      ]
     },
     "execution_count": 21,
     "metadata": {},
     "output_type": "execute_result"
    }
   ],
   "source": [
    "np.where(abs(a) > abs(b), a, b)"
   ]
  },
  {
   "cell_type": "code",
   "execution_count": 22,
   "id": "b1a1236b-81f2-40a4-b5c5-5c46a7cb5e57",
   "metadata": {},
   "outputs": [
    {
     "data": {
      "text/plain": [
       "VectorNumpy3D((496.97860925, -22.8454872, -148.7924227),\n",
       "              dtype=[('x', '<f8'), ('y', '<f8'), ('z', '<f8')])"
      ]
     },
     "execution_count": 22,
     "metadata": {},
     "output_type": "execute_result"
    }
   ],
   "source": [
    "np.sum(a)"
   ]
  },
  {
   "cell_type": "markdown",
   "id": "390c3c76-a92f-4c07-88a0-23bfe3a408e8",
   "metadata": {},
   "source": [
    "For arrays with multiple \"dimensions\" (length of the [shape](https://numpy.org/doc/stable/reference/generated/numpy.shape.html) tuple), you can reduce along different axes, adding all vectors appropriately for their coordinate systems."
   ]
  },
  {
   "cell_type": "code",
   "execution_count": 23,
   "id": "b152999e-d366-4d6c-8fe4-4ae96474d625",
   "metadata": {},
   "outputs": [],
   "source": [
    "arr = np.random.normal(0, 1, (2000, 2000, 3))\n",
    "arr = arr.view([(_, float) for _ in \"xyz\"]).view(vector.VectorNumpy3D)\n",
    "arr = arr.to_rhophitheta()"
   ]
  },
  {
   "cell_type": "code",
   "execution_count": 24,
   "id": "e32c0f67-f72c-4aa5-b7c1-f47e0e976819",
   "metadata": {},
   "outputs": [
    {
     "data": {
      "text/plain": [
       "VectorNumpy3D([[( 75.98446415,  40.15921933,   60.12075909)],\n",
       "               [( 43.96376125, -41.61744832,    2.74547848)],\n",
       "               [( -8.85532964,  36.95219866,    6.00630486)],\n",
       "               ...,\n",
       "               [( 14.02706268, -60.15901098,  -26.43507193)],\n",
       "               [(-51.59700053,  42.23856749,   70.63818226)],\n",
       "               [(-35.38474417, 103.36337473, -101.28248057)]],\n",
       "              dtype=[('x', '<f8'), ('y', '<f8'), ('z', '<f8')])"
      ]
     },
     "execution_count": 24,
     "metadata": {},
     "output_type": "execute_result"
    }
   ],
   "source": [
    "np.sum(arr, axis=0)"
   ]
  },
  {
   "cell_type": "code",
   "execution_count": 25,
   "id": "8a8940f0-0050-479e-9f3e-081113f14d74",
   "metadata": {},
   "outputs": [
    {
     "data": {
      "text/plain": [
       "VectorNumpy3D([[(  3.62436183,   1.83432384,  64.49208518)],\n",
       "               [(-36.24506116,  47.24392643, -16.92574687)],\n",
       "               [(-53.86240677, -20.09648243,   6.7455743 )],\n",
       "               ...,\n",
       "               [( 27.92974969,  33.86961883, -23.77178002)],\n",
       "               [(-45.26981061,  -3.55433054,  50.74996803)],\n",
       "               [(-40.54746674,  38.83594044, -18.71646616)]],\n",
       "              dtype=[('x', '<f8'), ('y', '<f8'), ('z', '<f8')])"
      ]
     },
     "execution_count": 25,
     "metadata": {},
     "output_type": "execute_result"
    }
   ],
   "source": [
    "np.sum(arr, axis=1)"
   ]
  }
 ],
 "metadata": {
  "kernelspec": {
   "display_name": "Python 3 (ipykernel)",
   "language": "python",
   "name": "python3"
  },
  "language_info": {
   "codemirror_mode": {
    "name": "ipython",
    "version": 3
   },
   "file_extension": ".py",
   "mimetype": "text/x-python",
   "name": "python",
   "nbconvert_exporter": "python",
   "pygments_lexer": "ipython3",
   "version": "3.11.10"
  }
 },
 "nbformat": 4,
 "nbformat_minor": 5
}
