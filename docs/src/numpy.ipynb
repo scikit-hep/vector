{
 "cells": [
  {
   "cell_type": "markdown",
   "id": "20258df9-4dbb-4457-945c-c9b6abe58cf9",
   "metadata": {},
   "source": [
    "# NumPy arrays of vectors"
   ]
  },
  {
   "cell_type": "markdown",
   "id": "1144533f-0290-43f2-a9f2-adc9d042ed1a",
   "metadata": {},
   "source": [
    "First, [install](index.md#installation) and import Vector."
   ]
  },
  {
   "cell_type": "code",
   "execution_count": 1,
   "id": "04ce97c4-d7db-458a-9976-68af8eeb9b58",
   "metadata": {},
   "outputs": [],
   "source": []
  }
 ],
 "metadata": {
  "kernelspec": {
   "display_name": "Python 3 (ipykernel)",
   "language": "python",
   "name": "python3"
  },
  "language_info": {
   "codemirror_mode": {
    "name": "ipython",
    "version": 3
   },
   "file_extension": ".py",
   "mimetype": "text/x-python",
   "name": "python",
   "nbconvert_exporter": "python",
   "pygments_lexer": "ipython3",
   "version": "3.11.10"
  }
 },
 "nbformat": 4,
 "nbformat_minor": 5
}
