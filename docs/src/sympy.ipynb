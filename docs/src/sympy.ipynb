{
 "cells": [
  {
   "cell_type": "markdown",
   "id": "dd79e619-a48d-415b-9d7a-7dd5b3970475",
   "metadata": {},
   "source": [
    "# Vector expressions with SymPy"
   ]
  },
  {
   "cell_type": "markdown",
   "id": "3f40d8aa-c1d4-4106-859a-04d8452673a0",
   "metadata": {},
   "source": [
    "First, [install](../index.md#installation) and import Vector and [SymPy](https://www.sympy.org/)."
   ]
  },
  {
   "cell_type": "code",
   "execution_count": 1,
   "id": "405dce26-762d-438b-8b8c-f693d0333a32",
   "metadata": {},
   "outputs": [],
   "source": [
    "import vector\n",
    "import sympy"
   ]
  },
  {
   "cell_type": "markdown",
   "id": "00b96b54-33e4-459b-8fa6-bbebf1df0319",
   "metadata": {},
   "source": [
    "## How the SymPy backend differs from the others"
   ]
  },
  {
   "cell_type": "markdown",
   "id": "07e49af1-a2e4-43e9-b265-38d917456ce0",
   "metadata": {},
   "source": [
    "SymPy is a computer algebra system like Mathematica and Maple. It primarily deals with algebraic expressions, rather than concrete numbers. However, all of the coordinate transformations and vector manipulations can be applied symbolically through Vector's SymPy backend.\n",
    "\n",
    "When comparing SymPy to the other backends, note that SymPy vector expressions have a different sign convention for operations on space-like and negative time-like 4D vectors. For all other backends, Vector's conventions were chosen to agree with popular HEP libraries, particularly [ROOT](https://root.cern), but for the SymPy backend, those conventions would insert piecewise if-then branches, which would complicate symbolic expressions.\n",
    "\n",
    "When vector expressions are evaluated numerically, you can expect agreement in 2D and 3D vector operations, as well as 4D vector operations if all of the vectors have a positive time-like part (which is [necessary for real momentum vectors and causal relationships between events](https://en.wikipedia.org/wiki/Light_cone))."
   ]
  },
  {
   "cell_type": "markdown",
   "id": "afce6222-03bb-40b7-8789-4e98782ebede",
   "metadata": {},
   "source": [
    "## Making a vector expression"
   ]
  },
  {
   "cell_type": "markdown",
   "id": "10257bc9-a064-4ede-bcdb-d906a25598e2",
   "metadata": {},
   "source": [
    "Before making a vector expression, we need symbols for each of the components, so use the [sympy.symbols](https://docs.sympy.org/latest/modules/core.html#sympy.core.symbol.symbols) function. Be sure to [tell SymPy to assume](https://docs.sympy.org/latest/guides/assumptions.html) that they are all real-valued, not complex numbers."
   ]
  },
  {
   "cell_type": "code",
   "execution_count": 2,
   "id": "e74eaaea-c607-47c0-a228-9b3530863bf7",
   "metadata": {},
   "outputs": [],
   "source": [
    "x, y, z, t, px, py, pz, eta, tau = sympy.symbols(\"x y z t px py pz eta tau\", real=True)"
   ]
  },
  {
   "cell_type": "markdown",
   "id": "8216735e-eb82-4ba9-92c3-12f45a9400a8",
   "metadata": {},
   "source": [
    "Now we can make vectors [just as we did with objects](object.md), though these lack concrete numerical values."
   ]
  },
  {
   "cell_type": "code",
   "execution_count": 3,
   "id": "0beb59b0-7cea-4d06-b437-da0597ba027e",
   "metadata": {},
   "outputs": [
    {
     "data": {
      "text/plain": [
       "VectorSympy2D(x=x, y=y)"
      ]
     },
     "execution_count": 3,
     "metadata": {},
     "output_type": "execute_result"
    }
   ],
   "source": [
    "vector.VectorSympy2D(x=x, y=y)"
   ]
  },
  {
   "cell_type": "code",
   "execution_count": 4,
   "id": "8dc8eb68-89e3-4794-b533-e9f5d521770b",
   "metadata": {},
   "outputs": [
    {
     "data": {
      "text/plain": [
       "MomentumSympy3D(px=px, py=py, pz=pz)"
      ]
     },
     "execution_count": 4,
     "metadata": {},
     "output_type": "execute_result"
    }
   ],
   "source": [
    "vector.MomentumSympy3D(px=px, py=py, pz=pz)"
   ]
  },
  {
   "cell_type": "code",
   "execution_count": 5,
   "id": "921724ac-2d20-4a82-8e0b-3cc571d7d909",
   "metadata": {},
   "outputs": [
    {
     "data": {
      "text/plain": [
       "VectorSympy4D(x=x, y=y, eta=eta, tau=tau)"
      ]
     },
     "execution_count": 5,
     "metadata": {},
     "output_type": "execute_result"
    }
   ],
   "source": [
    "vector.VectorSympy4D(x=x, y=y, eta=eta, tau=tau)"
   ]
  },
  {
   "cell_type": "markdown",
   "id": "6ac26f0b-8fb6-410c-865f-6fefaeb2302b",
   "metadata": {},
   "source": [
    "## Using a vector expression"
   ]
  },
  {
   "cell_type": "markdown",
   "id": "59c644ed-32af-42f1-bac7-a27c7ec55035",
   "metadata": {},
   "source": [
    "All of the vector operations performed on these expressions return symbolic results."
   ]
  },
  {
   "cell_type": "code",
   "execution_count": 6,
   "id": "9dd7d004-9635-427c-8394-f0e65906f564",
   "metadata": {},
   "outputs": [],
   "source": [
    "v = vector.VectorSympy2D(x=x, y=y)"
   ]
  },
  {
   "cell_type": "code",
   "execution_count": 7,
   "id": "3b3af4ee-b0a7-4379-ab8e-ac674037db18",
   "metadata": {},
   "outputs": [
    {
     "data": {
      "text/latex": [
       "$\\displaystyle \\sqrt{x^{2} + y^{2}}$"
      ],
      "text/plain": [
       "sqrt(x**2 + y**2)"
      ]
     },
     "execution_count": 7,
     "metadata": {},
     "output_type": "execute_result"
    }
   ],
   "source": [
    "v.rho"
   ]
  },
  {
   "cell_type": "code",
   "execution_count": 8,
   "id": "9430dd6e-ceef-4977-ab1f-5d78ff7d6d83",
   "metadata": {},
   "outputs": [
    {
     "data": {
      "text/latex": [
       "$\\displaystyle \\text{True}$"
      ],
      "text/plain": [
       "True"
      ]
     },
     "execution_count": 8,
     "metadata": {},
     "output_type": "execute_result"
    }
   ],
   "source": [
    "sympy.Eq(v.rho, abs(v))"
   ]
  },
  {
   "cell_type": "code",
   "execution_count": 9,
   "id": "7c674475-b882-44fc-b01a-f04800eb0205",
   "metadata": {},
   "outputs": [],
   "source": [
    "v = vector.VectorSympy4D(x=x, y=y, z=z, t=t)"
   ]
  },
  {
   "cell_type": "code",
   "execution_count": 10,
   "id": "c25ea976-b913-4717-9858-3e2c926a99c2",
   "metadata": {},
   "outputs": [
    {
     "data": {
      "text/latex": [
       "$\\displaystyle \\sqrt{\\left|{- t^{2} + x^{2} + y^{2} + z^{2}}\\right|}$"
      ],
      "text/plain": [
       "sqrt(Abs(-t**2 + x**2 + y**2 + z**2))"
      ]
     },
     "execution_count": 10,
     "metadata": {},
     "output_type": "execute_result"
    }
   ],
   "source": [
    "v.tau"
   ]
  },
  {
   "cell_type": "code",
   "execution_count": 11,
   "id": "3d258221-4cd4-43fb-8710-d9bc96827132",
   "metadata": {},
   "outputs": [
    {
     "data": {
      "text/latex": [
       "$\\displaystyle t^{2} - x^{2} - y^{2} - z^{2} > 0$"
      ],
      "text/plain": [
       "t**2 - x**2 - y**2 - z**2 > 0"
      ]
     },
     "execution_count": 11,
     "metadata": {},
     "output_type": "execute_result"
    }
   ],
   "source": [
    "v.is_timelike()"
   ]
  },
  {
   "cell_type": "code",
   "execution_count": 12,
   "id": "86dcae0d-22ba-4621-82b8-397a94fecfc6",
   "metadata": {},
   "outputs": [
    {
     "data": {
      "text/plain": [
       "VectorSympy4D(x=x*(1 + x**2/(t**2*(1 + 1/sqrt(1 - x**2/t**2 - y**2/t**2 - z**2/t**2))*(1 - x**2/t**2 - y**2/t**2 - z**2/t**2))) + x/sqrt(1 - x**2/t**2 - y**2/t**2 - z**2/t**2) + x*y**2/(t**2*(1 + 1/sqrt(1 - x**2/t**2 - y**2/t**2 - z**2/t**2))*(1 - x**2/t**2 - y**2/t**2 - z**2/t**2)) + x*z**2/(t**2*(1 + 1/sqrt(1 - x**2/t**2 - y**2/t**2 - z**2/t**2))*(1 - x**2/t**2 - y**2/t**2 - z**2/t**2)), y=y*(1 + y**2/(t**2*(1 + 1/sqrt(1 - x**2/t**2 - y**2/t**2 - z**2/t**2))*(1 - x**2/t**2 - y**2/t**2 - z**2/t**2))) + y/sqrt(1 - x**2/t**2 - y**2/t**2 - z**2/t**2) + x**2*y/(t**2*(1 + 1/sqrt(1 - x**2/t**2 - y**2/t**2 - z**2/t**2))*(1 - x**2/t**2 - y**2/t**2 - z**2/t**2)) + y*z**2/(t**2*(1 + 1/sqrt(1 - x**2/t**2 - y**2/t**2 - z**2/t**2))*(1 - x**2/t**2 - y**2/t**2 - z**2/t**2)), z=z*(1 + z**2/(t**2*(1 + 1/sqrt(1 - x**2/t**2 - y**2/t**2 - z**2/t**2))*(1 - x**2/t**2 - y**2/t**2 - z**2/t**2))) + z/sqrt(1 - x**2/t**2 - y**2/t**2 - z**2/t**2) + x**2*z/(t**2*(1 + 1/sqrt(1 - x**2/t**2 - y**2/t**2 - z**2/t**2))*(1 - x**2/t**2 - y**2/t**2 - z**2/t**2)) + y**2*z/(t**2*(1 + 1/sqrt(1 - x**2/t**2 - y**2/t**2 - z**2/t**2))*(1 - x**2/t**2 - y**2/t**2 - z**2/t**2)), t=t/sqrt(1 - x**2/t**2 - y**2/t**2 - z**2/t**2) + x**2/(t*sqrt(1 - x**2/t**2 - y**2/t**2 - z**2/t**2)) + y**2/(t*sqrt(1 - x**2/t**2 - y**2/t**2 - z**2/t**2)) + z**2/(t*sqrt(1 - x**2/t**2 - y**2/t**2 - z**2/t**2)))"
      ]
     },
     "execution_count": 12,
     "metadata": {},
     "output_type": "execute_result"
    }
   ],
   "source": [
    "boosted = v.boost(v.to_beta3())\n",
    "boosted"
   ]
  },
  {
   "cell_type": "code",
   "execution_count": 13,
   "id": "1e5a3bf0-1784-4d29-8b7c-1b8904de8a20",
   "metadata": {},
   "outputs": [
    {
     "data": {
      "text/latex": [
       "$\\displaystyle \\frac{t}{\\sqrt{1 - \\frac{x^{2}}{t^{2}} - \\frac{y^{2}}{t^{2}} - \\frac{z^{2}}{t^{2}}}} + \\frac{x^{2}}{t \\sqrt{1 - \\frac{x^{2}}{t^{2}} - \\frac{y^{2}}{t^{2}} - \\frac{z^{2}}{t^{2}}}} + \\frac{y^{2}}{t \\sqrt{1 - \\frac{x^{2}}{t^{2}} - \\frac{y^{2}}{t^{2}} - \\frac{z^{2}}{t^{2}}}} + \\frac{z^{2}}{t \\sqrt{1 - \\frac{x^{2}}{t^{2}} - \\frac{y^{2}}{t^{2}} - \\frac{z^{2}}{t^{2}}}}$"
      ],
      "text/plain": [
       "t/sqrt(1 - x**2/t**2 - y**2/t**2 - z**2/t**2) + x**2/(t*sqrt(1 - x**2/t**2 - y**2/t**2 - z**2/t**2)) + y**2/(t*sqrt(1 - x**2/t**2 - y**2/t**2 - z**2/t**2)) + z**2/(t*sqrt(1 - x**2/t**2 - y**2/t**2 - z**2/t**2))"
      ]
     },
     "execution_count": 13,
     "metadata": {},
     "output_type": "execute_result"
    }
   ],
   "source": [
    "boosted.t"
   ]
  },
  {
   "cell_type": "markdown",
   "id": "d7e6de0b-917e-4d87-bade-74bd62db93f2",
   "metadata": {},
   "source": [
    "They can be [simplified](https://docs.sympy.org/latest/modules/simplify/simplify.html):"
   ]
  },
  {
   "cell_type": "code",
   "execution_count": 14,
   "id": "7bcac010-14a5-4d81-9e8a-c4cc9d84067a",
   "metadata": {},
   "outputs": [
    {
     "data": {
      "text/latex": [
       "$\\displaystyle \\frac{t \\sqrt{\\frac{t^{2} - x^{2} - y^{2} - z^{2}}{t^{2}}} \\left(t^{2} + x^{2} + y^{2} + z^{2}\\right)}{t^{2} - x^{2} - y^{2} - z^{2}}$"
      ],
      "text/plain": [
       "t*sqrt((t**2 - x**2 - y**2 - z**2)/t**2)*(t**2 + x**2 + y**2 + z**2)/(t**2 - x**2 - y**2 - z**2)"
      ]
     },
     "execution_count": 14,
     "metadata": {},
     "output_type": "execute_result"
    }
   ],
   "source": [
    "boosted.t.simplify()"
   ]
  },
  {
   "cell_type": "markdown",
   "id": "8e29d643-52e8-4b7d-bbd3-2b864d5efdb6",
   "metadata": {},
   "source": [
    "And the symbols can be [replaced with numerical values](https://docs.sympy.org/latest/modules/core.html#sympy.core.basic.Basic.subs):"
   ]
  },
  {
   "cell_type": "code",
   "execution_count": 15,
   "id": "0b9b401d-43a1-411f-9d88-f7c91fa6c5e7",
   "metadata": {},
   "outputs": [
    {
     "data": {
      "text/latex": [
       "$\\displaystyle \\frac{57 \\sqrt{86}}{43}$"
      ],
      "text/plain": [
       "57*sqrt(86)/43"
      ]
     },
     "execution_count": 15,
     "metadata": {},
     "output_type": "execute_result"
    }
   ],
   "source": [
    "boosted.t.subs({x: 3, y: 2, z: 1, t: 10})"
   ]
  },
  {
   "cell_type": "markdown",
   "id": "55befc25-e5a1-465c-9dfa-850f0dc06cf5",
   "metadata": {},
   "source": [
    "Or [converted into code](https://docs.sympy.org/latest/modules/printing.html#prettyprinter-class) for a programming language:"
   ]
  },
  {
   "cell_type": "code",
   "execution_count": 16,
   "id": "57fa1123-2d1a-47ac-ad8e-31a0ceee8747",
   "metadata": {},
   "outputs": [
    {
     "name": "stdout",
     "output_type": "stream",
     "text": [
      "      t*sqrt((t**2 - x**2 - y**2 - z**2)/t**2)*(t**2 + x**2 + y**2 + z**\n",
      "     @ 2)/(t**2 - x**2 - y**2 - z**2)\n"
     ]
    }
   ],
   "source": [
    "import sympy.printing.fortran\n",
    "\n",
    "print(sympy.printing.fortran.fcode(boosted.t.simplify()))"
   ]
  }
 ],
 "metadata": {
  "kernelspec": {
   "display_name": "Python 3 (ipykernel)",
   "language": "python",
   "name": "python3"
  },
  "language_info": {
   "codemirror_mode": {
    "name": "ipython",
    "version": 3
   },
   "file_extension": ".py",
   "mimetype": "text/x-python",
   "name": "python",
   "nbconvert_exporter": "python",
   "pygments_lexer": "ipython3",
   "version": "3.11.10"
  }
 },
 "nbformat": 4,
 "nbformat_minor": 5
}
