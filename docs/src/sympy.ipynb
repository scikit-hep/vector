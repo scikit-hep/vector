{
 "cells": [
  {
   "cell_type": "markdown",
   "id": "dd79e619-a48d-415b-9d7a-7dd5b3970475",
   "metadata": {},
   "source": [
    "# Vector expressions with SymPy"
   ]
  },
  {
   "cell_type": "markdown",
   "id": "3f40d8aa-c1d4-4106-859a-04d8452673a0",
   "metadata": {},
   "source": [
    "First, [install](index.md#installation) and import Vector."
   ]
  },
  {
   "cell_type": "code",
   "execution_count": 1,
   "id": "405dce26-762d-438b-8b8c-f693d0333a32",
   "metadata": {},
   "outputs": [],
   "source": []
  }
 ],
 "metadata": {
  "kernelspec": {
   "display_name": "Python 3 (ipykernel)",
   "language": "python",
   "name": "python3"
  },
  "language_info": {
   "codemirror_mode": {
    "name": "ipython",
    "version": 3
   },
   "file_extension": ".py",
   "mimetype": "text/x-python",
   "name": "python",
   "nbconvert_exporter": "python",
   "pygments_lexer": "ipython3",
   "version": "3.11.10"
  }
 },
 "nbformat": 4,
 "nbformat_minor": 5
}
