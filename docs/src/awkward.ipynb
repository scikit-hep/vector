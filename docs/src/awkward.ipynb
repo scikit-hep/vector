{
 "cells": [
  {
   "cell_type": "markdown",
   "id": "13ca882a-504d-409f-b6df-ac91f4e8f803",
   "metadata": {},
   "source": [
    "# Awkward Arrays of vectors"
   ]
  }
 ],
 "metadata": {
  "kernelspec": {
   "display_name": "Python 3 (ipykernel)",
   "language": "python",
   "name": "python3"
  },
  "language_info": {
   "codemirror_mode": {
    "name": "ipython",
    "version": 3
   },
   "file_extension": ".py",
   "mimetype": "text/x-python",
   "name": "python",
   "nbconvert_exporter": "python",
   "pygments_lexer": "ipython3",
   "version": "3.11.10"
  }
 },
 "nbformat": 4,
 "nbformat_minor": 5
}
