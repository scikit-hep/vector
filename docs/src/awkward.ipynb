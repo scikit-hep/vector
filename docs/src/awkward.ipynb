{
 "cells": [
  {
   "cell_type": "markdown",
   "id": "13ca882a-504d-409f-b6df-ac91f4e8f803",
   "metadata": {},
   "source": [
    "# Awkward Arrays of vectors"
   ]
  },
  {
   "cell_type": "markdown",
   "id": "26894013-8d55-45b5-9592-6a82c6e7440a",
   "metadata": {},
   "source": [
    "First, [install](../index.md#installation) and import Vector."
   ]
  },
  {
   "cell_type": "code",
   "execution_count": 1,
   "id": "8f504534-1fa5-4dfb-b0c9-f7a2b2d12eae",
   "metadata": {},
   "outputs": [],
   "source": []
  }
 ],
 "metadata": {
  "kernelspec": {
   "display_name": "Python 3 (ipykernel)",
   "language": "python",
   "name": "python3"
  },
  "language_info": {
   "codemirror_mode": {
    "name": "ipython",
    "version": 3
   },
   "file_extension": ".py",
   "mimetype": "text/x-python",
   "name": "python",
   "nbconvert_exporter": "python",
   "pygments_lexer": "ipython3",
   "version": "3.11.10"
  }
 },
 "nbformat": 4,
 "nbformat_minor": 5
}
