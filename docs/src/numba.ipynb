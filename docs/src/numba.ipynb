{
 "cells": [
  {
   "cell_type": "markdown",
   "id": "1af51709-6860-4e5c-96c9-6a437eaed606",
   "metadata": {},
   "source": [
    "# Compiling functions on vectors with Numba"
   ]
  },
  {
   "cell_type": "markdown",
   "id": "26a7599a-5b33-4f6d-85d2-788295abe176",
   "metadata": {},
   "source": [
    "First, [install](../index.md#installation) and import Vector."
   ]
  },
  {
   "cell_type": "code",
   "execution_count": 1,
   "id": "2ccf22f1-fc21-4afe-8e46-baef45a1e85b",
   "metadata": {},
   "outputs": [],
   "source": []
  }
 ],
 "metadata": {
  "kernelspec": {
   "display_name": "Python 3 (ipykernel)",
   "language": "python",
   "name": "python3"
  },
  "language_info": {
   "codemirror_mode": {
    "name": "ipython",
    "version": 3
   },
   "file_extension": ".py",
   "mimetype": "text/x-python",
   "name": "python",
   "nbconvert_exporter": "python",
   "pygments_lexer": "ipython3",
   "version": "3.11.10"
  }
 },
 "nbformat": 4,
 "nbformat_minor": 5
}
