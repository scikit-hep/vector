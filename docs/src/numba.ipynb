{
 "cells": [
  {
   "cell_type": "markdown",
   "id": "1af51709-6860-4e5c-96c9-6a437eaed606",
   "metadata": {},
   "source": [
    "# Compiling functions on vectors with Numba"
   ]
  },
  {
   "cell_type": "markdown",
   "id": "03064225-ea6b-4f6b-a5bf-08a47b62350e",
   "metadata": {},
   "source": [
    "First, [install](../index.md#installation) and import Vector and [Numba](https://numba.pydata.org/)."
   ]
  },
  {
   "cell_type": "code",
   "execution_count": 1,
   "id": "df8bea35-cf3c-4f87-8e3d-8ffe06264811",
   "metadata": {},
   "outputs": [],
   "source": [
    "import vector\n",
    "import numba as nb\n",
    "import numpy as np"
   ]
  },
  {
   "cell_type": "markdown",
   "id": "7fff9620-227b-4e5e-a211-4daf1fb96298",
   "metadata": {},
   "source": [
    "Numba is a just-in-time (JIT) compiler for a mathematically relevant subset of NumPy and Python. It allows you to write fast code without leaving the Python environment. The drawback of Numba is that it can only compile code blocks involving objects and functions that it recognizes.\n",
    "\n",
    "The Vector library includes extensions to inform Numba about [vector objects](object.md), ~~[arrays of vectors](numpy.md)~~, and [arrays of Awkward Arrays](awkward.md). At the time of writing, the implementation of vector NumPy arrays is incomplete (see issue [#43](https://github.com/scikit-hep/vector/issues/43)).\n",
    "\n",
    "Consider the following function:"
   ]
  },
  {
   "cell_type": "code",
   "execution_count": 2,
   "id": "0e7f7c5c-2ce3-4f55-9159-363910fac6b9",
   "metadata": {},
   "outputs": [],
   "source": [
    "def compute_mass(v1, v2):\n",
    "    return (v1 + v2).mass"
   ]
  },
  {
   "cell_type": "code",
   "execution_count": 3,
   "id": "16d0fe04-fc8d-4d1f-bb68-0f869c1d2bdb",
   "metadata": {},
   "outputs": [
    {
     "name": "stdout",
     "output_type": "stream",
     "text": [
      "The slowest run took 39.65 times longer than the fastest. This could mean that an intermediate result is being cached.\n",
      "189 μs ± 386 μs per loop (mean ± std. dev. of 7 runs, 10 loops each)\n"
     ]
    }
   ],
   "source": [
    "%timeit -n 10 compute_mass(vector.obj(px=1, py=2, pz=3, E=4), vector.obj(px=-1, py=-2, pz=-3, E=4))"
   ]
  },
  {
   "cell_type": "code",
   "execution_count": 4,
   "id": "22516614-48eb-47de-96a9-12781fdeb66f",
   "metadata": {},
   "outputs": [],
   "source": [
    "@nb.njit\n",
    "def compute_mass(v1, v2):\n",
    "    return (v1 + v2).mass"
   ]
  },
  {
   "cell_type": "code",
   "execution_count": 5,
   "id": "56ca8fb9-264d-4d78-a1b2-353c121bb43f",
   "metadata": {},
   "outputs": [
    {
     "name": "stdout",
     "output_type": "stream",
     "text": [
      "The slowest run took 1658.94 times longer than the fastest. This could mean that an intermediate result is being cached.\n",
      "5.29 ms ± 12.9 ms per loop (mean ± std. dev. of 7 runs, 10 loops each)\n"
     ]
    }
   ],
   "source": [
    "%timeit -n 10 compute_mass(vector.obj(px=1, py=2, pz=3, E=4), vector.obj(px=-1, py=-2, pz=-3, E=4))"
   ]
  },
  {
   "cell_type": "markdown",
   "id": "69c36f6d-3b54-4db8-9890-9245d64fefe7",
   "metadata": {},
   "source": [
    "When the two `MomentumObject4D` objects are passed as arguments, Numba recognizes them and replaces the Python objects with low-level structs. When it compiles the function, it recognizes `+` as the 4D `add` function and recognizes `.mass` as the `tau` component of the result.\n",
    "\n",
    "Although this demonstrates that Numba can manipulate vector objects, there is no performance advantage (and a likely disadvantage) to compiling a calculation on just a few vectors. The `@nb.njit` result showcases this behavior, where the slowest run (the actual just-in-time compilation) is 1658.94 times longer than the fastest run.\n",
    "\n",
    "Given that the function has now been JIT compiled once, the subsequent runs would be slightly faster than the non-JIT version runs."
   ]
  },
  {
   "cell_type": "code",
   "execution_count": 6,
   "id": "d0fb0559-b944-43d1-b44e-1b959c1bbbd4",
   "metadata": {},
   "outputs": [
    {
     "name": "stdout",
     "output_type": "stream",
     "text": [
      "160 μs ± 73 μs per loop (mean ± std. dev. of 7 runs, 10 loops each)\n"
     ]
    }
   ],
   "source": [
    "%timeit -n 10 compute_mass(vector.obj(px=1, py=2, pz=3, E=4), vector.obj(px=-1, py=-2, pz=-3, E=4))"
   ]
  },
  {
   "cell_type": "markdown",
   "id": "0bb7c5d1-2310-4a9a-8fdb-176179e3f84f",
   "metadata": {},
   "source": [
    "However, the real advantage comes when many vectors are involved, in arrays."
   ]
  },
  {
   "cell_type": "code",
   "execution_count": 7,
   "id": "63f614a2-969d-465d-8d74-a44f6f77eab4",
   "metadata": {},
   "outputs": [
    {
     "data": {
      "text/html": [
       "<pre>[[],\n",
       " [],\n",
       " [{x: -0.977, y: -0.705, z: 1.54, t: 11.6}],\n",
       " [{x: -0.134, y: 0.806, z: 2.44, t: 10}, ..., {x: 1.01, y: 0.211, z: ..., ...}],\n",
       " [{x: -0.528, y: -1.07, z: -0.794, t: 10.4}],\n",
       " [{x: 0.179, y: 0.369, z: -0.67, t: 10.1}, {x: 1.35, y: -0.761, ...}],\n",
       " [{x: 1.21, y: -0.913, z: -0.322, t: 9.42}, {x: -0.912, y: -0.918, ...}],\n",
       " [],\n",
       " [{x: 1.33, y: -0.395, z: -0.913, t: 9.11}, {x: -0.606, y: -0.0794, ...}],\n",
       " [{x: -0.325, y: -0.469, z: -1.15, t: 9.79}, {x: -1.7, y: -1.13, ...}],\n",
       " ...,\n",
       " [{x: 0.332, y: 2.16, z: 1.06, t: 9.93}, ..., {x: 1.23, y: -1.18, z: ..., ...}],\n",
       " [],\n",
       " [{x: 1.51, y: -0.0638, z: 0.303, t: 9.62}, ..., {x: -0.828, y: 1.07, ...}],\n",
       " [{x: 0.981, y: -1.19, z: 0.651, t: 11}, {x: -1.83, y: 2.19, z: ..., ...}],\n",
       " [],\n",
       " [],\n",
       " [{x: -0.443, y: -0.564, z: 1.56, t: 8.97}],\n",
       " [],\n",
       " [{x: 0.633, y: 0.614, z: 1.23, t: 8.89}, {x: -0.946, y: 0.582, ...}]]\n",
       "---------------------------------------------------------------------------------------------\n",
       "backend: cpu\n",
       "nbytes: 3.0 kB\n",
       "type: 50 * var * Momentum4D[\n",
       "    x: float64,\n",
       "    y: float64,\n",
       "    z: float64,\n",
       "    t: float64\n",
       "]</pre>"
      ],
      "text/plain": [
       "<MomentumArray4D [[], [], ..., [{x: 0.633, ...}, {...}]] type='50 * var * M...'>"
      ]
     },
     "execution_count": 7,
     "metadata": {},
     "output_type": "execute_result"
    }
   ],
   "source": [
    "# This is still not a large number. You want millions.\n",
    "array = vector.Array(\n",
    "    [\n",
    "        [\n",
    "            dict(\n",
    "                {x: np.random.normal(0, 1) for x in (\"px\", \"py\", \"pz\")},\n",
    "                E=np.random.normal(10, 1),\n",
    "            )\n",
    "            for inner in range(np.random.poisson(1.5))\n",
    "        ]\n",
    "        for outer in range(50)\n",
    "    ]\n",
    ")\n",
    "array"
   ]
  },
  {
   "cell_type": "code",
   "execution_count": 8,
   "id": "f6edd6c9-a423-4662-bcae-c685686633c8",
   "metadata": {},
   "outputs": [],
   "source": [
    "def compute_masses(array):\n",
    "    out = np.empty(len(array), np.float64)\n",
    "    for i, event in enumerate(array):\n",
    "        total = vector.obj(px=0.0, py=0.0, pz=0.0, E=0.0)\n",
    "        for vec in event:\n",
    "            total = total + vec\n",
    "        out[i] = total.mass\n",
    "    return out"
   ]
  },
  {
   "cell_type": "code",
   "execution_count": 9,
   "id": "fa854373-aeba-4274-8ab8-c1c85d5a931b",
   "metadata": {
    "scrolled": true
   },
   "outputs": [
    {
     "name": "stdout",
     "output_type": "stream",
     "text": [
      "91.5 ms ± 1.41 ms per loop (mean ± std. dev. of 7 runs, 10 loops each)\n"
     ]
    }
   ],
   "source": [
    "%timeit -n 10 compute_masses(array)"
   ]
  },
  {
   "cell_type": "code",
   "execution_count": 10,
   "id": "a6ca1a20-3f5f-485b-8cc0-663cdbf70ec6",
   "metadata": {},
   "outputs": [],
   "source": [
    "@nb.njit\n",
    "def compute_masses(array):\n",
    "    out = np.empty(len(array), np.float64)\n",
    "    for i, event in enumerate(array):\n",
    "        total = vector.obj(px=0.0, py=0.0, pz=0.0, E=0.0)\n",
    "        for vec in event:\n",
    "            total = total + vec\n",
    "        out[i] = total.mass\n",
    "    return out"
   ]
  },
  {
   "cell_type": "code",
   "execution_count": 11,
   "id": "c9bbfba4-1000-4d86-9804-340f8494076d",
   "metadata": {},
   "outputs": [
    {
     "name": "stdout",
     "output_type": "stream",
     "text": [
      "The slowest run took 273.95 times longer than the fastest. This could mean that an intermediate result is being cached.\n",
      "7.25 ms ± 17.3 ms per loop (mean ± std. dev. of 7 runs, 10 loops each)\n"
     ]
    }
   ],
   "source": [
    "%timeit -n 10 compute_masses(array)"
   ]
  },
  {
   "cell_type": "markdown",
   "id": "48d33ad4-a1ad-47f5-ac19-d8d2359265cb",
   "metadata": {},
   "source": [
    "Again, given that the function has now been JIT compiled once, the subsequent runs would be faster (by a considerable factor) than the non-JIT version runs."
   ]
  },
  {
   "cell_type": "code",
   "execution_count": 12,
   "id": "56f6f10d-ee09-47c8-81da-a639a27a9645",
   "metadata": {},
   "outputs": [
    {
     "name": "stdout",
     "output_type": "stream",
     "text": [
      "511 μs ± 222 μs per loop (mean ± std. dev. of 7 runs, 10 loops each)\n"
     ]
    }
   ],
   "source": [
    "%timeit -n 10 compute_masses(array)"
   ]
  }
 ],
 "metadata": {
  "kernelspec": {
   "display_name": "Python 3 (ipykernel)",
   "language": "python",
   "name": "python3"
  },
  "language_info": {
   "codemirror_mode": {
    "name": "ipython",
    "version": 3
   },
   "file_extension": ".py",
   "mimetype": "text/x-python",
   "name": "python",
   "nbconvert_exporter": "python",
   "pygments_lexer": "ipython3",
   "version": "3.11.11"
  }
 },
 "nbformat": 4,
 "nbformat_minor": 5
}
