{
 "cells": [
  {
   "cell_type": "markdown",
   "id": "c08fcf32-5e96-44a0-a520-f8472ca398cb",
   "metadata": {},
   "source": [
    "# Vector objects"
   ]
  },
  {
   "cell_type": "markdown",
   "id": "495d94df-054f-47dc-bdf3-6ba9cea4b4d6",
   "metadata": {},
   "source": [
    "First, [install](../index.md#installation) and import Vector."
   ]
  },
  {
   "cell_type": "code",
   "execution_count": 1,
   "id": "95d2e6db-0b23-4d6e-8b5a-739c5f2676c7",
   "metadata": {},
   "outputs": [],
   "source": [
    "import vector"
   ]
  },
  {
   "cell_type": "markdown",
   "id": "8fd65e09-8b31-4b65-b3c5-3d7ab6baba9d",
   "metadata": {},
   "source": [
    "## Making a vector"
   ]
  },
  {
   "cell_type": "markdown",
   "id": "b32006b4-6577-4a77-bfff-9ad33ec1455f",
   "metadata": {},
   "source": [
    "If you only need a few vectors or performance is not a concern, you can make vectors as Python objects. The basic constructor for that is [vector.obj](make_object.md), and the type of vector (2D/3D/4D, coordinate system, geometric or momentum) depends on the pattern of keyword arguments provided."
   ]
  },
  {
   "cell_type": "markdown",
   "id": "7384e13c-d120-473a-9ebb-2e26ec95ec41",
   "metadata": {},
   "source": [
    "Below is a 2D, Cartesian, geometric vector:"
   ]
  },
  {
   "cell_type": "code",
   "execution_count": 2,
   "id": "b790c4c5-f586-4da3-bff6-401a880e9fd6",
   "metadata": {},
   "outputs": [
    {
     "data": {
      "text/plain": [
       "VectorObject2D(x=1.1, y=2.2)"
      ]
     },
     "execution_count": 2,
     "metadata": {},
     "output_type": "execute_result"
    }
   ],
   "source": [
    "vector.obj(x=1.1, y=2.2)"
   ]
  },
  {
   "cell_type": "markdown",
   "id": "a0fb4212-f434-4017-af59-913ec5e34945",
   "metadata": {},
   "source": [
    "Below is a 3D, Cartesian, momentum vector:"
   ]
  },
  {
   "cell_type": "code",
   "execution_count": 3,
   "id": "42f34307-ecc8-4cff-b2d7-e4029acf0793",
   "metadata": {},
   "outputs": [
    {
     "data": {
      "text/plain": [
       "MomentumObject3D(px=1.1, py=2.2, pz=3.3)"
      ]
     },
     "execution_count": 3,
     "metadata": {},
     "output_type": "execute_result"
    }
   ],
   "source": [
    "vector.obj(px=1.1, py=2.2, pz=3.3)"
   ]
  },
  {
   "cell_type": "markdown",
   "id": "94789dfa-f0b0-41ad-949a-786097ba63de",
   "metadata": {},
   "source": [
    "Below is a 4D geometric vector that has Cartesian azimuthal components (`x` and `y`), the longitudinal component is expressed in [pseudorapidity](https://en.wikipedia.org/wiki/Pseudorapidity), and the temporal component is expressed using proper time:"
   ]
  },
  {
   "cell_type": "code",
   "execution_count": 4,
   "id": "02fddde9-9998-4699-b8a6-ce025ec4beab",
   "metadata": {},
   "outputs": [
    {
     "data": {
      "text/plain": [
       "VectorObject4D(x=1.1, y=2.2, eta=3.3, tau=4.4)"
      ]
     },
     "execution_count": 4,
     "metadata": {},
     "output_type": "execute_result"
    }
   ],
   "source": [
    "vector.obj(x=1.1, y=2.2, eta=3.3, tau=4.4)"
   ]
  },
  {
   "cell_type": "markdown",
   "id": "075849bd-942d-4ef6-abee-b1f7920c7225",
   "metadata": {},
   "source": [
    "The allowed keyword arguments for 2D vectors are:\n",
    "\n",
    "* `x` and `y` for Cartesian azimuthal coordinates,\n",
    "* `px` ($p_x$) and `py` ($p_y$) for momentum,\n",
    "* `rho` ($\\rho$) and `phi` ($\\phi$) for polar azimuthal coordinates,\n",
    "* `pt` ($p_T$) and `phi` ($\\phi$) for momentum.\n",
    "\n",
    "For 3D vectors, you need the above and:\n",
    "\n",
    "* `z` for the Cartesian longitudinal coordinate,\n",
    "* `pz` ($p_z$) for momentum,\n",
    "* `theta` ($\\theta$) for the spherical polar angle (from $0$ to $\\pi$, inclusive),\n",
    "* `eta` ($\\eta$) for [pseudorapidity](https://en.wikipedia.org/wiki/Pseudorapidity), which is a kind of spherical polar angle: $\\eta = -\\ln \\left[ \\tan \\left( \\frac{\\theta}{2} \\right) \\right]$.\n",
    "\n",
    "For 4D vectors, you need the above and:\n",
    "\n",
    "* `t` for the Cartesian temporal coordinate,\n",
    "* `e`, `E`, or `energy` to get four-momentum,\n",
    "* `tau` ($\\tau$) for the \"proper time\" (temporal coordinate in the vector’s rest coordinate system),\n",
    "* `m`, `M`, or `mass` to get four-momentum.\n",
    "\n",
    "Since momentum vectors have momentum-synonyms in addition to the geometrical names, any momentum-synonym will make the whole vector a momentum vector. The meanings of the geometric components are illustrated below:\n",
    "\n",
    "<img src=\"../_images/coordinate-systems.svg\" width=\"100%\">\n",
    "\n",
    "This one constructor, [vector.obj](make_object.md), can output a variety of data types. If you want to control the type more explicitly, you can use [vector.VectorObject2D](make_object.md#vector.VectorObject2D), [vector.MomentumObject2D](make_object.md#vector.MomentumObject2D), [vector.VectorObject3D](make_object.md#vector.VectorObject3D), [vector.MomentumObject3D](make_object.md#vector.MomentumObject3D), [vector.VectorObject4D](make_object.md#vector.VectorObject4D), and [vector.MomentumObject4D](make_object.md#vector.MomentumObject4D) to construct or check the type explicitly. These classes also have `from_*` methods to construct vectors from positional arguments, rather than keyword arguments."
   ]
  },
  {
   "cell_type": "markdown",
   "id": "d9a23b9b-a19f-49a9-b1ae-7b86c51a17f1",
   "metadata": {},
   "source": [
    "## Using a vector"
   ]
  },
  {
   "cell_type": "markdown",
   "id": "959d7c4e-f7a6-4220-877a-dfedc6a873b7",
   "metadata": {},
   "source": [
    "Vector objects have a suite of properties and methods appropriate to their type (2D/3D/4D, geometric or momentum). For example, to compute the cross-product of two vectors, you would use [cross](vector3d.md#vector._methods.VectorProtocolSpatial.cross):"
   ]
  },
  {
   "cell_type": "code",
   "execution_count": 5,
   "id": "51d9350f-66e7-447c-840c-ed6bd899bd37",
   "metadata": {},
   "outputs": [
    {
     "data": {
      "text/plain": [
       "VectorObject3D(x=6, y=0, z=-3)"
      ]
     },
     "execution_count": 5,
     "metadata": {},
     "output_type": "execute_result"
    }
   ],
   "source": [
    "a = vector.obj(x=2, y=3, z=4)\n",
    "b = vector.obj(x=1, y=0, z=2)\n",
    "\n",
    "a.cross(b)"
   ]
  },
  {
   "cell_type": "markdown",
   "id": "98530a7c-5413-4268-9312-91e1e8054c50",
   "metadata": {},
   "source": [
    "or to compute the angle between them, you would use [deltaangle](vector3d.md#vector._methods.VectorProtocolSpatial.deltaangle):"
   ]
  },
  {
   "cell_type": "code",
   "execution_count": 6,
   "id": "eee16a4d-b15b-434b-868b-ef7a11d8e101",
   "metadata": {},
   "outputs": [
    {
     "data": {
      "text/plain": [
       "0.590872750145419"
      ]
     },
     "execution_count": 6,
     "metadata": {},
     "output_type": "execute_result"
    }
   ],
   "source": [
    "a.deltaangle(b)"
   ]
  },
  {
   "cell_type": "markdown",
   "id": "ac749138-ed71-4a07-92a8-af33785eb5ea",
   "metadata": {},
   "source": [
    "or to compute their sum, you would use `+`:"
   ]
  },
  {
   "cell_type": "code",
   "execution_count": 7,
   "id": "5686fc89-5cb0-4a5f-b521-41dd7d0a3b10",
   "metadata": {},
   "outputs": [
    {
     "data": {
      "text/plain": [
       "VectorObject3D(x=3, y=3, z=6)"
      ]
     },
     "execution_count": 7,
     "metadata": {},
     "output_type": "execute_result"
    }
   ],
   "source": [
    "a + b"
   ]
  },
  {
   "cell_type": "markdown",
   "id": "eeaf4807-b338-4f17-ba35-a7a3f7f43d97",
   "metadata": {},
   "source": [
    "In this last example, the `+` operator overloads the [add](common.md#vector._methods.VectorProtocol.add) method. Similarly, multiplication between a vector and a scalar number overloads [scale](common.md#vector._methods.VectorProtocol.scale), etc. Since they overload standard operators, vectors can be used in Python built-in functions like [sum](https://docs.python.org/3/library/functions.html#sum), as long as you provide a `start`:"
   ]
  },
  {
   "cell_type": "code",
   "execution_count": 8,
   "id": "10b5f3e3-db5d-421e-89a4-5929fe720af1",
   "metadata": {},
   "outputs": [
    {
     "data": {
      "text/plain": [
       "VectorObject2D(x=45, y=4.5)"
      ]
     },
     "execution_count": 8,
     "metadata": {},
     "output_type": "execute_result"
    }
   ],
   "source": [
    "vs = [vector.obj(x=x, y=x / 10) for x in range(10)]\n",
    "\n",
    "sum(vs, start=vector.obj(x=0, y=0))"
   ]
  },
  {
   "cell_type": "markdown",
   "id": "32c06273-06ae-4cfa-8e79-f55586148283",
   "metadata": {},
   "source": [
    "The same applies to [abs](https://docs.python.org/3/library/functions.html#abs) for the vector's magnitude, but note that this depends on the number of dimensions:"
   ]
  },
  {
   "cell_type": "code",
   "execution_count": 9,
   "id": "e821c6d7-db8c-47cd-93a0-5eb7bf3e023f",
   "metadata": {},
   "outputs": [
    {
     "data": {
      "text/plain": [
       "5.0"
      ]
     },
     "execution_count": 9,
     "metadata": {},
     "output_type": "execute_result"
    }
   ],
   "source": [
    "abs(vector.obj(x=3, y=4))  # sqrt(3**2 + 4**2)"
   ]
  },
  {
   "cell_type": "code",
   "execution_count": 10,
   "id": "bf89db7e-6326-46e4-8add-fa5e7e7df799",
   "metadata": {},
   "outputs": [
    {
     "data": {
      "text/plain": [
       "3.0"
      ]
     },
     "execution_count": 10,
     "metadata": {},
     "output_type": "execute_result"
    }
   ],
   "source": [
    "abs(vector.obj(x=1, y=2, z=2))  # sqrt(1**2 + 2**2 + 2**2)"
   ]
  },
  {
   "cell_type": "code",
   "execution_count": 11,
   "id": "9f6d19e6-ca20-4f8b-a8d9-57950c24655b",
   "metadata": {},
   "outputs": [
    {
     "data": {
      "text/plain": [
       "3.0"
      ]
     },
     "execution_count": 11,
     "metadata": {},
     "output_type": "execute_result"
    }
   ],
   "source": [
    "abs(vector.obj(x=3, y=3, z=3, t=6))  # sqrt(6**2 - 3**2 - 3**2 - 3**2)"
   ]
  },
  {
   "cell_type": "markdown",
   "id": "2d9407af-0641-403c-822c-d89344dd95db",
   "metadata": {},
   "source": [
    "Equality ([equal](common.md#vector._methods.VectorProtocol.equal)) and inequality ([not_equal](common.md#vector._methods.VectorProtocol.not_equal)) are defined:"
   ]
  },
  {
   "cell_type": "code",
   "execution_count": 12,
   "id": "41ca1487-4a33-493f-9d9b-dd452255ae73",
   "metadata": {},
   "outputs": [
    {
     "data": {
      "text/plain": [
       "True"
      ]
     },
     "execution_count": 12,
     "metadata": {},
     "output_type": "execute_result"
    }
   ],
   "source": [
    "vector.obj(x=3, y=4) == vector.obj(x=3, y=4)"
   ]
  },
  {
   "cell_type": "markdown",
   "id": "bf85dc4f-88de-4e07-9303-c1f364a0a227",
   "metadata": {},
   "source": [
    "But you'll probably want to use [isclose](common.md#vector._methods.VectorProtocol.isclose) (and possibly specify tolerances):"
   ]
  },
  {
   "cell_type": "code",
   "execution_count": 13,
   "id": "7604a176-efd9-4cbd-947c-90c8bbb20685",
   "metadata": {},
   "outputs": [
    {
     "data": {
      "text/plain": [
       "False"
      ]
     },
     "execution_count": 13,
     "metadata": {},
     "output_type": "execute_result"
    }
   ],
   "source": [
    "vector.obj(x=3, y=4) == vector.obj(rho=5, phi=0.9272952180016122)"
   ]
  },
  {
   "cell_type": "code",
   "execution_count": 14,
   "id": "0a3d1aa1-eeda-486a-84b2-e9d43e102117",
   "metadata": {},
   "outputs": [
    {
     "data": {
      "text/plain": [
       "True"
      ]
     },
     "execution_count": 14,
     "metadata": {},
     "output_type": "execute_result"
    }
   ],
   "source": [
    "vector.obj(x=3, y=4).isclose(vector.obj(rho=5, phi=0.9272952180016122))"
   ]
  },
  {
   "cell_type": "markdown",
   "id": "70a3c4b3-8a81-4bb2-b6f7-1ebb57889c0a",
   "metadata": {},
   "source": [
    "The full set of properties and methods available to each type of vector (2D/3D/4D, geometric or momentum) is described in\n",
    "\n",
    "* [Interface for all vectors](common.md)\n",
    "* [Interface for 2D vectors](vector2d.md)\n",
    "* [Interface for 3D vectors](vector3d.md)\n",
    "* [Interface for 4D vectors](vector4d.md)\n",
    "* [Interface for 2D momentum](momentum2d.md)\n",
    "* [Interface for 3D momentum](momentum3d.md)\n",
    "* [Interface for 4D momentum](momentum4d.md)"
   ]
  },
  {
   "cell_type": "markdown",
   "id": "6d1f1795-1051-4b32-b9b8-222a2f2228f9",
   "metadata": {},
   "source": [
    "## Using coordinate systems"
   ]
  },
  {
   "cell_type": "markdown",
   "id": "0e80cf47-801f-421a-818a-e70db3356a5a",
   "metadata": {},
   "source": [
    "A vector can be constructed using any combination of coordinate systems and computations will be performed using whatever coordinate system it has. Thus, after creating vectors, you can write code that does not depend on the coordinate system—it becomes a hidden implementation detail."
   ]
  },
  {
   "cell_type": "code",
   "execution_count": 15,
   "id": "a96ddaad-7c6b-487f-8d23-fdd2fde159bc",
   "metadata": {},
   "outputs": [
    {
     "data": {
      "text/plain": [
       "VectorObject2D(x=5.0, y=1.0)"
      ]
     },
     "execution_count": 15,
     "metadata": {},
     "output_type": "execute_result"
    }
   ],
   "source": [
    "a = vector.obj(x=2, y=1)\n",
    "b = vector.obj(rho=3, phi=0)\n",
    "\n",
    "a + b"
   ]
  },
  {
   "cell_type": "markdown",
   "id": "4f4552b3-bd21-4760-90fc-92002a2f14ad",
   "metadata": {},
   "source": [
    "Some of the properties of a vector are coordinates, so you can use Vector to convert coordinates."
   ]
  },
  {
   "cell_type": "code",
   "execution_count": 16,
   "id": "d0ce4192-f634-40f3-900a-4d143b0050d6",
   "metadata": {},
   "outputs": [
    {
     "data": {
      "text/plain": [
       "(2.23606797749979, 0.4636476090008061)"
      ]
     },
     "execution_count": 16,
     "metadata": {},
     "output_type": "execute_result"
    }
   ],
   "source": [
    "a.rho, a.phi"
   ]
  },
  {
   "cell_type": "markdown",
   "id": "633a6970-6986-40e3-a3aa-1fde0edc0a0a",
   "metadata": {},
   "source": [
    "Since the way that you access the original coordinates is the same as the way that you access converted coordinates,"
   ]
  },
  {
   "cell_type": "code",
   "execution_count": 17,
   "id": "38006968-210d-4568-a94a-e13d31b048a7",
   "metadata": {},
   "outputs": [
    {
     "data": {
      "text/plain": [
       "(2, 1)"
      ]
     },
     "execution_count": 17,
     "metadata": {},
     "output_type": "execute_result"
    }
   ],
   "source": [
    "a.x, a.y"
   ]
  },
  {
   "cell_type": "markdown",
   "id": "31f7e65a-ed4e-48a8-a761-4c70cf81eca4",
   "metadata": {},
   "source": [
    "these conversions are part of the coordinate-abstraction.\n",
    "\n",
    "For reasons of numerical precision, you might want to open this black box and explicitly change the coordinate system. These methods start with `to_*`:"
   ]
  },
  {
   "cell_type": "code",
   "execution_count": 18,
   "id": "83c22d5b-a251-42c2-9527-87695c9d5dac",
   "metadata": {},
   "outputs": [
    {
     "data": {
      "text/plain": [
       "VectorObject2D(rho=2.23606797749979, phi=0.4636476090008061)"
      ]
     },
     "execution_count": 18,
     "metadata": {},
     "output_type": "execute_result"
    }
   ],
   "source": [
    "a.to_rhophi()"
   ]
  },
  {
   "cell_type": "code",
   "execution_count": 19,
   "id": "01754e13-3c0c-4b1e-be0e-0e0d01585b63",
   "metadata": {},
   "outputs": [
    {
     "data": {
      "text/plain": [
       "VectorObject2D(x=3.0, y=0.0)"
      ]
     },
     "execution_count": 19,
     "metadata": {},
     "output_type": "execute_result"
    }
   ],
   "source": [
    "b.to_xy()"
   ]
  },
  {
   "cell_type": "markdown",
   "id": "3c4a7d35-74a6-4d90-b195-68fc6a77cbec",
   "metadata": {},
   "source": [
    "## Geometric versus momentum vectors"
   ]
  },
  {
   "cell_type": "markdown",
   "id": "459d089b-8569-4eff-a316-6ff40cc1b145",
   "metadata": {},
   "source": [
    "Vectors come in two flavors:\n",
    "\n",
    "* geometric: only one name for each property or method\n",
    "* momentum: same property or method can be accessed with several synonyms (which assume that the vector is a [momentum](https://en.wikipedia.org/wiki/Momentum) vector)."
   ]
  },
  {
   "cell_type": "code",
   "execution_count": 20,
   "id": "e86873c1-f8aa-447d-b265-2a6b42b9e1ba",
   "metadata": {},
   "outputs": [
    {
     "data": {
      "text/plain": [
       "VectorObject3D(x=1, y=2, z=3)"
      ]
     },
     "execution_count": 20,
     "metadata": {},
     "output_type": "execute_result"
    }
   ],
   "source": [
    "v = vector.obj(x=1, y=2, z=3)\n",
    "v"
   ]
  },
  {
   "cell_type": "code",
   "execution_count": 21,
   "id": "0d4fab89-cf8c-43f9-a7d9-34083ac70eb7",
   "metadata": {},
   "outputs": [
    {
     "data": {
      "text/plain": [
       "MomentumObject3D(px=1, py=2, pz=3)"
      ]
     },
     "execution_count": 21,
     "metadata": {},
     "output_type": "execute_result"
    }
   ],
   "source": [
    "p = vector.obj(px=1, py=2, pz=3)\n",
    "p"
   ]
  },
  {
   "cell_type": "markdown",
   "id": "1f19524b-e98a-461e-a098-6d5b803dc693",
   "metadata": {},
   "source": [
    "Calculations are the same in both cases:"
   ]
  },
  {
   "cell_type": "code",
   "execution_count": 22,
   "id": "0eaf2b80-9e94-41bb-b251-1b713df0e829",
   "metadata": {},
   "outputs": [
    {
     "data": {
      "text/plain": [
       "3.7416573867739413"
      ]
     },
     "execution_count": 22,
     "metadata": {},
     "output_type": "execute_result"
    }
   ],
   "source": [
    "abs(v)"
   ]
  },
  {
   "cell_type": "code",
   "execution_count": 23,
   "id": "f1c35d52-9e8d-44d1-b1e8-a4c0f3405370",
   "metadata": {},
   "outputs": [
    {
     "data": {
      "text/plain": [
       "3.7416573867739413"
      ]
     },
     "execution_count": 23,
     "metadata": {},
     "output_type": "execute_result"
    }
   ],
   "source": [
    "abs(p)"
   ]
  },
  {
   "cell_type": "markdown",
   "id": "dec60082-29ca-47b8-b9c4-3d68ff967a06",
   "metadata": {},
   "source": [
    "but there are more ways to express some operations:"
   ]
  },
  {
   "cell_type": "code",
   "execution_count": 24,
   "id": "1a3540ed-c4f1-4df0-af75-0a0c75b83c89",
   "metadata": {},
   "outputs": [
    {
     "data": {
      "text/plain": [
       "2.23606797749979"
      ]
     },
     "execution_count": 24,
     "metadata": {},
     "output_type": "execute_result"
    }
   ],
   "source": [
    "v.rho"
   ]
  },
  {
   "cell_type": "code",
   "execution_count": 25,
   "id": "061c00d9-2134-41bb-9275-a81eccb4a71c",
   "metadata": {},
   "outputs": [
    {
     "data": {
      "text/plain": [
       "2.23606797749979"
      ]
     },
     "execution_count": 25,
     "metadata": {},
     "output_type": "execute_result"
    }
   ],
   "source": [
    "p.rho"
   ]
  },
  {
   "cell_type": "code",
   "execution_count": 26,
   "id": "0fb9656b-97d7-49f0-b61e-c99bccf2e31d",
   "metadata": {},
   "outputs": [
    {
     "data": {
      "text/plain": [
       "2.23606797749979"
      ]
     },
     "execution_count": 26,
     "metadata": {},
     "output_type": "execute_result"
    }
   ],
   "source": [
    "p.pt"
   ]
  },
  {
   "cell_type": "markdown",
   "id": "375ac938-9ef0-493b-b94a-52cab0c1b359",
   "metadata": {},
   "source": [
    "The geometric vector satisfies the [Zen of Python](https://en.wikipedia.org/wiki/Zen_of_Python) stipulation that\n",
    "\n",
    "> There should be one-- and preferably only one --obvious way to do it.\n",
    "\n",
    "and code that uses, for example, \"`pt`\" to specify \"distance from the beamline\" is obfuscated code. However, the most common use for these vectors in High Energy Physics (HEP) is to represent the momentum of particles. For that purpose, using \"`rho`\" for $p_T$ is not self-documenting.\n",
    "\n",
    "Momentum vectors have all of the same properties and methods as geometric vectors _as well as_ momentum synonyms. In some cases, there are multiple momentum synonyms for adherence to different conventions. For example, energy and mass (the [temporal component of momentum](https://en.wikipedia.org/wiki/Four-momentum), as Cartesian and proper time, respectively) have four different spellings:\n",
    "\n",
    "| energy spelling | mass spelling | rationale |\n",
    "|:--:|:--:|:--|\n",
    "| `t` | `tau` | geometric coordinates; $\\tau$ for proper time is conventional |\n",
    "| `energy` | `mass` | full names are more self-documenting in the code |\n",
    "| `e` | `m` | all other coordinates are lower-case single letters (sometimes Greek letters) |\n",
    "| `E` | `M` | capital E and M (only!) are used in other HEP vector libraries |\n",
    "\n",
    "If any momentum components are used to construct a vector (or if [vector.MomentumObject2D](make_object.md#vector.MomentumObject2D), [vector.MomentumObject3D](make_object.md#vector.MomentumObject3D), or [vector.MomentumObject4D](make_object.md#vector.MomentumObject4D) are used explicitly), then the vector is momentum and all synonyms become available."
   ]
  },
  {
   "cell_type": "markdown",
   "id": "0560e95f-48e9-454d-9db1-f85386d5e9ed",
   "metadata": {},
   "source": [
    "## Numeric data types and numerical error"
   ]
  },
  {
   "cell_type": "markdown",
   "id": "c3ba958e-9c1b-4721-8f40-b1112ea6a068",
   "metadata": {},
   "source": [
    "Vector does not require any specific numeric data type, such as `np.float32` or `np.float64`, it only requires that vector components are some kind of number, including integers."
   ]
  },
  {
   "cell_type": "code",
   "execution_count": 27,
   "id": "15ca1301-574c-43dd-bb83-f85c71a5f8dc",
   "metadata": {},
   "outputs": [],
   "source": [
    "v = vector.obj(x=1, y=2.2)"
   ]
  },
  {
   "cell_type": "code",
   "execution_count": 28,
   "id": "c1883cf8-231f-4996-840a-65c4f30eced4",
   "metadata": {},
   "outputs": [
    {
     "data": {
      "text/plain": [
       "int"
      ]
     },
     "execution_count": 28,
     "metadata": {},
     "output_type": "execute_result"
    }
   ],
   "source": [
    "type(v.x)"
   ]
  },
  {
   "cell_type": "code",
   "execution_count": 29,
   "id": "18f515ee-1c9d-480f-b4c8-ba3033afcff0",
   "metadata": {},
   "outputs": [
    {
     "data": {
      "text/plain": [
       "float"
      ]
     },
     "execution_count": 29,
     "metadata": {},
     "output_type": "execute_result"
    }
   ],
   "source": [
    "type(v.y)"
   ]
  },
  {
   "cell_type": "code",
   "execution_count": 30,
   "id": "b1a2e4d9-8381-4bc2-9332-52fa475d6c4b",
   "metadata": {},
   "outputs": [],
   "source": [
    "import numpy as np"
   ]
  },
  {
   "cell_type": "code",
   "execution_count": 31,
   "id": "e35f37d0-b6bd-45d0-ad78-7a17629a4e3a",
   "metadata": {},
   "outputs": [],
   "source": [
    "v = vector.obj(x=np.float32(1.1), y=np.float64(2.2))"
   ]
  },
  {
   "cell_type": "code",
   "execution_count": 32,
   "id": "6bd30abb-4566-4551-9fb7-c7bc8643d487",
   "metadata": {},
   "outputs": [
    {
     "data": {
      "text/plain": [
       "numpy.float32"
      ]
     },
     "execution_count": 32,
     "metadata": {},
     "output_type": "execute_result"
    }
   ],
   "source": [
    "type(v.x)"
   ]
  },
  {
   "cell_type": "code",
   "execution_count": 33,
   "id": "e4fabf24-2799-4b0a-9e29-c106986c3330",
   "metadata": {},
   "outputs": [
    {
     "data": {
      "text/plain": [
       "numpy.float64"
      ]
     },
     "execution_count": 33,
     "metadata": {},
     "output_type": "execute_result"
    }
   ],
   "source": [
    "type(v.y)"
   ]
  },
  {
   "cell_type": "markdown",
   "id": "11c3e336-4ced-4704-a1c8-54363687c20f",
   "metadata": {},
   "source": [
    "The same formulas are applied, regardless of the numeric type, so if the numerical error is larger than you expect it to be, check your types (and coordinate systems)."
   ]
  },
  {
   "cell_type": "markdown",
   "id": "0dab118c-e262-45ec-b121-4c0172603b4a",
   "metadata": {},
   "source": [
    "## Application to other backends"
   ]
  },
  {
   "cell_type": "markdown",
   "id": "75959cc7-a64b-48ac-9b48-1244887d7d9a",
   "metadata": {},
   "source": [
    "Everything stated above about vector objects (except their methods of construction) apply equally to all other backends. Arrays of vectors and symbolic vector expressions in SymPy have the same properties and methods as vector objects, they can hide choice of coordinate system as an abstraction, and the set of synonyms can be minimal for geometric vectors and maximal for momentum vectors. Therefore, it can be convenient to use vector objects as a quick way to debug issues in large arrays. However, note that different backends can use different libraries for computations, and results might differ in numerical error.\n",
    "\n",
    "In particular, note that SymPy vector expressions have a different sign convention for operations on space-like and negative time-like 4D vectors. For all other backends, Vector's conventions were chosen to agree with popular HEP libraries, particularly [ROOT](https://root.cern), but for the SymPy backend, those conventions would insert piecewise if-then branches, which would complicate symbolic expressions."
   ]
  }
 ],
 "metadata": {
  "kernelspec": {
   "display_name": "Python 3 (ipykernel)",
   "language": "python",
   "name": "python3"
  },
  "language_info": {
   "codemirror_mode": {
    "name": "ipython",
    "version": 3
   },
   "file_extension": ".py",
   "mimetype": "text/x-python",
   "name": "python",
   "nbconvert_exporter": "python",
   "pygments_lexer": "ipython3",
   "version": "3.11.10"
  }
 },
 "nbformat": 4,
 "nbformat_minor": 5
}
