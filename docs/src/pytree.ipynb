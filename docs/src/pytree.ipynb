{
 "cells": [
  {
   "cell_type": "markdown",
   "id": "3e852d83",
   "metadata": {},
   "source": [
    "# PyTree integrations\n",
    "\n",
    "PyTrees are a [powerful mechanism](https://blog.scientific-python.org/pytrees/) for working with\n",
    "nested data structures, while allowing algorithms like finite-differences, minimization, and integration routines\n",
    "to run on flattened 1D arrays of the the same data. To use PyTrees with vector objects, you need to install\n",
    "the [optree](https://github.com/metaopt/optree) package, and then register vector with PyTrees, for example:"
   ]
  },
  {
   "cell_type": "code",
   "execution_count": 1,
   "id": "6d3ecebc",
   "metadata": {},
   "outputs": [],
   "source": [
    "import vector\n",
    "\n",
    "pytree = vector.register_pytree()\n",
    "\n",
    "state = {\n",
    "    \"position\": vector.obj(x=1, y=2, z=3, t=0),\n",
    "    \"momentum\": vector.obj(x=0, y=10, z=0, t=14),\n",
    "}\n",
    "flat_state, treedef = pytree.flatten(state)"
   ]
  },
  {
   "cell_type": "markdown",
   "id": "92744f6a",
   "metadata": {},
   "source": [
    "`flat_state` is now a 1D array of length 8, and `treedef` contains the information needed to reconstruct the original structure:\n",
    "\n"
   ]
  },
  {
   "cell_type": "code",
   "execution_count": 2,
   "id": "aa4b7219",
   "metadata": {},
   "outputs": [
    {
     "name": "stdout",
     "output_type": "stream",
     "text": [
      "[0, 10, 0, 14, 1, 2, 3, 0]\n",
      "PyTreeSpec({'momentum': CustomTreeNode(VectorObject4D[(<class 'vector.backends.object.VectorObject4D'>, <class 'vector.backends.object.AzimuthalObjectXY'>, <class 'vector.backends.object.LongitudinalObjectZ'>, <class 'vector.backends.object.TemporalObjectT'>)], [(*, *), (*,), (*,)]), 'position': CustomTreeNode(VectorObject4D[(<class 'vector.backends.object.VectorObject4D'>, <class 'vector.backends.object.AzimuthalObjectXY'>, <class 'vector.backends.object.LongitudinalObjectZ'>, <class 'vector.backends.object.TemporalObjectT'>)], [(*, *), (*,), (*,)])}, namespace='vector')\n"
     ]
    }
   ],
   "source": [
    "print(flat_state)\n",
    "print(treedef)"
   ]
  },
  {
   "cell_type": "markdown",
   "id": "7577e134",
   "metadata": {},
   "source": [
    "The original structure can be reconstructed with:"
   ]
  },
  {
   "cell_type": "code",
   "execution_count": 3,
   "id": "419cd827",
   "metadata": {},
   "outputs": [],
   "source": [
    "reconstructed_state = pytree.unflatten(treedef, flat_state)"
   ]
  },
  {
   "cell_type": "markdown",
   "id": "86fa7add",
   "metadata": {},
   "source": [
    "## Example: projectile motion with air resistance\n",
    "\n",
    "In the following example, we use `scipy.integrate.solve_ivp` to solve the equations of motion for a projectile under the influence of gravity and air resistance.\n",
    "\n",
    "To start, we wrap the solver, using PyTrees to flatten the state dictionary into a 1D array for the integrator, and then unflatten the result back into the original structure"
   ]
  },
  {
   "cell_type": "code",
   "execution_count": 4,
   "id": "c53ba724",
   "metadata": {},
   "outputs": [],
   "source": [
    "from scipy.integrate import solve_ivp\n",
    "\n",
    "\n",
    "def wrapped_solve(fun, t_span, y0, t_eval):\n",
    "    flat_y0, treedef = pytree.flatten(y0)\n",
    "\n",
    "    def flat_fun(t, flat_y):\n",
    "        state = pytree.unflatten(treedef, flat_y)\n",
    "        dstate_dt = fun(t, state)\n",
    "        flat_dstate_dt, _ = pytree.flatten(dstate_dt)\n",
    "        return flat_dstate_dt\n",
    "\n",
    "    flat_solution = solve_ivp(\n",
    "        fun=flat_fun,\n",
    "        t_span=t_span,\n",
    "        y0=flat_y0,\n",
    "        t_eval=t_eval,\n",
    "    )\n",
    "    return pytree.unflatten(treedef, flat_solution.y)\n"
   ]
  },
  {
   "cell_type": "markdown",
   "id": "43585fe2",
   "metadata": {},
   "source": [
    "Now, we set up the physical constants and initial conditions for the projectile motion problem, using the [hepunits](https://github.com/scikit-hep/hepunits) library to help us consistently track units throughout the calculation."
   ]
  },
  {
   "cell_type": "code",
   "execution_count": 5,
   "id": "bd5adaf6",
   "metadata": {},
   "outputs": [],
   "source": [
    "import numpy as np\n",
    "import hepunits as u\n",
    "\n",
    "gravitational_acceleration = vector.obj(x=0.0, y=-9.81) * (u.m / u.s**2)\n",
    "air_density = 1.25 * u.kg / u.meter3\n",
    "drag_coefficient = 0.47  # for a sphere\n",
    "object_radius = 10 * u.cm\n",
    "object_area = np.pi * object_radius**2\n",
    "object_mass = 1.0 * u.kg\n",
    "\n",
    "initial_position = vector.obj(\n",
    "    x=0 * u.m,\n",
    "    y=0 * u.m,\n",
    ")\n",
    "initial_momentum = (\n",
    "    vector.obj(\n",
    "        x=1 * u.m / u.s,\n",
    "        y=20 * u.m / u.s,\n",
    "    )\n",
    "    * object_mass\n",
    ")\n"
   ]
  },
  {
   "cell_type": "markdown",
   "id": "2f4ef621",
   "metadata": {},
   "source": [
    "The `force` function computes the total force on the object, including both gravity and air resistance. The `tangent` function then uses this to compute the time derivatives of position and momentum."
   ]
  },
  {
   "cell_type": "code",
   "execution_count": 6,
   "id": "69d7a592",
   "metadata": {},
   "outputs": [],
   "source": [
    "def force(position: vector.Vector2D, momentum: vector.Vector2D):\n",
    "    gravitational_force = object_mass * gravitational_acceleration\n",
    "    speed = momentum.rho / object_mass\n",
    "    drag_magnitude = 0.5 * air_density * speed**2 * drag_coefficient * object_area\n",
    "    drag_force = -drag_magnitude * momentum.unit()\n",
    "    return gravitational_force + drag_force\n",
    "\n",
    "\n",
    "def tangent(t: float, state):\n",
    "    position, momentum = state\n",
    "    dposition_dt = momentum / object_mass\n",
    "    dmomentum_dt = force(position, momentum)\n",
    "    return (dposition_dt, dmomentum_dt)\n"
   ]
  },
  {
   "cell_type": "markdown",
   "id": "6cf2d93d",
   "metadata": {},
   "source": [
    "Finally, we solve the equations of motion using our wrapped `solve_ivp`, and plot the resulting trajectory alongside an analytic solution for projectile motion without air resistance."
   ]
  },
  {
   "cell_type": "code",
   "execution_count": 7,
   "id": "cc43f146",
   "metadata": {},
   "outputs": [],
   "source": [
    "time = np.linspace(0, 4, 100) * u.s\n",
    "\n",
    "position, momentum = wrapped_solve(\n",
    "    fun=tangent,\n",
    "    t_span=(time[0], time[-1]),\n",
    "    y0=(initial_position, initial_momentum),\n",
    "    t_eval=time,\n",
    ")"
   ]
  },
  {
   "cell_type": "code",
   "execution_count": 8,
   "id": "dc7f8595",
   "metadata": {},
   "outputs": [
    {
     "data": {
      "text/plain": [
       "<matplotlib.legend.Legend at 0x120355fd0>"
      ]
     },
     "execution_count": 8,
     "metadata": {},
     "output_type": "execute_result"
    },
    {
     "data": {
      "image/png": "[encoded data removed]",
      "text/plain": [
       "<Figure size 640x480 with 1 Axes>"
      ]
     },
     "metadata": {},
     "output_type": "display_data"
    }
   ],
   "source": [
    "import matplotlib.pyplot as plt\n",
    "\n",
    "fig, ax = plt.subplots()\n",
    "ax.plot(position.x / u.m, position.y / u.m, label=\"with air resistance\")\n",
    "\n",
    "position_no_drag = (\n",
    "    initial_momentum / object_mass * time + 0.5 * gravitational_acceleration * time**2\n",
    ")\n",
    "\n",
    "ax.plot(\n",
    "    position_no_drag.x / u.m,\n",
    "    position_no_drag.y / u.m,\n",
    "    ls=\"--\",\n",
    "    label=\"no air resistance\",\n",
    ")\n",
    "\n",
    "ax.set_xlabel(\"x (m)\")\n",
    "ax.set_ylabel(\"y (m)\")\n",
    "ax.set_title(\"Projectile motion\")\n",
    "ax.legend()\n"
   ]
  },
  {
   "cell_type": "markdown",
   "id": "3b8d2d92",
   "metadata": {},
   "source": []
  }
 ],
 "metadata": {
  "kernelspec": {
   "display_name": ".env",
   "language": "python",
   "name": "python3"
  },
  "language_info": {
   "codemirror_mode": {
    "name": "ipython",
    "version": 3
   },
   "file_extension": ".py",
   "mimetype": "text/x-python",
   "name": "python",
   "nbconvert_exporter": "python",
   "pygments_lexer": "ipython3",
   "version": "3.13.2"
  }
 },
 "nbformat": 4,
 "nbformat_minor": 5
}
