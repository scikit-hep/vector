{
 "cells": [
  {
   "cell_type": "markdown",
   "id": "auburn-verification",
   "metadata": {},
   "source": [
    "# Introduction to Vector\n",
    "\n",
    "Vector is a Python 3.8+ library (Python 3.6 and 3.7 supported till `v0.9.0` and `v1.0.0`, respectively) for 2D, 3D, and [Lorentz vectors](https://en.wikipedia.org/wiki/Special_relativity#Physics_in_spacetime), especially _arrays of vectors_, to solve common physics problems in a NumPy-like way.\n",
    "\n",
    "Main features of Vector:\n",
    "\n",
    "   * Pure Python with NumPy as its only dependency. This makes it easier to install.\n",
    "   * Vectors may be represented in a variety of coordinate systems: Cartesian, cylindrical, spherical, and any combination of these with time or proper time for Lorentz vectors. In all, there are 12 coordinate systems: {$x$-$y$ vs $\\rho$-$\\phi$ in the azimuthal plane} × {$z$ vs $\\theta$ vs $\\eta$ longitudinally} × {$t$ vs $\\tau$ temporally}.\n",
    "   * Uses names and conventions set by [ROOT](https://root.cern/)'s [TLorentzVector](https://root.cern.ch/doc/master/classTLorentzVector.html) and [Math::LorentzVector](https://root.cern.ch/doc/master/classROOT_1_1Math_1_1LorentzVector.html), as well as [scikit-hep/math](https://github.com/scikit-hep/scikit-hep/tree/master/skhep/math), [uproot-methods TLorentzVector](https://github.com/scikit-hep/uproot3-methods/blob/master/uproot3_methods/classes/TLorentzVector.py), [henryiii/hepvector](https://github.com/henryiii/hepvector), and [coffea.nanoevents.methods.vector](https://coffeateam.github.io/coffea/modules/coffea.nanoevents.methods.vector.html).\n",
    "   * Implemented on a variety of backends:\n",
    "      - pure Python objects\n",
    "      - [SymPy](https://www.sympy.org/en/index.html) vectors\n",
    "      - NumPy arrays of vectors (as a [structured array](https://numpy.org/doc/stable/user/basics.rec.html) subclass)\n",
    "      - [Awkward Arrays](https://awkward-array.org/) of vectors\n",
    "      - potential for more: CuPy, TensorFlow, Torch...\n",
    "   * Awkward backend also implemented in [Numba](https://numba.pydata.org/) for JIT-compiled calculations on vectors.\n",
    "   * [JAX](https://awkward-array.org/doc/main/user-guide/how-to-specialize-differentiate-jax.html) and [Dask](https://dask-awkward.readthedocs.io/en/stable/) support through Awkward Arrays.\n",
    "   * Distinction between geometrical vectors, which have a minimum of attribute and method names, and vectors representing momentum, which have synonyms like `pt` = `rho`, `energy` = `t`, `mass` = `tau`.\n",
    "\n",
    "This notebook requires Vector, NumPy, Awkward Array, SymPy, and Numba to run."
   ]
  },
  {
   "cell_type": "code",
   "execution_count": 1,
   "id": "careful-mandate",
   "metadata": {},
   "outputs": [],
   "source": [
    "import numbers\n",
    "\n",
    "import awkward as ak  # at least version 1.2.0rc5\n",
    "import numba as nb\n",
    "import numpy as np\n",
    "import sympy\n",
    "\n",
    "import vector"
   ]
  },
  {
   "cell_type": "markdown",
   "id": "supposed-outreach",
   "metadata": {},
   "source": [
    "## Constructing a vector or an array of vectors\n",
    "\n",
    "The easiest way to create one or many vectors is with a helper function:\n",
    "\n",
    "   * `vector.obj` to make a pure Python vector object,\n",
    "   * `vector.arr` to make a NumPy array of vectors (lowercase, like `np.array`),\n",
    "   * `vector.awk` to make an Awkward Array of vectors (uppercase, like `ak.Array`).\n",
    "   * `vector.zip` to make an Awkward Array of vectors (similar to `ak.zip`)"
   ]
  },
  {
   "cell_type": "markdown",
   "id": "instant-phoenix",
   "metadata": {},
   "source": [
    "### Pure Python vectors\n",
    "\n",
    "You can directly use the `VectorObject` classes to construct object type vectors:"
   ]
  },
  {
   "cell_type": "code",
   "execution_count": 2,
   "id": "c133d634",
   "metadata": {},
   "outputs": [
    {
     "data": {
      "text/plain": [
       "VectorObject2D(x=1.1, y=2.2)"
      ]
     },
     "execution_count": 2,
     "metadata": {},
     "output_type": "execute_result"
    }
   ],
   "source": [
    "vector.VectorObject2D(x=1.1, y=2.2)"
   ]
  },
  {
   "cell_type": "code",
   "execution_count": 3,
   "id": "2e48bfd8",
   "metadata": {},
   "outputs": [
    {
     "data": {
      "text/plain": [
       "MomentumObject3D(px=1.1, py=2.2, pz=3.3)"
      ]
     },
     "execution_count": 3,
     "metadata": {},
     "output_type": "execute_result"
    }
   ],
   "source": [
    "vector.MomentumObject3D(px=1.1, py=2.2, pz=3.3)"
   ]
  },
  {
   "cell_type": "code",
   "execution_count": 4,
   "id": "73748719",
   "metadata": {},
   "outputs": [
    {
     "data": {
      "text/plain": [
       "VectorObject4D(x=1.1, y=2.2, eta=3.3, tau=4.4)"
      ]
     },
     "execution_count": 4,
     "metadata": {},
     "output_type": "execute_result"
    }
   ],
   "source": [
    "vector.VectorObject4D(x=1.1, y=2.2, eta=3.3, tau=4.4)"
   ]
  },
  {
   "cell_type": "markdown",
   "id": "3dbe90b0",
   "metadata": {},
   "source": [
    "and so on for every class.\n",
    "\n",
    "Or, you can use a single wrapper function to construct all possible combinations of\n",
    "object type vectors:"
   ]
  },
  {
   "cell_type": "code",
   "execution_count": 5,
   "id": "divided-control",
   "metadata": {},
   "outputs": [
    {
     "data": {
      "text/plain": [
       "VectorObject2D(x=3, y=4)"
      ]
     },
     "execution_count": 5,
     "metadata": {},
     "output_type": "execute_result"
    }
   ],
   "source": [
    "vector.obj(x=3, y=4)  # Cartesian 2D vector"
   ]
  },
  {
   "cell_type": "code",
   "execution_count": 6,
   "id": "touched-reader",
   "metadata": {},
   "outputs": [
    {
     "data": {
      "text/plain": [
       "VectorObject2D(rho=5, phi=0.9273)"
      ]
     },
     "execution_count": 6,
     "metadata": {},
     "output_type": "execute_result"
    }
   ],
   "source": [
    "vector.obj(rho=5, phi=0.9273)  # same in polar coordinates"
   ]
  },
  {
   "cell_type": "code",
   "execution_count": 7,
   "id": "coordinated-banner",
   "metadata": {},
   "outputs": [
    {
     "data": {
      "text/plain": [
       "True"
      ]
     },
     "execution_count": 7,
     "metadata": {},
     "output_type": "execute_result"
    }
   ],
   "source": [
    "vector.obj(x=3, y=4).isclose(\n",
    "    vector.obj(rho=5, phi=0.9273)\n",
    ")  # use \"isclose\" unless they are exactly equal"
   ]
  },
  {
   "cell_type": "code",
   "execution_count": 8,
   "id": "worse-depression",
   "metadata": {},
   "outputs": [
    {
     "data": {
      "text/plain": [
       "VectorObject3D(x=3, y=4, z=-2)"
      ]
     },
     "execution_count": 8,
     "metadata": {},
     "output_type": "execute_result"
    }
   ],
   "source": [
    "vector.obj(x=3, y=4, z=-2)  # Cartesian 3D vector"
   ]
  },
  {
   "cell_type": "code",
   "execution_count": 9,
   "id": "copyrighted-answer",
   "metadata": {},
   "outputs": [
    {
     "data": {
      "text/plain": [
       "VectorObject4D(x=3, y=4, z=-2, t=10)"
      ]
     },
     "execution_count": 9,
     "metadata": {},
     "output_type": "execute_result"
    }
   ],
   "source": [
    "vector.obj(x=3, y=4, z=-2, t=10)  # Cartesian 4D vector"
   ]
  },
  {
   "cell_type": "code",
   "execution_count": 10,
   "id": "recovered-platinum",
   "metadata": {},
   "outputs": [
    {
     "data": {
      "text/plain": [
       "VectorObject4D(rho=5, phi=0.9273, eta=-0.39, t=10)"
      ]
     },
     "execution_count": 10,
     "metadata": {},
     "output_type": "execute_result"
    }
   ],
   "source": [
    "vector.obj(\n",
    "    rho=5, phi=0.9273, eta=-0.39, t=10\n",
    ")  # in rho-phi-eta-t cylindrical coordinates"
   ]
  },
  {
   "cell_type": "code",
   "execution_count": 11,
   "id": "exempt-palestine",
   "metadata": {},
   "outputs": [
    {
     "data": {
      "text/plain": [
       "MomentumObject4D(pt=5, phi=0.9273, eta=-0.39, E=10)"
      ]
     },
     "execution_count": 11,
     "metadata": {},
     "output_type": "execute_result"
    }
   ],
   "source": [
    "vector.obj(\n",
    "    pt=5, phi=0.9273, eta=-0.39, E=10\n",
    ")  # use momentum-synonyms to get a momentum vector"
   ]
  },
  {
   "cell_type": "code",
   "execution_count": 12,
   "id": "better-responsibility",
   "metadata": {},
   "outputs": [
    {
     "data": {
      "text/plain": [
       "False"
      ]
     },
     "execution_count": 12,
     "metadata": {},
     "output_type": "execute_result"
    }
   ],
   "source": [
    "vector.obj(rho=5, phi=0.9273, eta=-0.39, t=10) == vector.obj(\n",
    "    pt=5, phi=0.9273, eta=-0.390035, E=10\n",
    ")"
   ]
  },
  {
   "cell_type": "code",
   "execution_count": 13,
   "id": "adverse-lighting",
   "metadata": {},
   "outputs": [
    {
     "data": {
      "text/plain": [
       "8.426194916448265"
      ]
     },
     "execution_count": 13,
     "metadata": {},
     "output_type": "execute_result"
    }
   ],
   "source": [
    "vector.obj(\n",
    "    rho=5, phi=0.9273, eta=-0.39, t=10\n",
    ").tau  # geometrical vectors have to use geometrical names (\"tau\", not \"mass\")"
   ]
  },
  {
   "cell_type": "code",
   "execution_count": 14,
   "id": "broadband-budget",
   "metadata": {},
   "outputs": [
    {
     "data": {
      "text/plain": [
       "8.426194916448265"
      ]
     },
     "execution_count": 14,
     "metadata": {},
     "output_type": "execute_result"
    }
   ],
   "source": [
    "vector.obj(\n",
    "    pt=5, phi=0.9273, eta=-0.39, E=10\n",
    ").mass  # momentum vectors can use momentum names (as well as geometrical ones)"
   ]
  },
  {
   "cell_type": "code",
   "execution_count": 15,
   "id": "prompt-archive",
   "metadata": {},
   "outputs": [
    {
     "data": {
      "text/plain": [
       "MomentumObject4D(pt=5, phi=0.9273, theta=1.9513, mass=8.4262)"
      ]
     },
     "execution_count": 15,
     "metadata": {},
     "output_type": "execute_result"
    }
   ],
   "source": [
    "vector.obj(\n",
    "    pt=5, phi=0.9273, theta=1.9513, mass=8.4262\n",
    ")  # any combination of azimuthal, longitudinal, and temporal coordinates is allowed"
   ]
  },
  {
   "cell_type": "code",
   "execution_count": 16,
   "id": "southern-register",
   "metadata": {},
   "outputs": [
    {
     "data": {
      "text/plain": [
       "True"
      ]
     },
     "execution_count": 16,
     "metadata": {},
     "output_type": "execute_result"
    }
   ],
   "source": [
    "vector.obj(x=3, y=4, z=-2, t=10).isclose(\n",
    "    vector.obj(pt=5, phi=0.9273, theta=1.9513, mass=8.4262)\n",
    ")"
   ]
  },
  {
   "cell_type": "code",
   "execution_count": 17,
   "id": "utility-cartridge",
   "metadata": {},
   "outputs": [
    {
     "data": {
      "text/plain": [
       "(True, True, True, True, True, True, True, True, True, True)"
      ]
     },
     "execution_count": 17,
     "metadata": {},
     "output_type": "execute_result"
    }
   ],
   "source": [
    "# Test instance type for any level of granularity.\n",
    "(\n",
    "    isinstance(\n",
    "        vector.obj(x=1.1, y=2.2), vector.Vector\n",
    "    ),  # is a vector or array of vectors\n",
    "    isinstance(vector.obj(x=1.1, y=2.2), vector.Vector2D),  # is 2D (not 3D or 4D)\n",
    "    isinstance(\n",
    "        vector.obj(x=1.1, y=2.2), vector.VectorObject\n",
    "    ),  # is a vector object (not an array)\n",
    "    isinstance(vector.obj(px=1.1, py=2.2), vector.Momentum),  # has momentum synonyms\n",
    "    isinstance(\n",
    "        vector.obj(x=1.1, y=2.2, z=3.3, t=4.4), vector.Planar\n",
    "    ),  # has transverse plane (2D, 3D, or 4D)\n",
    "    isinstance(\n",
    "        vector.obj(x=1.1, y=2.2, z=3.3, t=4.4), vector.Spatial\n",
    "    ),  # has all spatial coordinates (3D or 4D)\n",
    "    isinstance(\n",
    "        vector.obj(x=1.1, y=2.2, z=3.3, t=4.4), vector.Lorentz\n",
    "    ),  # has temporal coordinates (4D)\n",
    "    isinstance(\n",
    "        vector.obj(x=1.1, y=2.2, z=3.3, t=4.4).azimuthal, vector.AzimuthalXY\n",
    "    ),  # azimuthal coordinate type\n",
    "    isinstance(\n",
    "        vector.obj(x=1.1, y=2.2, z=3.3, t=4.4).longitudinal, vector.LongitudinalZ\n",
    "    ),  # longitudinal coordinate type\n",
    "    isinstance(\n",
    "        vector.obj(x=1.1, y=2.2, z=3.3, t=4.4).temporal, vector.TemporalT\n",
    "    ),  # temporal coordinate type\n",
    ")"
   ]
  },
  {
   "cell_type": "markdown",
   "id": "mature-facial",
   "metadata": {},
   "source": [
    "The allowed keyword arguments for 2D vectors are:\n",
    "\n",
    "   * `x` and `y` for Cartesian azimuthal coordinates,\n",
    "   * `px` and `py` for momentum,\n",
    "   * `rho` and `phi` for polar azimuthal coordinates,\n",
    "   * `pt` and `phi` for momentum.\n",
    "\n",
    "For 3D vectors, you need the above and:\n",
    "\n",
    "   * `z` for the Cartesian longitudinal coordinate,\n",
    "   * `pz` for momentum,\n",
    "   * `theta` for the spherical polar angle (from $0$ to $\\pi$, inclusive),\n",
    "   * `eta` for pseudorapidity, which is a kind of spherical polar angle.\n",
    "\n",
    "For 4D vectors, you need the above and:\n",
    "\n",
    "   * `t` for the Cartesian temporal coordinate,\n",
    "   * `E` or `energy` to get four-momentum,\n",
    "   * `tau` for the \"proper time\" (temporal coordinate in the vector's rest coordinate system),\n",
    "   * `M` or `mass` to get four-momentum.\n",
    "\n",
    "Since momentum vectors have momentum-synonyms _in addition_ to the geometrical names, any momentum-synonym will make the whole vector a momentum vector."
   ]
  },
  {
   "cell_type": "markdown",
   "id": "handmade-tract",
   "metadata": {},
   "source": [
    "If you want to bypass the dimension and coordinate system inference through keyword arguments (e.g. for static typing), you can use specialized constructors:"
   ]
  },
  {
   "cell_type": "code",
   "execution_count": 18,
   "id": "center-beauty",
   "metadata": {},
   "outputs": [
    {
     "data": {
      "text/plain": [
       "VectorObject2D(x=1.1, y=2.2)"
      ]
     },
     "execution_count": 18,
     "metadata": {},
     "output_type": "execute_result"
    }
   ],
   "source": [
    "vector.VectorObject2D.from_xy(1.1, 2.2)"
   ]
  },
  {
   "cell_type": "code",
   "execution_count": 19,
   "id": "indoor-playing",
   "metadata": {},
   "outputs": [
    {
     "data": {
      "text/plain": [
       "MomentumObject3D(pt=1.1, phi=2.2, pz=3.3)"
      ]
     },
     "execution_count": 19,
     "metadata": {},
     "output_type": "execute_result"
    }
   ],
   "source": [
    "vector.MomentumObject3D.from_rhophiz(1.1, 2.2, 3.3)"
   ]
  },
  {
   "cell_type": "code",
   "execution_count": 20,
   "id": "documented-lyric",
   "metadata": {},
   "outputs": [
    {
     "data": {
      "text/plain": [
       "VectorObject4D(x=1.1, y=2.2, eta=3.3, tau=4.4)"
      ]
     },
     "execution_count": 20,
     "metadata": {},
     "output_type": "execute_result"
    }
   ],
   "source": [
    "vector.VectorObject4D.from_xyetatau(1.1, 2.2, 3.3, 4.4)"
   ]
  },
  {
   "cell_type": "markdown",
   "id": "improved-coach",
   "metadata": {},
   "source": [
    "and so on, for all combinations of azimuthal, longitudinal, and temporal coordinates, geometric and momentum-flavored."
   ]
  },
  {
   "cell_type": "markdown",
   "id": "54ede1c4-249e-4218-8563-4f29e2748213",
   "metadata": {},
   "source": [
    "### SymPy vectors\n",
    "\n",
    "> **Note:** Operations on SymPy vectors are only 100% compatible with numeric vectors (Python, NumPy, and Awkward backends) if the vectors are positive time-like, that is, if `t**2 > x**2 + y**2 + z**2`. The space-like and negative time-like cases have different sign conventions.\n",
    "\n",
    "You can directly use the `VectorSympy` and `MomentumSympy` classes to construct object type vectors:"
   ]
  },
  {
   "cell_type": "code",
   "execution_count": 21,
   "id": "2e184679-4fd9-4a5b-9705-1f060977e970",
   "metadata": {},
   "outputs": [],
   "source": [
    "x, y, z, t, px, py, pz, eta, tau = sympy.symbols(\n",
    "    \"x y z t px py pz eta tau\",\n",
    "    real=True,  # see sympy assumptions to add more restrictions on the symbols\n",
    ")"
   ]
  },
  {
   "cell_type": "code",
   "execution_count": 22,
   "id": "e4e385f0-6b9a-4395-974f-ddcdff7416af",
   "metadata": {},
   "outputs": [
    {
     "data": {
      "text/plain": [
       "VectorSympy2D(x=x, y=y)"
      ]
     },
     "execution_count": 22,
     "metadata": {},
     "output_type": "execute_result"
    }
   ],
   "source": [
    "vector.VectorSympy2D(x=x, y=y)"
   ]
  },
  {
   "cell_type": "code",
   "execution_count": 23,
   "id": "a84770fa-8a8e-4e96-a95d-f4109f9ef876",
   "metadata": {},
   "outputs": [
    {
     "data": {
      "text/plain": [
       "MomentumSympy3D(px=px, py=py, pz=pz)"
      ]
     },
     "execution_count": 23,
     "metadata": {},
     "output_type": "execute_result"
    }
   ],
   "source": [
    "vector.MomentumSympy3D(px=px, py=py, pz=pz)"
   ]
  },
  {
   "cell_type": "code",
   "execution_count": 24,
   "id": "a7c741e0-ae25-46a5-8a53-8a713a7b837f",
   "metadata": {},
   "outputs": [
    {
     "data": {
      "text/plain": [
       "VectorSympy4D(x=x, y=y, eta=eta, tau=tau)"
      ]
     },
     "execution_count": 24,
     "metadata": {},
     "output_type": "execute_result"
    }
   ],
   "source": [
    "vector.VectorSympy4D(x=x, y=y, eta=eta, tau=tau)"
   ]
  },
  {
   "cell_type": "markdown",
   "id": "fad8d0f2-04e4-47a2-978e-a146192bead2",
   "metadata": {},
   "source": [
    "and so on for every class."
   ]
  },
  {
   "cell_type": "code",
   "execution_count": 25,
   "id": "bbb22de8-32ca-44f5-9e55-d03a49f5e2fe",
   "metadata": {},
   "outputs": [
    {
     "data": {
      "text/plain": [
       "(True, True, True, True, True, True, True, True, True, True)"
      ]
     },
     "execution_count": 25,
     "metadata": {},
     "output_type": "execute_result"
    }
   ],
   "source": [
    "# Test instance type for any level of granularity.\n",
    "(\n",
    "    # is a vector or array of vectors\n",
    "    isinstance(vector.VectorSympy2D(x=x, y=y), vector.Vector),\n",
    "    # is 2D (not 3D or 4D)\n",
    "    isinstance(vector.VectorSympy2D(x=x, y=y), vector.Vector2D),\n",
    "    # is a sympy vector (not an array)\n",
    "    isinstance(vector.VectorSympy2D(x=x, y=y), vector.VectorSympy),\n",
    "    # has momentum synonyms\n",
    "    isinstance(vector.MomentumSympy2D(px=px, py=py), vector.Momentum),\n",
    "    # has transverse plane (2D, 3D, or 4D)\n",
    "    isinstance(vector.VectorSympy4D(x=x, y=y, z=z, t=t), vector.Planar),\n",
    "    # has all spatial coordinates (3D or 4D)\n",
    "    isinstance(vector.VectorSympy4D(x=x, y=y, z=z, t=t), vector.Spatial),\n",
    "    # has temporal coordinates (4D)\n",
    "    isinstance(vector.VectorSympy4D(x=x, y=y, z=z, t=t), vector.Lorentz),\n",
    "    # azimuthal coordinate type\n",
    "    isinstance(vector.VectorSympy4D(x=x, y=y, z=z, t=t).azimuthal, vector.AzimuthalXY),\n",
    "    # longitudinal coordinate type\n",
    "    isinstance(\n",
    "        vector.VectorSympy4D(x=x, y=y, z=z, t=t).longitudinal, vector.LongitudinalZ\n",
    "    ),\n",
    "    # temporal coordinate type\n",
    "    isinstance(vector.VectorSympy4D(x=x, y=y, z=z, t=t).temporal, vector.TemporalT),\n",
    ")"
   ]
  },
  {
   "cell_type": "markdown",
   "id": "e7887274-a456-473e-a848-88a38ea594aa",
   "metadata": {},
   "source": [
    "Since `VectorSympy2D`, `VectorSympy3D`, `VectorSympy4D`, and their momentum equivalents operate on SymPy expressions, all of the normal SymPy methods and functions work on the results, coordinates, and the vectors."
   ]
  },
  {
   "cell_type": "code",
   "execution_count": 26,
   "id": "d1dfc115-ceee-4b47-a25d-5e57242aae23",
   "metadata": {},
   "outputs": [
    {
     "name": "stdout",
     "output_type": "stream",
     "text": [
      "IPython console for SymPy 1.12 (Python 3.11.5-64-bit) (ground types: python)\n",
      "\n",
      "These commands were executed:\n",
      ">>> from sympy import *\n",
      ">>> x, y, z, t = symbols('x y z t')\n",
      ">>> k, m, n = symbols('k m n', integer=True)\n",
      ">>> f, g, h = symbols('f g h', cls=Function)\n",
      ">>> init_printing()\n",
      "\n",
      "Documentation can be found at https://docs.sympy.org/1.12/\n",
      "\n"
     ]
    }
   ],
   "source": [
    "sympy.init_session()  # latex printing"
   ]
  },
  {
   "cell_type": "code",
   "execution_count": 27,
   "id": "25b81776-1240-4e86-8b16-c3590470e502",
   "metadata": {},
   "outputs": [
    {
     "data": {
      "image/png": "[encoded data removed]",
      "text/latex": [
       "$\\displaystyle \\text{True}$"
      ],
      "text/plain": [
       "True"
      ]
     },
     "execution_count": 27,
     "metadata": {},
     "output_type": "execute_result"
    }
   ],
   "source": [
    "v1 = vector.VectorSympy2D(x=x, y=y)\n",
    "sympy.Eq(v1.rho, sympy.sqrt(x**2 + y**2))"
   ]
  },
  {
   "cell_type": "code",
   "execution_count": 28,
   "id": "405f6458-cc8c-4c15-ae82-264d133ca627",
   "metadata": {},
   "outputs": [],
   "source": [
    "v2 = vector.VectorSympy4D(x=x, y=y, z=z, t=t)"
   ]
  },
  {
   "cell_type": "code",
   "execution_count": 29,
   "id": "9e7a68d7-33b6-4654-b0f0-4dda87f0ce58",
   "metadata": {},
   "outputs": [
    {
     "data": {
      "image/png": "[encoded data removed]",
      "text/latex": [
       "$\\displaystyle \\sqrt{\\left|{- t^{2} + x^{2} + y^{2} + z^{2}}\\right|}$"
      ],
      "text/plain": [
       "   _______________________\n",
       "  ╱ │   2    2    2    2│ \n",
       "╲╱  │- t  + x  + y  + z │ "
      ]
     },
     "execution_count": 29,
     "metadata": {},
     "output_type": "execute_result"
    }
   ],
   "source": [
    "v2.to_rhophithetatau().tau"
   ]
  },
  {
   "cell_type": "code",
   "execution_count": 30,
   "id": "56ca9dc1-f8f7-4774-b80b-5fc8f2e1be88",
   "metadata": {},
   "outputs": [],
   "source": [
    "values = {x: 3, y: 2, z: 1, t: 10}  # t**2 > x**2 + y**2 + z**2"
   ]
  },
  {
   "cell_type": "code",
   "execution_count": 31,
   "id": "e98893fa-511e-4380-8d1a-90aecf6a50c2",
   "metadata": {},
   "outputs": [
    {
     "data": {
      "image/png": "[encoded data removed]",
      "text/latex": [
       "$\\displaystyle t^{2} - x^{2} - y^{2} - z^{2} > 0$"
      ],
      "text/plain": [
       " 2    2    2    2    \n",
       "t  - x  - y  - z  > 0"
      ]
     },
     "execution_count": 31,
     "metadata": {},
     "output_type": "execute_result"
    }
   ],
   "source": [
    "v2.is_timelike()"
   ]
  },
  {
   "cell_type": "code",
   "execution_count": 32,
   "id": "da5af338-4554-4531-8db8-1f67be5be2b6",
   "metadata": {},
   "outputs": [
    {
     "data": {
      "image/png": "[encoded data removed]",
      "text/latex": [
       "$\\displaystyle \\text{True}$"
      ],
      "text/plain": [
       "True"
      ]
     },
     "execution_count": 32,
     "metadata": {},
     "output_type": "execute_result"
    }
   ],
   "source": [
    "v2.is_timelike().subs(values)"
   ]
  },
  {
   "cell_type": "code",
   "execution_count": 33,
   "id": "0be2000d-4386-4ee0-8b78-1207045cc4c2",
   "metadata": {},
   "outputs": [
    {
     "data": {
      "image/png": "[encoded data removed]",
      "text/latex": [
       "$\\displaystyle 9.2736184954957$"
      ],
      "text/plain": [
       "9.27361849549570"
      ]
     },
     "execution_count": 33,
     "metadata": {},
     "output_type": "execute_result"
    }
   ],
   "source": [
    "v2.to_rhophithetatau().tau.subs(values).evalf()"
   ]
  },
  {
   "cell_type": "code",
   "execution_count": 34,
   "id": "d764bbca-2a30-4249-9caa-52642cb47e5d",
   "metadata": {},
   "outputs": [
    {
     "data": {
      "text/plain": [
       "VectorSympy4D(x=x*(1 + x**2/(t**2*(1 + 1/sqrt(1 - x**2/t**2 - y**2/t**2 - z**2/t**2))*(1 - x**2/t**2 - y**2/t**2 - z**2/t**2))) + x/sqrt(1 - x**2/t**2 - y**2/t**2 - z**2/t**2) + x*y**2/(t**2*(1 + 1/sqrt(1 - x**2/t**2 - y**2/t**2 - z**2/t**2))*(1 - x**2/t**2 - y**2/t**2 - z**2/t**2)) + x*z**2/(t**2*(1 + 1/sqrt(1 - x**2/t**2 - y**2/t**2 - z**2/t**2))*(1 - x**2/t**2 - y**2/t**2 - z**2/t**2)), y=y*(1 + y**2/(t**2*(1 + 1/sqrt(1 - x**2/t**2 - y**2/t**2 - z**2/t**2))*(1 - x**2/t**2 - y**2/t**2 - z**2/t**2))) + y/sqrt(1 - x**2/t**2 - y**2/t**2 - z**2/t**2) + x**2*y/(t**2*(1 + 1/sqrt(1 - x**2/t**2 - y**2/t**2 - z**2/t**2))*(1 - x**2/t**2 - y**2/t**2 - z**2/t**2)) + y*z**2/(t**2*(1 + 1/sqrt(1 - x**2/t**2 - y**2/t**2 - z**2/t**2))*(1 - x**2/t**2 - y**2/t**2 - z**2/t**2)), z=z*(1 + z**2/(t**2*(1 + 1/sqrt(1 - x**2/t**2 - y**2/t**2 - z**2/t**2))*(1 - x**2/t**2 - y**2/t**2 - z**2/t**2))) + z/sqrt(1 - x**2/t**2 - y**2/t**2 - z**2/t**2) + x**2*z/(t**2*(1 + 1/sqrt(1 - x**2/t**2 - y**2/t**2 - z**2/t**2))*(1 - x**2/t**2 - y**2/t**2 - z**2/t**2)) + y**2*z/(t**2*(1 + 1/sqrt(1 - x**2/t**2 - y**2/t**2 - z**2/t**2))*(1 - x**2/t**2 - y**2/t**2 - z**2/t**2)), t=t/sqrt(1 - x**2/t**2 - y**2/t**2 - z**2/t**2) + x**2/(t*sqrt(1 - x**2/t**2 - y**2/t**2 - z**2/t**2)) + y**2/(t*sqrt(1 - x**2/t**2 - y**2/t**2 - z**2/t**2)) + z**2/(t*sqrt(1 - x**2/t**2 - y**2/t**2 - z**2/t**2)))"
      ]
     },
     "execution_count": 34,
     "metadata": {},
     "output_type": "execute_result"
    }
   ],
   "source": [
    "v2.boost(v2.to_beta3())"
   ]
  },
  {
   "cell_type": "code",
   "execution_count": 35,
   "id": "11f06041-3f8d-418f-a4c2-c3378d0b930f",
   "metadata": {},
   "outputs": [
    {
     "data": {
      "image/png": "[encoded data removed]",
      "text/latex": [
       "$\\displaystyle \\frac{t}{\\sqrt{1 - \\frac{x^{2}}{t^{2}} - \\frac{y^{2}}{t^{2}} - \\frac{z^{2}}{t^{2}}}} + \\frac{x^{2}}{t \\sqrt{1 - \\frac{x^{2}}{t^{2}} - \\frac{y^{2}}{t^{2}} - \\frac{z^{2}}{t^{2}}}} + \\frac{y^{2}}{t \\sqrt{1 - \\frac{x^{2}}{t^{2}} - \\frac{y^{2}}{t^{2}} - \\frac{z^{2}}{t^{2}}}} + \\frac{z^{2}}{t \\sqrt{1 - \\frac{x^{2}}{t^{2}} - \\frac{y^{2}}{t^{2}} - \\frac{z^{2}}{t^{2}}}}$"
      ],
      "text/plain": [
       "                                        2                            2                            2            \n",
       "           t                           x                            y                            z             \n",
       "──────────────────────── + ────────────────────────── + ────────────────────────── + ──────────────────────────\n",
       "      __________________           __________________           __________________           __________________\n",
       "     ╱      2    2    2           ╱      2    2    2           ╱      2    2    2           ╱      2    2    2 \n",
       "    ╱      x    y    z           ╱      x    y    z           ╱      x    y    z           ╱      x    y    z  \n",
       "   ╱   1 - ── - ── - ──    t⋅   ╱   1 - ── - ── - ──    t⋅   ╱   1 - ── - ── - ──    t⋅   ╱   1 - ── - ── - ── \n",
       "  ╱         2    2    2        ╱         2    2    2        ╱         2    2    2        ╱         2    2    2 \n",
       "╲╱         t    t    t       ╲╱         t    t    t       ╲╱         t    t    t       ╲╱         t    t    t  "
      ]
     },
     "execution_count": 35,
     "metadata": {},
     "output_type": "execute_result"
    }
   ],
   "source": [
    "v2.boost(v2.to_beta3()).t"
   ]
  },
  {
   "cell_type": "code",
   "execution_count": 36,
   "id": "bf3b60b5-59a2-4cc7-ac40-ef759c062932",
   "metadata": {},
   "outputs": [
    {
     "data": {
      "image/png": "[encoded data removed]",
      "text/latex": [
       "$\\displaystyle \\frac{t \\sqrt{\\frac{t^{2} - x^{2} - y^{2} - z^{2}}{t^{2}}} \\left(t^{2} + x^{2} + y^{2} + z^{2}\\right)}{t^{2} - x^{2} - y^{2} - z^{2}}$"
      ],
      "text/plain": [
       "        ___________________                    \n",
       "       ╱  2    2    2    2                     \n",
       "      ╱  t  - x  - y  - z   ⎛ 2    2    2    2⎞\n",
       "t⋅   ╱   ───────────────── ⋅⎝t  + x  + y  + z ⎠\n",
       "    ╱             2                            \n",
       "  ╲╱             t                             \n",
       "───────────────────────────────────────────────\n",
       "                2    2    2    2               \n",
       "               t  - x  - y  - z                "
      ]
     },
     "execution_count": 36,
     "metadata": {},
     "output_type": "execute_result"
    }
   ],
   "source": [
    "v2.boost(v2.to_beta3()).t.simplify()"
   ]
  },
  {
   "cell_type": "code",
   "execution_count": 37,
   "id": "4cd7282c-f97d-45a0-bb03-acf5756cb383",
   "metadata": {},
   "outputs": [
    {
     "data": {
      "image/png": "[encoded data removed]",
      "text/latex": [
       "$\\displaystyle \\frac{57 \\sqrt{86}}{43}$"
      ],
      "text/plain": [
       "57⋅√86\n",
       "──────\n",
       "  43  "
      ]
     },
     "execution_count": 37,
     "metadata": {},
     "output_type": "execute_result"
    }
   ],
   "source": [
    "v2.boost(v2.to_beta3()).t.subs(values)"
   ]
  },
  {
   "cell_type": "code",
   "execution_count": 38,
   "id": "a52b57a0-516f-4a14-b0dc-590c8d3b1017",
   "metadata": {},
   "outputs": [
    {
     "data": {
      "image/png": "[encoded data removed]",
      "text/latex": [
       "$\\displaystyle 12.292936145192$"
      ],
      "text/plain": [
       "12.2929361451920"
      ]
     },
     "execution_count": 38,
     "metadata": {},
     "output_type": "execute_result"
    }
   ],
   "source": [
    "v2.boost(v2.to_beta3()).t.subs(values).evalf()"
   ]
  },
  {
   "cell_type": "markdown",
   "id": "0e7b9e31-5e43-4bf7-9de5-b8d3e95fd6d5",
   "metadata": {},
   "source": [
    "All of the keyword arguments and rules that apply to `vector.obj` construction apply to `vector.VectorSympyND` and `vector.MomentumObjectND` objects."
   ]
  },
  {
   "cell_type": "markdown",
   "id": "sustained-object",
   "metadata": {},
   "source": [
    "### NumPy arrays of vectors\n",
    "\n",
    "You can directly use the `VectorNumpy` classes to construct object type vectors:"
   ]
  },
  {
   "cell_type": "code",
   "execution_count": 39,
   "id": "c88d6a0c",
   "metadata": {},
   "outputs": [
    {
     "data": {
      "text/plain": [
       "VectorNumpy2D([(1.1, 2.1), (1.2, 2.2), (1.3, 2.3), (1.4, 2.4), (1.5, 2.5)],\n",
       "              dtype=[('x', '<f8'), ('y', '<f8')])"
      ]
     },
     "execution_count": 39,
     "metadata": {},
     "output_type": "execute_result"
    }
   ],
   "source": [
    "# NumPy-like arguments (literally passed through to NumPy)\n",
    "vector.VectorNumpy2D(\n",
    "    [(1.1, 2.1), (1.2, 2.2), (1.3, 2.3), (1.4, 2.4), (1.5, 2.5)],\n",
    "    dtype=[(\"x\", float), (\"y\", float)],\n",
    ")"
   ]
  },
  {
   "cell_type": "code",
   "execution_count": 40,
   "id": "63ce54aa",
   "metadata": {},
   "outputs": [
    {
     "data": {
      "text/plain": [
       "VectorNumpy2D([(1.1, 2.1), (1.2, 2.2), (1.3, 2.3), (1.4, 2.4), (1.5, 2.5)],\n",
       "              dtype=[('x', '<f8'), ('y', '<f8')])"
      ]
     },
     "execution_count": 40,
     "metadata": {},
     "output_type": "execute_result"
    }
   ],
   "source": [
    "# Pandas-like arguments (dict from names to column arrays)\n",
    "vector.VectorNumpy2D({\"x\": [1.1, 1.2, 1.3, 1.4, 1.5], \"y\": [2.1, 2.2, 2.3, 2.4, 2.5]})"
   ]
  },
  {
   "cell_type": "code",
   "execution_count": 41,
   "id": "443654ec",
   "metadata": {},
   "outputs": [
    {
     "data": {
      "text/plain": [
       "VectorNumpy4D([(1.1, 2.1, 3.1, 4.1), (1.2, 2.2, 3.2, 4.2), (1.3, 2.3, 3.3, 4.3),\n",
       "               (1.4, 2.4, 3.4, 4.4), (1.5, 2.5, 3.5, 4.5)],\n",
       "              dtype=[('x', '<f8'), ('y', '<f8'), ('z', '<f8'), ('t', '<f8')])"
      ]
     },
     "execution_count": 41,
     "metadata": {},
     "output_type": "execute_result"
    }
   ],
   "source": [
    "# As with objects, the coordinate system and dimension is taken from the names of the fields.\n",
    "vector.VectorNumpy4D(\n",
    "    {\n",
    "        \"x\": [1.1, 1.2, 1.3, 1.4, 1.5],\n",
    "        \"y\": [2.1, 2.2, 2.3, 2.4, 2.5],\n",
    "        \"z\": [3.1, 3.2, 3.3, 3.4, 3.5],\n",
    "        \"t\": [4.1, 4.2, 4.3, 4.4, 4.5],\n",
    "    }\n",
    ")"
   ]
  },
  {
   "cell_type": "markdown",
   "id": "0c54ccf5",
   "metadata": {},
   "source": [
    "and so on for every class.\n",
    "\n",
    "Or, you can use a single wrapper function to construct all possible combinations of\n",
    "NumPy type vectors:"
   ]
  },
  {
   "cell_type": "code",
   "execution_count": 42,
   "id": "utility-graphic",
   "metadata": {},
   "outputs": [
    {
     "data": {
      "text/plain": [
       "VectorNumpy2D([(1.1, 2.1), (1.2, 2.2), (1.3, 2.3), (1.4, 2.4), (1.5, 2.5)],\n",
       "              dtype=[('x', '<f8'), ('y', '<f8')])"
      ]
     },
     "execution_count": 42,
     "metadata": {},
     "output_type": "execute_result"
    }
   ],
   "source": [
    "# NumPy-like arguments (literally passed through to NumPy)\n",
    "vector.array(\n",
    "    [(1.1, 2.1), (1.2, 2.2), (1.3, 2.3), (1.4, 2.4), (1.5, 2.5)],\n",
    "    dtype=[(\"x\", float), (\"y\", float)],\n",
    ")"
   ]
  },
  {
   "cell_type": "code",
   "execution_count": 43,
   "id": "adaptive-situation",
   "metadata": {},
   "outputs": [
    {
     "data": {
      "text/plain": [
       "VectorNumpy2D([(1.1, 2.1), (1.2, 2.2), (1.3, 2.3), (1.4, 2.4), (1.5, 2.5)],\n",
       "              dtype=[('x', '<f8'), ('y', '<f8')])"
      ]
     },
     "execution_count": 43,
     "metadata": {},
     "output_type": "execute_result"
    }
   ],
   "source": [
    "# Pandas-like arguments (dict from names to column arrays)\n",
    "vector.array({\"x\": [1.1, 1.2, 1.3, 1.4, 1.5], \"y\": [2.1, 2.2, 2.3, 2.4, 2.5]})"
   ]
  },
  {
   "cell_type": "code",
   "execution_count": 44,
   "id": "extra-contents",
   "metadata": {},
   "outputs": [
    {
     "data": {
      "text/plain": [
       "VectorNumpy4D([(1.1, 2.1, 3.1, 4.1), (1.2, 2.2, 3.2, 4.2), (1.3, 2.3, 3.3, 4.3),\n",
       "               (1.4, 2.4, 3.4, 4.4), (1.5, 2.5, 3.5, 4.5)],\n",
       "              dtype=[('x', '<f8'), ('y', '<f8'), ('z', '<f8'), ('t', '<f8')])"
      ]
     },
     "execution_count": 44,
     "metadata": {},
     "output_type": "execute_result"
    }
   ],
   "source": [
    "# As with objects, the coordinate system and dimension is taken from the names of the fields.\n",
    "vector.array(\n",
    "    {\n",
    "        \"x\": [1.1, 1.2, 1.3, 1.4, 1.5],\n",
    "        \"y\": [2.1, 2.2, 2.3, 2.4, 2.5],\n",
    "        \"z\": [3.1, 3.2, 3.3, 3.4, 3.5],\n",
    "        \"t\": [4.1, 4.2, 4.3, 4.4, 4.5],\n",
    "    }\n",
    ")"
   ]
  },
  {
   "cell_type": "code",
   "execution_count": 45,
   "id": "bottom-payroll",
   "metadata": {},
   "outputs": [
    {
     "data": {
      "text/plain": [
       "MomentumNumpy4D([(1.1, 2.1, 3.1, 4.1), (1.2, 2.2, 3.2, 4.2), (1.3, 2.3, 3.3, 4.3),\n",
       "                 (1.4, 2.4, 3.4, 4.4), (1.5, 2.5, 3.5, 4.5)],\n",
       "                dtype=[('rho', '<f8'), ('phi', '<f8'), ('eta', '<f8'), ('tau', '<f8')])"
      ]
     },
     "execution_count": 45,
     "metadata": {},
     "output_type": "execute_result"
    }
   ],
   "source": [
    "vector.array(\n",
    "    {\n",
    "        \"pt\": [1.1, 1.2, 1.3, 1.4, 1.5],\n",
    "        \"phi\": [2.1, 2.2, 2.3, 2.4, 2.5],\n",
    "        \"eta\": [3.1, 3.2, 3.3, 3.4, 3.5],\n",
    "        \"M\": [4.1, 4.2, 4.3, 4.4, 4.5],\n",
    "    }\n",
    ")"
   ]
  },
  {
   "cell_type": "markdown",
   "id": "stunning-examination",
   "metadata": {},
   "source": [
    "Existing NumPy arrays can be viewed as arrays of vectors, but it needs to be a [structured array](https://numpy.org/doc/stable/user/basics.rec.html) with recognized field names."
   ]
  },
  {
   "cell_type": "code",
   "execution_count": 46,
   "id": "unlimited-battery",
   "metadata": {},
   "outputs": [
    {
     "data": {
      "text/plain": [
       "VectorNumpy4D([( 0. ,  0.1,  0.2,  0.3), ( 0.4,  0.5,  0.6,  0.7),\n",
       "               ( 0.8,  0.9,  1. ,  1.1), ( 1.2,  1.3,  1.4,  1.5),\n",
       "               ( 1.6,  1.7,  1.8,  1.9), ( 2. ,  2.1,  2.2,  2.3),\n",
       "               ( 2.4,  2.5,  2.6,  2.7), ( 2.8,  2.9,  3. ,  3.1),\n",
       "               ( 3.2,  3.3,  3.4,  3.5), ( 3.6,  3.7,  3.8,  3.9),\n",
       "               ( 4. ,  4.1,  4.2,  4.3), ( 4.4,  4.5,  4.6,  4.7),\n",
       "               ( 4.8,  4.9,  5. ,  5.1), ( 5.2,  5.3,  5.4,  5.5),\n",
       "               ( 5.6,  5.7,  5.8,  5.9), ( 6. ,  6.1,  6.2,  6.3),\n",
       "               ( 6.4,  6.5,  6.6,  6.7), ( 6.8,  6.9,  7. ,  7.1),\n",
       "               ( 7.2,  7.3,  7.4,  7.5), ( 7.6,  7.7,  7.8,  7.9),\n",
       "               ( 8. ,  8.1,  8.2,  8.3), ( 8.4,  8.5,  8.6,  8.7),\n",
       "               ( 8.8,  8.9,  9. ,  9.1), ( 9.2,  9.3,  9.4,  9.5),\n",
       "               ( 9.6,  9.7,  9.8,  9.9), (10. , 10.1, 10.2, 10.3),\n",
       "               (10.4, 10.5, 10.6, 10.7), (10.8, 10.9, 11. , 11.1),\n",
       "               (11.2, 11.3, 11.4, 11.5), (11.6, 11.7, 11.8, 11.9),\n",
       "               (12. , 12.1, 12.2, 12.3), (12.4, 12.5, 12.6, 12.7),\n",
       "               (12.8, 12.9, 13. , 13.1), (13.2, 13.3, 13.4, 13.5),\n",
       "               (13.6, 13.7, 13.8, 13.9), (14. , 14.1, 14.2, 14.3),\n",
       "               (14.4, 14.5, 14.6, 14.7), (14.8, 14.9, 15. , 15.1),\n",
       "               (15.2, 15.3, 15.4, 15.5), (15.6, 15.7, 15.8, 15.9),\n",
       "               (16. , 16.1, 16.2, 16.3), (16.4, 16.5, 16.6, 16.7),\n",
       "               (16.8, 16.9, 17. , 17.1), (17.2, 17.3, 17.4, 17.5),\n",
       "               (17.6, 17.7, 17.8, 17.9), (18. , 18.1, 18.2, 18.3),\n",
       "               (18.4, 18.5, 18.6, 18.7), (18.8, 18.9, 19. , 19.1),\n",
       "               (19.2, 19.3, 19.4, 19.5), (19.6, 19.7, 19.8, 19.9),\n",
       "               (20. , 20.1, 20.2, 20.3), (20.4, 20.5, 20.6, 20.7),\n",
       "               (20.8, 20.9, 21. , 21.1), (21.2, 21.3, 21.4, 21.5),\n",
       "               (21.6, 21.7, 21.8, 21.9), (22. , 22.1, 22.2, 22.3),\n",
       "               (22.4, 22.5, 22.6, 22.7), (22.8, 22.9, 23. , 23.1),\n",
       "               (23.2, 23.3, 23.4, 23.5), (23.6, 23.7, 23.8, 23.9)],\n",
       "              dtype=[('x', '<f8'), ('y', '<f8'), ('z', '<f8'), ('t', '<f8')])"
      ]
     },
     "execution_count": 46,
     "metadata": {},
     "output_type": "execute_result"
    }
   ],
   "source": [
    "# NumPy array         # interpret groups of four values as named fields              # give it vector properties and methods\n",
    "np.arange(0, 24, 0.1).view(\n",
    "    [(\"x\", float), (\"y\", float), (\"z\", float), (\"t\", float)]\n",
    ").view(vector.VectorNumpy4D)"
   ]
  },
  {
   "cell_type": "markdown",
   "id": "duplicate-thompson",
   "metadata": {},
   "source": [
    "Since `VectorNumpy2D`, `VectorNumpy3D`, `VectorNumpy4D`, and their momentum equivalents are NumPy array subclasses, all of the normal NumPy methods and functions work on them."
   ]
  },
  {
   "cell_type": "code",
   "execution_count": 47,
   "id": "amazing-watch",
   "metadata": {},
   "outputs": [
    {
     "data": {
      "text/plain": [
       "VectorNumpy4D([[[( 0. ,  0.1,  0.2,  0.3), ( 0.4,  0.5,  0.6,  0.7)],\n",
       "                [( 0.8,  0.9,  1. ,  1.1), ( 1.2,  1.3,  1.4,  1.5)],\n",
       "                [( 1.6,  1.7,  1.8,  1.9), ( 2. ,  2.1,  2.2,  2.3)],\n",
       "                [( 2.4,  2.5,  2.6,  2.7), ( 2.8,  2.9,  3. ,  3.1)],\n",
       "                [( 3.2,  3.3,  3.4,  3.5), ( 3.6,  3.7,  3.8,  3.9)]],\n",
       "\n",
       "               [[( 4. ,  4.1,  4.2,  4.3), ( 4.4,  4.5,  4.6,  4.7)],\n",
       "                [( 4.8,  4.9,  5. ,  5.1), ( 5.2,  5.3,  5.4,  5.5)],\n",
       "                [( 5.6,  5.7,  5.8,  5.9), ( 6. ,  6.1,  6.2,  6.3)],\n",
       "                [( 6.4,  6.5,  6.6,  6.7), ( 6.8,  6.9,  7. ,  7.1)],\n",
       "                [( 7.2,  7.3,  7.4,  7.5), ( 7.6,  7.7,  7.8,  7.9)]],\n",
       "\n",
       "               [[( 8. ,  8.1,  8.2,  8.3), ( 8.4,  8.5,  8.6,  8.7)],\n",
       "                [( 8.8,  8.9,  9. ,  9.1), ( 9.2,  9.3,  9.4,  9.5)],\n",
       "                [( 9.6,  9.7,  9.8,  9.9), (10. , 10.1, 10.2, 10.3)],\n",
       "                [(10.4, 10.5, 10.6, 10.7), (10.8, 10.9, 11. , 11.1)],\n",
       "                [(11.2, 11.3, 11.4, 11.5), (11.6, 11.7, 11.8, 11.9)]],\n",
       "\n",
       "               [[(12. , 12.1, 12.2, 12.3), (12.4, 12.5, 12.6, 12.7)],\n",
       "                [(12.8, 12.9, 13. , 13.1), (13.2, 13.3, 13.4, 13.5)],\n",
       "                [(13.6, 13.7, 13.8, 13.9), (14. , 14.1, 14.2, 14.3)],\n",
       "                [(14.4, 14.5, 14.6, 14.7), (14.8, 14.9, 15. , 15.1)],\n",
       "                [(15.2, 15.3, 15.4, 15.5), (15.6, 15.7, 15.8, 15.9)]],\n",
       "\n",
       "               [[(16. , 16.1, 16.2, 16.3), (16.4, 16.5, 16.6, 16.7)],\n",
       "                [(16.8, 16.9, 17. , 17.1), (17.2, 17.3, 17.4, 17.5)],\n",
       "                [(17.6, 17.7, 17.8, 17.9), (18. , 18.1, 18.2, 18.3)],\n",
       "                [(18.4, 18.5, 18.6, 18.7), (18.8, 18.9, 19. , 19.1)],\n",
       "                [(19.2, 19.3, 19.4, 19.5), (19.6, 19.7, 19.8, 19.9)]],\n",
       "\n",
       "               [[(20. , 20.1, 20.2, 20.3), (20.4, 20.5, 20.6, 20.7)],\n",
       "                [(20.8, 20.9, 21. , 21.1), (21.2, 21.3, 21.4, 21.5)],\n",
       "                [(21.6, 21.7, 21.8, 21.9), (22. , 22.1, 22.2, 22.3)],\n",
       "                [(22.4, 22.5, 22.6, 22.7), (22.8, 22.9, 23. , 23.1)],\n",
       "                [(23.2, 23.3, 23.4, 23.5), (23.6, 23.7, 23.8, 23.9)]]],\n",
       "              dtype=[('x', '<f8'), ('y', '<f8'), ('z', '<f8'), ('t', '<f8')])"
      ]
     },
     "execution_count": 47,
     "metadata": {},
     "output_type": "execute_result"
    }
   ],
   "source": [
    "np.arange(0, 24, 0.1).view(\n",
    "    [(\"x\", float), (\"y\", float), (\"z\", float), (\"t\", float)]\n",
    ").view(vector.VectorNumpy4D).reshape(6, 5, 2)"
   ]
  },
  {
   "cell_type": "markdown",
   "id": "identical-opposition",
   "metadata": {},
   "source": [
    "All of the keyword arguments and rules that apply to `vector.obj` construction apply to `vector.array` dtypes.\n",
    "\n",
    "Geometrical names are used in the dtype, even if momentum-synonyms are used in construction."
   ]
  },
  {
   "cell_type": "code",
   "execution_count": 48,
   "id": "heard-reservoir",
   "metadata": {},
   "outputs": [
    {
     "data": {
      "text/plain": [
       "MomentumNumpy3D([(1., 1.1, 0.1), (2., 2.2, 0.2), (3., 3.3, 0.3), (4., 4.4, 0.4)],\n",
       "                dtype=[('x', '<f8'), ('y', '<f8'), ('z', '<f8')])"
      ]
     },
     "execution_count": 48,
     "metadata": {},
     "output_type": "execute_result"
    }
   ],
   "source": [
    "vector.array(\n",
    "    {\"px\": [1, 2, 3, 4], \"py\": [1.1, 2.2, 3.3, 4.4], \"pz\": [0.1, 0.2, 0.3, 0.4]}\n",
    ")"
   ]
  },
  {
   "cell_type": "markdown",
   "id": "resident-casting",
   "metadata": {},
   "source": [
    "### Awkward Arrays of vectors\n",
    "\n",
    "[Awkward Arrays](https://awkward-array.org/) are arrays with more complex data structures than NumPy allows, such as variable-length lists, nested records, missing and even heterogeneous data (multiple data types: use sparingly).\n",
    "\n",
    "The `vector.Array` function behaves exactly like the [ak.Array](https://awkward-array.readthedocs.io/en/latest/_auto/ak.Array.html) constructor, except that it makes arrays of vectors."
   ]
  },
  {
   "cell_type": "code",
   "execution_count": 49,
   "id": "tracked-biography",
   "metadata": {},
   "outputs": [
    {
     "data": {
      "text/html": [
       "<pre>[[{x: 1, y: 1.1, z: 0.1}, {x: 2, y: 2.2, z: 0.2}],\n",
       " [],\n",
       " [{x: 3, y: 3.3, z: 0.3}],\n",
       " [{x: 4, y: 4.4, z: 0.4}, {x: 5, y: 5.5, ...}, {x: 6, y: 6.6, z: 0.6}]]\n",
       "-----------------------------------------------------------------------\n",
       "type: 4 * var * Vector3D[\n",
       "    x: int64,\n",
       "    y: float64,\n",
       "    z: float64\n",
       "]</pre>"
      ],
      "text/plain": [
       "<VectorArray3D [[{x: 1, y: 1.1, ...}, {...}], ...] type='4 * var * Vector3D...'>"
      ]
     },
     "execution_count": 49,
     "metadata": {},
     "output_type": "execute_result"
    }
   ],
   "source": [
    "vector.Array(\n",
    "    [\n",
    "        [{\"x\": 1, \"y\": 1.1, \"z\": 0.1}, {\"x\": 2, \"y\": 2.2, \"z\": 0.2}],\n",
    "        [],\n",
    "        [{\"x\": 3, \"y\": 3.3, \"z\": 0.3}],\n",
    "        [\n",
    "            {\"x\": 4, \"y\": 4.4, \"z\": 0.4},\n",
    "            {\"x\": 5, \"y\": 5.5, \"z\": 0.5},\n",
    "            {\"x\": 6, \"y\": 6.6, \"z\": 0.6},\n",
    "        ],\n",
    "    ]\n",
    ")"
   ]
  },
  {
   "cell_type": "markdown",
   "id": "hybrid-powell",
   "metadata": {},
   "source": [
    "If you want _any_ records named \"`Vector2D`\", \"`Vector3D`\", \"`Vector4D`\", \"`Momentum2D`\", \"`Momentum3D`\", or \"`Momentum4D`\" to be interpreted as vectors, register the behaviors globally."
   ]
  },
  {
   "cell_type": "code",
   "execution_count": 50,
   "id": "becoming-demand",
   "metadata": {},
   "outputs": [],
   "source": [
    "vector.register_awkward()"
   ]
  },
  {
   "cell_type": "code",
   "execution_count": 51,
   "id": "bored-ribbon",
   "metadata": {},
   "outputs": [
    {
     "data": {
      "text/html": [
       "<pre>[[{x: 1, y: 1.1, z: 0.1}, {x: 2, y: 2.2, z: 0.2}],\n",
       " [],\n",
       " [{x: 3, y: 3.3, z: 0.3}],\n",
       " [{x: 4, y: 4.4, z: 0.4}, {x: 5, y: 5.5, ...}, {x: 6, y: 6.6, z: 0.6}]]\n",
       "-----------------------------------------------------------------------\n",
       "type: 4 * var * Vector3D[\n",
       "    x: int64,\n",
       "    y: float64,\n",
       "    z: float64\n",
       "]</pre>"
      ],
      "text/plain": [
       "<VectorArray3D [[{x: 1, y: 1.1, ...}, {...}], ...] type='4 * var * Vector3D...'>"
      ]
     },
     "execution_count": 51,
     "metadata": {},
     "output_type": "execute_result"
    }
   ],
   "source": [
    "ak.Array(\n",
    "    [\n",
    "        [{\"x\": 1, \"y\": 1.1, \"z\": 0.1}, {\"x\": 2, \"y\": 2.2, \"z\": 0.2}],\n",
    "        [],\n",
    "        [{\"x\": 3, \"y\": 3.3, \"z\": 0.3}],\n",
    "        [\n",
    "            {\"x\": 4, \"y\": 4.4, \"z\": 0.4},\n",
    "            {\"x\": 5, \"y\": 5.5, \"z\": 0.5},\n",
    "            {\"x\": 6, \"y\": 6.6, \"z\": 0.6},\n",
    "        ],\n",
    "    ],\n",
    "    with_name=\"Vector3D\",\n",
    ")"
   ]
  },
  {
   "cell_type": "markdown",
   "id": "beginning-expert",
   "metadata": {},
   "source": [
    "All of the keyword arguments and rules that apply to `vector.obj` construction apply to `vector.Array` field names.\n",
    "\n",
    "Finally, the `VectorAwkward` mixins can be subclassed to create custom vector classes. The awkward behavior classes and projections must be named as `*Array`. For example, `coffea` uses the following names - `TwoVectorArray`, `ThreeVectorArray`, `PolarTwoVectorArray`, `SphericalThreeVectorArray`, ..."
   ]
  },
  {
   "cell_type": "markdown",
   "id": "documentary-skill",
   "metadata": {},
   "source": [
    "## Vector properties\n",
    "\n",
    "Any geometrical coordinate can be computed from vectors in any coordinate system; they'll be provided or computed as needed."
   ]
  },
  {
   "cell_type": "code",
   "execution_count": 52,
   "id": "colored-directory",
   "metadata": {},
   "outputs": [
    {
     "data": {
      "image/png": "[encoded data removed]",
      "text/latex": [
       "$\\displaystyle 5.0$"
      ],
      "text/plain": [
       "5.0"
      ]
     },
     "execution_count": 52,
     "metadata": {},
     "output_type": "execute_result"
    }
   ],
   "source": [
    "vector.obj(x=3, y=4).rho"
   ]
  },
  {
   "cell_type": "code",
   "execution_count": 53,
   "id": "passive-benchmark",
   "metadata": {},
   "outputs": [
    {
     "data": {
      "image/png": "[encoded data removed]",
      "text/latex": [
       "$\\displaystyle 2.99998087197215$"
      ],
      "text/plain": [
       "2.9999808719721477"
      ]
     },
     "execution_count": 53,
     "metadata": {},
     "output_type": "execute_result"
    }
   ],
   "source": [
    "vector.obj(rho=5, phi=0.9273).x"
   ]
  },
  {
   "cell_type": "code",
   "execution_count": 54,
   "id": "indoor-opportunity",
   "metadata": {},
   "outputs": [
    {
     "data": {
      "image/png": "[encoded data removed]",
      "text/latex": [
       "$\\displaystyle 4.00001434594943$"
      ],
      "text/plain": [
       "4.000014345949428"
      ]
     },
     "execution_count": 54,
     "metadata": {},
     "output_type": "execute_result"
    }
   ],
   "source": [
    "vector.obj(rho=5, phi=0.9273).y"
   ]
  },
  {
   "cell_type": "code",
   "execution_count": 55,
   "id": "mature-clone",
   "metadata": {},
   "outputs": [
    {
     "data": {
      "image/png": "[encoded data removed]",
      "text/latex": [
       "$\\displaystyle 0.640522312679424$"
      ],
      "text/plain": [
       "0.6405223126794245"
      ]
     },
     "execution_count": 55,
     "metadata": {},
     "output_type": "execute_result"
    }
   ],
   "source": [
    "vector.obj(x=1, y=2, z=3).theta"
   ]
  },
  {
   "cell_type": "code",
   "execution_count": 56,
   "id": "peripheral-script",
   "metadata": {},
   "outputs": [
    {
     "data": {
      "image/png": "[encoded data removed]",
      "text/latex": [
       "$\\displaystyle 1.10358684156015$"
      ],
      "text/plain": [
       "1.103586841560145"
      ]
     },
     "execution_count": 56,
     "metadata": {},
     "output_type": "execute_result"
    }
   ],
   "source": [
    "vector.obj(x=1, y=2, z=3).eta"
   ]
  },
  {
   "cell_type": "markdown",
   "id": "caroline-capability",
   "metadata": {},
   "source": [
    "Some properties are not coordinates, but derived from them."
   ]
  },
  {
   "cell_type": "code",
   "execution_count": 57,
   "id": "stretch-knife",
   "metadata": {},
   "outputs": [
    {
     "data": {
      "image/png": "[encoded data removed]",
      "text/latex": [
       "$\\displaystyle 0.801783725737273$"
      ],
      "text/plain": [
       "0.8017837257372732"
      ]
     },
     "execution_count": 57,
     "metadata": {},
     "output_type": "execute_result"
    }
   ],
   "source": [
    "vector.obj(x=1, y=2, z=3).costheta"
   ]
  },
  {
   "cell_type": "code",
   "execution_count": 58,
   "id": "bearing-protein",
   "metadata": {},
   "outputs": [
    {
     "data": {
      "image/png": "[encoded data removed]",
      "text/latex": [
       "$\\displaystyle 3.74165738677394$"
      ],
      "text/plain": [
       "3.7416573867739413"
      ]
     },
     "execution_count": 58,
     "metadata": {},
     "output_type": "execute_result"
    }
   ],
   "source": [
    "vector.obj(x=1, y=2, z=3).mag  # spatial magnitude"
   ]
  },
  {
   "cell_type": "code",
   "execution_count": 59,
   "id": "green-crack",
   "metadata": {},
   "outputs": [
    {
     "data": {
      "image/png": "[encoded data removed]",
      "text/latex": [
       "$\\displaystyle 14$"
      ],
      "text/plain": [
       "14"
      ]
     },
     "execution_count": 59,
     "metadata": {},
     "output_type": "execute_result"
    }
   ],
   "source": [
    "vector.obj(x=1, y=2, z=3).mag2  # spatial magnitude squared"
   ]
  },
  {
   "cell_type": "markdown",
   "id": "adjustable-serum",
   "metadata": {},
   "source": [
    "These properties are provided because they can be computed faster or with more numerical stability in different coordinate systems. For instance, the magnitude ignores `phi` in polar coordinates."
   ]
  },
  {
   "cell_type": "code",
   "execution_count": 60,
   "id": "amber-disco",
   "metadata": {},
   "outputs": [
    {
     "data": {
      "image/png": "[encoded data removed]",
      "text/latex": [
       "$\\displaystyle 25$"
      ],
      "text/plain": [
       "25"
      ]
     },
     "execution_count": 60,
     "metadata": {},
     "output_type": "execute_result"
    }
   ],
   "source": [
    "vector.obj(rho=3, phi=0.123456789, z=4).mag2"
   ]
  },
  {
   "cell_type": "markdown",
   "id": "interpreted-intensity",
   "metadata": {},
   "source": [
    "Momentum vectors have geometrical properties as well as their momentum-synonyms."
   ]
  },
  {
   "cell_type": "code",
   "execution_count": 61,
   "id": "latest-thunder",
   "metadata": {},
   "outputs": [
    {
     "data": {
      "image/png": "[encoded data removed]",
      "text/latex": [
       "$\\displaystyle 5.0$"
      ],
      "text/plain": [
       "5.0"
      ]
     },
     "execution_count": 61,
     "metadata": {},
     "output_type": "execute_result"
    }
   ],
   "source": [
    "vector.obj(px=3, py=4).rho"
   ]
  },
  {
   "cell_type": "code",
   "execution_count": 62,
   "id": "included-fireplace",
   "metadata": {},
   "outputs": [
    {
     "data": {
      "image/png": "[encoded data removed]",
      "text/latex": [
       "$\\displaystyle 5.0$"
      ],
      "text/plain": [
       "5.0"
      ]
     },
     "execution_count": 62,
     "metadata": {},
     "output_type": "execute_result"
    }
   ],
   "source": [
    "vector.obj(px=3, py=4).pt"
   ]
  },
  {
   "cell_type": "code",
   "execution_count": 63,
   "id": "analyzed-andrews",
   "metadata": {},
   "outputs": [
    {
     "data": {
      "image/png": "[encoded data removed]",
      "text/latex": [
       "$\\displaystyle 1.4142135623731$"
      ],
      "text/plain": [
       "1.4142135623730951"
      ]
     },
     "execution_count": 63,
     "metadata": {},
     "output_type": "execute_result"
    }
   ],
   "source": [
    "vector.obj(x=1, y=2, z=3, E=4).tau"
   ]
  },
  {
   "cell_type": "code",
   "execution_count": 64,
   "id": "declared-yeast",
   "metadata": {},
   "outputs": [
    {
     "data": {
      "image/png": "[encoded data removed]",
      "text/latex": [
       "$\\displaystyle 1.4142135623731$"
      ],
      "text/plain": [
       "1.4142135623730951"
      ]
     },
     "execution_count": 64,
     "metadata": {},
     "output_type": "execute_result"
    }
   ],
   "source": [
    "vector.obj(x=1, y=2, z=3, E=4).mass"
   ]
  },
  {
   "cell_type": "markdown",
   "id": "alpine-investor",
   "metadata": {},
   "source": [
    "Here's the key thing: _arrays of vectors return arrays of coordinates_."
   ]
  },
  {
   "cell_type": "code",
   "execution_count": 65,
   "id": "attempted-country",
   "metadata": {},
   "outputs": [
    {
     "data": {
      "text/plain": [
       "array([1.50363023, 1.50363023, 1.50363023, 1.50363023, 1.50363023])"
      ]
     },
     "execution_count": 65,
     "metadata": {},
     "output_type": "execute_result"
    }
   ],
   "source": [
    "vector.array(\n",
    "    {\n",
    "        \"x\": [1.0, 2.0, 3.0, 4.0, 5.0],\n",
    "        \"y\": [1.1, 2.2, 3.3, 4.4, 5.5],\n",
    "        \"z\": [0.1, 0.2, 0.3, 0.4, 0.5],\n",
    "    }\n",
    ").theta"
   ]
  },
  {
   "cell_type": "code",
   "execution_count": 66,
   "id": "consecutive-attempt",
   "metadata": {},
   "outputs": [
    {
     "data": {
      "text/html": [
       "<pre>[[1.5, 1.5],\n",
       " [],\n",
       " [1.5],\n",
       " [1.5, 1.5]]\n",
       "-----------------------\n",
       "type: 4 * var * float64</pre>"
      ],
      "text/plain": [
       "<Array [[1.5, 1.5], [], [1.5], [1.5, 1.5]] type='4 * var * float64'>"
      ]
     },
     "execution_count": 66,
     "metadata": {},
     "output_type": "execute_result"
    }
   ],
   "source": [
    "vector.Array(\n",
    "    [\n",
    "        [{\"x\": 1, \"y\": 1.1, \"z\": 0.1}, {\"x\": 2, \"y\": 2.2, \"z\": 0.2}],\n",
    "        [],\n",
    "        [{\"x\": 3, \"y\": 3.3, \"z\": 0.3}],\n",
    "        [{\"x\": 4, \"y\": 4.4, \"z\": 0.4}, {\"x\": 5, \"y\": 5.5, \"z\": 0.5}],\n",
    "    ]\n",
    ").theta"
   ]
  },
  {
   "cell_type": "code",
   "execution_count": 67,
   "id": "latin-channels",
   "metadata": {},
   "outputs": [
    {
     "data": {
      "text/plain": [
       "MomentumNumpy3D([[[(-0.57563366, -1.47699474, -0.47994495),\n",
       "                   ( 0.89352352, -0.54653254, -1.19265982)],\n",
       "                  [( 0.65238098, -1.16036404, -0.77114054),\n",
       "                   ( 0.98179895,  0.83873052,  0.20782947)],\n",
       "                  [( 0.28760738,  1.94304859,  1.41478171),\n",
       "                   ( 0.49411618, -1.04273322, -0.71518308)],\n",
       "                  [(-1.36682398, -0.94597456, -0.73709658),\n",
       "                   ( 2.03310802, -0.30766412,  1.98470129)],\n",
       "                  [( 1.49521531, -0.87638969, -0.23913866),\n",
       "                   (-0.46980167,  0.62148637,  1.99592602)]],\n",
       "\n",
       "                 [[(-1.05207609, -1.44829405, -1.10489952),\n",
       "                   ( 0.8946932 , -1.00756739, -0.16826565)],\n",
       "                  [(-0.02981107, -0.42955782, -0.14474439),\n",
       "                   (-0.20049079, -2.35649518, -0.05785158)],\n",
       "                  [(-2.16564064, -0.08356786,  1.13762491),\n",
       "                   (-0.66967829, -1.38382422,  0.09770476)],\n",
       "                  [( 1.37105958,  0.133506  ,  1.01661919),\n",
       "                   (-0.33576833,  0.2765389 , -0.44101496)],\n",
       "                  [( 0.28632014,  2.21312791,  0.01082426),\n",
       "                   ( 0.43130588,  0.33686237, -0.78208239)]],\n",
       "\n",
       "                 [[( 2.5167644 , -0.9666802 , -0.589714  ),\n",
       "                   ( 0.00670535,  0.61154179, -0.5801598 )],\n",
       "                  [( 0.85916569, -1.20686795, -1.09087556),\n",
       "                   (-0.84848278,  0.74349409, -2.25708373)],\n",
       "                  [(-1.06212568,  2.06836331, -0.81753563),\n",
       "                   ( 0.93006167, -0.6716967 , -0.22985325)],\n",
       "                  [(-0.46597827, -1.53912246,  1.2223433 ),\n",
       "                   (-0.27870187,  0.63837853,  1.46091153)],\n",
       "                  [(-0.15849965,  1.28535392,  0.35814527),\n",
       "                   (-0.96411035, -0.48557259, -0.46646355)]],\n",
       "\n",
       "                 [[(-1.55428144, -1.50118239, -0.23267312),\n",
       "                   (-0.95503501,  0.45042773,  1.12925202)],\n",
       "                  [(-0.2755001 , -0.36794289, -0.10719488),\n",
       "                   ( 1.22160482, -0.64129903, -1.50724479)],\n",
       "                  [(-1.79014056, -0.19384452, -1.51068608),\n",
       "                   (-0.59254713, -2.89712863, -1.16307961)],\n",
       "                  [( 1.58128305, -0.4399382 , -1.71098032),\n",
       "                   ( 0.0637261 ,  0.0733358 ,  1.93891281)],\n",
       "                  [( 0.85877879, -0.40087665,  0.93195061),\n",
       "                   ( 1.54372595,  1.45510561,  0.32922019)]],\n",
       "\n",
       "                 [[( 0.33832385,  0.56659414, -0.08377594),\n",
       "                   ( 1.56367367, -0.48733358,  1.22979576)],\n",
       "                  [( 0.35008414, -0.65620365,  0.71939126),\n",
       "                   ( 0.41979301,  0.02219164,  1.11754321)],\n",
       "                  [(-0.31562956,  0.75488482,  1.19409198),\n",
       "                   (-0.09000928, -0.71370357, -0.71353752)],\n",
       "                  [(-0.63108594, -0.71423969,  0.46006698),\n",
       "                   (-0.50036183, -0.11251065,  0.16754473)],\n",
       "                  [( 1.01445154, -0.4988761 , -0.02549549),\n",
       "                   (-1.10230045, -0.23411548, -0.43315263)]]],\n",
       "                dtype=[('x', '<f8'), ('y', '<f8'), ('z', '<f8')])"
      ]
     },
     "execution_count": 67,
     "metadata": {},
     "output_type": "execute_result"
    }
   ],
   "source": [
    "# Make a large, random NumPy array of 3D momentum vectors.\n",
    "array = (\n",
    "    np.random.normal(0, 1, 150)\n",
    "    .view([(x, float) for x in (\"x\", \"y\", \"z\")])\n",
    "    .view(vector.MomentumNumpy3D)\n",
    "    .reshape(5, 5, 2)\n",
    ")\n",
    "array"
   ]
  },
  {
   "cell_type": "code",
   "execution_count": 68,
   "id": "coral-consultation",
   "metadata": {},
   "outputs": [
    {
     "data": {
      "text/plain": [
       "array([[[1.58520269, 1.04741687],\n",
       "        [1.33118205, 1.29127769],\n",
       "        [1.96421889, 1.15388187],\n",
       "        [1.66225018, 2.0562552 ],\n",
       "        [1.73312657, 0.77907568]],\n",
       "\n",
       "       [[1.79008931, 1.34746724],\n",
       "        [0.43059101, 2.36500869],\n",
       "        [2.1672524 , 1.53734787],\n",
       "        [1.37754427, 0.43498751],\n",
       "        [2.23157218, 0.54726686]],\n",
       "\n",
       "       [[2.69602923, 0.61157855],\n",
       "        [1.48145061, 1.12814294],\n",
       "        [2.32513177, 1.14725375],\n",
       "        [1.60811495, 0.69656434],\n",
       "        [1.2950895 , 1.07948576]],\n",
       "\n",
       "       [[2.16086542, 1.05592472],\n",
       "        [0.45965451, 1.37970388],\n",
       "        [1.80060516, 2.95710439],\n",
       "        [1.64134144, 0.09715532],\n",
       "        [0.94773578, 2.12141984]],\n",
       "\n",
       "       [[0.65991813, 1.63785511],\n",
       "        [0.7437487 , 0.42037916],\n",
       "        [0.81821336, 0.71935698],\n",
       "        [0.95310429, 0.51285535],\n",
       "        [1.13048188, 1.1268879 ]]])"
      ]
     },
     "execution_count": 68,
     "metadata": {},
     "output_type": "execute_result"
    }
   ],
   "source": [
    "# Get the transverse momentum of each one.\n",
    "array.pt"
   ]
  },
  {
   "cell_type": "code",
   "execution_count": 69,
   "id": "ignored-seating",
   "metadata": {},
   "outputs": [
    {
     "data": {
      "image/png": "[encoded data removed]",
      "text/latex": [
       "$\\displaystyle \\left( 5, \\  5, \\  2\\right)$"
      ],
      "text/plain": [
       "(5, 5, 2)"
      ]
     },
     "execution_count": 69,
     "metadata": {},
     "output_type": "execute_result"
    }
   ],
   "source": [
    "# The array and its components have the same shape.\n",
    "array.shape"
   ]
  },
  {
   "cell_type": "code",
   "execution_count": 70,
   "id": "reduced-nutrition",
   "metadata": {},
   "outputs": [
    {
     "data": {
      "image/png": "[encoded data removed]",
      "text/latex": [
       "$\\displaystyle \\left( 5, \\  5, \\  2\\right)$"
      ],
      "text/plain": [
       "(5, 5, 2)"
      ]
     },
     "execution_count": 70,
     "metadata": {},
     "output_type": "execute_result"
    }
   ],
   "source": [
    "array.pt.shape"
   ]
  },
  {
   "cell_type": "code",
   "execution_count": 71,
   "id": "colored-talent",
   "metadata": {},
   "outputs": [
    {
     "data": {
      "text/html": [
       "<pre>[[{x: -0.969, y: 0.833, z: -0.453}, ..., {x: 0.697, y: -1.54, z: 0.0639}],\n",
       " [{x: 0.545, y: 1.39, z: 0.0666}, {x: 0.165, y: 0.887, z: 1.15}],\n",
       " [{x: -0.233, y: -0.107, z: 0.298}],\n",
       " [{x: 0.83, y: -1.1, z: -0.703}],\n",
       " [{x: 0.559, y: 0.26, z: -0.0842}],\n",
       " [{x: 1.03, y: -1.42, z: -0.671}, {x: -0.697, y: 1.04, z: -1.14}],\n",
       " [{x: 1.71, y: 0.305, z: 2.26}, {x: -1.07, y: 0.411, z: -0.627}],\n",
       " [{x: -0.816, y: 0.229, z: 0.0102}],\n",
       " [{x: 0.239, y: 0.425, z: -1.58}, {...}, {x: 0.998, y: -1.11, z: -1.12}],\n",
       " [{x: -0.592, y: -0.829, z: 1.32}, {x: -0.535, y: 1.83, z: 0.709}],\n",
       " ...,\n",
       " [],\n",
       " [{x: -1.61, y: 2.06, z: -0.878}],\n",
       " [{x: 0.626, y: 0.814, z: 0.775}],\n",
       " [{x: 0.53, y: -1.5, z: -0.0198}],\n",
       " [{x: -1.27, y: -0.196, z: 0.651}, {...}, {x: 1.87, y: 0.0655, z: -1.39}],\n",
       " [{x: -0.336, y: -0.503, z: 1.27}, {x: -0.951, y: 0.363, z: 1.13}],\n",
       " [],\n",
       " [],\n",
       " [{x: -1.1, y: -0.0365, z: 0.033}, {...}, {x: -0.9, y: 1.06, z: -0.0743}]]\n",
       "--------------------------------------------------------------------------\n",
       "type: 50 * var * Momentum3D[\n",
       "    x: float64,\n",
       "    y: float64,\n",
       "    z: float64\n",
       "]</pre>"
      ],
      "text/plain": [
       "<MomentumArray3D [[{x: -0.969, y: 0.833, ...}, ...], ...] type='50 * var * ...'>"
      ]
     },
     "execution_count": 71,
     "metadata": {},
     "output_type": "execute_result"
    }
   ],
   "source": [
    "# Make a large, random Awkward Array of 3D momentum vectors.\n",
    "array = vector.Array(\n",
    "    [\n",
    "        [\n",
    "            {x: np.random.normal(0, 1) for x in (\"px\", \"py\", \"pz\")}\n",
    "            for inner in range(np.random.poisson(1.5))\n",
    "        ]\n",
    "        for outer in range(50)\n",
    "    ]\n",
    ")\n",
    "array"
   ]
  },
  {
   "cell_type": "code",
   "execution_count": 72,
   "id": "conditional-modeling",
   "metadata": {},
   "outputs": [
    {
     "data": {
      "text/html": [
       "<pre>[[1.28, 0.791, 1.69],\n",
       " [1.49, 0.902],\n",
       " [0.256],\n",
       " [1.38],\n",
       " [0.617],\n",
       " [1.76, 1.25],\n",
       " [1.73, 1.15],\n",
       " [0.847],\n",
       " [0.488, 0.737, 1.49],\n",
       " [1.02, 1.91],\n",
       " ...,\n",
       " [],\n",
       " [2.61],\n",
       " [1.03],\n",
       " [1.59],\n",
       " [1.28, 0.39, 1.87],\n",
       " [0.605, 1.02],\n",
       " [],\n",
       " [],\n",
       " [1.1, 0.83, 1.39]]\n",
       "------------------------\n",
       "type: 50 * var * float64</pre>"
      ],
      "text/plain": [
       "<Array [[1.28, 0.791, 1.69], ..., [1.1, ..., 1.39]] type='50 * var * float64'>"
      ]
     },
     "execution_count": 72,
     "metadata": {},
     "output_type": "execute_result"
    }
   ],
   "source": [
    "# Get the transverse momentum of each one, in the same nested structure.\n",
    "array.pt"
   ]
  },
  {
   "cell_type": "code",
   "execution_count": 73,
   "id": "general-october",
   "metadata": {},
   "outputs": [
    {
     "data": {
      "text/html": [
       "<pre>[3,\n",
       " 2,\n",
       " 1,\n",
       " 1,\n",
       " 1,\n",
       " 2,\n",
       " 2,\n",
       " 1,\n",
       " 3,\n",
       " 2,\n",
       " ...,\n",
       " 0,\n",
       " 1,\n",
       " 1,\n",
       " 1,\n",
       " 3,\n",
       " 2,\n",
       " 0,\n",
       " 0,\n",
       " 3]\n",
       "----------------\n",
       "type: 50 * int64</pre>"
      ],
      "text/plain": [
       "<Array [3, 2, 1, 1, 1, 2, 2, 1, ..., 1, 1, 1, 3, 2, 0, 0, 3] type='50 * int64'>"
      ]
     },
     "execution_count": 73,
     "metadata": {},
     "output_type": "execute_result"
    }
   ],
   "source": [
    "# The array and its components have the same list lengths (and can therefore be used together in subsequent calculations).\n",
    "ak.num(array)"
   ]
  },
  {
   "cell_type": "code",
   "execution_count": 74,
   "id": "ongoing-rally",
   "metadata": {},
   "outputs": [
    {
     "data": {
      "text/html": [
       "<pre>[3,\n",
       " 2,\n",
       " 1,\n",
       " 1,\n",
       " 1,\n",
       " 2,\n",
       " 2,\n",
       " 1,\n",
       " 3,\n",
       " 2,\n",
       " ...,\n",
       " 0,\n",
       " 1,\n",
       " 1,\n",
       " 1,\n",
       " 3,\n",
       " 2,\n",
       " 0,\n",
       " 0,\n",
       " 3]\n",
       "----------------\n",
       "type: 50 * int64</pre>"
      ],
      "text/plain": [
       "<Array [3, 2, 1, 1, 1, 2, 2, 1, ..., 1, 1, 1, 3, 2, 0, 0, 3] type='50 * int64'>"
      ]
     },
     "execution_count": 74,
     "metadata": {},
     "output_type": "execute_result"
    }
   ],
   "source": [
    "ak.num(array.pt)"
   ]
  },
  {
   "cell_type": "markdown",
   "id": "brown-blood",
   "metadata": {},
   "source": [
    "## Vector methods\n",
    "\n",
    "Vector methods require arguments (in parentheses), which may be scalars or other vectors, depending on the calculation."
   ]
  },
  {
   "cell_type": "code",
   "execution_count": 75,
   "id": "unique-trance",
   "metadata": {},
   "outputs": [
    {
     "data": {
      "text/plain": [
       "VectorObject2D(x=2.585678829246765, y=4.279516911052588)"
      ]
     },
     "execution_count": 75,
     "metadata": {},
     "output_type": "execute_result"
    }
   ],
   "source": [
    "vector.obj(x=3, y=4).rotateZ(0.1)"
   ]
  },
  {
   "cell_type": "code",
   "execution_count": 76,
   "id": "pharmaceutical-notebook",
   "metadata": {},
   "outputs": [
    {
     "data": {
      "text/plain": [
       "VectorObject2D(rho=5, phi=0.5)"
      ]
     },
     "execution_count": 76,
     "metadata": {},
     "output_type": "execute_result"
    }
   ],
   "source": [
    "vector.obj(rho=5, phi=0.4).rotateZ(0.1)"
   ]
  },
  {
   "cell_type": "code",
   "execution_count": 77,
   "id": "approved-ancient",
   "metadata": {},
   "outputs": [
    {
     "name": "stdout",
     "output_type": "stream",
     "text": [
      "[(1., 0.6) (2., 0.7) (3., 0.8) (4., 0.9) (5., 1. )]\n"
     ]
    }
   ],
   "source": [
    "# Broadcasts a scalar rotation angle of 0.5 to all elements of the NumPy array.\n",
    "print(\n",
    "    vector.array({\"rho\": [1, 2, 3, 4, 5], \"phi\": [0.1, 0.2, 0.3, 0.4, 0.5]}).rotateZ(\n",
    "        0.5\n",
    "    )\n",
    ")"
   ]
  },
  {
   "cell_type": "code",
   "execution_count": 78,
   "id": "derived-lincoln",
   "metadata": {},
   "outputs": [
    {
     "name": "stdout",
     "output_type": "stream",
     "text": [
      "[(1., 0.2) (2., 0.4) (3., 0.6) (4., 0.8) (5., 1. )]\n"
     ]
    }
   ],
   "source": [
    "# Matches each rotation angle to an element of the NumPy array.\n",
    "print(\n",
    "    vector.array({\"rho\": [1, 2, 3, 4, 5], \"phi\": [0.1, 0.2, 0.3, 0.4, 0.5]}).rotateZ(\n",
    "        np.array([0.1, 0.2, 0.3, 0.4, 0.5])\n",
    "    )\n",
    ")"
   ]
  },
  {
   "cell_type": "code",
   "execution_count": 79,
   "id": "dangerous-effect",
   "metadata": {},
   "outputs": [
    {
     "name": "stdout",
     "output_type": "stream",
     "text": [
      "[[{rho: 1, phi: 0.6}, {rho: 2, phi: 0.7}], [], [{rho: 3, phi: 0.8}]]\n"
     ]
    }
   ],
   "source": [
    "# Broadcasts a scalar rotation angle of 0.5 to all elements of the Awkward Array.\n",
    "print(\n",
    "    vector.Array(\n",
    "        [[{\"rho\": 1, \"phi\": 0.1}, {\"rho\": 2, \"phi\": 0.2}], [], [{\"rho\": 3, \"phi\": 0.3}]]\n",
    "    ).rotateZ(0.5)\n",
    ")"
   ]
  },
  {
   "cell_type": "code",
   "execution_count": 80,
   "id": "weird-insert",
   "metadata": {},
   "outputs": [
    {
     "name": "stdout",
     "output_type": "stream",
     "text": [
      "[[{rho: 1, phi: 0.2}, {rho: 2, phi: 0.3}], [], [{rho: 3, phi: 0.6}]]\n"
     ]
    }
   ],
   "source": [
    "# Broadcasts a rotation angle of 0.1 to both elements of the first list, 0.2 to the empty list, and 0.3 to the only element of the last list.\n",
    "print(\n",
    "    vector.Array(\n",
    "        [[{\"rho\": 1, \"phi\": 0.1}, {\"rho\": 2, \"phi\": 0.2}], [], [{\"rho\": 3, \"phi\": 0.3}]]\n",
    "    ).rotateZ([0.1, 0.2, 0.3])\n",
    ")"
   ]
  },
  {
   "cell_type": "code",
   "execution_count": 81,
   "id": "satellite-southeast",
   "metadata": {},
   "outputs": [
    {
     "name": "stdout",
     "output_type": "stream",
     "text": [
      "[[{rho: 1, phi: 0.2}, {rho: 2, phi: 0.4}], [], [{rho: 3, phi: 0.6}]]\n"
     ]
    }
   ],
   "source": [
    "# Matches each rotation angle to an element of the Awkward Array.\n",
    "print(\n",
    "    vector.Array(\n",
    "        [[{\"rho\": 1, \"phi\": 0.1}, {\"rho\": 2, \"phi\": 0.2}], [], [{\"rho\": 3, \"phi\": 0.3}]]\n",
    "    ).rotateZ([[0.1, 0.2], [], [0.3]])\n",
    ")"
   ]
  },
  {
   "cell_type": "markdown",
   "id": "animal-specific",
   "metadata": {},
   "source": [
    "Some methods are equivalent to binary operators."
   ]
  },
  {
   "cell_type": "code",
   "execution_count": 82,
   "id": "statutory-bathroom",
   "metadata": {},
   "outputs": [
    {
     "data": {
      "text/plain": [
       "VectorObject2D(x=30, y=40)"
      ]
     },
     "execution_count": 82,
     "metadata": {},
     "output_type": "execute_result"
    }
   ],
   "source": [
    "vector.obj(x=3, y=4).scale(10)"
   ]
  },
  {
   "cell_type": "code",
   "execution_count": 83,
   "id": "foreign-celebration",
   "metadata": {},
   "outputs": [
    {
     "data": {
      "text/plain": [
       "VectorObject2D(x=30, y=40)"
      ]
     },
     "execution_count": 83,
     "metadata": {},
     "output_type": "execute_result"
    }
   ],
   "source": [
    "vector.obj(x=3, y=4) * 10"
   ]
  },
  {
   "cell_type": "code",
   "execution_count": 84,
   "id": "solved-resident",
   "metadata": {},
   "outputs": [
    {
     "data": {
      "text/plain": [
       "VectorObject2D(x=30, y=40)"
      ]
     },
     "execution_count": 84,
     "metadata": {},
     "output_type": "execute_result"
    }
   ],
   "source": [
    "10 * vector.obj(x=3, y=4)"
   ]
  },
  {
   "cell_type": "code",
   "execution_count": 85,
   "id": "comic-threshold",
   "metadata": {},
   "outputs": [
    {
     "data": {
      "text/plain": [
       "VectorObject2D(rho=50, phi=0.5)"
      ]
     },
     "execution_count": 85,
     "metadata": {},
     "output_type": "execute_result"
    }
   ],
   "source": [
    "vector.obj(rho=5, phi=0.5) * 10"
   ]
  },
  {
   "cell_type": "markdown",
   "id": "novel-fancy",
   "metadata": {},
   "source": [
    "Some methods involve more than one vector."
   ]
  },
  {
   "cell_type": "code",
   "execution_count": 86,
   "id": "prescription-arkansas",
   "metadata": {},
   "outputs": [
    {
     "data": {
      "text/plain": [
       "VectorObject2D(x=6, y=7)"
      ]
     },
     "execution_count": 86,
     "metadata": {},
     "output_type": "execute_result"
    }
   ],
   "source": [
    "vector.obj(x=1, y=2).add(vector.obj(x=5, y=5))"
   ]
  },
  {
   "cell_type": "code",
   "execution_count": 87,
   "id": "sought-allah",
   "metadata": {},
   "outputs": [
    {
     "data": {
      "text/plain": [
       "VectorObject2D(x=6, y=7)"
      ]
     },
     "execution_count": 87,
     "metadata": {},
     "output_type": "execute_result"
    }
   ],
   "source": [
    "vector.obj(x=1, y=2) + vector.obj(x=5, y=5)"
   ]
  },
  {
   "cell_type": "code",
   "execution_count": 88,
   "id": "egyptian-nursing",
   "metadata": {},
   "outputs": [
    {
     "data": {
      "image/png": "[encoded data removed]",
      "text/latex": [
       "$\\displaystyle 15$"
      ],
      "text/plain": [
       "15"
      ]
     },
     "execution_count": 88,
     "metadata": {},
     "output_type": "execute_result"
    }
   ],
   "source": [
    "vector.obj(x=1, y=2).dot(vector.obj(x=5, y=5))"
   ]
  },
  {
   "cell_type": "code",
   "execution_count": 89,
   "id": "hourly-section",
   "metadata": {},
   "outputs": [
    {
     "data": {
      "image/png": "[encoded data removed]",
      "text/latex": [
       "$\\displaystyle 15$"
      ],
      "text/plain": [
       "15"
      ]
     },
     "execution_count": 89,
     "metadata": {},
     "output_type": "execute_result"
    }
   ],
   "source": [
    "vector.obj(x=1, y=2) @ vector.obj(x=5, y=5)"
   ]
  },
  {
   "cell_type": "markdown",
   "id": "earned-precipitation",
   "metadata": {},
   "source": [
    "The vectors can use different coordinate systems. Conversions are necessary, but minimized for speed and numeric stability."
   ]
  },
  {
   "cell_type": "code",
   "execution_count": 90,
   "id": "unlike-melissa",
   "metadata": {},
   "outputs": [
    {
     "data": {
      "image/png": "[encoded data removed]",
      "text/latex": [
       "$\\displaystyle 50$"
      ],
      "text/plain": [
       "50"
      ]
     },
     "execution_count": 90,
     "metadata": {},
     "output_type": "execute_result"
    }
   ],
   "source": [
    "vector.obj(x=3, y=4) @ vector.obj(x=6, y=8)  # both are Cartesian, dot product is exact"
   ]
  },
  {
   "cell_type": "code",
   "execution_count": 91,
   "id": "seasonal-section",
   "metadata": {},
   "outputs": [
    {
     "data": {
      "image/png": "[encoded data removed]",
      "text/latex": [
       "$\\displaystyle 49.9999999994283$"
      ],
      "text/plain": [
       "49.99999999942831"
      ]
     },
     "execution_count": 91,
     "metadata": {},
     "output_type": "execute_result"
    }
   ],
   "source": [
    "vector.obj(rho=5, phi=0.9273) @ vector.obj(\n",
    "    x=6, y=8\n",
    ")  # one is polar, dot product is approximate"
   ]
  },
  {
   "cell_type": "code",
   "execution_count": 92,
   "id": "second-joseph",
   "metadata": {},
   "outputs": [
    {
     "data": {
      "image/png": "[encoded data removed]",
      "text/latex": [
       "$\\displaystyle 49.9999999994283$"
      ],
      "text/plain": [
       "49.99999999942831"
      ]
     },
     "execution_count": 92,
     "metadata": {},
     "output_type": "execute_result"
    }
   ],
   "source": [
    "vector.obj(x=3, y=4) @ vector.obj(\n",
    "    rho=10, phi=0.9273\n",
    ")  # one is polar, dot product is approximate"
   ]
  },
  {
   "cell_type": "code",
   "execution_count": 93,
   "id": "material-technician",
   "metadata": {},
   "outputs": [
    {
     "data": {
      "image/png": "[encoded data removed]",
      "text/latex": [
       "$\\displaystyle 50.0$"
      ],
      "text/plain": [
       "50.0"
      ]
     },
     "execution_count": 93,
     "metadata": {},
     "output_type": "execute_result"
    }
   ],
   "source": [
    "vector.obj(rho=5, phi=0.9273) @ vector.obj(\n",
    "    rho=10, phi=0.9273\n",
    ")  # both are polar, a formula that depends on phi differences is used"
   ]
  },
  {
   "cell_type": "markdown",
   "id": "attractive-ebony",
   "metadata": {},
   "source": [
    "In Python, some \"operators\" are actually built-in functions, such as `abs`."
   ]
  },
  {
   "cell_type": "code",
   "execution_count": 94,
   "id": "focal-tactics",
   "metadata": {},
   "outputs": [
    {
     "data": {
      "image/png": "[encoded data removed]",
      "text/latex": [
       "$\\displaystyle 5.0$"
      ],
      "text/plain": [
       "5.0"
      ]
     },
     "execution_count": 94,
     "metadata": {},
     "output_type": "execute_result"
    }
   ],
   "source": [
    "abs(vector.obj(x=3, y=4))"
   ]
  },
  {
   "cell_type": "markdown",
   "id": "stone-resource",
   "metadata": {},
   "source": [
    "Note that `abs` returns\n",
    "\n",
    "   * `rho` for 2D vectors\n",
    "   * `mag` for 3D vectors\n",
    "   * `tau` (`mass`) for 4D vectors\n",
    "\n",
    "Use the named properties when you want magnitude in a specific number of dimensions; use `abs` when you want the magnitude for any number of dimensions."
   ]
  },
  {
   "cell_type": "markdown",
   "id": "shared-resolution",
   "metadata": {},
   "source": [
    "The vectors can be from different backends. Normal rules for broadcasting Python numbers, NumPy arrays, and Awkward Arrays apply."
   ]
  },
  {
   "cell_type": "code",
   "execution_count": 95,
   "id": "purple-disco",
   "metadata": {},
   "outputs": [
    {
     "data": {
      "text/plain": [
       "VectorNumpy2D([(11., 5.1), (12., 5.2), (13., 5.3), (14., 5.4), (15., 5.5)],\n",
       "              dtype=[('x', '<f8'), ('y', '<f8')])"
      ]
     },
     "execution_count": 95,
     "metadata": {},
     "output_type": "execute_result"
    }
   ],
   "source": [
    "vector.array({\"x\": [1, 2, 3, 4, 5], \"y\": [0.1, 0.2, 0.3, 0.4, 0.5]}) + vector.obj(\n",
    "    x=10, y=5\n",
    ")"
   ]
  },
  {
   "cell_type": "code",
   "execution_count": 96,
   "id": "abroad-diversity",
   "metadata": {},
   "outputs": [
    {
     "data": {
      "text/html": [
       "<pre>[[{x: 11, y: 6.1}, {x: 12, y: 7.2}],\n",
       " [],\n",
       " [{x: 13, y: 8.3}],\n",
       " [{x: 14, y: 9.4}, {x: 15, y: 10.5}]]\n",
       "-------------------------------------\n",
       "type: 4 * var * Vector2D[\n",
       "    x: int64,\n",
       "    y: float64\n",
       "]</pre>"
      ],
      "text/plain": [
       "<VectorArray2D [[{x: 11, y: 6.1}, {...}], ..., [...]] type='4 * var * Vecto...'>"
      ]
     },
     "execution_count": 96,
     "metadata": {},
     "output_type": "execute_result"
    }
   ],
   "source": [
    "(\n",
    "    vector.Array(\n",
    "        [  # an Awkward Array of vectors\n",
    "            [{\"x\": 1, \"y\": 1.1}, {\"x\": 2, \"y\": 2.2}],\n",
    "            [],\n",
    "            [{\"x\": 3, \"y\": 3.3}],\n",
    "            [{\"x\": 4, \"y\": 4.4}, {\"x\": 5, \"y\": 5.5}],\n",
    "        ]\n",
    "    )\n",
    "    + vector.obj(x=10, y=5)  # and a single vector object\n",
    ")"
   ]
  },
  {
   "cell_type": "code",
   "execution_count": 97,
   "id": "empirical-starter",
   "metadata": {},
   "outputs": [
    {
     "data": {
      "text/html": [
       "<pre>[[{x: 5, y: 1.2}, {x: 6, y: 2.3}],\n",
       " [],\n",
       " [{x: 5, y: 3.4}],\n",
       " [{x: 5, y: 4.5}, {x: 6, y: 5.6}]]\n",
       "----------------------------------\n",
       "type: 4 * var * Vector2D[\n",
       "    x: float64,\n",
       "    y: float64\n",
       "]</pre>"
      ],
      "text/plain": [
       "<VectorArray2D [[{x: 5, y: 1.2}, {...}], ..., [...]] type='4 * var * Vector...'>"
      ]
     },
     "execution_count": 97,
     "metadata": {},
     "output_type": "execute_result"
    }
   ],
   "source": [
    "(\n",
    "    vector.Array(\n",
    "        [  # an Awkward Array of vectors\n",
    "            [{\"x\": 1, \"y\": 1.1}, {\"x\": 2, \"y\": 2.2}],\n",
    "            [],\n",
    "            [{\"x\": 3, \"y\": 3.3}],\n",
    "            [{\"x\": 4, \"y\": 4.4}, {\"x\": 5, \"y\": 5.5}],\n",
    "        ]\n",
    "    )\n",
    "    + vector.array(\n",
    "        {\"x\": [4, 3, 2, 1], \"y\": [0.1, 0.1, 0.1, 0.1]}\n",
    "    )  # and a NumPy array of vectors\n",
    ")"
   ]
  },
  {
   "cell_type": "markdown",
   "id": "pregnant-chest",
   "metadata": {},
   "source": [
    "Some operations are defined for 2D or 3D vectors, but are usable on higher-dimensional vectors because the additional components can be ignored or are passed through unaffected."
   ]
  },
  {
   "cell_type": "code",
   "execution_count": 98,
   "id": "blocked-keyboard",
   "metadata": {},
   "outputs": [
    {
     "data": {
      "image/png": "[encoded data removed]",
      "text/latex": [
       "$\\displaystyle 0.2$"
      ],
      "text/plain": [
       "0.20000000000000018"
      ]
     },
     "execution_count": 98,
     "metadata": {},
     "output_type": "execute_result"
    }
   ],
   "source": [
    "vector.obj(rho=1, phi=0.5).deltaphi(\n",
    "    vector.obj(rho=2, phi=0.3)\n",
    ")  # deltaphi is a planar operation (defined on the transverse plane)"
   ]
  },
  {
   "cell_type": "code",
   "execution_count": 99,
   "id": "exposed-pendant",
   "metadata": {},
   "outputs": [
    {
     "data": {
      "image/png": "[encoded data removed]",
      "text/latex": [
       "$\\displaystyle 0.2$"
      ],
      "text/plain": [
       "0.20000000000000018"
      ]
     },
     "execution_count": 99,
     "metadata": {},
     "output_type": "execute_result"
    }
   ],
   "source": [
    "vector.obj(rho=1, phi=0.5, z=10).deltaphi(\n",
    "    vector.obj(rho=2, phi=0.3, theta=1.4)\n",
    ")  # but we can use it on 3D vectors"
   ]
  },
  {
   "cell_type": "code",
   "execution_count": 100,
   "id": "liked-depression",
   "metadata": {},
   "outputs": [
    {
     "data": {
      "image/png": "[encoded data removed]",
      "text/latex": [
       "$\\displaystyle 0.2$"
      ],
      "text/plain": [
       "0.20000000000000018"
      ]
     },
     "execution_count": 100,
     "metadata": {},
     "output_type": "execute_result"
    }
   ],
   "source": [
    "vector.obj(rho=1, phi=0.5, z=10, t=100).deltaphi(\n",
    "    vector.obj(rho=2, phi=0.3, theta=1.4, tau=1000)\n",
    ")  # and 4D vectors"
   ]
  },
  {
   "cell_type": "code",
   "execution_count": 101,
   "id": "several-senator",
   "metadata": {},
   "outputs": [
    {
     "data": {
      "image/png": "[encoded data removed]",
      "text/latex": [
       "$\\displaystyle 0.2$"
      ],
      "text/plain": [
       "0.20000000000000018"
      ]
     },
     "execution_count": 101,
     "metadata": {},
     "output_type": "execute_result"
    }
   ],
   "source": [
    "vector.obj(rho=1, phi=0.5).deltaphi(\n",
    "    vector.obj(rho=2, phi=0.3, theta=1.4, tau=1000)\n",
    ")  # and mixed dimensionality"
   ]
  },
  {
   "cell_type": "markdown",
   "id": "breathing-helicopter",
   "metadata": {},
   "source": [
    "This is especially useful for giving 4D vectors all the capabilities of 3D vectors."
   ]
  },
  {
   "cell_type": "code",
   "execution_count": 102,
   "id": "considerable-general",
   "metadata": {},
   "outputs": [
    {
     "data": {
      "text/plain": [
       "VectorObject3D(x=1, y=-0.7071067811865472, z=3.5355339059327378)"
      ]
     },
     "execution_count": 102,
     "metadata": {},
     "output_type": "execute_result"
    }
   ],
   "source": [
    "vector.obj(x=1, y=2, z=3).rotateX(np.pi / 4)"
   ]
  },
  {
   "cell_type": "code",
   "execution_count": 103,
   "id": "formed-fisher",
   "metadata": {},
   "outputs": [
    {
     "data": {
      "text/plain": [
       "VectorObject4D(x=1, y=-0.7071067811865472, z=3.5355339059327378, tau=10)"
      ]
     },
     "execution_count": 103,
     "metadata": {},
     "output_type": "execute_result"
    }
   ],
   "source": [
    "vector.obj(x=1, y=2, z=3, tau=10).rotateX(np.pi / 4)"
   ]
  },
  {
   "cell_type": "code",
   "execution_count": 104,
   "id": "tribal-danger",
   "metadata": {},
   "outputs": [
    {
     "data": {
      "image/png": "[encoded data removed]",
      "text/latex": [
       "$\\displaystyle 1.4142135623731$"
      ],
      "text/plain": [
       "1.4142135623730951"
      ]
     },
     "execution_count": 104,
     "metadata": {},
     "output_type": "execute_result"
    }
   ],
   "source": [
    "vector.obj(pt=1, phi=1.3, eta=2).deltaR(vector.obj(pt=2, phi=0.3, eta=1))"
   ]
  },
  {
   "cell_type": "code",
   "execution_count": 105,
   "id": "strategic-hypothesis",
   "metadata": {},
   "outputs": [
    {
     "data": {
      "image/png": "[encoded data removed]",
      "text/latex": [
       "$\\displaystyle 1.4142135623731$"
      ],
      "text/plain": [
       "1.4142135623730951"
      ]
     },
     "execution_count": 105,
     "metadata": {},
     "output_type": "execute_result"
    }
   ],
   "source": [
    "vector.obj(pt=1, phi=1.3, eta=2, mass=5).deltaR(\n",
    "    vector.obj(pt=2, phi=0.3, eta=1, mass=10)\n",
    ")"
   ]
  },
  {
   "cell_type": "markdown",
   "id": "sensitive-booking",
   "metadata": {},
   "source": [
    "For a few operations - `+`, `-`, `==`, `!=`, ... - the dimension of the vectors should be equal. This can be achieved by using the `like` method, `to_{coordinate_name}` methods, `to_Vector*D` methods. The `to_Vector*D` methods provide more flexibility to the users, that is, new coordinate values can be passed into the methods as named arguments."
   ]
  },
  {
   "cell_type": "code",
   "execution_count": 106,
   "id": "loaded-kidney",
   "metadata": {},
   "outputs": [
    {
     "name": "stdout",
     "output_type": "stream",
     "text": [
      "VectorObject3D(x=0, y=0, z=3.0)\n",
      "VectorObject2D(x=0, y=0)\n",
      "VectorObject3D(x=0, y=0, z=3.0)\n",
      "VectorObject2D(x=0, y=0)\n",
      "VectorObject3D(x=0, y=0, z=0)\n",
      "VectorObject2D(x=0, y=0)\n"
     ]
    }
   ],
   "source": [
    "v1 = vector.obj(x=1, y=2, z=3)\n",
    "v2 = vector.obj(x=1, y=2)\n",
    "\n",
    "print(v1 - v2.like(v1))           # transforms v2 to v1's coordinate system (imputes z=0)\n",
    "print(v1.like(v2) - v2)           # transforms v1 to v2's coordinate system (removes z)\n",
    "print(v1 - v2.to_xyz())           # transforms v2 to xyz coordinates (imputes z=0)\n",
    "print(v1.to_xy() - v2)            # transforms v1 to xy coordinates (removes z)\n",
    "print(v1 - v2.to_Vector3D(z=3))   # transforms v2 to 3D (imputes z=3)\n",
    "print(v1.to_Vector2D() - v2)      # transforms v1 to 2D (removes z)"
   ]
  },
  {
   "cell_type": "markdown",
   "id": "willing-detail",
   "metadata": {},
   "source": [
    "Similarly, for a few vector methods, the dimension of the input vectors are type checked strictly.\n",
    "\n",
    "For instance, a cross-product is only defined for 3D and 7D vectors; hence, running the method on a 4D vector will error out."
   ]
  },
  {
   "cell_type": "code",
   "execution_count": 107,
   "id": "preceding-possibility",
   "metadata": {},
   "outputs": [
    {
     "data": {
      "text/plain": [
       "VectorObject3D(x=-0.03, y=0.06, z=-0.030000000000000013)"
      ]
     },
     "execution_count": 107,
     "metadata": {},
     "output_type": "execute_result"
    }
   ],
   "source": [
    "vector.obj(x=0.1, y=0.2, z=0.3).cross(vector.obj(x=0.4, y=0.5, z=0.6))"
   ]
  },
  {
   "cell_type": "markdown",
   "id": "operational-accused",
   "metadata": {},
   "source": [
    "The (current) list of properties and methods is:\n",
    "\n",
    "**Planar (2D, 3D, 4D):**\n",
    "\n",
    "   * `x` (`px`)\n",
    "   * `y` (`py`)\n",
    "   * `rho` (`pt`): two-dimensional magnitude\n",
    "   * `rho2` (`pt2`): two-dimensional magnitude squared\n",
    "   * `phi`\n",
    "   * `deltaphi(vector)`: difference in `phi` (signed and rectified to $-\\pi$ through $\\pi$)\n",
    "   * `rotateZ(angle)`\n",
    "   * `transform2D(obj)`: the `obj` must supply components through `obj[\"xx\"]`, `obj[\"xy\"]`, `obj[\"yx\"]`, `obj[\"yy\"]`\n",
    "   * `is_parallel(vector, tolerance=1e-5)`: only true _if they're pointing in the same direction_\n",
    "   * `is_antiparallel(vector, tolerance=1e-5)`: only true _if they're pointing in opposite directions_\n",
    "   * `is_perpendicular(vector, tolerance=1e-5)`\n",
    "\n",
    "**Spatial (3D, 4D):**\n",
    "\n",
    "   * `z` (`pz`)\n",
    "   * `theta`\n",
    "   * `eta`\n",
    "   * `costheta`\n",
    "   * `cottheta`\n",
    "   * `mag` (`p`): three-dimensional magnitude, does not include temporal component\n",
    "   * `mag2` (`p2`): three-dimensional magnitude squared\n",
    "   * `cross`: cross-product (strictly 3D)\n",
    "   * `deltaangle(vector)`: difference in angle (always non-negative)\n",
    "   * `deltaeta(vector)`: difference in `eta` (signed)\n",
    "   * `deltaR(vector)`: $\\Delta R = \\sqrt{\\Delta\\phi^2 + \\Delta\\eta^2}$\n",
    "   * `deltaR2(vector)`: the above, squared\n",
    "   * `rotateX(angle)`\n",
    "   * `rotateY(angle)`\n",
    "   * `rotate_axis(axis, angle)`: the magnitude of `axis` is ignored, but it must be at least 3D\n",
    "   * `rotate_euler(phi, theta, psi, order=\"zxz\")`: the arguments are in the same order as [ROOT::Math::EulerAngles](https://root.cern.ch/doc/master/classROOT_1_1Math_1_1EulerAngles.html), and `order=\"zxz\"` agrees with ROOT's choice of conventions\n",
    "   * `rotate_nautical(yaw, pitch, roll)`\n",
    "   * `rotate_quaternion(u, i, j, k)`: again, the conventions match [ROOT::Math::Quaternion](https://root.cern.ch/doc/master/classROOT_1_1Math_1_1Quaternion.html).\n",
    "   * `transform3D(obj)`: the `obj` must supply components through `obj[\"xx\"]`, `obj[\"xy\"]`, etc.\n",
    "   * `is_parallel(vector, tolerance=1e-5)`: only true _if they're pointing in the same direction_\n",
    "   * `is_antiparallel(vector, tolerance=1e-5)`: only true _if they're pointing in opposite directions_\n",
    "   * `is_perpendicular(vector, tolerance=1e-5)`\n",
    "\n",
    "**Lorentz (4D only):**\n",
    "\n",
    "   * `t` (`E`, `energy`): follows the [ROOT::Math::LorentzVector](https://root.cern/doc/master/LorentzVectorPage.html) behavior of treating spacelike vectors as negative `t` and negative `tau` and truncating wrong-direction timelike vectors\n",
    "   * `t2` (`E2`, `energy2`)\n",
    "   * `tau` (`M`, `mass`): see note above\n",
    "   * `tau2` (`M2`, `mass2`)\n",
    "   * `beta`: scalar(s) between $0$ (inclusive) and $1$ (exclusive, unless the vector components are infinite)\n",
    "   * `deltaRapidityPhi`: $\\Delta R_{\\mbox{rapidity}} = \\Delta\\phi^2 + \\Delta \\mbox{rapidity}^2$\n",
    "   * `deltaRapidityPhi2`: the above, squared\n",
    "   * `gamma`: scalar(s) between $1$ (inclusive) and $\\infty$\n",
    "   * `rapidity`: scalar(s) between $0$ (inclusive) and $\\infty$\n",
    "   * `boost_p4(four_vector)`: change coordinate system using another 4D vector as the difference\n",
    "   * `boost_beta(three_vector)`: change coordinate system using a 3D beta vector (all components between $-1$ and $+1$)\n",
    "   * `boost(vector)`: uses the dimension of the given `vector` to determine behavior\n",
    "   * `boostX(beta=None, gamma=None)`: supply `beta` xor `gamma`, but not both\n",
    "   * `boostY(beta=None, gamma=None)`: supply `beta` xor `gamma`, but not both\n",
    "   * `boostZ(beta=None, gamma=None)`: supply `beta` xor `gamma`, but not both\n",
    "   * `transform4D(obj)`: the `obj` must supply components through `obj[\"xx\"]`, `obj[\"xy\"]`, etc.\n",
    "   * `to_beta3()`: turns a `four_vector` (for `boost_p4`) into a `three_vector` (for `boost_beta3`)\n",
    "   * `is_timelike(tolerance=0)`\n",
    "   * `is_spacelike(tolerance=0)`\n",
    "   * `is_lightlike(tolerance=1e-5)`: note the different tolerance\n",
    "\n",
    "**All numbers of dimensions:**\n",
    "\n",
    "   * `unit()`: note the parentheses\n",
    "   * `dot(vector)`: can also use the `@` operator\n",
    "   * `add(vector)`: can also use the `+` operator\n",
    "   * `subtract(vector)`: can also use the `-` operator\n",
    "   * `scale(factor)`: can also use the `*` operator\n",
    "   * `equal(vector)`: can also use the `==` operator, but consider `isclose` instead\n",
    "   * `not_equal(vector)`: can also use the `!=` operator, but consider `isclose` instead\n",
    "   * `sum()`: can also use the `numpy.sum` or `awkward.sum`, only for NumPy and Awkward vectors\n",
    "   * `count_nonzero()`: can also use `numpy.count_nonzero` or `awkward.count_nonzero`, only for NumPy and Awkward vectors\n",
    "   * `count()`: can also use `awkward.count`, only for Awkward vectors\n",
    "   * `isclose(vector, rtol=1e-5, atol=1e-8, equal_nan=False)`: works like [np.isclose](https://numpy.org/doc/stable/reference/generated/numpy.isclose.html); arrays also have an [allclose](https://numpy.org/doc/stable/reference/generated/numpy.allclose.html) method\n",
    "   * `to_VectorND(coordinates)`/`to_ND(coordinates)`: replace `N` with the required vector dimension\n",
    "   * `to_{coordinate-names}`: for example - `to_rhophietatau`\n",
    "   * `like(other)`: projects the vector into the dimensions of `other`, for example - `two_d_vector.like(three_d_vector)`\n"
   ]
  },
  {
   "cell_type": "markdown",
   "id": "dedicated-exemption",
   "metadata": {},
   "source": [
    "## Compiling your Python with Numba\n",
    "\n",
    "[Numba](https://numba.pydata.org/) is a just-in-time (JIT) compiler for a mathematically relevant subset of NumPy and Python. It allows you to write fast code without leaving the Python environment. The drawback of Numba is that it can only compile code blocks involving objects and functions that it recognizes.\n",
    "\n",
    "The Vector library includes extensions to inform Numba about vector objects, vector NumPy arrays, and vector Awkward Arrays. At the time of writing, the implementation of vector NumPy arrays is incomplete due to [numba/numba#6148](https://github.com/numba/numba/pull/6148).\n",
    "\n",
    "For instance, consider the following function:"
   ]
  },
  {
   "cell_type": "code",
   "execution_count": 108,
   "id": "sporting-champion",
   "metadata": {},
   "outputs": [],
   "source": [
    "@nb.njit\n",
    "def compute_mass(v1, v2):\n",
    "    return (v1 + v2).mass"
   ]
  },
  {
   "cell_type": "code",
   "execution_count": 109,
   "id": "blocked-attribute",
   "metadata": {},
   "outputs": [
    {
     "data": {
      "image/png": "[encoded data removed]",
      "text/latex": [
       "$\\displaystyle 8.0$"
      ],
      "text/plain": [
       "8.0"
      ]
     },
     "execution_count": 109,
     "metadata": {},
     "output_type": "execute_result"
    }
   ],
   "source": [
    "compute_mass(vector.obj(px=1, py=2, pz=3, E=4), vector.obj(px=-1, py=-2, pz=-3, E=4))"
   ]
  },
  {
   "cell_type": "markdown",
   "id": "significant-sweden",
   "metadata": {},
   "source": [
    "When the two `MomentumObject4D` objects are passed as arguments, Numba recognizes them and replaces the Python objects with low-level structs. When it compiles the function, it recognizes `+` as the 4D `add` function and recognizes `.mass` as the `tau` component of the result.\n",
    "\n",
    "Although this demonstrates that Numba can manipulate vector objects, there is no performance advantage (and a likely disadvantage) to compiling a calculation on just a few vectors. The advantage comes when many vectors are involved, in arrays."
   ]
  },
  {
   "cell_type": "code",
   "execution_count": 110,
   "id": "round-supplier",
   "metadata": {},
   "outputs": [
    {
     "data": {
      "text/html": [
       "<pre>[[{x: -0.328, y: 0.127, z: -1.39, t: 11.1}, ..., {x: -0.225, y: -0.658, ...}],\n",
       " [{x: -1.2, y: -0.87, z: -0.965, t: 10.3}],\n",
       " [],\n",
       " [{x: -1.22, y: 0.729, z: -0.103, t: 10.1}, {x: -0.029, y: -0.567, ...}],\n",
       " [],\n",
       " [],\n",
       " [],\n",
       " [{x: -0.595, y: 1.38, z: -1.53, t: 10.3}, {x: -1.73, y: 0.588, ...}],\n",
       " [{x: 0.366, y: -1.18, z: 0.00993, t: 9.27}, ..., {x: 0.296, y: 1.42, ...}],\n",
       " [{x: 1.01, y: 0.548, z: 0.586, t: 11}, {x: 2.04, y: 0.921, z: ..., ...}],\n",
       " ...,\n",
       " [{x: -1.25, y: 0.28, z: 0.895, t: 10.5}, {x: -0.378, y: 0.766, ...}],\n",
       " [{x: -1.18, y: 0.972, z: 0.16, t: 9.78}],\n",
       " [{x: -0.375, y: 1.71, z: 1.64, t: 8.49}],\n",
       " [{x: 0.388, y: -0.147, z: -0.0319, t: 11.5}, ..., {x: 0.144, y: -0.615, ...}],\n",
       " [{x: -1.07, y: -0.77, z: -1.13, t: 10.3}, {x: 0.183, y: 2, z: ..., ...}],\n",
       " [{x: -0.0761, y: -1.87, z: 0.0424, t: 10.2}, {x: -1.21, y: -0.214, ...}],\n",
       " [],\n",
       " [{x: -0.143, y: 0.775, z: 2.49, t: 11.1}, {x: -0.0686, y: 0.803, ...}],\n",
       " [{x: -0.359, y: -0.0502, z: -1.22, t: 9.41}, ..., {x: 0.565, y: -0.583, ...}]]\n",
       "-------------------------------------------------------------------------------\n",
       "type: 50 * var * Momentum4D[\n",
       "    x: float64,\n",
       "    y: float64,\n",
       "    z: float64,\n",
       "    t: float64\n",
       "]</pre>"
      ],
      "text/plain": [
       "<MomentumArray4D [[{x: -0.328, y: 0.127, ...}, ...], ...] type='50 * var * ...'>"
      ]
     },
     "execution_count": 110,
     "metadata": {},
     "output_type": "execute_result"
    }
   ],
   "source": [
    "# This is still not a large number. You want millions.\n",
    "array = vector.Array(\n",
    "    [\n",
    "        [\n",
    "            dict(\n",
    "                {x: np.random.normal(0, 1) for x in (\"px\", \"py\", \"pz\")},\n",
    "                E=np.random.normal(10, 1),\n",
    "            )\n",
    "            for inner in range(np.random.poisson(1.5))\n",
    "        ]\n",
    "        for outer in range(50)\n",
    "    ]\n",
    ")\n",
    "array"
   ]
  },
  {
   "cell_type": "code",
   "execution_count": 111,
   "id": "emotional-headquarters",
   "metadata": {},
   "outputs": [],
   "source": [
    "@nb.njit\n",
    "def compute_masses(array):\n",
    "    out = np.empty(len(array), np.float64)\n",
    "    for i, event in enumerate(array):\n",
    "        total = vector.obj(px=0.0, py=0.0, pz=0.0, E=0.0)\n",
    "        for vec in event:\n",
    "            total = total + vec\n",
    "        out[i] = total.mass\n",
    "    return out"
   ]
  },
  {
   "cell_type": "code",
   "execution_count": 112,
   "id": "recorded-grass",
   "metadata": {},
   "outputs": [
    {
     "data": {
      "text/plain": [
       "array([31.00917422, 10.1059386 ,  0.        , 19.91593466,  0.        ,\n",
       "        0.        ,  0.        , 20.1812881 , 41.54347342, 22.19664008,\n",
       "       19.40152094, 20.94517569,  0.        , 10.0249231 , 21.85616549,\n",
       "       19.87767413, 21.35421443, 29.26123961, 50.16621032,  0.        ,\n",
       "       18.73543798,  0.        , 30.34983157,  0.        , 18.85920061,\n",
       "       28.12581142, 10.17168767, 19.98127001, 26.8863055 ,  8.45740508,\n",
       "        8.75981725, 17.36536695,  0.        ,  8.83614441, 18.90126461,\n",
       "       22.31274926,  9.55031958, 27.7945086 ,  0.        , 18.81627509,\n",
       "        8.51613825, 19.0946717 ,  9.65549481,  8.14024787, 31.48012119,\n",
       "       19.96012635, 20.26002769,  0.        , 19.17155856, 39.78598547])"
      ]
     },
     "execution_count": 112,
     "metadata": {},
     "output_type": "execute_result"
    }
   ],
   "source": [
    "compute_masses(array)"
   ]
  },
  {
   "cell_type": "markdown",
   "id": "f9f99531-245a-4a24-b717-42839ff542c0",
   "metadata": {},
   "source": [
    "## Sub-classing Awkward mixins\n",
    "\n",
    "At the moment, it is possible to sub-class vector awkward mixins to extend the vector functionalities. Although the mechanism in place works well, it is still being improved.\n",
    "\n",
    "For instance, the `MomentumAwkward` classes can be extended in the following way:"
   ]
  },
  {
   "cell_type": "code",
   "execution_count": 113,
   "id": "eabb3cc3-3df3-4052-a64d-84499866fdc9",
   "metadata": {},
   "outputs": [],
   "source": [
    "@ak.mixin_class(vector.backends.awkward.behavior)\n",
    "class TwoVector(vector.backends.awkward.MomentumAwkward2D):\n",
    "    pass\n",
    "\n",
    "@ak.mixin_class(vector.backends.awkward.behavior)\n",
    "class ThreeVector(vector.backends.awkward.MomentumAwkward3D):\n",
    "    pass\n",
    "\n",
    "# required for transforming vectors\n",
    "# the class names must always end with \"Array\"\n",
    "TwoVectorArray.ProjectionClass2D = TwoVectorArray  # noqa: F821\n",
    "TwoVectorArray.ProjectionClass3D = ThreeVectorArray  # noqa: F821\n",
    "TwoVectorArray.MomentumClass = TwoVectorArray  # noqa: F821\n",
    "\n",
    "ThreeVectorArray.ProjectionClass2D = TwoVectorArray  # noqa: F821\n",
    "ThreeVectorArray.ProjectionClass3D = ThreeVectorArray  # noqa: F821\n",
    "ThreeVectorArray.MomentumClass = ThreeVectorArray  # noqa: F821"
   ]
  },
  {
   "cell_type": "code",
   "execution_count": 114,
   "id": "09fb1708-0205-409d-b348-e2d1611227f3",
   "metadata": {},
   "outputs": [
    {
     "data": {
      "text/html": [
       "<pre>[[{pt: 1, phi: 1.2}, {pt: 2, phi: 1.4}],\n",
       " [],\n",
       " [{pt: 3, phi: 1.6}],\n",
       " [{pt: 4, phi: 3.4}]]\n",
       "----------------------------------------\n",
       "type: 4 * var * TwoVector[\n",
       "    pt: int64,\n",
       "    phi: float64\n",
       "]</pre>"
      ],
      "text/plain": [
       "<TwoVectorArray [[{pt: 1, phi: 1.2}, {...}], ...] type='4 * var * TwoVector...'>"
      ]
     },
     "execution_count": 114,
     "metadata": {},
     "output_type": "execute_result"
    }
   ],
   "source": [
    "vec = ak.zip(\n",
    "    {\n",
    "        \"pt\": [[1, 2], [], [3], [4]],\n",
    "        \"phi\": [[1.2, 1.4], [], [1.6], [3.4]],\n",
    "    },\n",
    "    with_name=\"TwoVector\",\n",
    "    behavior=vector.backends.awkward.behavior,\n",
    ")\n",
    "vec"
   ]
  },
  {
   "cell_type": "markdown",
   "id": "7c2d0b74-0f87-417c-8e0c-5420408f3dff",
   "metadata": {},
   "source": [
    "The binary operators are not automatically registered by awkward, but vector methods can be used to perform operations on sub-classed vectors."
   ]
  },
  {
   "cell_type": "code",
   "execution_count": 115,
   "id": "a63c205e-4b80-4e78-a3c3-fda3be083085",
   "metadata": {},
   "outputs": [
    {
     "data": {
      "text/html": [
       "<pre>[[{rho: 2, phi: 1.2}, {rho: 4, phi: 1.4}],\n",
       " [],\n",
       " [{rho: 6, phi: 1.6}],\n",
       " [{rho: 8, phi: -2.88}]]\n",
       "------------------------------------------\n",
       "type: 4 * var * TwoVector[\n",
       "    rho: float64,\n",
       "    phi: float64\n",
       "]</pre>"
      ],
      "text/plain": [
       "<TwoVectorArray [[{rho: 2, phi: 1.2}, {...}], ...] type='4 * var * TwoVecto...'>"
      ]
     },
     "execution_count": 115,
     "metadata": {},
     "output_type": "execute_result"
    }
   ],
   "source": [
    "vec.add(vec)"
   ]
  },
  {
   "cell_type": "markdown",
   "id": "a51204fc-e1e5-4bdc-a3a0-d51dbc786457",
   "metadata": {},
   "source": [
    "Similarly, other vector methods can be used by the new methods internally."
   ]
  },
  {
   "cell_type": "code",
   "execution_count": 116,
   "id": "f9feeec4-c730-4f7b-b5bd-05d401eb0ee1",
   "metadata": {},
   "outputs": [],
   "source": [
    "@ak.mixin_class(vector.backends.awkward.behavior)\n",
    "class LorentzVector(vector.backends.awkward.MomentumAwkward4D):\n",
    "    @ak.mixin_class_method(np.divide, {numbers.Number})\n",
    "    def divide(self, factor):\n",
    "        return self.scale(1 / factor)\n",
    "\n",
    "\n",
    "# required for transforming vectors\n",
    "# the class names must always end with \"Array\"\n",
    "LorentzVectorArray.ProjectionClass2D = TwoVectorArray  # noqa: F821\n",
    "LorentzVectorArray.ProjectionClass3D = ThreeVectorArray  # noqa: F821\n",
    "LorentzVectorArray.ProjectionClass4D = LorentzVectorArray  # noqa: F821\n",
    "LorentzVectorArray.MomentumClass = LorentzVectorArray  # noqa: F821"
   ]
  },
  {
   "cell_type": "code",
   "execution_count": 117,
   "id": "d66c5f27-ae2e-4659-b96a-bd0493bda557",
   "metadata": {},
   "outputs": [
    {
     "data": {
      "text/html": [
       "<pre>[[{pt: 1, eta: 1.2, phi: 0.3, energy: 50}, {pt: 2, eta: 1.4, ...}],\n",
       " [],\n",
       " [{pt: 3, eta: 1.6, phi: 0.5, energy: 52}],\n",
       " [{pt: 4, eta: 3.4, phi: 0.6, energy: 60}]]\n",
       "-------------------------------------------------------------------\n",
       "type: 4 * var * LorentzVector[\n",
       "    pt: int64,\n",
       "    eta: float64,\n",
       "    phi: float64,\n",
       "    energy: int64\n",
       "]</pre>"
      ],
      "text/plain": [
       "<LorentzVectorArray [[{pt: 1, eta: 1.2, ...}, ...], ...] type='4 * var * Lo...'>"
      ]
     },
     "execution_count": 117,
     "metadata": {},
     "output_type": "execute_result"
    }
   ],
   "source": [
    "vec = ak.zip(\n",
    "    {\n",
    "        \"pt\": [[1, 2], [], [3], [4]],\n",
    "        \"eta\": [[1.2, 1.4], [], [1.6], [3.4]],\n",
    "        \"phi\": [[0.3, 0.4], [], [0.5], [0.6]],\n",
    "        \"energy\": [[50, 51], [], [52], [60]],\n",
    "    },\n",
    "    with_name=\"LorentzVector\",\n",
    "    behavior=vector.backends.awkward.behavior,\n",
    ")\n",
    "vec"
   ]
  },
  {
   "cell_type": "code",
   "execution_count": 118,
   "id": "9841c7c5-745d-46bb-8d03-07d16f9bc2e1",
   "metadata": {},
   "outputs": [
    {
     "data": {
      "text/html": [
       "<pre>[[{rho: 0.5, phi: 0.3, eta: 1.2, t: 25}, {rho: 1, phi: 0.4, ...}],\n",
       " [],\n",
       " [{rho: 1.5, phi: 0.5, eta: 1.6, t: 26}],\n",
       " [{rho: 2, phi: 0.6, eta: 3.4, t: 30}]]\n",
       "------------------------------------------------------------------\n",
       "type: 4 * var * LorentzVector[\n",
       "    rho: float64,\n",
       "    phi: float64,\n",
       "    eta: float64,\n",
       "    t: float64\n",
       "]</pre>"
      ],
      "text/plain": [
       "<LorentzVectorArray [[{rho: 0.5, phi: 0.3, ...}, ...], ...] type='4 * var *...'>"
      ]
     },
     "execution_count": 118,
     "metadata": {},
     "output_type": "execute_result"
    }
   ],
   "source": [
    "vec / 2"
   ]
  },
  {
   "cell_type": "code",
   "execution_count": 119,
   "id": "ce31f343-ced2-499a-8ae9-382ebe420351",
   "metadata": {},
   "outputs": [
    {
     "data": {
      "text/html": [
       "<pre>[[{rho: 1, phi: 0.3}, {rho: 2, phi: 0.4}],\n",
       " [],\n",
       " [{rho: 3, phi: 0.5}],\n",
       " [{rho: 4, phi: 0.6}]]\n",
       "------------------------------------------\n",
       "type: 4 * var * TwoVector[\n",
       "    rho: int64,\n",
       "    phi: float64\n",
       "]</pre>"
      ],
      "text/plain": [
       "<TwoVectorArray [[{rho: 1, phi: 0.3}, {...}], ...] type='4 * var * TwoVecto...'>"
      ]
     },
     "execution_count": 119,
     "metadata": {},
     "output_type": "execute_result"
    }
   ],
   "source": [
    "vec.like(vector.obj(x=1, y=2))"
   ]
  },
  {
   "cell_type": "code",
   "execution_count": 120,
   "id": "09a1492b-f3f3-4f24-965f-8973f98c6a2a",
   "metadata": {},
   "outputs": [
    {
     "data": {
      "text/html": [
       "<pre>[[{rho: 1, phi: 0.3, eta: 1.2}, {rho: 2, phi: 0.4, eta: 1.4}],\n",
       " [],\n",
       " [{rho: 3, phi: 0.5, eta: 1.6}],\n",
       " [{rho: 4, phi: 0.6, eta: 3.4}]]\n",
       "--------------------------------------------------------------\n",
       "type: 4 * var * ThreeVector[\n",
       "    rho: int64,\n",
       "    phi: float64,\n",
       "    eta: float64\n",
       "]</pre>"
      ],
      "text/plain": [
       "<ThreeVectorArray [[{rho: 1, phi: 0.3, ...}, ...], ...] type='4 * var * Thr...'>"
      ]
     },
     "execution_count": 120,
     "metadata": {},
     "output_type": "execute_result"
    }
   ],
   "source": [
    "vec.like(vector.obj(x=1, y=2, z=3))"
   ]
  },
  {
   "cell_type": "markdown",
   "id": "088b4d4a-882b-4082-bcef-04ea9c4e2a17",
   "metadata": {},
   "source": [
    "It is also possible to manually add binary operations in vector's behavior dict to enable binary operations."
   ]
  },
  {
   "cell_type": "code",
   "execution_count": 121,
   "id": "0b8e04b4-4117-4169-9d13-03dd0fea8161",
   "metadata": {},
   "outputs": [],
   "source": [
    "_binary_dispatch_cls = {\n",
    "     \"TwoVector\": TwoVector,\n",
    "     \"ThreeVector\": ThreeVector,\n",
    "     \"LorentzVector\": LorentzVector,\n",
    " }\n",
    "_rank = [TwoVector, ThreeVector, LorentzVector]\n",
    "\n",
    "for lhs, lhs_to in _binary_dispatch_cls.items():\n",
    "    for rhs, rhs_to in _binary_dispatch_cls.items():\n",
    "        out_to = min(lhs_to, rhs_to, key=_rank.index)\n",
    "        vector.backends.awkward.behavior[(np.add, lhs, rhs)] = out_to.add\n",
    "        vector.backends.awkward.behavior[(np.subtract, lhs, rhs)] = out_to.subtract"
   ]
  },
  {
   "cell_type": "code",
   "execution_count": 122,
   "id": "09c03e49-8233-492c-8fa7-45029a774388",
   "metadata": {},
   "outputs": [
    {
     "data": {
      "text/html": [
       "<pre>[[{rho: 2, phi: 0.3, eta: 1.2, t: 100}, {rho: 4, phi: 0.4, eta: 1.4, ...}],\n",
       " [],\n",
       " [{rho: 6, phi: 0.5, eta: 1.6, t: 104}],\n",
       " [{rho: 8, phi: 0.6, eta: 3.4, t: 120}]]\n",
       "---------------------------------------------------------------------------\n",
       "type: 4 * var * LorentzVector[\n",
       "    rho: float64,\n",
       "    phi: float64,\n",
       "    eta: float64,\n",
       "    t: int64\n",
       "]</pre>"
      ],
      "text/plain": [
       "<LorentzVectorArray [[{rho: 2, phi: 0.3, ...}, ...], ...] type='4 * var * L...'>"
      ]
     },
     "execution_count": 122,
     "metadata": {},
     "output_type": "execute_result"
    }
   ],
   "source": [
    "vec + vec"
   ]
  },
  {
   "cell_type": "code",
   "execution_count": 123,
   "id": "7c13bd26-95b5-4ae3-9f17-4818493f510a",
   "metadata": {},
   "outputs": [
    {
     "data": {
      "text/html": [
       "<pre>[[{rho: 2, phi: 0.3}, {rho: 4, phi: 0.4}],\n",
       " [],\n",
       " [{rho: 6, phi: 0.5}],\n",
       " [{rho: 8, phi: 0.6}]]\n",
       "------------------------------------------\n",
       "type: 4 * var * TwoVector[\n",
       "    rho: float64,\n",
       "    phi: float64\n",
       "]</pre>"
      ],
      "text/plain": [
       "<TwoVectorArray [[{rho: 2, phi: 0.3}, {...}], ...] type='4 * var * TwoVecto...'>"
      ]
     },
     "execution_count": 123,
     "metadata": {},
     "output_type": "execute_result"
    }
   ],
   "source": [
    "vec.to_2D() + vec.to_2D()"
   ]
  },
  {
   "cell_type": "markdown",
   "id": "bb6c289a",
   "metadata": {},
   "source": [
    "## Talks about vector\n",
    "\n",
    "- 9th October 2023 - [What’s new with Vector? First major release is out!](https://indi.to/35ym5) - [PyHEP 2023 (virtual)](https://indico.cern.ch/event/1252095/) [🎥](https://www.youtube.com/watch?v=JHEAb2R3xzE&list=PLKZ9c4ONm-VlAorAG8kR09ZqhMfHiH2LJ&index=10)\n",
    "- 13th September 2022 - [Constructing HEP vectors and analyzing HEP data using Vector](https://indi.to/bPmMc) - [PyHEP 2022 (virtual)](https://indico.cern.ch/event/1150631/) [🎥](https://www.youtube.com/watch?v=4iveMzrbe7s&list=PLKZ9c4ONm-VkohKG-skzEG_gklMaSgaO7&index=15)\n",
    "- 20th July 2022 - [Analysis Grand Challenge / HEP Scientific Python Ecosystem](https://indico.cern.ch/event/1151329/timetable/#3-analysis-grand-challenge-hep) - [DANCE/CoDaS@Snowmass 2022 computational and data science software training](https://indico.cern.ch/event/1151329/)\n",
    "- 25th April 2022 - [Foundation libraries (uproot, awkward, hist, mplhep)](https://indico.cern.ch/event/1126109/contributions/4780138/) - [IRIS-HEP AGC Tools 2022 Workshop](https://indico.cern.ch/event/1126109/) [🎥](https://www.youtube.com/watch?v=O9KvsDMKOmY)\n",
    "- 3rd November 2021 - [Data handling: uproot, awkward & vector](https://indico.cern.ch/event/1076231/contributions/4560398/) - [IRIS-HEP AGC Tools 2021 Workshop](https://indico.cern.ch/event/1076231/) [🎥](https://indico.cern.ch/event/1076231/contributions/4560398/attachments/2338579/4017718/agc_uproot_awk.mp4)\n"
   ]
  },
  {
   "cell_type": "markdown",
   "id": "particular-bangkok",
   "metadata": {},
   "source": [
    "### Status as of November 17, 2023\n",
    "\n",
    "First major release of vector is out and the package has reached a stable position. The work is spearheaded by bug reports and feature requests created on GitHub. It can only be improved by your feedback!"
   ]
  },
  {
   "cell_type": "code",
   "execution_count": null,
   "id": "7ab4764f-b030-4831-9568-e46e47faf40a",
   "metadata": {},
   "outputs": [],
   "source": []
  }
 ],
 "metadata": {
  "kernelspec": {
   "display_name": "Python 3 (ipykernel)",
   "language": "python",
   "name": "python3"
  },
  "language_info": {
   "codemirror_mode": {
    "name": "ipython",
    "version": 3
   },
   "file_extension": ".py",
   "mimetype": "text/x-python",
   "name": "python",
   "nbconvert_exporter": "python",
   "pygments_lexer": "ipython3",
   "version": "3.11.5"
  }
 },
 "nbformat": 4,
 "nbformat_minor": 5
}
