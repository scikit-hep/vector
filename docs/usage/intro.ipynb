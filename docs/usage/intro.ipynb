{
 "cells": [
  {
   "cell_type": "markdown",
   "id": "grave-attachment",
   "metadata": {},
   "source": [
    "# Introduction to Vector\n",
    "\n",
    "Vector is a Python library for 2D, 3D, and [Lorentz vectors](https://en.wikipedia.org/wiki/Special_relativity#Physics_in_spacetime), especially _arrays of vectors_, to solve common physics problems in a NumPy-like way.\n",
    "\n",
    "Main features of Vector:\n",
    "\n",
    "   * Pure Python with NumPy as its only dependency. This makes it easier to install.\n",
    "   * Vectors may be represented in a variety of coordinate systems: Cartesian, cylindrical, spherical, and any combination of these with time or proper time for Lorentz vectors. In all, there are 12 coordinate systems: {$x$-$y$ vs $\\rho$-$\\phi$ in the azimuthal plane} × {$z$ vs $\\theta$ vs $\\eta$ longitudinally} × {$t$ vs $\\tau$ temporally}.\n",
    "   * Uses names and conventions set by [ROOT](https://root.cern/)'s [TLorentzVector](https://root.cern.ch/doc/master/classTLorentzVector.html) and [Math::LorentzVector](https://root.cern.ch/doc/master/classROOT_1_1Math_1_1LorentzVector.html), as well as [scikit-hep/math](https://github.com/scikit-hep/scikit-hep/tree/master/skhep/math), [uproot-methods TLorentzVector](https://github.com/scikit-hep/uproot3-methods/blob/master/uproot3_methods/classes/TLorentzVector.py), [henryiii/hepvector](https://github.com/henryiii/hepvector), and [coffea.nanoevents.methods.vector](https://coffeateam.github.io/coffea/modules/coffea.nanoevents.methods.vector.html).\n",
    "   * Implemented on a variety of backends:\n",
    "      - pure Python objects\n",
    "      - NumPy arrays of vectors (as a [structured array](https://numpy.org/doc/stable/user/basics.rec.html) subclass)\n",
    "      - [Awkward Arrays](https://awkward-array.org/) of vectors\n",
    "      - potential for more: CuPy, TensorFlow, Torch, JAX...\n",
    "   * Implemented in [Numba](https://numba.pydata.org/) for JIT-compiled calculations on vectors.\n",
    "   * Distinction between geometrical vectors, which have a minimum of attribute and method names, and vectors representing momentum, which have synonyms like `pt` = `rho`, `energy` = `t`, `mass` = `tau`.\n",
    "\n",
    "This notebook requires Vector, NumPy, Awkward Array, and Numba to run."
   ]
  },
  {
   "cell_type": "code",
   "execution_count": 1,
   "id": "bound-michigan",
   "metadata": {},
   "outputs": [],
   "source": [
    "import vector\n",
    "import numpy as np\n",
    "import awkward as ak\n",
    "import numba as nb"
   ]
  },
  {
   "cell_type": "markdown",
   "id": "generic-emergency",
   "metadata": {},
   "source": [
    "## Constructing a vector or an array of vectors\n",
    "\n",
    "The easiest way to create one or many vectors is with a helper function:\n",
    "\n",
    "   * `vector.obj` to make a pure Python vector object,\n",
    "   * `vector.array` to make a NumPy array of vectors (lowercase, like `np.array`),\n",
    "   * `vector.Array` to make an Awkward Array of vectors (uppercase, like `ak.Array`)."
   ]
  },
  {
   "cell_type": "markdown",
   "id": "angry-virgin",
   "metadata": {},
   "source": [
    "### Pure Python vectors"
   ]
  },
  {
   "cell_type": "code",
   "execution_count": 2,
   "id": "seeing-theta",
   "metadata": {},
   "outputs": [
    {
     "data": {
      "text/plain": [
       "vector.obj(x=3, y=4)"
      ]
     },
     "execution_count": 2,
     "metadata": {},
     "output_type": "execute_result"
    }
   ],
   "source": [
    "vector.obj(x=3, y=4)   # Cartesian 2D vector"
   ]
  },
  {
   "cell_type": "code",
   "execution_count": 3,
   "id": "sound-amino",
   "metadata": {},
   "outputs": [
    {
     "data": {
      "text/plain": [
       "vector.obj(rho=5, phi=0.9273)"
      ]
     },
     "execution_count": 3,
     "metadata": {},
     "output_type": "execute_result"
    }
   ],
   "source": [
    "vector.obj(rho=5, phi=0.9273)   # same in polar coordinates"
   ]
  },
  {
   "cell_type": "code",
   "execution_count": 4,
   "id": "interim-bacon",
   "metadata": {},
   "outputs": [
    {
     "data": {
      "text/plain": [
       "True"
      ]
     },
     "execution_count": 4,
     "metadata": {},
     "output_type": "execute_result"
    }
   ],
   "source": [
    "vector.obj(x=3, y=4).isclose(vector.obj(rho=5, phi=0.9273))   # use \"isclose\" unless they are exactly equal"
   ]
  },
  {
   "cell_type": "code",
   "execution_count": 5,
   "id": "moved-opportunity",
   "metadata": {},
   "outputs": [
    {
     "data": {
      "text/plain": [
       "vector.obj(x=3, y=4, z=-2)"
      ]
     },
     "execution_count": 5,
     "metadata": {},
     "output_type": "execute_result"
    }
   ],
   "source": [
    "vector.obj(x=3, y=4, z=-2)   # Cartesian 3D vector"
   ]
  },
  {
   "cell_type": "code",
   "execution_count": 6,
   "id": "suitable-vegetable",
   "metadata": {},
   "outputs": [
    {
     "data": {
      "text/plain": [
       "vector.obj(x=3, y=4, z=-2, t=10)"
      ]
     },
     "execution_count": 6,
     "metadata": {},
     "output_type": "execute_result"
    }
   ],
   "source": [
    "vector.obj(x=3, y=4, z=-2, t=10)   # Cartesian 4D vector"
   ]
  },
  {
   "cell_type": "code",
   "execution_count": 7,
   "id": "small-chick",
   "metadata": {},
   "outputs": [
    {
     "data": {
      "text/plain": [
       "vector.obj(rho=5, phi=0.9273, eta=-0.39, t=10)"
      ]
     },
     "execution_count": 7,
     "metadata": {},
     "output_type": "execute_result"
    }
   ],
   "source": [
    "vector.obj(rho=5, phi=0.9273, eta=-0.39, t=10)   # in rho-phi-eta-t cylindrical coordinates"
   ]
  },
  {
   "cell_type": "code",
   "execution_count": 8,
   "id": "resistant-stations",
   "metadata": {},
   "outputs": [
    {
     "data": {
      "text/plain": [
       "vector.obj(pt=5, phi=0.9273, eta=-0.39, E=10)"
      ]
     },
     "execution_count": 8,
     "metadata": {},
     "output_type": "execute_result"
    }
   ],
   "source": [
    "vector.obj(pt=5, phi=0.9273, eta=-0.39, E=10)   # use momentum-synonyms to get a momentum vector"
   ]
  },
  {
   "cell_type": "code",
   "execution_count": 9,
   "id": "missing-parameter",
   "metadata": {},
   "outputs": [
    {
     "data": {
      "text/plain": [
       "False"
      ]
     },
     "execution_count": 9,
     "metadata": {},
     "output_type": "execute_result"
    }
   ],
   "source": [
    "vector.obj(rho=5, phi=0.9273, eta=-0.39, t=10) == vector.obj(pt=5, phi=0.9273, eta=-0.390035, E=10)"
   ]
  },
  {
   "cell_type": "code",
   "execution_count": 10,
   "id": "chronic-bridal",
   "metadata": {},
   "outputs": [
    {
     "data": {
      "text/plain": [
       "8.426194916448265"
      ]
     },
     "execution_count": 10,
     "metadata": {},
     "output_type": "execute_result"
    }
   ],
   "source": [
    "vector.obj(rho=5, phi=0.9273, eta=-0.39, t=10).tau   # geometrical vectors have to use geometrical names (\"tau\", not \"mass\")"
   ]
  },
  {
   "cell_type": "code",
   "execution_count": 11,
   "id": "cosmetic-personality",
   "metadata": {},
   "outputs": [
    {
     "data": {
      "text/plain": [
       "8.426194916448265"
      ]
     },
     "execution_count": 11,
     "metadata": {},
     "output_type": "execute_result"
    }
   ],
   "source": [
    "vector.obj(pt=5, phi=0.9273, eta=-0.39, E=10).mass   # momentum vectors can use momentum names (as well as geometrical ones)"
   ]
  },
  {
   "cell_type": "code",
   "execution_count": 12,
   "id": "compatible-findings",
   "metadata": {},
   "outputs": [
    {
     "data": {
      "text/plain": [
       "vector.obj(pt=5, phi=0.9273, theta=1.9513, mass=8.4262)"
      ]
     },
     "execution_count": 12,
     "metadata": {},
     "output_type": "execute_result"
    }
   ],
   "source": [
    "vector.obj(pt=5, phi=0.9273, theta=1.9513, mass=8.4262)   # any combination of azimuthal, longitudinal, and temporal coordinates is allowed"
   ]
  },
  {
   "cell_type": "code",
   "execution_count": 13,
   "id": "becoming-trinity",
   "metadata": {},
   "outputs": [
    {
     "data": {
      "text/plain": [
       "True"
      ]
     },
     "execution_count": 13,
     "metadata": {},
     "output_type": "execute_result"
    }
   ],
   "source": [
    "vector.obj(x=3, y=4, z=-2, t=10).isclose(vector.obj(pt=5, phi=0.9273, theta=1.9513, mass=8.4262))"
   ]
  },
  {
   "cell_type": "code",
   "execution_count": 14,
   "id": "adjacent-queens",
   "metadata": {},
   "outputs": [
    {
     "data": {
      "text/plain": [
       "(True, True, True, True, True, True, True, True, True, True)"
      ]
     },
     "execution_count": 14,
     "metadata": {},
     "output_type": "execute_result"
    }
   ],
   "source": [
    "# Test instance type for any level of granularity.\n",
    "(\n",
    "    isinstance(vector.obj(x=1.1, y=2.2), vector.Vector),                                    # is a vector or array of vectors\n",
    "    isinstance(vector.obj(x=1.1, y=2.2), vector.Vector2D),                                  # is 2D (not 3D or 4D)\n",
    "    isinstance(vector.obj(x=1.1, y=2.2), vector.VectorObject),                              # is a vector object (not an array)\n",
    "    isinstance(vector.obj(px=1.1, py=2.2), vector.Momentum),                                # has momentum synonyms\n",
    "    isinstance(vector.obj(x=1.1, y=2.2, z=3.3, t=4.4), vector.Planar),                      # has transverse plane (2D, 3D, or 4D)\n",
    "    isinstance(vector.obj(x=1.1, y=2.2, z=3.3, t=4.4), vector.Spatial),                     # has all spatial coordinates (3D or 4D)\n",
    "    isinstance(vector.obj(x=1.1, y=2.2, z=3.3, t=4.4), vector.Lorentz),                     # has temporal coordinates (4D)\n",
    "    isinstance(vector.obj(x=1.1, y=2.2, z=3.3, t=4.4).azimuthal, vector.AzimuthalXY),       # azimuthal coordinate type\n",
    "    isinstance(vector.obj(x=1.1, y=2.2, z=3.3, t=4.4).longitudinal, vector.LongitudinalZ),  # longitudinal coordinate type\n",
    "    isinstance(vector.obj(x=1.1, y=2.2, z=3.3, t=4.4).temporal, vector.TemporalT),          # temporal coordinate type\n",
    ")"
   ]
  },
  {
   "cell_type": "markdown",
   "id": "expensive-wheat",
   "metadata": {},
   "source": [
    "The allowed keyword arguments for 2D vectors are:\n",
    "\n",
    "   * `x` and `y` for Caresian azimuthal coordinates,\n",
    "   * `px` and `py` for momentum,\n",
    "   * `rho` and `phi` for polar azimuthal coordinates,\n",
    "   * `pt` and `phi` for momentum.\n",
    "\n",
    "For 3D vectors, you need the above and:\n",
    "\n",
    "   * `z` for the Cartesian longitudinal coordinate,\n",
    "   * `pz` for momentum,\n",
    "   * `theta` for the spherical polar angle (from $0$ to $\\pi$, inclusive),\n",
    "   * `eta` for pseudorapidity, which is a kind of spherical polar angle.\n",
    "\n",
    "For 4D vectors, you need the above and:\n",
    "\n",
    "   * `t` for the Cartesian temporal coordinate,\n",
    "   * `E` or `energy` to get four-momentum,\n",
    "   * `tau` for the \"proper time\" (temporal coordinate in the vector's rest coordinate system),\n",
    "   * `M` or `mass` to get four-moemtum.\n",
    "\n",
    "Since momentum vectors have momentum-synonyms _in addition_ to the geometrical names, any momentum-synonym will make the whole vector a momentum vector."
   ]
  },
  {
   "cell_type": "markdown",
   "id": "turkish-yemen",
   "metadata": {},
   "source": [
    "If you want to bypass the dimension and coordinate system inference through keyword arguments (e.g. for static typing), you can use specialized constructors:"
   ]
  },
  {
   "cell_type": "code",
   "execution_count": 15,
   "id": "portuguese-damage",
   "metadata": {},
   "outputs": [
    {
     "data": {
      "text/plain": [
       "vector.obj(x=1.1, y=2.2)"
      ]
     },
     "execution_count": 15,
     "metadata": {},
     "output_type": "execute_result"
    }
   ],
   "source": [
    "vector.VectorObject2D.from_xy(1.1, 2.2)"
   ]
  },
  {
   "cell_type": "code",
   "execution_count": 16,
   "id": "practical-terrorist",
   "metadata": {},
   "outputs": [
    {
     "data": {
      "text/plain": [
       "vector.obj(pt=1.1, phi=2.2, pz=3.3)"
      ]
     },
     "execution_count": 16,
     "metadata": {},
     "output_type": "execute_result"
    }
   ],
   "source": [
    "vector.MomentumObject3D.from_rhophiz(1.1, 2.2, 3.3)"
   ]
  },
  {
   "cell_type": "code",
   "execution_count": 17,
   "id": "promising-metabolism",
   "metadata": {},
   "outputs": [
    {
     "data": {
      "text/plain": [
       "vector.obj(x=1.1, y=2.2, eta=3.3, tau=4.4)"
      ]
     },
     "execution_count": 17,
     "metadata": {},
     "output_type": "execute_result"
    }
   ],
   "source": [
    "vector.VectorObject4D.from_xyetatau(1.1, 2.2, 3.3, 4.4)"
   ]
  },
  {
   "cell_type": "markdown",
   "id": "mysterious-nicaragua",
   "metadata": {},
   "source": [
    "and so on, for all combinations of azimuthal, longitudinal, and temporal coordinates, geometric and momentum-flavored."
   ]
  },
  {
   "cell_type": "markdown",
   "id": "skilled-criticism",
   "metadata": {},
   "source": [
    "### NumPy arrays of vectors"
   ]
  },
  {
   "cell_type": "code",
   "execution_count": 18,
   "id": "historic-default",
   "metadata": {},
   "outputs": [
    {
     "data": {
      "text/plain": [
       "VectorNumpy2D([(1.1, 2.1), (1.2, 2.2), (1.3, 2.3), (1.4, 2.4), (1.5, 2.5)],\n",
       "              dtype=[('x', '<f8'), ('y', '<f8')])"
      ]
     },
     "execution_count": 18,
     "metadata": {},
     "output_type": "execute_result"
    }
   ],
   "source": [
    "# NumPy-like arguments (literally passed through to NumPy)\n",
    "vector.array([\n",
    "    (1.1, 2.1), (1.2, 2.2), (1.3, 2.3), (1.4, 2.4), (1.5, 2.5)\n",
    "], dtype=[(\"x\", float), (\"y\", float)])"
   ]
  },
  {
   "cell_type": "code",
   "execution_count": 19,
   "id": "established-constraint",
   "metadata": {},
   "outputs": [
    {
     "data": {
      "text/plain": [
       "VectorNumpy2D([(1.1, 2.1), (1.2, 2.2), (1.3, 2.3), (1.4, 2.4), (1.5, 2.5)],\n",
       "              dtype=[('x', '<f8'), ('y', '<f8')])"
      ]
     },
     "execution_count": 19,
     "metadata": {},
     "output_type": "execute_result"
    }
   ],
   "source": [
    "# Pandas-like arguments (dict from names to column arrays)\n",
    "vector.array({\"x\": [1.1, 1.2, 1.3, 1.4, 1.5], \"y\": [2.1, 2.2, 2.3, 2.4, 2.5]})"
   ]
  },
  {
   "cell_type": "code",
   "execution_count": 20,
   "id": "opening-toronto",
   "metadata": {},
   "outputs": [
    {
     "data": {
      "text/plain": [
       "VectorNumpy4D([(1.1, 2.1, 3.1, 4.1), (1.2, 2.2, 3.2, 4.2), (1.3, 2.3, 3.3, 4.3),\n",
       "               (1.4, 2.4, 3.4, 4.4), (1.5, 2.5, 3.5, 4.5)],\n",
       "              dtype=[('x', '<f8'), ('y', '<f8'), ('z', '<f8'), ('t', '<f8')])"
      ]
     },
     "execution_count": 20,
     "metadata": {},
     "output_type": "execute_result"
    }
   ],
   "source": [
    "# As with objects, the coordinate system and dimension is taken from the names of the fields.\n",
    "vector.array({\n",
    "    \"x\": [1.1, 1.2, 1.3, 1.4, 1.5],\n",
    "    \"y\": [2.1, 2.2, 2.3, 2.4, 2.5],\n",
    "    \"z\": [3.1, 3.2, 3.3, 3.4, 3.5],\n",
    "    \"t\": [4.1, 4.2, 4.3, 4.4, 4.5],\n",
    "})"
   ]
  },
  {
   "cell_type": "code",
   "execution_count": 21,
   "id": "unable-thesaurus",
   "metadata": {},
   "outputs": [
    {
     "data": {
      "text/plain": [
       "MomentumNumpy4D([(1.1, 2.1, 3.1, 4.1), (1.2, 2.2, 3.2, 4.2), (1.3, 2.3, 3.3, 4.3),\n",
       "                 (1.4, 2.4, 3.4, 4.4), (1.5, 2.5, 3.5, 4.5)],\n",
       "                dtype=[('rho', '<f8'), ('phi', '<f8'), ('eta', '<f8'), ('tau', '<f8')])"
      ]
     },
     "execution_count": 21,
     "metadata": {},
     "output_type": "execute_result"
    }
   ],
   "source": [
    "vector.array({\n",
    "    \"pt\": [1.1, 1.2, 1.3, 1.4, 1.5],\n",
    "    \"phi\": [2.1, 2.2, 2.3, 2.4, 2.5],\n",
    "    \"eta\": [3.1, 3.2, 3.3, 3.4, 3.5],\n",
    "    \"M\": [4.1, 4.2, 4.3, 4.4, 4.5],\n",
    "})"
   ]
  },
  {
   "cell_type": "markdown",
   "id": "identical-africa",
   "metadata": {},
   "source": [
    "Existing NumPy arrays can be viewed as arrays of vectors, but it needs to be a [structured array](https://numpy.org/doc/stable/user/basics.rec.html) with recognized field names."
   ]
  },
  {
   "cell_type": "code",
   "execution_count": 22,
   "id": "psychological-sequence",
   "metadata": {},
   "outputs": [
    {
     "data": {
      "text/plain": [
       "VectorNumpy4D([( 0. ,  0.1,  0.2,  0.3), ( 0.4,  0.5,  0.6,  0.7),\n",
       "               ( 0.8,  0.9,  1. ,  1.1), ( 1.2,  1.3,  1.4,  1.5),\n",
       "               ( 1.6,  1.7,  1.8,  1.9), ( 2. ,  2.1,  2.2,  2.3),\n",
       "               ( 2.4,  2.5,  2.6,  2.7), ( 2.8,  2.9,  3. ,  3.1),\n",
       "               ( 3.2,  3.3,  3.4,  3.5), ( 3.6,  3.7,  3.8,  3.9),\n",
       "               ( 4. ,  4.1,  4.2,  4.3), ( 4.4,  4.5,  4.6,  4.7),\n",
       "               ( 4.8,  4.9,  5. ,  5.1), ( 5.2,  5.3,  5.4,  5.5),\n",
       "               ( 5.6,  5.7,  5.8,  5.9), ( 6. ,  6.1,  6.2,  6.3),\n",
       "               ( 6.4,  6.5,  6.6,  6.7), ( 6.8,  6.9,  7. ,  7.1),\n",
       "               ( 7.2,  7.3,  7.4,  7.5), ( 7.6,  7.7,  7.8,  7.9),\n",
       "               ( 8. ,  8.1,  8.2,  8.3), ( 8.4,  8.5,  8.6,  8.7),\n",
       "               ( 8.8,  8.9,  9. ,  9.1), ( 9.2,  9.3,  9.4,  9.5),\n",
       "               ( 9.6,  9.7,  9.8,  9.9), (10. , 10.1, 10.2, 10.3),\n",
       "               (10.4, 10.5, 10.6, 10.7), (10.8, 10.9, 11. , 11.1),\n",
       "               (11.2, 11.3, 11.4, 11.5), (11.6, 11.7, 11.8, 11.9),\n",
       "               (12. , 12.1, 12.2, 12.3), (12.4, 12.5, 12.6, 12.7),\n",
       "               (12.8, 12.9, 13. , 13.1), (13.2, 13.3, 13.4, 13.5),\n",
       "               (13.6, 13.7, 13.8, 13.9), (14. , 14.1, 14.2, 14.3),\n",
       "               (14.4, 14.5, 14.6, 14.7), (14.8, 14.9, 15. , 15.1),\n",
       "               (15.2, 15.3, 15.4, 15.5), (15.6, 15.7, 15.8, 15.9),\n",
       "               (16. , 16.1, 16.2, 16.3), (16.4, 16.5, 16.6, 16.7),\n",
       "               (16.8, 16.9, 17. , 17.1), (17.2, 17.3, 17.4, 17.5),\n",
       "               (17.6, 17.7, 17.8, 17.9), (18. , 18.1, 18.2, 18.3),\n",
       "               (18.4, 18.5, 18.6, 18.7), (18.8, 18.9, 19. , 19.1),\n",
       "               (19.2, 19.3, 19.4, 19.5), (19.6, 19.7, 19.8, 19.9),\n",
       "               (20. , 20.1, 20.2, 20.3), (20.4, 20.5, 20.6, 20.7),\n",
       "               (20.8, 20.9, 21. , 21.1), (21.2, 21.3, 21.4, 21.5),\n",
       "               (21.6, 21.7, 21.8, 21.9), (22. , 22.1, 22.2, 22.3),\n",
       "               (22.4, 22.5, 22.6, 22.7), (22.8, 22.9, 23. , 23.1),\n",
       "               (23.2, 23.3, 23.4, 23.5), (23.6, 23.7, 23.8, 23.9)],\n",
       "              dtype=[('x', '<f8'), ('y', '<f8'), ('z', '<f8'), ('t', '<f8')])"
      ]
     },
     "execution_count": 22,
     "metadata": {},
     "output_type": "execute_result"
    }
   ],
   "source": [
    "# NumPy array         # interpret groups of four values as named fields              # give it vector properties and methods\n",
    "np.arange(0, 24, 0.1).view([(\"x\", float), (\"y\", float), (\"z\", float), (\"t\", float)]).view(vector.VectorNumpy4D)"
   ]
  },
  {
   "cell_type": "markdown",
   "id": "based-statement",
   "metadata": {},
   "source": [
    "Since `VectorNumpy2D`, `VectorNumpy3D`, `VectorNumpy4D`, and their momentum equivalents are NumPy array subclasses, all of the normal NumPy methods and functions work on them."
   ]
  },
  {
   "cell_type": "code",
   "execution_count": 23,
   "id": "southeast-afternoon",
   "metadata": {},
   "outputs": [
    {
     "data": {
      "text/plain": [
       "VectorNumpy4D([[[( 0. ,  0.1,  0.2,  0.3), ( 0.4,  0.5,  0.6,  0.7)],\n",
       "                [( 0.8,  0.9,  1. ,  1.1), ( 1.2,  1.3,  1.4,  1.5)],\n",
       "                [( 1.6,  1.7,  1.8,  1.9), ( 2. ,  2.1,  2.2,  2.3)],\n",
       "                [( 2.4,  2.5,  2.6,  2.7), ( 2.8,  2.9,  3. ,  3.1)],\n",
       "                [( 3.2,  3.3,  3.4,  3.5), ( 3.6,  3.7,  3.8,  3.9)]],\n",
       "\n",
       "               [[( 4. ,  4.1,  4.2,  4.3), ( 4.4,  4.5,  4.6,  4.7)],\n",
       "                [( 4.8,  4.9,  5. ,  5.1), ( 5.2,  5.3,  5.4,  5.5)],\n",
       "                [( 5.6,  5.7,  5.8,  5.9), ( 6. ,  6.1,  6.2,  6.3)],\n",
       "                [( 6.4,  6.5,  6.6,  6.7), ( 6.8,  6.9,  7. ,  7.1)],\n",
       "                [( 7.2,  7.3,  7.4,  7.5), ( 7.6,  7.7,  7.8,  7.9)]],\n",
       "\n",
       "               [[( 8. ,  8.1,  8.2,  8.3), ( 8.4,  8.5,  8.6,  8.7)],\n",
       "                [( 8.8,  8.9,  9. ,  9.1), ( 9.2,  9.3,  9.4,  9.5)],\n",
       "                [( 9.6,  9.7,  9.8,  9.9), (10. , 10.1, 10.2, 10.3)],\n",
       "                [(10.4, 10.5, 10.6, 10.7), (10.8, 10.9, 11. , 11.1)],\n",
       "                [(11.2, 11.3, 11.4, 11.5), (11.6, 11.7, 11.8, 11.9)]],\n",
       "\n",
       "               [[(12. , 12.1, 12.2, 12.3), (12.4, 12.5, 12.6, 12.7)],\n",
       "                [(12.8, 12.9, 13. , 13.1), (13.2, 13.3, 13.4, 13.5)],\n",
       "                [(13.6, 13.7, 13.8, 13.9), (14. , 14.1, 14.2, 14.3)],\n",
       "                [(14.4, 14.5, 14.6, 14.7), (14.8, 14.9, 15. , 15.1)],\n",
       "                [(15.2, 15.3, 15.4, 15.5), (15.6, 15.7, 15.8, 15.9)]],\n",
       "\n",
       "               [[(16. , 16.1, 16.2, 16.3), (16.4, 16.5, 16.6, 16.7)],\n",
       "                [(16.8, 16.9, 17. , 17.1), (17.2, 17.3, 17.4, 17.5)],\n",
       "                [(17.6, 17.7, 17.8, 17.9), (18. , 18.1, 18.2, 18.3)],\n",
       "                [(18.4, 18.5, 18.6, 18.7), (18.8, 18.9, 19. , 19.1)],\n",
       "                [(19.2, 19.3, 19.4, 19.5), (19.6, 19.7, 19.8, 19.9)]],\n",
       "\n",
       "               [[(20. , 20.1, 20.2, 20.3), (20.4, 20.5, 20.6, 20.7)],\n",
       "                [(20.8, 20.9, 21. , 21.1), (21.2, 21.3, 21.4, 21.5)],\n",
       "                [(21.6, 21.7, 21.8, 21.9), (22. , 22.1, 22.2, 22.3)],\n",
       "                [(22.4, 22.5, 22.6, 22.7), (22.8, 22.9, 23. , 23.1)],\n",
       "                [(23.2, 23.3, 23.4, 23.5), (23.6, 23.7, 23.8, 23.9)]]],\n",
       "              dtype=[('x', '<f8'), ('y', '<f8'), ('z', '<f8'), ('t', '<f8')])"
      ]
     },
     "execution_count": 23,
     "metadata": {},
     "output_type": "execute_result"
    }
   ],
   "source": [
    "np.arange(0, 24, 0.1).view([(\"x\", float), (\"y\", float), (\"z\", float), (\"t\", float)]).view(vector.VectorNumpy4D).reshape(6, 5, 2)"
   ]
  },
  {
   "cell_type": "markdown",
   "id": "instructional-pattern",
   "metadata": {},
   "source": [
    "All of the keyword arguments and rules that apply to `vector.obj` construction apply to `vector.array` dtypes.\n",
    "\n",
    "Geometrical names are used in the dtype, even if momentum-synonyms are used in construction."
   ]
  },
  {
   "cell_type": "code",
   "execution_count": 24,
   "id": "complimentary-istanbul",
   "metadata": {},
   "outputs": [
    {
     "data": {
      "text/plain": [
       "MomentumNumpy3D([(1., 1.1, 0.1), (2., 2.2, 0.2), (3., 3.3, 0.3), (4., 4.4, 0.4)],\n",
       "                dtype=[('x', '<f8'), ('y', '<f8'), ('z', '<f8')])"
      ]
     },
     "execution_count": 24,
     "metadata": {},
     "output_type": "execute_result"
    }
   ],
   "source": [
    "vector.array({\"px\": [1, 2, 3, 4], \"py\": [1.1, 2.2, 3.3, 4.4], \"pz\": [0.1, 0.2, 0.3, 0.4]})"
   ]
  },
  {
   "cell_type": "markdown",
   "id": "revolutionary-discrimination",
   "metadata": {},
   "source": [
    "### Awkward Arrays of vectors\n",
    "\n",
    "[Awkward Arrays](https://awkward-array.org/) are arrays with more complex data structures than NumPy allows, such as variable-length lists, nested records, missing and even heterogeneous data (multiple data types: use sparingly).\n",
    "\n",
    "The `vector.Array` function behaves exactly like the [ak.Array](https://awkward-array.readthedocs.io/en/latest/_auto/ak.Array.html) constructor, except that it makes arrays of vectors."
   ]
  },
  {
   "cell_type": "code",
   "execution_count": 25,
   "id": "surprised-cover",
   "metadata": {},
   "outputs": [
    {
     "data": {
      "text/plain": [
       "<VectorArray3D [[{x: 1, y: 1.1, z: 0.1, ... z: 0.6}]] type='4 * var * Vector3D[\"...'>"
      ]
     },
     "execution_count": 25,
     "metadata": {},
     "output_type": "execute_result"
    }
   ],
   "source": [
    "vector.Array([\n",
    "    [{\"x\": 1, \"y\": 1.1, \"z\": 0.1}, {\"x\": 2, \"y\": 2.2, \"z\": 0.2}],\n",
    "    [],\n",
    "    [{\"x\": 3, \"y\": 3.3, \"z\": 0.3}],\n",
    "    [{\"x\": 4, \"y\": 4.4, \"z\": 0.4}, {\"x\": 5, \"y\": 5.5, \"z\": 0.5}, {\"x\": 6, \"y\": 6.6, \"z\": 0.6}],\n",
    "])"
   ]
  },
  {
   "cell_type": "markdown",
   "id": "thirty-digest",
   "metadata": {},
   "source": [
    "If you want _any_ records named \"`Vector2D`\", \"`Vector3D`\", \"`Vector4D`\", \"`Momentum2D`\", \"`Momentum3D`\", or \"`Momentum4D`\" to be interpreted as vectors, register the behaviors globally."
   ]
  },
  {
   "cell_type": "code",
   "execution_count": 26,
   "id": "separated-gibraltar",
   "metadata": {},
   "outputs": [],
   "source": [
    "vector.register_awkward()"
   ]
  },
  {
   "cell_type": "code",
   "execution_count": 27,
   "id": "neutral-belief",
   "metadata": {},
   "outputs": [
    {
     "data": {
      "text/plain": [
       "<VectorArray3D [[{x: 1, y: 1.1, z: 0.1, ... z: 0.6}]] type='4 * var * Vector3D[\"...'>"
      ]
     },
     "execution_count": 27,
     "metadata": {},
     "output_type": "execute_result"
    }
   ],
   "source": [
    "ak.Array([\n",
    "    [{\"x\": 1, \"y\": 1.1, \"z\": 0.1}, {\"x\": 2, \"y\": 2.2, \"z\": 0.2}],\n",
    "    [],\n",
    "    [{\"x\": 3, \"y\": 3.3, \"z\": 0.3}],\n",
    "    [{\"x\": 4, \"y\": 4.4, \"z\": 0.4}, {\"x\": 5, \"y\": 5.5, \"z\": 0.5}, {\"x\": 6, \"y\": 6.6, \"z\": 0.6}],\n",
    "],\n",
    "    with_name=\"Vector3D\"\n",
    ")"
   ]
  },
  {
   "cell_type": "markdown",
   "id": "fresh-plate",
   "metadata": {},
   "source": [
    "All of the keyword arguments and rules that apply to `vector.obj` construction apply to `vector.Array` field names."
   ]
  },
  {
   "cell_type": "markdown",
   "id": "chemical-david",
   "metadata": {},
   "source": [
    "## Vector properties\n",
    "\n",
    "Any geometrical coordinate can be computed from vectors in any coordinate system; they'll be provided or computed as needed."
   ]
  },
  {
   "cell_type": "code",
   "execution_count": 28,
   "id": "thick-operator",
   "metadata": {},
   "outputs": [
    {
     "data": {
      "text/plain": [
       "5.0"
      ]
     },
     "execution_count": 28,
     "metadata": {},
     "output_type": "execute_result"
    }
   ],
   "source": [
    "vector.obj(x=3, y=4).rho"
   ]
  },
  {
   "cell_type": "code",
   "execution_count": 29,
   "id": "postal-mailing",
   "metadata": {},
   "outputs": [
    {
     "data": {
      "text/plain": [
       "2.9999808719721477"
      ]
     },
     "execution_count": 29,
     "metadata": {},
     "output_type": "execute_result"
    }
   ],
   "source": [
    "vector.obj(rho=5, phi=0.9273).x"
   ]
  },
  {
   "cell_type": "code",
   "execution_count": 30,
   "id": "advanced-audience",
   "metadata": {},
   "outputs": [
    {
     "data": {
      "text/plain": [
       "4.000014345949428"
      ]
     },
     "execution_count": 30,
     "metadata": {},
     "output_type": "execute_result"
    }
   ],
   "source": [
    "vector.obj(rho=5, phi=0.9273).y"
   ]
  },
  {
   "cell_type": "code",
   "execution_count": 31,
   "id": "informational-madison",
   "metadata": {},
   "outputs": [
    {
     "data": {
      "text/plain": [
       "0.6405223126794245"
      ]
     },
     "execution_count": 31,
     "metadata": {},
     "output_type": "execute_result"
    }
   ],
   "source": [
    "vector.obj(x=1, y=2, z=3).theta"
   ]
  },
  {
   "cell_type": "code",
   "execution_count": 32,
   "id": "north-myanmar",
   "metadata": {},
   "outputs": [
    {
     "data": {
      "text/plain": [
       "1.1035868415601453"
      ]
     },
     "execution_count": 32,
     "metadata": {},
     "output_type": "execute_result"
    }
   ],
   "source": [
    "vector.obj(x=1, y=2, z=3).eta"
   ]
  },
  {
   "cell_type": "markdown",
   "id": "optional-signal",
   "metadata": {},
   "source": [
    "Some properties are not coordinates, but derived from them."
   ]
  },
  {
   "cell_type": "code",
   "execution_count": 33,
   "id": "miniature-attitude",
   "metadata": {},
   "outputs": [
    {
     "data": {
      "text/plain": [
       "0.8017837257372732"
      ]
     },
     "execution_count": 33,
     "metadata": {},
     "output_type": "execute_result"
    }
   ],
   "source": [
    "vector.obj(x=1, y=2, z=3).costheta"
   ]
  },
  {
   "cell_type": "code",
   "execution_count": 34,
   "id": "employed-ireland",
   "metadata": {},
   "outputs": [
    {
     "data": {
      "text/plain": [
       "3.7416573867739413"
      ]
     },
     "execution_count": 34,
     "metadata": {},
     "output_type": "execute_result"
    }
   ],
   "source": [
    "vector.obj(x=1, y=2, z=3).mag   # spatial magnitude"
   ]
  },
  {
   "cell_type": "code",
   "execution_count": 35,
   "id": "covered-rebecca",
   "metadata": {},
   "outputs": [
    {
     "data": {
      "text/plain": [
       "14"
      ]
     },
     "execution_count": 35,
     "metadata": {},
     "output_type": "execute_result"
    }
   ],
   "source": [
    "vector.obj(x=1, y=2, z=3).mag2   # spatial magnitude squared"
   ]
  },
  {
   "cell_type": "markdown",
   "id": "varied-texas",
   "metadata": {},
   "source": [
    "These properties are provided because they can be computed faster or with more numerical stability in different coordinate systems. For instance, the magnitude ignores `phi` in polar coordinates."
   ]
  },
  {
   "cell_type": "code",
   "execution_count": 36,
   "id": "solved-aquatic",
   "metadata": {},
   "outputs": [
    {
     "data": {
      "text/plain": [
       "25"
      ]
     },
     "execution_count": 36,
     "metadata": {},
     "output_type": "execute_result"
    }
   ],
   "source": [
    "vector.obj(rho=3, phi=0.123456789, z=4).mag2"
   ]
  },
  {
   "cell_type": "markdown",
   "id": "defined-elder",
   "metadata": {},
   "source": [
    "Momentum vectors have geometrical properties as well as their momentum-synonyms."
   ]
  },
  {
   "cell_type": "code",
   "execution_count": 37,
   "id": "dominican-diameter",
   "metadata": {},
   "outputs": [
    {
     "data": {
      "text/plain": [
       "5.0"
      ]
     },
     "execution_count": 37,
     "metadata": {},
     "output_type": "execute_result"
    }
   ],
   "source": [
    "vector.obj(px=3, py=4).rho"
   ]
  },
  {
   "cell_type": "code",
   "execution_count": 38,
   "id": "warming-punch",
   "metadata": {},
   "outputs": [
    {
     "data": {
      "text/plain": [
       "5.0"
      ]
     },
     "execution_count": 38,
     "metadata": {},
     "output_type": "execute_result"
    }
   ],
   "source": [
    "vector.obj(px=3, py=4).pt"
   ]
  },
  {
   "cell_type": "code",
   "execution_count": 39,
   "id": "formed-spoke",
   "metadata": {},
   "outputs": [
    {
     "data": {
      "text/plain": [
       "1.4142135623730951"
      ]
     },
     "execution_count": 39,
     "metadata": {},
     "output_type": "execute_result"
    }
   ],
   "source": [
    "vector.obj(x=1, y=2, z=3, E=4).tau"
   ]
  },
  {
   "cell_type": "code",
   "execution_count": 40,
   "id": "heavy-memory",
   "metadata": {},
   "outputs": [
    {
     "data": {
      "text/plain": [
       "1.4142135623730951"
      ]
     },
     "execution_count": 40,
     "metadata": {},
     "output_type": "execute_result"
    }
   ],
   "source": [
    "vector.obj(x=1, y=2, z=3, E=4).mass"
   ]
  },
  {
   "cell_type": "markdown",
   "id": "brown-gates",
   "metadata": {},
   "source": [
    "Here's the key thing: _arrays of vectors return arrays of coordinates_."
   ]
  },
  {
   "cell_type": "code",
   "execution_count": 41,
   "id": "affiliated-promotion",
   "metadata": {},
   "outputs": [
    {
     "data": {
      "text/plain": [
       "array([1.50363023, 1.50363023, 1.50363023, 1.50363023, 1.50363023])"
      ]
     },
     "execution_count": 41,
     "metadata": {},
     "output_type": "execute_result"
    }
   ],
   "source": [
    "vector.array({\n",
    "    \"x\": [1.0, 2.0, 3.0, 4.0, 5.0],\n",
    "    \"y\": [1.1, 2.2, 3.3, 4.4, 5.5],\n",
    "    \"z\": [0.1, 0.2, 0.3, 0.4, 0.5],\n",
    "}).theta"
   ]
  },
  {
   "cell_type": "code",
   "execution_count": 42,
   "id": "pretty-bangladesh",
   "metadata": {},
   "outputs": [
    {
     "data": {
      "text/plain": [
       "<Array [[1.5, 1.5], [], [1.5], [1.5, 1.5]] type='4 * var * float64'>"
      ]
     },
     "execution_count": 42,
     "metadata": {},
     "output_type": "execute_result"
    }
   ],
   "source": [
    "vector.Array([\n",
    "    [{\"x\": 1, \"y\": 1.1, \"z\": 0.1}, {\"x\": 2, \"y\": 2.2, \"z\": 0.2}],\n",
    "    [],\n",
    "    [{\"x\": 3, \"y\": 3.3, \"z\": 0.3}],\n",
    "    [{\"x\": 4, \"y\": 4.4, \"z\": 0.4}, {\"x\": 5, \"y\": 5.5, \"z\": 0.5}],\n",
    "]).theta"
   ]
  },
  {
   "cell_type": "code",
   "execution_count": 43,
   "id": "instrumental-uganda",
   "metadata": {},
   "outputs": [
    {
     "data": {
      "text/plain": [
       "MomentumNumpy3D([[[( 2.32744987,  0.75101383, -0.05937169),\n",
       "                   (-0.8578141 , -0.19743474, -1.84228765)],\n",
       "                  [( 0.03639962,  2.74216999, -0.09765372),\n",
       "                   (-1.7624312 ,  1.38389261,  1.00360006)],\n",
       "                  [( 0.60948167,  0.2109902 ,  0.50667375),\n",
       "                   (-1.26835736,  1.43560491, -1.73052121)],\n",
       "                  [(-0.44149807,  1.61983682, -0.97526262),\n",
       "                   (-1.41896808,  0.4057827 , -0.235338  )],\n",
       "                  [( 0.973788  , -0.44063483,  1.32767909),\n",
       "                   ( 1.39619866, -0.28067092, -1.43345712)]],\n",
       "\n",
       "                 [[(-1.25358446, -1.08241915,  0.82494544),\n",
       "                   (-1.73944308,  1.63505928,  0.29552932)],\n",
       "                  [( 0.74965958,  0.62528808,  1.39327302),\n",
       "                   (-0.28144422,  0.55074218,  0.0244579 )],\n",
       "                  [( 0.12486935,  0.01799187,  1.33914864),\n",
       "                   ( 1.62448613,  0.24663286, -0.4770546 )],\n",
       "                  [( 0.17436025, -1.09964698, -1.39159738),\n",
       "                   (-0.49343403,  1.58435039,  0.47179798)],\n",
       "                  [(-0.1901133 , -0.3606034 ,  0.903999  ),\n",
       "                   ( 0.7617666 , -1.41502108, -0.3897819 )]],\n",
       "\n",
       "                 [[(-0.11274025, -2.91475911,  0.87339899),\n",
       "                   ( 0.21504134, -0.03835964, -1.2988116 )],\n",
       "                  [( 1.06592837, -0.32063642,  0.41014392),\n",
       "                   ( 0.13133567,  0.65087463, -1.85576739)],\n",
       "                  [( 1.24376371,  1.28372238,  0.18588066),\n",
       "                   ( 0.69116605, -0.40656586, -1.81700475)],\n",
       "                  [(-1.55062337, -0.9360731 ,  1.53182137),\n",
       "                   (-0.06423097,  1.89661936, -3.51790715)],\n",
       "                  [( 1.27417254, -0.97099184, -1.07765187),\n",
       "                   ( 0.28629665,  0.51473589, -1.20369489)]],\n",
       "\n",
       "                 [[( 0.51611389,  0.18653707,  1.02491949),\n",
       "                   ( 0.1136404 , -0.62435744, -0.53334284)],\n",
       "                  [( 0.19602143, -0.73999623, -0.62134697),\n",
       "                   (-0.27459252,  0.90340687,  0.2289187 )],\n",
       "                  [(-0.81947437,  0.86417113,  0.76108696),\n",
       "                   ( 0.12327526,  0.64531018,  0.72971376)],\n",
       "                  [( 0.79344253, -0.42466551,  0.47671911),\n",
       "                   (-1.19944086, -0.08014599, -1.10828807)],\n",
       "                  [(-1.86205223, -0.50532302, -1.36575325),\n",
       "                   (-1.66436813,  1.19817602, -0.82068847)]],\n",
       "\n",
       "                 [[( 1.67832237,  0.11244669,  1.14469464),\n",
       "                   (-0.11572364,  0.76255302,  0.65728525)],\n",
       "                  [( 1.97687465, -0.20163402, -0.37441315),\n",
       "                   ( 1.51180679,  1.93334606, -0.07769797)],\n",
       "                  [(-0.54079297, -1.20979291, -1.00207211),\n",
       "                   ( 0.99831922, -1.08344717, -0.44365801)],\n",
       "                  [( 0.14982688,  0.17717204, -0.07214991),\n",
       "                   (-1.01748761, -2.16285955, -0.19226839)],\n",
       "                  [( 0.2558173 , -0.38497082, -0.28460159),\n",
       "                   (-1.08172968, -0.38839214,  0.11604394)]]],\n",
       "                dtype=[('x', '<f8'), ('y', '<f8'), ('z', '<f8')])"
      ]
     },
     "execution_count": 43,
     "metadata": {},
     "output_type": "execute_result"
    }
   ],
   "source": [
    "# Make a large, random NumPy array of 3D momentum vectors.\n",
    "array = np.random.normal(0, 1, 150).view([(x, float) for x in (\"x\", \"y\", \"z\")]).view(vector.MomentumNumpy3D).reshape(5, 5, 2)\n",
    "array"
   ]
  },
  {
   "cell_type": "code",
   "execution_count": 44,
   "id": "gross-walker",
   "metadata": {},
   "outputs": [
    {
     "data": {
      "text/plain": [
       "array([[[2.44561744, 0.88024174],\n",
       "        [2.74241156, 2.24083076],\n",
       "        [0.64496882, 1.91564398],\n",
       "        [1.67892581, 1.47584891],\n",
       "        [1.06884149, 1.42413021]],\n",
       "\n",
       "       [[1.65623223, 2.38727482],\n",
       "        [0.97620421, 0.61848831],\n",
       "        [0.12615888, 1.64310162],\n",
       "        [1.11338447, 1.65941053],\n",
       "        [0.40764921, 1.60703859]],\n",
       "\n",
       "       [[2.91693864, 0.2184359 ],\n",
       "        [1.11310871, 0.66399311],\n",
       "        [1.78742589, 0.80187674],\n",
       "        [1.8112608 , 1.89770667],\n",
       "        [1.60198028, 0.58899814]],\n",
       "\n",
       "       [[0.54878923, 0.63461512],\n",
       "        [0.76551866, 0.94421663],\n",
       "        [1.1909366 , 0.65697946],\n",
       "        [0.89993991, 1.20211553],\n",
       "        [1.92940143, 2.05079181]],\n",
       "\n",
       "       [[1.68208509, 0.77128404],\n",
       "        [1.98713101, 2.4542589 ],\n",
       "        [1.3251626 , 1.47326136],\n",
       "        [0.23203023, 2.39023899],\n",
       "        [0.4622175 , 1.14934223]]])"
      ]
     },
     "execution_count": 44,
     "metadata": {},
     "output_type": "execute_result"
    }
   ],
   "source": [
    "# Get the transverse momentum of each one.\n",
    "array.pt"
   ]
  },
  {
   "cell_type": "code",
   "execution_count": 45,
   "id": "wanted-mailing",
   "metadata": {},
   "outputs": [
    {
     "data": {
      "text/plain": [
       "(5, 5, 2)"
      ]
     },
     "execution_count": 45,
     "metadata": {},
     "output_type": "execute_result"
    }
   ],
   "source": [
    "# The array and its components have the same shape.\n",
    "array.shape"
   ]
  },
  {
   "cell_type": "code",
   "execution_count": 46,
   "id": "gentle-difference",
   "metadata": {},
   "outputs": [
    {
     "data": {
      "text/plain": [
       "(5, 5, 2)"
      ]
     },
     "execution_count": 46,
     "metadata": {},
     "output_type": "execute_result"
    }
   ],
   "source": [
    "array.pt.shape"
   ]
  },
  {
   "cell_type": "code",
   "execution_count": 47,
   "id": "buried-explosion",
   "metadata": {},
   "outputs": [
    {
     "data": {
      "text/plain": [
       "<MomentumArray3D [[], [{x: -0.0725, ... z: 0.0836}], []] type='50 * var * Moment...'>"
      ]
     },
     "execution_count": 47,
     "metadata": {},
     "output_type": "execute_result"
    }
   ],
   "source": [
    "# Make a large, random Awkward Array of 3D momentum vectors.\n",
    "array = vector.Array([[{x: np.random.normal(0, 1) for x in (\"px\", \"py\", \"pz\")} for inner in range(np.random.poisson(1.5))] for outer in range(50)])\n",
    "array"
   ]
  },
  {
   "cell_type": "code",
   "execution_count": 48,
   "id": "excellent-guarantee",
   "metadata": {},
   "outputs": [
    {
     "data": {
      "text/plain": [
       "<Array [[], [0.243, 1.26], ... 0.93, 2.02], []] type='50 * var * float64'>"
      ]
     },
     "execution_count": 48,
     "metadata": {},
     "output_type": "execute_result"
    }
   ],
   "source": [
    "# Get the transverse momentum of each one, in the same nested structure.\n",
    "array.pt"
   ]
  },
  {
   "cell_type": "code",
   "execution_count": 49,
   "id": "prime-minute",
   "metadata": {},
   "outputs": [
    {
     "data": {
      "text/plain": [
       "<Array [0, 2, 1, 5, 1, 1, ... 0, 1, 1, 1, 2, 0] type='50 * int64'>"
      ]
     },
     "execution_count": 49,
     "metadata": {},
     "output_type": "execute_result"
    }
   ],
   "source": [
    "# The array and its components have the same list lengths (and can therefore be used together in subsequent calculations).\n",
    "ak.num(array)"
   ]
  },
  {
   "cell_type": "code",
   "execution_count": 50,
   "id": "crude-validation",
   "metadata": {},
   "outputs": [
    {
     "data": {
      "text/plain": [
       "<Array [0, 2, 1, 5, 1, 1, ... 0, 1, 1, 1, 2, 0] type='50 * int64'>"
      ]
     },
     "execution_count": 50,
     "metadata": {},
     "output_type": "execute_result"
    }
   ],
   "source": [
    "ak.num(array.pt)"
   ]
  },
  {
   "cell_type": "markdown",
   "id": "alternate-bikini",
   "metadata": {},
   "source": [
    "## Vector methods\n",
    "\n",
    "Vector methods require arguments (in parentheses), which may be scalars or other vectors, depending on the calculation."
   ]
  },
  {
   "cell_type": "code",
   "execution_count": 51,
   "id": "quality-advisory",
   "metadata": {},
   "outputs": [
    {
     "data": {
      "text/plain": [
       "vector.obj(x=2.585678829246765, y=4.279516911052588)"
      ]
     },
     "execution_count": 51,
     "metadata": {},
     "output_type": "execute_result"
    }
   ],
   "source": [
    "vector.obj(x=3, y=4).rotateZ(0.1)"
   ]
  },
  {
   "cell_type": "code",
   "execution_count": 52,
   "id": "cleared-honor",
   "metadata": {},
   "outputs": [
    {
     "data": {
      "text/plain": [
       "vector.obj(rho=5, phi=0.5)"
      ]
     },
     "execution_count": 52,
     "metadata": {},
     "output_type": "execute_result"
    }
   ],
   "source": [
    "vector.obj(rho=5, phi=0.4).rotateZ(0.1)"
   ]
  },
  {
   "cell_type": "code",
   "execution_count": 53,
   "id": "current-illustration",
   "metadata": {},
   "outputs": [
    {
     "name": "stdout",
     "output_type": "stream",
     "text": [
      "[(1., 0.6) (2., 0.7) (3., 0.8) (4., 0.9) (5., 1. )]\n"
     ]
    }
   ],
   "source": [
    "# Broadcasts a scalar rotation angle of 0.5 to all elements of the NumPy array.\n",
    "print(vector.array({\"rho\": [1, 2, 3, 4, 5], \"phi\": [0.1, 0.2, 0.3, 0.4, 0.5]}).rotateZ(0.5))"
   ]
  },
  {
   "cell_type": "code",
   "execution_count": 54,
   "id": "original-differential",
   "metadata": {},
   "outputs": [
    {
     "name": "stdout",
     "output_type": "stream",
     "text": [
      "[(1., 0.2) (2., 0.4) (3., 0.6) (4., 0.8) (5., 1. )]\n"
     ]
    }
   ],
   "source": [
    "# Matches each rotation angle to an element of the NumPy array.\n",
    "print(vector.array({\"rho\": [1, 2, 3, 4, 5], \"phi\": [0.1, 0.2, 0.3, 0.4, 0.5]}).rotateZ(np.array([0.1, 0.2, 0.3, 0.4, 0.5])))"
   ]
  },
  {
   "cell_type": "code",
   "execution_count": 55,
   "id": "pregnant-indonesia",
   "metadata": {},
   "outputs": [
    {
     "name": "stdout",
     "output_type": "stream",
     "text": [
      "[[{rho: 1, phi: 0.6}, {rho: 2, phi: 0.7}], [], [{rho: 3, phi: 0.8}]]\n"
     ]
    }
   ],
   "source": [
    "# Broadcasts a scalar rotation angle of 0.5 to all elements of the Awkward Array.\n",
    "print(vector.Array([[{\"rho\": 1, \"phi\": 0.1}, {\"rho\": 2, \"phi\": 0.2}], [], [{\"rho\": 3, \"phi\": 0.3}]]).rotateZ(0.5))"
   ]
  },
  {
   "cell_type": "code",
   "execution_count": 56,
   "id": "furnished-bowling",
   "metadata": {},
   "outputs": [
    {
     "name": "stdout",
     "output_type": "stream",
     "text": [
      "[[{rho: 1, phi: 0.2}, {rho: 2, phi: 0.3}], [], [{rho: 3, phi: 0.6}]]\n"
     ]
    }
   ],
   "source": [
    "# Broadcasts a rotation angle of 0.1 to both elements of the first list, 0.2 to the empty list, and 0.3 to the only element of the last list.\n",
    "print(vector.Array([[{\"rho\": 1, \"phi\": 0.1}, {\"rho\": 2, \"phi\": 0.2}], [], [{\"rho\": 3, \"phi\": 0.3}]]).rotateZ([0.1, 0.2, 0.3]))"
   ]
  },
  {
   "cell_type": "code",
   "execution_count": 57,
   "id": "constant-telephone",
   "metadata": {},
   "outputs": [
    {
     "name": "stdout",
     "output_type": "stream",
     "text": [
      "[[{rho: 1, phi: 0.2}, {rho: 2, phi: 0.4}], [], [{rho: 3, phi: 0.6}]]\n"
     ]
    }
   ],
   "source": [
    "# Matches each rotation angle to an element of the Awkward Array.\n",
    "print(vector.Array([[{\"rho\": 1, \"phi\": 0.1}, {\"rho\": 2, \"phi\": 0.2}], [], [{\"rho\": 3, \"phi\": 0.3}]]).rotateZ([[0.1, 0.2], [], [0.3]]))"
   ]
  },
  {
   "cell_type": "markdown",
   "id": "optional-stevens",
   "metadata": {},
   "source": [
    "Some methods are equivalent to binary operators."
   ]
  },
  {
   "cell_type": "code",
   "execution_count": 58,
   "id": "medieval-twist",
   "metadata": {},
   "outputs": [
    {
     "data": {
      "text/plain": [
       "vector.obj(x=30, y=40)"
      ]
     },
     "execution_count": 58,
     "metadata": {},
     "output_type": "execute_result"
    }
   ],
   "source": [
    "vector.obj(x=3, y=4).scale(10)"
   ]
  },
  {
   "cell_type": "code",
   "execution_count": 59,
   "id": "fleet-absence",
   "metadata": {},
   "outputs": [
    {
     "data": {
      "text/plain": [
       "vector.obj(x=30, y=40)"
      ]
     },
     "execution_count": 59,
     "metadata": {},
     "output_type": "execute_result"
    }
   ],
   "source": [
    "vector.obj(x=3, y=4) * 10"
   ]
  },
  {
   "cell_type": "code",
   "execution_count": 60,
   "id": "instructional-methodology",
   "metadata": {},
   "outputs": [
    {
     "data": {
      "text/plain": [
       "vector.obj(x=30, y=40)"
      ]
     },
     "execution_count": 60,
     "metadata": {},
     "output_type": "execute_result"
    }
   ],
   "source": [
    "10 * vector.obj(x=3, y=4)"
   ]
  },
  {
   "cell_type": "code",
   "execution_count": 61,
   "id": "weekly-girlfriend",
   "metadata": {},
   "outputs": [
    {
     "data": {
      "text/plain": [
       "vector.obj(rho=50, phi=0.5)"
      ]
     },
     "execution_count": 61,
     "metadata": {},
     "output_type": "execute_result"
    }
   ],
   "source": [
    "vector.obj(rho=5, phi=0.5) * 10"
   ]
  },
  {
   "cell_type": "markdown",
   "id": "becoming-marriage",
   "metadata": {},
   "source": [
    "Some methods involve more than one vector."
   ]
  },
  {
   "cell_type": "code",
   "execution_count": 62,
   "id": "alpha-elements",
   "metadata": {},
   "outputs": [
    {
     "data": {
      "text/plain": [
       "vector.obj(x=6, y=7)"
      ]
     },
     "execution_count": 62,
     "metadata": {},
     "output_type": "execute_result"
    }
   ],
   "source": [
    "vector.obj(x=1, y=2).add(vector.obj(x=5, y=5))"
   ]
  },
  {
   "cell_type": "code",
   "execution_count": 63,
   "id": "found-authorization",
   "metadata": {},
   "outputs": [
    {
     "data": {
      "text/plain": [
       "vector.obj(x=6, y=7)"
      ]
     },
     "execution_count": 63,
     "metadata": {},
     "output_type": "execute_result"
    }
   ],
   "source": [
    "vector.obj(x=1, y=2) + vector.obj(x=5, y=5)"
   ]
  },
  {
   "cell_type": "code",
   "execution_count": 64,
   "id": "surrounded-career",
   "metadata": {},
   "outputs": [
    {
     "data": {
      "text/plain": [
       "15"
      ]
     },
     "execution_count": 64,
     "metadata": {},
     "output_type": "execute_result"
    }
   ],
   "source": [
    "vector.obj(x=1, y=2).dot(vector.obj(x=5, y=5))"
   ]
  },
  {
   "cell_type": "code",
   "execution_count": 65,
   "id": "fitted-grenada",
   "metadata": {},
   "outputs": [
    {
     "data": {
      "text/plain": [
       "15"
      ]
     },
     "execution_count": 65,
     "metadata": {},
     "output_type": "execute_result"
    }
   ],
   "source": [
    "vector.obj(x=1, y=2) @ vector.obj(x=5, y=5)"
   ]
  },
  {
   "cell_type": "markdown",
   "id": "expired-current",
   "metadata": {},
   "source": [
    "The vectors can use different coordinate systems. Conversions are necessary, but minimized for speed and numeric stability."
   ]
  },
  {
   "cell_type": "code",
   "execution_count": 66,
   "id": "martial-thesaurus",
   "metadata": {},
   "outputs": [
    {
     "data": {
      "text/plain": [
       "50"
      ]
     },
     "execution_count": 66,
     "metadata": {},
     "output_type": "execute_result"
    }
   ],
   "source": [
    "vector.obj(x=3, y=4) @ vector.obj(x=6, y=8)   # both are Cartesian, dot product is exact"
   ]
  },
  {
   "cell_type": "code",
   "execution_count": 67,
   "id": "least-converter",
   "metadata": {},
   "outputs": [
    {
     "data": {
      "text/plain": [
       "49.99999999942831"
      ]
     },
     "execution_count": 67,
     "metadata": {},
     "output_type": "execute_result"
    }
   ],
   "source": [
    "vector.obj(rho=5, phi=0.9273) @ vector.obj(x=6, y=8)   # one is polar, dot product is approximate"
   ]
  },
  {
   "cell_type": "code",
   "execution_count": 68,
   "id": "special-binding",
   "metadata": {},
   "outputs": [
    {
     "data": {
      "text/plain": [
       "49.99999999942831"
      ]
     },
     "execution_count": 68,
     "metadata": {},
     "output_type": "execute_result"
    }
   ],
   "source": [
    "vector.obj(x=3, y=4) @ vector.obj(rho=10, phi=0.9273)   # one is polar, dot product is approximate"
   ]
  },
  {
   "cell_type": "code",
   "execution_count": 69,
   "id": "institutional-unknown",
   "metadata": {},
   "outputs": [
    {
     "data": {
      "text/plain": [
       "50.0"
      ]
     },
     "execution_count": 69,
     "metadata": {},
     "output_type": "execute_result"
    }
   ],
   "source": [
    "vector.obj(rho=5, phi=0.9273) @ vector.obj(rho=10, phi=0.9273)   # both are polar, a formula that depends on phi differences is used"
   ]
  },
  {
   "cell_type": "markdown",
   "id": "center-winning",
   "metadata": {},
   "source": [
    "In Python, some \"operators\" are actually built-in functions, such as `abs`."
   ]
  },
  {
   "cell_type": "code",
   "execution_count": 70,
   "id": "closing-amsterdam",
   "metadata": {},
   "outputs": [
    {
     "data": {
      "text/plain": [
       "5.0"
      ]
     },
     "execution_count": 70,
     "metadata": {},
     "output_type": "execute_result"
    }
   ],
   "source": [
    "abs(vector.obj(x=3, y=4))"
   ]
  },
  {
   "cell_type": "markdown",
   "id": "inclusive-square",
   "metadata": {},
   "source": [
    "Note that `abs` returns\n",
    "\n",
    "   * `rho` for 2D vectors\n",
    "   * `mag` for 3D vectors\n",
    "   * `tau` (`mass`) for 4D vectors\n",
    "\n",
    "Use the named properties when you want magnitude in a specific number of dimensions; use `abs` when you want the magnitude for any number of dimensions."
   ]
  },
  {
   "cell_type": "markdown",
   "id": "sixth-london",
   "metadata": {},
   "source": [
    "The vectors can be from different backends. Normal rules for broadcasting Python numbers, NumPy arrays, and Awkward Arrays apply."
   ]
  },
  {
   "cell_type": "code",
   "execution_count": 71,
   "id": "essential-clerk",
   "metadata": {},
   "outputs": [
    {
     "data": {
      "text/plain": [
       "VectorNumpy2D([(11., 5.1), (12., 5.2), (13., 5.3), (14., 5.4), (15., 5.5)],\n",
       "              dtype=[('x', '<f8'), ('y', '<f8')])"
      ]
     },
     "execution_count": 71,
     "metadata": {},
     "output_type": "execute_result"
    }
   ],
   "source": [
    "vector.array({\"x\": [1, 2, 3, 4, 5], \"y\": [0.1, 0.2, 0.3, 0.4, 0.5]}) + vector.obj(x=10, y=5)"
   ]
  },
  {
   "cell_type": "code",
   "execution_count": 72,
   "id": "electoral-recommendation",
   "metadata": {},
   "outputs": [
    {
     "data": {
      "text/plain": [
       "<VectorArray2D [[{x: 11, y: 6.1}, ... x: 15, y: 10.5}]] type='4 * var * Vector2D...'>"
      ]
     },
     "execution_count": 72,
     "metadata": {},
     "output_type": "execute_result"
    }
   ],
   "source": [
    "(\n",
    "    vector.Array([                                                   # an Awkward Array of vectors\n",
    "        [{\"x\": 1, \"y\": 1.1}, {\"x\": 2, \"y\": 2.2}],\n",
    "        [],\n",
    "        [{\"x\": 3, \"y\": 3.3}],\n",
    "        [{\"x\": 4, \"y\": 4.4}, {\"x\": 5, \"y\": 5.5}],\n",
    "    ])\n",
    "    + vector.obj(x=10, y=5)                                          # and a single vector object\n",
    ")"
   ]
  },
  {
   "cell_type": "code",
   "execution_count": 73,
   "id": "present-cannon",
   "metadata": {},
   "outputs": [
    {
     "data": {
      "text/plain": [
       "<VectorArray2D [[{x: 5, y: 1.2}, ... x: 6, y: 5.6}]] type='4 * var * Vector2D[\"x...'>"
      ]
     },
     "execution_count": 73,
     "metadata": {},
     "output_type": "execute_result"
    }
   ],
   "source": [
    "(\n",
    "    vector.Array([                                                   # an Awkward Array of vectors\n",
    "        [{\"x\": 1, \"y\": 1.1}, {\"x\": 2, \"y\": 2.2}],\n",
    "        [],\n",
    "        [{\"x\": 3, \"y\": 3.3}],\n",
    "        [{\"x\": 4, \"y\": 4.4}, {\"x\": 5, \"y\": 5.5}],\n",
    "    ])\n",
    "    + vector.array({\"x\": [4, 3, 2, 1], \"y\": [0.1, 0.1, 0.1, 0.1]})   # and a NumPy array of vectors\n",
    ")"
   ]
  },
  {
   "cell_type": "markdown",
   "id": "straight-presence",
   "metadata": {},
   "source": [
    "Some operations are defined for 2D or 3D vectors, but are usable on higher-dimensional vectors because the additional components can be ignored or are passed through unaffected."
   ]
  },
  {
   "cell_type": "code",
   "execution_count": 74,
   "id": "adult-batch",
   "metadata": {},
   "outputs": [
    {
     "data": {
      "text/plain": [
       "0.20000000000000018"
      ]
     },
     "execution_count": 74,
     "metadata": {},
     "output_type": "execute_result"
    }
   ],
   "source": [
    "vector.obj(rho=1, phi=0.5).deltaphi(vector.obj(rho=2, phi=0.3))   # deltaphi is a planar operation (defined on the transverse plane)"
   ]
  },
  {
   "cell_type": "code",
   "execution_count": 75,
   "id": "conventional-involvement",
   "metadata": {},
   "outputs": [
    {
     "data": {
      "text/plain": [
       "0.20000000000000018"
      ]
     },
     "execution_count": 75,
     "metadata": {},
     "output_type": "execute_result"
    }
   ],
   "source": [
    "vector.obj(rho=1, phi=0.5, z=10).deltaphi(vector.obj(rho=2, phi=0.3, theta=1.4))   # but we can use it on 3D vectors"
   ]
  },
  {
   "cell_type": "code",
   "execution_count": 76,
   "id": "brazilian-flight",
   "metadata": {},
   "outputs": [
    {
     "data": {
      "text/plain": [
       "0.20000000000000018"
      ]
     },
     "execution_count": 76,
     "metadata": {},
     "output_type": "execute_result"
    }
   ],
   "source": [
    "vector.obj(rho=1, phi=0.5, z=10, t=100).deltaphi(vector.obj(rho=2, phi=0.3, theta=1.4, tau=1000))   # and 4D vectors"
   ]
  },
  {
   "cell_type": "code",
   "execution_count": 77,
   "id": "affected-situation",
   "metadata": {},
   "outputs": [
    {
     "data": {
      "text/plain": [
       "0.20000000000000018"
      ]
     },
     "execution_count": 77,
     "metadata": {},
     "output_type": "execute_result"
    }
   ],
   "source": [
    "vector.obj(rho=1, phi=0.5).deltaphi(vector.obj(rho=2, phi=0.3, theta=1.4, tau=1000))   # and mixed dimensionality"
   ]
  },
  {
   "cell_type": "markdown",
   "id": "narrow-movement",
   "metadata": {},
   "source": [
    "This is especially useful for giving 4D vectors all the capabilities of 3D vectors."
   ]
  },
  {
   "cell_type": "code",
   "execution_count": 78,
   "id": "american-engineer",
   "metadata": {},
   "outputs": [
    {
     "data": {
      "text/plain": [
       "vector.obj(x=1, y=-0.7071067811865472, z=3.5355339059327378)"
      ]
     },
     "execution_count": 78,
     "metadata": {},
     "output_type": "execute_result"
    }
   ],
   "source": [
    "vector.obj(x=1, y=2, z=3).rotateX(np.pi/4)"
   ]
  },
  {
   "cell_type": "code",
   "execution_count": 79,
   "id": "stunning-planner",
   "metadata": {},
   "outputs": [
    {
     "data": {
      "text/plain": [
       "vector.obj(x=1, y=-0.7071067811865472, z=3.5355339059327378, tau=10)"
      ]
     },
     "execution_count": 79,
     "metadata": {},
     "output_type": "execute_result"
    }
   ],
   "source": [
    "vector.obj(x=1, y=2, z=3, tau=10).rotateX(np.pi/4)"
   ]
  },
  {
   "cell_type": "code",
   "execution_count": 80,
   "id": "hispanic-finding",
   "metadata": {},
   "outputs": [
    {
     "data": {
      "text/plain": [
       "1.4142135623730951"
      ]
     },
     "execution_count": 80,
     "metadata": {},
     "output_type": "execute_result"
    }
   ],
   "source": [
    "vector.obj(pt=1, phi=1.3, eta=2).deltaR(vector.obj(pt=2, phi=0.3, eta=1))"
   ]
  },
  {
   "cell_type": "code",
   "execution_count": 81,
   "id": "black-heath",
   "metadata": {},
   "outputs": [
    {
     "data": {
      "text/plain": [
       "1.4142135623730951"
      ]
     },
     "execution_count": 81,
     "metadata": {},
     "output_type": "execute_result"
    }
   ],
   "source": [
    "vector.obj(pt=1, phi=1.3, eta=2, mass=5).deltaR(vector.obj(pt=2, phi=0.3, eta=1, mass=10))"
   ]
  },
  {
   "cell_type": "markdown",
   "id": "powerful-entity",
   "metadata": {},
   "source": [
    "The opposite—using low-dimensional vectors in operations defined for higher numbers of dimensions—is sometimes defined. In these cases, a zero longitudinal or temporal component has to be imputed."
   ]
  },
  {
   "cell_type": "code",
   "execution_count": 82,
   "id": "indonesian-metabolism",
   "metadata": {},
   "outputs": [
    {
     "data": {
      "text/plain": [
       "vector.obj(x=0, y=0, z=3)"
      ]
     },
     "execution_count": 82,
     "metadata": {},
     "output_type": "execute_result"
    }
   ],
   "source": [
    "vector.obj(x=1, y=2, z=3) - vector.obj(x=1, y=2)"
   ]
  },
  {
   "cell_type": "code",
   "execution_count": 83,
   "id": "charming-scheme",
   "metadata": {},
   "outputs": [
    {
     "data": {
      "text/plain": [
       "True"
      ]
     },
     "execution_count": 83,
     "metadata": {},
     "output_type": "execute_result"
    }
   ],
   "source": [
    "vector.obj(x=1, y=2, z=0).is_parallel(vector.obj(x=1, y=2))"
   ]
  },
  {
   "cell_type": "markdown",
   "id": "worthy-briefing",
   "metadata": {},
   "source": [
    "And finally, in some cases, the function excludes a higher-dimensional component, even if the input vectors had them.\n",
    "\n",
    "It would be confusing if the 3D cross-product returned a fourth component."
   ]
  },
  {
   "cell_type": "code",
   "execution_count": 84,
   "id": "backed-scholar",
   "metadata": {},
   "outputs": [
    {
     "data": {
      "text/plain": [
       "vector.obj(x=-0.03, y=0.06, z=-0.030000000000000013)"
      ]
     },
     "execution_count": 84,
     "metadata": {},
     "output_type": "execute_result"
    }
   ],
   "source": [
    "vector.obj(x=0.1, y=0.2, z=0.3, t=10).cross(vector.obj(x=0.4, y=0.5, z=0.6, t=20))"
   ]
  },
  {
   "cell_type": "markdown",
   "id": "labeled-thumbnail",
   "metadata": {},
   "source": [
    "The (current) list of properties and methods is:\n",
    "\n",
    "**Planar (2D, 3D, 4D):**\n",
    "\n",
    "   * `x` (`px`)\n",
    "   * `y` (`py`)\n",
    "   * `rho` (`pt`): two-dimensional magnitude\n",
    "   * `rho2` (`pt2`): two-dimensional magnitude squared\n",
    "   * `phi`\n",
    "   * `deltaphi(vector)`: difference in `phi` (signed and rectified to $-\\pi$ through $\\pi$)\n",
    "   * `rotateZ(angle)`\n",
    "   * `transform2D(obj)`: the `obj` must supply components through `obj[\"xx\"]`, `obj[\"xy\"]`, `obj[\"yx\"]`, `obj[\"yy\"]`\n",
    "   * `is_parallel(vector, tolerance=1e-5)`: only true _if they're pointing in the same direction_\n",
    "   * `is_antiparallel(vector, tolerance=1e-5)`: only true _if they're pointing in opposite directions_\n",
    "   * `is_perpendicular(vector, tolerance=1e-5)`\n",
    "\n",
    "**Spatial (3D, 4D):**\n",
    "\n",
    "   * `z` (`pz`)\n",
    "   * `theta`\n",
    "   * `eta`\n",
    "   * `costheta`\n",
    "   * `cottheta`\n",
    "   * `mag` (`p`): three-dimensional magnitude, does not include temporal component\n",
    "   * `mag2` (`p2`): three-dimensional magnitude squared\n",
    "   * `cross`: cross-product (strictly 3D)\n",
    "   * `deltaangle(vector)`: difference in angle (always non-negative)\n",
    "   * `deltaeta(vector)`: difference in `eta` (signed)\n",
    "   * `deltaR(vector)`: $\\Delta R = \\sqrt{\\Delta\\phi^2 + \\Delta\\eta^2}$\n",
    "   * `deltaR2(vector)`: the above, squared\n",
    "   * `rotateX(angle)`\n",
    "   * `rotateY(angle)`\n",
    "   * `rotate_axis(axis, angle)`: the magnitude of `axis` is ignored, but it must be at least 3D\n",
    "   * `rotate_euler(phi, theta, psi, order=\"zxz\")`: the arguments are in the same order as [ROOT::Math::EulerAngles](https://root.cern.ch/doc/master/classROOT_1_1Math_1_1EulerAngles.html), and `order=\"zxz\"` agrees with ROOT's choice of conventions\n",
    "   * `rotate_nautical(yaw, pitch, roll)`\n",
    "   * `rotate_quaternion(u, i, j, k)`: again, the conventions match [ROOT::Math::Quaternion](https://root.cern.ch/doc/master/classROOT_1_1Math_1_1Quaternion.html).\n",
    "   * `transform3D(obj)`: the `obj` must supply components through `obj[\"xx\"]`, `obj[\"xy\"]`, etc.\n",
    "   * `is_parallel(vector, tolerance=1e-5)`: only true _if they're pointing in the same direction_\n",
    "   * `is_antiparallel(vector, tolerance=1e-5)`: only true _if they're pointing in opposite directions_\n",
    "   * `is_perpendicular(vector, tolerance=1e-5)`\n",
    "\n",
    "**Lorentz (4D only):**\n",
    "\n",
    "   * `t` (`E`, `energy`)\n",
    "   * `t2` (`E2`, `energy2`)\n",
    "   * `tau` (`M`, `mass`)\n",
    "   * `tau2` (`M2`, `mass2`)\n",
    "   * `beta`: scalar(s) between $0$ (inclusive) and $1$ (exclusive, unless the vector components are infinite)\n",
    "   * `gamma`: scalar(s) between $1$ (inclusive) and $\\infty$\n",
    "   * `rapidity`: scalar(s) between $0$ (inclusive) and $\\infty$\n",
    "   * `boost_p4(four_vector)`: change coordinate system using another 4D vector as the difference\n",
    "   * `boost_beta(three_vector)`: change coordinate system using a 3D beta vector (all components between $-1$ and $+1$)\n",
    "   * `boost(vector)`: uses the dimension of the given `vector` to determine behavior\n",
    "   * `boostX(beta=None, gamma=None)`: supply `beta` xor `gamma`, but not both\n",
    "   * `boostY(beta=None, gamma=None)`: supply `beta` xor `gamma`, but not both\n",
    "   * `boostZ(beta=None, gamma=None)`: supply `beta` xor `gamma`, but not both\n",
    "   * `transform4D(obj)`: the `obj` must supply components through `obj[\"xx\"]`, `obj[\"xy\"]`, etc.\n",
    "   * `to_beta3()`: turns a `four_vector` (for `boost_p4`) into a `three_vector` (for `boost_beta3`)\n",
    "   * `is_timelike(tolerance=0)`\n",
    "   * `is_spacelike(tolerance=0)`\n",
    "   * `is_lightlike(tolerance=1e-5)`: note the different tolerance\n",
    "\n",
    "**All numbers of dimensions:**\n",
    "\n",
    "   * `unit()`: note the parentheses\n",
    "   * `dot(vector)`: can also use the `@` operator\n",
    "   * `add(vector)`: can also use the `+` operator\n",
    "   * `subtract(vector)`: can also use the `-` operator\n",
    "   * `scale(factor)`: can also use the `*` operator\n",
    "   * `equal(vector)`: can also use the `==` operator, but consider `isclose` instead\n",
    "   * `not_equal(vector)`: can also use the `!=` operator, but consider `isclose` instead\n",
    "   * `isclose(vector, rtol=1e-5, atol=1e-8, equal_nan=False)`: works like [np.isclose](https://numpy.org/doc/stable/reference/generated/numpy.isclose.html); arrays also have an [allclose](https://numpy.org/doc/stable/reference/generated/numpy.allclose.html) method"
   ]
  },
  {
   "cell_type": "markdown",
   "id": "decimal-sunglasses",
   "metadata": {},
   "source": [
    "## Compiling your Python with Numba\n",
    "\n",
    "[Numba](https://numba.pydata.org/) is a just-in-time (JIT) compiler for a mathematically relevant subset of NumPy and Python. It allows you to write fast code without leaving the Python environment. The drawback of Numba is that it can only compile code blocks involving objects and functions that it recognizes."
   ]
  },
  {
   "cell_type": "code",
   "execution_count": 85,
   "id": "polar-drain",
   "metadata": {},
   "outputs": [],
   "source": [
    "@nb.njit\n",
    "def compute_mass(v1, v2):\n",
    "    return (v1 + v2).mass"
   ]
  },
  {
   "cell_type": "code",
   "execution_count": 86,
   "id": "constant-privilege",
   "metadata": {},
   "outputs": [
    {
     "ename": "TypingError",
     "evalue": "Failed in nopython mode pipeline (step: nopython frontend)\n\u001b[1m\u001b[1mUnknown attribute 'mass' of type MomentumObject3DType(AzimuthalObjectXY(int64 x 2), LongitudinalObjectZ(int64 x 1))\n\u001b[1m\nFile \"<ipython-input-85-569e8139772e>\", line 3:\u001b[0m\n\u001b[1mdef compute_mass(v1, v2):\n\u001b[1m    return (v1 + v2).mass\n\u001b[0m    \u001b[1m^\u001b[0m\u001b[0m\n\u001b[0m\n\u001b[0m\u001b[1mDuring: typing of get attribute at <ipython-input-85-569e8139772e> (3)\u001b[0m\n\u001b[1m\nFile \"<ipython-input-85-569e8139772e>\", line 3:\u001b[0m\n\u001b[1mdef compute_mass(v1, v2):\n\u001b[1m    return (v1 + v2).mass\n\u001b[0m    \u001b[1m^\u001b[0m\u001b[0m\n",
     "output_type": "error",
     "traceback": [
      "\u001b[0;31m---------------------------------------------------------------------------\u001b[0m",
      "\u001b[0;31mTypingError\u001b[0m                               Traceback (most recent call last)",
      "\u001b[0;32m<ipython-input-86-955226f41c36>\u001b[0m in \u001b[0;36m<module>\u001b[0;34m\u001b[0m\n\u001b[0;32m----> 1\u001b[0;31m \u001b[0mcompute_mass\u001b[0m\u001b[0;34m(\u001b[0m\u001b[0mvector\u001b[0m\u001b[0;34m.\u001b[0m\u001b[0mobj\u001b[0m\u001b[0;34m(\u001b[0m\u001b[0mpx\u001b[0m\u001b[0;34m=\u001b[0m\u001b[0;36m1\u001b[0m\u001b[0;34m,\u001b[0m \u001b[0mpy\u001b[0m\u001b[0;34m=\u001b[0m\u001b[0;36m2\u001b[0m\u001b[0;34m,\u001b[0m \u001b[0mpz\u001b[0m\u001b[0;34m=\u001b[0m\u001b[0;36m3\u001b[0m\u001b[0;34m,\u001b[0m \u001b[0mE\u001b[0m\u001b[0;34m=\u001b[0m\u001b[0;36m4\u001b[0m\u001b[0;34m)\u001b[0m\u001b[0;34m,\u001b[0m \u001b[0mvector\u001b[0m\u001b[0;34m.\u001b[0m\u001b[0mobj\u001b[0m\u001b[0;34m(\u001b[0m\u001b[0mpx\u001b[0m\u001b[0;34m=\u001b[0m\u001b[0;34m-\u001b[0m\u001b[0;36m1\u001b[0m\u001b[0;34m,\u001b[0m \u001b[0mpy\u001b[0m\u001b[0;34m=\u001b[0m\u001b[0;34m-\u001b[0m\u001b[0;36m2\u001b[0m\u001b[0;34m,\u001b[0m \u001b[0mpz\u001b[0m\u001b[0;34m=\u001b[0m\u001b[0;34m-\u001b[0m\u001b[0;36m3\u001b[0m\u001b[0;34m,\u001b[0m \u001b[0mE\u001b[0m\u001b[0;34m=\u001b[0m\u001b[0;36m4\u001b[0m\u001b[0;34m)\u001b[0m\u001b[0;34m)\u001b[0m\u001b[0;34m\u001b[0m\u001b[0;34m\u001b[0m\u001b[0m\n\u001b[0m",
      "\u001b[0;32m~/miniconda3/lib/python3.8/site-packages/numba/core/dispatcher.py\u001b[0m in \u001b[0;36m_compile_for_args\u001b[0;34m(self, *args, **kws)\u001b[0m\n\u001b[1;32m    412\u001b[0m                 \u001b[0me\u001b[0m\u001b[0;34m.\u001b[0m\u001b[0mpatch_message\u001b[0m\u001b[0;34m(\u001b[0m\u001b[0mmsg\u001b[0m\u001b[0;34m)\u001b[0m\u001b[0;34m\u001b[0m\u001b[0;34m\u001b[0m\u001b[0m\n\u001b[1;32m    413\u001b[0m \u001b[0;34m\u001b[0m\u001b[0m\n\u001b[0;32m--> 414\u001b[0;31m             \u001b[0merror_rewrite\u001b[0m\u001b[0;34m(\u001b[0m\u001b[0me\u001b[0m\u001b[0;34m,\u001b[0m \u001b[0;34m'typing'\u001b[0m\u001b[0;34m)\u001b[0m\u001b[0;34m\u001b[0m\u001b[0;34m\u001b[0m\u001b[0m\n\u001b[0m\u001b[1;32m    415\u001b[0m         \u001b[0;32mexcept\u001b[0m \u001b[0merrors\u001b[0m\u001b[0;34m.\u001b[0m\u001b[0mUnsupportedError\u001b[0m \u001b[0;32mas\u001b[0m \u001b[0me\u001b[0m\u001b[0;34m:\u001b[0m\u001b[0;34m\u001b[0m\u001b[0;34m\u001b[0m\u001b[0m\n\u001b[1;32m    416\u001b[0m             \u001b[0;31m# Something unsupported is present in the user code, add help info\u001b[0m\u001b[0;34m\u001b[0m\u001b[0;34m\u001b[0m\u001b[0;34m\u001b[0m\u001b[0m\n",
      "\u001b[0;32m~/miniconda3/lib/python3.8/site-packages/numba/core/dispatcher.py\u001b[0m in \u001b[0;36merror_rewrite\u001b[0;34m(e, issue_type)\u001b[0m\n\u001b[1;32m    355\u001b[0m                 \u001b[0;32mraise\u001b[0m \u001b[0me\u001b[0m\u001b[0;34m\u001b[0m\u001b[0;34m\u001b[0m\u001b[0m\n\u001b[1;32m    356\u001b[0m             \u001b[0;32melse\u001b[0m\u001b[0;34m:\u001b[0m\u001b[0;34m\u001b[0m\u001b[0;34m\u001b[0m\u001b[0m\n\u001b[0;32m--> 357\u001b[0;31m                 \u001b[0;32mraise\u001b[0m \u001b[0me\u001b[0m\u001b[0;34m.\u001b[0m\u001b[0mwith_traceback\u001b[0m\u001b[0;34m(\u001b[0m\u001b[0;32mNone\u001b[0m\u001b[0;34m)\u001b[0m\u001b[0;34m\u001b[0m\u001b[0;34m\u001b[0m\u001b[0m\n\u001b[0m\u001b[1;32m    358\u001b[0m \u001b[0;34m\u001b[0m\u001b[0m\n\u001b[1;32m    359\u001b[0m         \u001b[0margtypes\u001b[0m \u001b[0;34m=\u001b[0m \u001b[0;34m[\u001b[0m\u001b[0;34m]\u001b[0m\u001b[0;34m\u001b[0m\u001b[0;34m\u001b[0m\u001b[0m\n",
      "\u001b[0;31mTypingError\u001b[0m: Failed in nopython mode pipeline (step: nopython frontend)\n\u001b[1m\u001b[1mUnknown attribute 'mass' of type MomentumObject3DType(AzimuthalObjectXY(int64 x 2), LongitudinalObjectZ(int64 x 1))\n\u001b[1m\nFile \"<ipython-input-85-569e8139772e>\", line 3:\u001b[0m\n\u001b[1mdef compute_mass(v1, v2):\n\u001b[1m    return (v1 + v2).mass\n\u001b[0m    \u001b[1m^\u001b[0m\u001b[0m\n\u001b[0m\n\u001b[0m\u001b[1mDuring: typing of get attribute at <ipython-input-85-569e8139772e> (3)\u001b[0m\n\u001b[1m\nFile \"<ipython-input-85-569e8139772e>\", line 3:\u001b[0m\n\u001b[1mdef compute_mass(v1, v2):\n\u001b[1m    return (v1 + v2).mass\n\u001b[0m    \u001b[1m^\u001b[0m\u001b[0m\n"
     ]
    }
   ],
   "source": [
    "compute_mass(vector.obj(px=1, py=2, pz=3, E=4), vector.obj(px=-1, py=-2, pz=-3, E=4))"
   ]
  },
  {
   "cell_type": "code",
   "execution_count": null,
   "id": "turned-charity",
   "metadata": {},
   "outputs": [],
   "source": []
  }
 ],
 "metadata": {
  "kernelspec": {
   "display_name": "Python 3",
   "language": "python",
   "name": "python3"
  },
  "language_info": {
   "codemirror_mode": {
    "name": "ipython",
    "version": 3
   },
   "file_extension": ".py",
   "mimetype": "text/x-python",
   "name": "python",
   "nbconvert_exporter": "python",
   "pygments_lexer": "ipython3",
   "version": "3.8.8"
  }
 },
 "nbformat": 4,
 "nbformat_minor": 5
}
