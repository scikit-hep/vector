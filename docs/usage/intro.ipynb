{
 "cells": [
  {
   "cell_type": "markdown",
   "id": "interior-empty",
   "metadata": {},
   "source": [
    "# Introduction to Vector\n",
    "\n",
    "Vector is a Python library for 2D, 3D, and [Lorentz vectors](https://en.wikipedia.org/wiki/Special_relativity#Physics_in_spacetime), especially _arrays of vectors_, to solve common physics problems in a NumPy-like way.\n",
    "\n",
    "Main features of Vector:\n",
    "\n",
    "   * Pure Python with NumPy as its only dependency. This makes it easier to install.\n",
    "   * Vectors may be represented in a variety of coordinate systems: Cartesian, cylindrical, spherical, and any combination of these with time or proper time for Lorentz vectors. In all, there are 12 coordinate systems: {$x$-$y$ vs $\\rho$-$\\phi$ in the azimuthal plane} × {$z$ vs $\\theta$ vs $\\eta$ longitudinally} × {$t$ vs $\\tau$ temporally}.\n",
    "   * Uses names and conventions set by [ROOT](https://root.cern/)'s [TLorentzVector](https://root.cern.ch/doc/master/classTLorentzVector.html) and [Math::LorentzVector](https://root.cern.ch/doc/master/classROOT_1_1Math_1_1LorentzVector.html), as well as [scikit-hep/math](https://github.com/scikit-hep/scikit-hep/tree/master/skhep/math), [uproot-methods TLorentzVector](https://github.com/scikit-hep/uproot3-methods/blob/master/uproot3_methods/classes/TLorentzVector.py), [henryiii/hepvector](https://github.com/henryiii/hepvector), and [coffea.nanoevents.methods.vector](https://coffeateam.github.io/coffea/modules/coffea.nanoevents.methods.vector.html).\n",
    "   * Implemented on a variety of backends:\n",
    "      - pure Python objects\n",
    "      - NumPy arrays of vectors (as a [structured array](https://numpy.org/doc/stable/user/basics.rec.html) subclass)\n",
    "      - [Awkward Arrays](https://awkward-array.org/) of vectors\n",
    "      - potential for more: CuPy, TensorFlow, Torch, JAX...\n",
    "   * Implemented in [Numba](https://numba.pydata.org/) for JIT-compiled calculations on vectors.\n",
    "   * Distinction between geometrical vectors, which have a minimum of attribute and method names, and vectors representing momentum, which have synonyms like `pt` = `rho`, `energy` = `t`, `mass` = `tau`.\n",
    "\n",
    "This notebook requires Vector, NumPy, Awkward Array, and Numba to run."
   ]
  },
  {
   "cell_type": "code",
   "execution_count": 1,
   "id": "affecting-rubber",
   "metadata": {},
   "outputs": [],
   "source": [
    "import vector\n",
    "import numpy as np\n",
    "import awkward as ak\n",
    "import numba as nb"
   ]
  },
  {
   "cell_type": "markdown",
   "id": "color-check",
   "metadata": {},
   "source": [
    "## Constructing a vector or an array of vectors\n",
    "\n",
    "The easiest way to create one or many vectors is with a helper function:\n",
    "\n",
    "   * `vector.obj` to make a pure Python vector object,\n",
    "   * `vector.array` to make a NumPy array of vectors (lowercase, like `np.array`),\n",
    "   * `vector.Array` to make an Awkward Array of vectors (uppercase, like `ak.Array`)."
   ]
  },
  {
   "cell_type": "markdown",
   "id": "central-interface",
   "metadata": {},
   "source": [
    "### Pure Python vectors"
   ]
  },
  {
   "cell_type": "code",
   "execution_count": 2,
   "id": "appropriate-ambassador",
   "metadata": {},
   "outputs": [
    {
     "data": {
      "text/plain": [
       "vector.obj(x=3, y=4)"
      ]
     },
     "execution_count": 2,
     "metadata": {},
     "output_type": "execute_result"
    }
   ],
   "source": [
    "vector.obj(x=3, y=4)   # Cartesian 2D vector"
   ]
  },
  {
   "cell_type": "code",
   "execution_count": 3,
   "id": "gentle-clear",
   "metadata": {},
   "outputs": [
    {
     "data": {
      "text/plain": [
       "vector.obj(rho=5, phi=0.9273)"
      ]
     },
     "execution_count": 3,
     "metadata": {},
     "output_type": "execute_result"
    }
   ],
   "source": [
    "vector.obj(rho=5, phi=0.9273)   # same in polar coordinates"
   ]
  },
  {
   "cell_type": "code",
   "execution_count": 4,
   "id": "confidential-defensive",
   "metadata": {},
   "outputs": [
    {
     "data": {
      "text/plain": [
       "True"
      ]
     },
     "execution_count": 4,
     "metadata": {},
     "output_type": "execute_result"
    }
   ],
   "source": [
    "vector.obj(x=3, y=4).isclose(vector.obj(rho=5, phi=0.9273))   # use \"isclose\" unless they are exactly equal"
   ]
  },
  {
   "cell_type": "code",
   "execution_count": 5,
   "id": "involved-genre",
   "metadata": {},
   "outputs": [
    {
     "data": {
      "text/plain": [
       "vector.obj(x=3, y=4, z=-2)"
      ]
     },
     "execution_count": 5,
     "metadata": {},
     "output_type": "execute_result"
    }
   ],
   "source": [
    "vector.obj(x=3, y=4, z=-2)   # Cartesian 3D vector"
   ]
  },
  {
   "cell_type": "code",
   "execution_count": 6,
   "id": "fitting-comedy",
   "metadata": {},
   "outputs": [
    {
     "data": {
      "text/plain": [
       "vector.obj(x=3, y=4, z=-2, t=10)"
      ]
     },
     "execution_count": 6,
     "metadata": {},
     "output_type": "execute_result"
    }
   ],
   "source": [
    "vector.obj(x=3, y=4, z=-2, t=10)   # Cartesian 4D vector"
   ]
  },
  {
   "cell_type": "code",
   "execution_count": 7,
   "id": "accepting-parker",
   "metadata": {},
   "outputs": [
    {
     "data": {
      "text/plain": [
       "vector.obj(rho=5, phi=0.9273, eta=-0.39, t=10)"
      ]
     },
     "execution_count": 7,
     "metadata": {},
     "output_type": "execute_result"
    }
   ],
   "source": [
    "vector.obj(rho=5, phi=0.9273, eta=-0.39, t=10)   # in rho-phi-eta-t cylindrical coordinates"
   ]
  },
  {
   "cell_type": "code",
   "execution_count": 8,
   "id": "backed-shanghai",
   "metadata": {},
   "outputs": [
    {
     "data": {
      "text/plain": [
       "vector.obj(pt=5, phi=0.9273, eta=-0.39, E=10)"
      ]
     },
     "execution_count": 8,
     "metadata": {},
     "output_type": "execute_result"
    }
   ],
   "source": [
    "vector.obj(pt=5, phi=0.9273, eta=-0.39, E=10)   # use momentum-synonyms to get a momentum vector"
   ]
  },
  {
   "cell_type": "code",
   "execution_count": 9,
   "id": "faced-department",
   "metadata": {},
   "outputs": [
    {
     "data": {
      "text/plain": [
       "False"
      ]
     },
     "execution_count": 9,
     "metadata": {},
     "output_type": "execute_result"
    }
   ],
   "source": [
    "vector.obj(rho=5, phi=0.9273, eta=-0.39, t=10) == vector.obj(pt=5, phi=0.9273, eta=-0.390035, E=10)"
   ]
  },
  {
   "cell_type": "code",
   "execution_count": 10,
   "id": "adult-cloud",
   "metadata": {},
   "outputs": [
    {
     "data": {
      "text/plain": [
       "8.426194916448265"
      ]
     },
     "execution_count": 10,
     "metadata": {},
     "output_type": "execute_result"
    }
   ],
   "source": [
    "vector.obj(rho=5, phi=0.9273, eta=-0.39, t=10).tau   # geometrical vectors have to use geometrical names (\"tau\", not \"mass\")"
   ]
  },
  {
   "cell_type": "code",
   "execution_count": 11,
   "id": "hundred-anthony",
   "metadata": {},
   "outputs": [
    {
     "data": {
      "text/plain": [
       "8.426194916448265"
      ]
     },
     "execution_count": 11,
     "metadata": {},
     "output_type": "execute_result"
    }
   ],
   "source": [
    "vector.obj(pt=5, phi=0.9273, eta=-0.39, E=10).mass   # momentum vectors can use momentum names (as well as geometrical ones)"
   ]
  },
  {
   "cell_type": "code",
   "execution_count": 12,
   "id": "configured-trance",
   "metadata": {},
   "outputs": [
    {
     "data": {
      "text/plain": [
       "vector.obj(pt=5, phi=0.9273, theta=1.9513, mass=8.4262)"
      ]
     },
     "execution_count": 12,
     "metadata": {},
     "output_type": "execute_result"
    }
   ],
   "source": [
    "vector.obj(pt=5, phi=0.9273, theta=1.9513, mass=8.4262)   # any combination of azimuthal, longitudinal, and temporal coordinates is allowed"
   ]
  },
  {
   "cell_type": "code",
   "execution_count": 13,
   "id": "practical-delta",
   "metadata": {},
   "outputs": [
    {
     "data": {
      "text/plain": [
       "True"
      ]
     },
     "execution_count": 13,
     "metadata": {},
     "output_type": "execute_result"
    }
   ],
   "source": [
    "vector.obj(x=3, y=4, z=-2, t=10).isclose(vector.obj(pt=5, phi=0.9273, theta=1.9513, mass=8.4262))"
   ]
  },
  {
   "cell_type": "code",
   "execution_count": 14,
   "id": "loved-employment",
   "metadata": {},
   "outputs": [
    {
     "data": {
      "text/plain": [
       "(True, True, True, True, True, True, True, True, True, True)"
      ]
     },
     "execution_count": 14,
     "metadata": {},
     "output_type": "execute_result"
    }
   ],
   "source": [
    "# Test instance type for any level of granularity.\n",
    "(\n",
    "    isinstance(vector.obj(x=1.1, y=2.2), vector.Vector),                                    # is a vector or array of vectors\n",
    "    isinstance(vector.obj(x=1.1, y=2.2), vector.Vector2D),                                  # is 2D (not 3D or 4D)\n",
    "    isinstance(vector.obj(x=1.1, y=2.2), vector.VectorObject),                              # is a vector object (not an array)\n",
    "    isinstance(vector.obj(px=1.1, py=2.2), vector.Momentum),                                # has momentum synonyms\n",
    "    isinstance(vector.obj(x=1.1, y=2.2, z=3.3, t=4.4), vector.Planar),                      # has transverse plane (2D, 3D, or 4D)\n",
    "    isinstance(vector.obj(x=1.1, y=2.2, z=3.3, t=4.4), vector.Spatial),                     # has all spatial coordinates (3D or 4D)\n",
    "    isinstance(vector.obj(x=1.1, y=2.2, z=3.3, t=4.4), vector.Lorentz),                     # has temporal coordinates (4D)\n",
    "    isinstance(vector.obj(x=1.1, y=2.2, z=3.3, t=4.4).azimuthal, vector.AzimuthalXY),       # azimuthal coordinate type\n",
    "    isinstance(vector.obj(x=1.1, y=2.2, z=3.3, t=4.4).longitudinal, vector.LongitudinalZ),  # longitudinal coordinate type\n",
    "    isinstance(vector.obj(x=1.1, y=2.2, z=3.3, t=4.4).temporal, vector.TemporalT),          # temporal coordinate type\n",
    ")"
   ]
  },
  {
   "cell_type": "markdown",
   "id": "regional-emphasis",
   "metadata": {},
   "source": [
    "The allowed keyword arguments for 2D vectors are:\n",
    "\n",
    "   * `x` and `y` for Caresian azimuthal coordinates,\n",
    "   * `px` and `py` for momentum,\n",
    "   * `rho` and `phi` for polar azimuthal coordinates,\n",
    "   * `pt` and `phi` for momentum.\n",
    "\n",
    "For 3D vectors, you need the above and:\n",
    "\n",
    "   * `z` for the Cartesian longitudinal coordinate,\n",
    "   * `pz` for momentum,\n",
    "   * `theta` for the spherical polar angle (from $0$ to $\\pi$, inclusive),\n",
    "   * `eta` for pseudorapidity, which is a kind of spherical polar angle.\n",
    "\n",
    "For 4D vectors, you need the above and:\n",
    "\n",
    "   * `t` for the Cartesian temporal coordinate,\n",
    "   * `E` or `energy` to get four-momentum,\n",
    "   * `tau` for the \"proper time\" (temporal coordinate in the vector's rest coordinate system),\n",
    "   * `M` or `mass` to get four-moemtum.\n",
    "\n",
    "Since momentum vectors have momentum-synonyms _in addition_ to the geometrical names, any momentum-synonym will make the whole vector a momentum vector."
   ]
  },
  {
   "cell_type": "markdown",
   "id": "statewide-somalia",
   "metadata": {},
   "source": [
    "If you want to bypass the dimension and coordinate system inference through keyword arguments (e.g. for static typing), you can use specialized constructors:"
   ]
  },
  {
   "cell_type": "code",
   "execution_count": 15,
   "id": "verbal-sixth",
   "metadata": {},
   "outputs": [
    {
     "data": {
      "text/plain": [
       "vector.obj(x=1.1, y=2.2)"
      ]
     },
     "execution_count": 15,
     "metadata": {},
     "output_type": "execute_result"
    }
   ],
   "source": [
    "vector.VectorObject2D.from_xy(1.1, 2.2)"
   ]
  },
  {
   "cell_type": "code",
   "execution_count": 16,
   "id": "piano-enterprise",
   "metadata": {},
   "outputs": [
    {
     "data": {
      "text/plain": [
       "vector.obj(pt=1.1, phi=2.2, pz=3.3)"
      ]
     },
     "execution_count": 16,
     "metadata": {},
     "output_type": "execute_result"
    }
   ],
   "source": [
    "vector.MomentumObject3D.from_rhophiz(1.1, 2.2, 3.3)"
   ]
  },
  {
   "cell_type": "code",
   "execution_count": 17,
   "id": "selected-block",
   "metadata": {},
   "outputs": [
    {
     "data": {
      "text/plain": [
       "vector.obj(x=1.1, y=2.2, eta=3.3, tau=4.4)"
      ]
     },
     "execution_count": 17,
     "metadata": {},
     "output_type": "execute_result"
    }
   ],
   "source": [
    "vector.VectorObject4D.from_xyetatau(1.1, 2.2, 3.3, 4.4)"
   ]
  },
  {
   "cell_type": "markdown",
   "id": "correct-surveillance",
   "metadata": {},
   "source": [
    "and so on, for all combinations of azimuthal, longitudinal, and temporal coordinates, geometric and momentum-flavored."
   ]
  },
  {
   "cell_type": "markdown",
   "id": "informative-professional",
   "metadata": {},
   "source": [
    "### NumPy arrays of vectors"
   ]
  },
  {
   "cell_type": "code",
   "execution_count": 18,
   "id": "mediterranean-opposition",
   "metadata": {},
   "outputs": [
    {
     "data": {
      "text/plain": [
       "VectorNumpy2D([(1.1, 2.1), (1.2, 2.2), (1.3, 2.3), (1.4, 2.4), (1.5, 2.5)],\n",
       "              dtype=[('x', '<f8'), ('y', '<f8')])"
      ]
     },
     "execution_count": 18,
     "metadata": {},
     "output_type": "execute_result"
    }
   ],
   "source": [
    "# NumPy-like arguments (literally passed through to NumPy)\n",
    "vector.array([\n",
    "    (1.1, 2.1), (1.2, 2.2), (1.3, 2.3), (1.4, 2.4), (1.5, 2.5)\n",
    "], dtype=[(\"x\", float), (\"y\", float)])"
   ]
  },
  {
   "cell_type": "code",
   "execution_count": 19,
   "id": "framed-italian",
   "metadata": {},
   "outputs": [
    {
     "data": {
      "text/plain": [
       "VectorNumpy2D([(1.1, 2.1), (1.2, 2.2), (1.3, 2.3), (1.4, 2.4), (1.5, 2.5)],\n",
       "              dtype=[('x', '<f8'), ('y', '<f8')])"
      ]
     },
     "execution_count": 19,
     "metadata": {},
     "output_type": "execute_result"
    }
   ],
   "source": [
    "# Pandas-like arguments (dict from names to column arrays)\n",
    "vector.array({\"x\": [1.1, 1.2, 1.3, 1.4, 1.5], \"y\": [2.1, 2.2, 2.3, 2.4, 2.5]})"
   ]
  },
  {
   "cell_type": "code",
   "execution_count": 20,
   "id": "sporting-whale",
   "metadata": {},
   "outputs": [
    {
     "data": {
      "text/plain": [
       "VectorNumpy4D([(1.1, 2.1, 3.1, 4.1), (1.2, 2.2, 3.2, 4.2), (1.3, 2.3, 3.3, 4.3),\n",
       "               (1.4, 2.4, 3.4, 4.4), (1.5, 2.5, 3.5, 4.5)],\n",
       "              dtype=[('x', '<f8'), ('y', '<f8'), ('z', '<f8'), ('t', '<f8')])"
      ]
     },
     "execution_count": 20,
     "metadata": {},
     "output_type": "execute_result"
    }
   ],
   "source": [
    "# As with objects, the coordinate system and dimension is taken from the names of the fields.\n",
    "vector.array({\n",
    "    \"x\": [1.1, 1.2, 1.3, 1.4, 1.5],\n",
    "    \"y\": [2.1, 2.2, 2.3, 2.4, 2.5],\n",
    "    \"z\": [3.1, 3.2, 3.3, 3.4, 3.5],\n",
    "    \"t\": [4.1, 4.2, 4.3, 4.4, 4.5],\n",
    "})"
   ]
  },
  {
   "cell_type": "code",
   "execution_count": 21,
   "id": "flying-smooth",
   "metadata": {},
   "outputs": [
    {
     "data": {
      "text/plain": [
       "MomentumNumpy4D([(1.1, 2.1, 3.1, 4.1), (1.2, 2.2, 3.2, 4.2), (1.3, 2.3, 3.3, 4.3),\n",
       "                 (1.4, 2.4, 3.4, 4.4), (1.5, 2.5, 3.5, 4.5)],\n",
       "                dtype=[('rho', '<f8'), ('phi', '<f8'), ('eta', '<f8'), ('tau', '<f8')])"
      ]
     },
     "execution_count": 21,
     "metadata": {},
     "output_type": "execute_result"
    }
   ],
   "source": [
    "vector.array({\n",
    "    \"pt\": [1.1, 1.2, 1.3, 1.4, 1.5],\n",
    "    \"phi\": [2.1, 2.2, 2.3, 2.4, 2.5],\n",
    "    \"eta\": [3.1, 3.2, 3.3, 3.4, 3.5],\n",
    "    \"M\": [4.1, 4.2, 4.3, 4.4, 4.5],\n",
    "})"
   ]
  },
  {
   "cell_type": "markdown",
   "id": "arbitrary-solomon",
   "metadata": {},
   "source": [
    "Existing NumPy arrays can be viewed as arrays of vectors, but it needs to be a [structured array](https://numpy.org/doc/stable/user/basics.rec.html) with recognized field names."
   ]
  },
  {
   "cell_type": "code",
   "execution_count": 22,
   "id": "union-burke",
   "metadata": {},
   "outputs": [
    {
     "data": {
      "text/plain": [
       "VectorNumpy4D([( 0. ,  0.1,  0.2,  0.3), ( 0.4,  0.5,  0.6,  0.7),\n",
       "               ( 0.8,  0.9,  1. ,  1.1), ( 1.2,  1.3,  1.4,  1.5),\n",
       "               ( 1.6,  1.7,  1.8,  1.9), ( 2. ,  2.1,  2.2,  2.3),\n",
       "               ( 2.4,  2.5,  2.6,  2.7), ( 2.8,  2.9,  3. ,  3.1),\n",
       "               ( 3.2,  3.3,  3.4,  3.5), ( 3.6,  3.7,  3.8,  3.9),\n",
       "               ( 4. ,  4.1,  4.2,  4.3), ( 4.4,  4.5,  4.6,  4.7),\n",
       "               ( 4.8,  4.9,  5. ,  5.1), ( 5.2,  5.3,  5.4,  5.5),\n",
       "               ( 5.6,  5.7,  5.8,  5.9), ( 6. ,  6.1,  6.2,  6.3),\n",
       "               ( 6.4,  6.5,  6.6,  6.7), ( 6.8,  6.9,  7. ,  7.1),\n",
       "               ( 7.2,  7.3,  7.4,  7.5), ( 7.6,  7.7,  7.8,  7.9),\n",
       "               ( 8. ,  8.1,  8.2,  8.3), ( 8.4,  8.5,  8.6,  8.7),\n",
       "               ( 8.8,  8.9,  9. ,  9.1), ( 9.2,  9.3,  9.4,  9.5),\n",
       "               ( 9.6,  9.7,  9.8,  9.9), (10. , 10.1, 10.2, 10.3),\n",
       "               (10.4, 10.5, 10.6, 10.7), (10.8, 10.9, 11. , 11.1),\n",
       "               (11.2, 11.3, 11.4, 11.5), (11.6, 11.7, 11.8, 11.9),\n",
       "               (12. , 12.1, 12.2, 12.3), (12.4, 12.5, 12.6, 12.7),\n",
       "               (12.8, 12.9, 13. , 13.1), (13.2, 13.3, 13.4, 13.5),\n",
       "               (13.6, 13.7, 13.8, 13.9), (14. , 14.1, 14.2, 14.3),\n",
       "               (14.4, 14.5, 14.6, 14.7), (14.8, 14.9, 15. , 15.1),\n",
       "               (15.2, 15.3, 15.4, 15.5), (15.6, 15.7, 15.8, 15.9),\n",
       "               (16. , 16.1, 16.2, 16.3), (16.4, 16.5, 16.6, 16.7),\n",
       "               (16.8, 16.9, 17. , 17.1), (17.2, 17.3, 17.4, 17.5),\n",
       "               (17.6, 17.7, 17.8, 17.9), (18. , 18.1, 18.2, 18.3),\n",
       "               (18.4, 18.5, 18.6, 18.7), (18.8, 18.9, 19. , 19.1),\n",
       "               (19.2, 19.3, 19.4, 19.5), (19.6, 19.7, 19.8, 19.9),\n",
       "               (20. , 20.1, 20.2, 20.3), (20.4, 20.5, 20.6, 20.7),\n",
       "               (20.8, 20.9, 21. , 21.1), (21.2, 21.3, 21.4, 21.5),\n",
       "               (21.6, 21.7, 21.8, 21.9), (22. , 22.1, 22.2, 22.3),\n",
       "               (22.4, 22.5, 22.6, 22.7), (22.8, 22.9, 23. , 23.1),\n",
       "               (23.2, 23.3, 23.4, 23.5), (23.6, 23.7, 23.8, 23.9)],\n",
       "              dtype=[('x', '<f8'), ('y', '<f8'), ('z', '<f8'), ('t', '<f8')])"
      ]
     },
     "execution_count": 22,
     "metadata": {},
     "output_type": "execute_result"
    }
   ],
   "source": [
    "# NumPy array         # interpret groups of four values as named fields              # give it vector properties and methods\n",
    "np.arange(0, 24, 0.1).view([(\"x\", float), (\"y\", float), (\"z\", float), (\"t\", float)]).view(vector.VectorNumpy4D)"
   ]
  },
  {
   "cell_type": "markdown",
   "id": "circular-mercury",
   "metadata": {},
   "source": [
    "Since `VectorNumpy2D`, `VectorNumpy3D`, `VectorNumpy4D`, and their momentum equivalents are NumPy array subclasses, all of the normal NumPy methods and functions work on them."
   ]
  },
  {
   "cell_type": "code",
   "execution_count": 23,
   "id": "tropical-fifteen",
   "metadata": {},
   "outputs": [
    {
     "data": {
      "text/plain": [
       "VectorNumpy4D([[[( 0. ,  0.1,  0.2,  0.3), ( 0.4,  0.5,  0.6,  0.7)],\n",
       "                [( 0.8,  0.9,  1. ,  1.1), ( 1.2,  1.3,  1.4,  1.5)],\n",
       "                [( 1.6,  1.7,  1.8,  1.9), ( 2. ,  2.1,  2.2,  2.3)],\n",
       "                [( 2.4,  2.5,  2.6,  2.7), ( 2.8,  2.9,  3. ,  3.1)],\n",
       "                [( 3.2,  3.3,  3.4,  3.5), ( 3.6,  3.7,  3.8,  3.9)]],\n",
       "\n",
       "               [[( 4. ,  4.1,  4.2,  4.3), ( 4.4,  4.5,  4.6,  4.7)],\n",
       "                [( 4.8,  4.9,  5. ,  5.1), ( 5.2,  5.3,  5.4,  5.5)],\n",
       "                [( 5.6,  5.7,  5.8,  5.9), ( 6. ,  6.1,  6.2,  6.3)],\n",
       "                [( 6.4,  6.5,  6.6,  6.7), ( 6.8,  6.9,  7. ,  7.1)],\n",
       "                [( 7.2,  7.3,  7.4,  7.5), ( 7.6,  7.7,  7.8,  7.9)]],\n",
       "\n",
       "               [[( 8. ,  8.1,  8.2,  8.3), ( 8.4,  8.5,  8.6,  8.7)],\n",
       "                [( 8.8,  8.9,  9. ,  9.1), ( 9.2,  9.3,  9.4,  9.5)],\n",
       "                [( 9.6,  9.7,  9.8,  9.9), (10. , 10.1, 10.2, 10.3)],\n",
       "                [(10.4, 10.5, 10.6, 10.7), (10.8, 10.9, 11. , 11.1)],\n",
       "                [(11.2, 11.3, 11.4, 11.5), (11.6, 11.7, 11.8, 11.9)]],\n",
       "\n",
       "               [[(12. , 12.1, 12.2, 12.3), (12.4, 12.5, 12.6, 12.7)],\n",
       "                [(12.8, 12.9, 13. , 13.1), (13.2, 13.3, 13.4, 13.5)],\n",
       "                [(13.6, 13.7, 13.8, 13.9), (14. , 14.1, 14.2, 14.3)],\n",
       "                [(14.4, 14.5, 14.6, 14.7), (14.8, 14.9, 15. , 15.1)],\n",
       "                [(15.2, 15.3, 15.4, 15.5), (15.6, 15.7, 15.8, 15.9)]],\n",
       "\n",
       "               [[(16. , 16.1, 16.2, 16.3), (16.4, 16.5, 16.6, 16.7)],\n",
       "                [(16.8, 16.9, 17. , 17.1), (17.2, 17.3, 17.4, 17.5)],\n",
       "                [(17.6, 17.7, 17.8, 17.9), (18. , 18.1, 18.2, 18.3)],\n",
       "                [(18.4, 18.5, 18.6, 18.7), (18.8, 18.9, 19. , 19.1)],\n",
       "                [(19.2, 19.3, 19.4, 19.5), (19.6, 19.7, 19.8, 19.9)]],\n",
       "\n",
       "               [[(20. , 20.1, 20.2, 20.3), (20.4, 20.5, 20.6, 20.7)],\n",
       "                [(20.8, 20.9, 21. , 21.1), (21.2, 21.3, 21.4, 21.5)],\n",
       "                [(21.6, 21.7, 21.8, 21.9), (22. , 22.1, 22.2, 22.3)],\n",
       "                [(22.4, 22.5, 22.6, 22.7), (22.8, 22.9, 23. , 23.1)],\n",
       "                [(23.2, 23.3, 23.4, 23.5), (23.6, 23.7, 23.8, 23.9)]]],\n",
       "              dtype=[('x', '<f8'), ('y', '<f8'), ('z', '<f8'), ('t', '<f8')])"
      ]
     },
     "execution_count": 23,
     "metadata": {},
     "output_type": "execute_result"
    }
   ],
   "source": [
    "np.arange(0, 24, 0.1).view([(\"x\", float), (\"y\", float), (\"z\", float), (\"t\", float)]).view(vector.VectorNumpy4D).reshape(6, 5, 2)"
   ]
  },
  {
   "cell_type": "markdown",
   "id": "sixth-connection",
   "metadata": {},
   "source": [
    "All of the keyword arguments and rules that apply to `vector.obj` construction apply to `vector.array` dtypes.\n",
    "\n",
    "Geometrical names are used in the dtype, even if momentum-synonyms are used in construction."
   ]
  },
  {
   "cell_type": "code",
   "execution_count": 24,
   "id": "wired-container",
   "metadata": {},
   "outputs": [
    {
     "data": {
      "text/plain": [
       "MomentumNumpy3D([(1., 1.1, 0.1), (2., 2.2, 0.2), (3., 3.3, 0.3), (4., 4.4, 0.4)],\n",
       "                dtype=[('x', '<f8'), ('y', '<f8'), ('z', '<f8')])"
      ]
     },
     "execution_count": 24,
     "metadata": {},
     "output_type": "execute_result"
    }
   ],
   "source": [
    "vector.array({\"px\": [1, 2, 3, 4], \"py\": [1.1, 2.2, 3.3, 4.4], \"pz\": [0.1, 0.2, 0.3, 0.4]})"
   ]
  },
  {
   "cell_type": "markdown",
   "id": "extra-logic",
   "metadata": {},
   "source": [
    "### Awkward Arrays of vectors\n",
    "\n",
    "[Awkward Arrays](https://awkward-array.org/) are arrays with more complex data structures than NumPy allows, such as variable-length lists, nested records, missing and even heterogeneous data (multiple data types: use sparingly).\n",
    "\n",
    "The `vector.Array` function behaves exactly like the [ak.Array](https://awkward-array.readthedocs.io/en/latest/_auto/ak.Array.html) constructor, except that it makes arrays of vectors."
   ]
  },
  {
   "cell_type": "code",
   "execution_count": 25,
   "id": "narrow-invite",
   "metadata": {},
   "outputs": [
    {
     "data": {
      "text/plain": [
       "<VectorArray3D [[{x: 1, y: 1.1, z: 0.1, ... z: 0.6}]] type='4 * var * Vector3D[\"...'>"
      ]
     },
     "execution_count": 25,
     "metadata": {},
     "output_type": "execute_result"
    }
   ],
   "source": [
    "vector.Array([\n",
    "    [{\"x\": 1, \"y\": 1.1, \"z\": 0.1}, {\"x\": 2, \"y\": 2.2, \"z\": 0.2}],\n",
    "    [],\n",
    "    [{\"x\": 3, \"y\": 3.3, \"z\": 0.3}],\n",
    "    [{\"x\": 4, \"y\": 4.4, \"z\": 0.4}, {\"x\": 5, \"y\": 5.5, \"z\": 0.5}, {\"x\": 6, \"y\": 6.6, \"z\": 0.6}],\n",
    "])"
   ]
  },
  {
   "cell_type": "markdown",
   "id": "victorian-attendance",
   "metadata": {},
   "source": [
    "If you want _any_ records named \"`Vector2D`\", \"`Vector3D`\", \"`Vector4D`\", \"`Momentum2D`\", \"`Momentum3D`\", or \"`Momentum4D`\" to be interpreted as vectors, register the behaviors globally."
   ]
  },
  {
   "cell_type": "code",
   "execution_count": 26,
   "id": "immune-thomson",
   "metadata": {},
   "outputs": [],
   "source": [
    "vector.register_awkward()"
   ]
  },
  {
   "cell_type": "code",
   "execution_count": 27,
   "id": "lyric-reward",
   "metadata": {},
   "outputs": [
    {
     "data": {
      "text/plain": [
       "<VectorArray3D [[{x: 1, y: 1.1, z: 0.1, ... z: 0.6}]] type='4 * var * Vector3D[\"...'>"
      ]
     },
     "execution_count": 27,
     "metadata": {},
     "output_type": "execute_result"
    }
   ],
   "source": [
    "ak.Array([\n",
    "    [{\"x\": 1, \"y\": 1.1, \"z\": 0.1}, {\"x\": 2, \"y\": 2.2, \"z\": 0.2}],\n",
    "    [],\n",
    "    [{\"x\": 3, \"y\": 3.3, \"z\": 0.3}],\n",
    "    [{\"x\": 4, \"y\": 4.4, \"z\": 0.4}, {\"x\": 5, \"y\": 5.5, \"z\": 0.5}, {\"x\": 6, \"y\": 6.6, \"z\": 0.6}],\n",
    "],\n",
    "    with_name=\"Vector3D\"\n",
    ")"
   ]
  },
  {
   "cell_type": "markdown",
   "id": "phantom-punishment",
   "metadata": {},
   "source": [
    "All of the keyword arguments and rules that apply to `vector.obj` construction apply to `vector.Array` field names."
   ]
  },
  {
   "cell_type": "markdown",
   "id": "assumed-ebony",
   "metadata": {},
   "source": [
    "## Vector properties\n",
    "\n",
    "Any geometrical coordinate can be computed from vectors in any coordinate system; they'll be provided or computed as needed."
   ]
  },
  {
   "cell_type": "code",
   "execution_count": 28,
   "id": "cosmetic-manhattan",
   "metadata": {},
   "outputs": [
    {
     "data": {
      "text/plain": [
       "5.0"
      ]
     },
     "execution_count": 28,
     "metadata": {},
     "output_type": "execute_result"
    }
   ],
   "source": [
    "vector.obj(x=3, y=4).rho"
   ]
  },
  {
   "cell_type": "code",
   "execution_count": 29,
   "id": "certified-compilation",
   "metadata": {},
   "outputs": [
    {
     "data": {
      "text/plain": [
       "2.9999808719721477"
      ]
     },
     "execution_count": 29,
     "metadata": {},
     "output_type": "execute_result"
    }
   ],
   "source": [
    "vector.obj(rho=5, phi=0.9273).x"
   ]
  },
  {
   "cell_type": "code",
   "execution_count": 30,
   "id": "embedded-liabilities",
   "metadata": {},
   "outputs": [
    {
     "data": {
      "text/plain": [
       "4.000014345949428"
      ]
     },
     "execution_count": 30,
     "metadata": {},
     "output_type": "execute_result"
    }
   ],
   "source": [
    "vector.obj(rho=5, phi=0.9273).y"
   ]
  },
  {
   "cell_type": "code",
   "execution_count": 31,
   "id": "psychological-springfield",
   "metadata": {},
   "outputs": [
    {
     "data": {
      "text/plain": [
       "0.6405223126794245"
      ]
     },
     "execution_count": 31,
     "metadata": {},
     "output_type": "execute_result"
    }
   ],
   "source": [
    "vector.obj(x=1, y=2, z=3).theta"
   ]
  },
  {
   "cell_type": "code",
   "execution_count": 32,
   "id": "happy-silver",
   "metadata": {},
   "outputs": [
    {
     "data": {
      "text/plain": [
       "1.1035868415601453"
      ]
     },
     "execution_count": 32,
     "metadata": {},
     "output_type": "execute_result"
    }
   ],
   "source": [
    "vector.obj(x=1, y=2, z=3).eta"
   ]
  },
  {
   "cell_type": "markdown",
   "id": "statistical-structure",
   "metadata": {},
   "source": [
    "Some properties are not coordinates, but derived from them."
   ]
  },
  {
   "cell_type": "code",
   "execution_count": 33,
   "id": "little-nancy",
   "metadata": {},
   "outputs": [
    {
     "data": {
      "text/plain": [
       "0.8017837257372732"
      ]
     },
     "execution_count": 33,
     "metadata": {},
     "output_type": "execute_result"
    }
   ],
   "source": [
    "vector.obj(x=1, y=2, z=3).costheta"
   ]
  },
  {
   "cell_type": "code",
   "execution_count": 34,
   "id": "subtle-indian",
   "metadata": {},
   "outputs": [
    {
     "data": {
      "text/plain": [
       "3.7416573867739413"
      ]
     },
     "execution_count": 34,
     "metadata": {},
     "output_type": "execute_result"
    }
   ],
   "source": [
    "vector.obj(x=1, y=2, z=3).mag   # spatial magnitude"
   ]
  },
  {
   "cell_type": "code",
   "execution_count": 35,
   "id": "protective-department",
   "metadata": {},
   "outputs": [
    {
     "data": {
      "text/plain": [
       "14"
      ]
     },
     "execution_count": 35,
     "metadata": {},
     "output_type": "execute_result"
    }
   ],
   "source": [
    "vector.obj(x=1, y=2, z=3).mag2   # spatial magnitude squared"
   ]
  },
  {
   "cell_type": "markdown",
   "id": "impossible-density",
   "metadata": {},
   "source": [
    "These properties are provided because they can be computed faster or with more numerical stability in different coordinate systems. For instance, the magnitude ignores `phi` in polar coordinates."
   ]
  },
  {
   "cell_type": "code",
   "execution_count": 36,
   "id": "dressed-excess",
   "metadata": {},
   "outputs": [
    {
     "data": {
      "text/plain": [
       "25"
      ]
     },
     "execution_count": 36,
     "metadata": {},
     "output_type": "execute_result"
    }
   ],
   "source": [
    "vector.obj(rho=3, phi=0.123456789, z=4).mag2"
   ]
  },
  {
   "cell_type": "markdown",
   "id": "pediatric-poster",
   "metadata": {},
   "source": [
    "Momentum vectors have geometrical properties as well as their momentum-synonyms."
   ]
  },
  {
   "cell_type": "code",
   "execution_count": 37,
   "id": "athletic-transportation",
   "metadata": {},
   "outputs": [
    {
     "data": {
      "text/plain": [
       "5.0"
      ]
     },
     "execution_count": 37,
     "metadata": {},
     "output_type": "execute_result"
    }
   ],
   "source": [
    "vector.obj(px=3, py=4).rho"
   ]
  },
  {
   "cell_type": "code",
   "execution_count": 38,
   "id": "freelance-expert",
   "metadata": {},
   "outputs": [
    {
     "data": {
      "text/plain": [
       "5.0"
      ]
     },
     "execution_count": 38,
     "metadata": {},
     "output_type": "execute_result"
    }
   ],
   "source": [
    "vector.obj(px=3, py=4).pt"
   ]
  },
  {
   "cell_type": "code",
   "execution_count": 39,
   "id": "organizational-wrong",
   "metadata": {},
   "outputs": [
    {
     "data": {
      "text/plain": [
       "1.4142135623730951"
      ]
     },
     "execution_count": 39,
     "metadata": {},
     "output_type": "execute_result"
    }
   ],
   "source": [
    "vector.obj(x=1, y=2, z=3, E=4).tau"
   ]
  },
  {
   "cell_type": "code",
   "execution_count": 40,
   "id": "aboriginal-steel",
   "metadata": {},
   "outputs": [
    {
     "data": {
      "text/plain": [
       "1.4142135623730951"
      ]
     },
     "execution_count": 40,
     "metadata": {},
     "output_type": "execute_result"
    }
   ],
   "source": [
    "vector.obj(x=1, y=2, z=3, E=4).mass"
   ]
  },
  {
   "cell_type": "markdown",
   "id": "global-firmware",
   "metadata": {},
   "source": [
    "Here's the key thing: _arrays of vectors return arrays of coordinates_."
   ]
  },
  {
   "cell_type": "code",
   "execution_count": 41,
   "id": "prompt-clock",
   "metadata": {},
   "outputs": [
    {
     "data": {
      "text/plain": [
       "array([1.50363023, 1.50363023, 1.50363023, 1.50363023, 1.50363023])"
      ]
     },
     "execution_count": 41,
     "metadata": {},
     "output_type": "execute_result"
    }
   ],
   "source": [
    "vector.array({\n",
    "    \"x\": [1.0, 2.0, 3.0, 4.0, 5.0],\n",
    "    \"y\": [1.1, 2.2, 3.3, 4.4, 5.5],\n",
    "    \"z\": [0.1, 0.2, 0.3, 0.4, 0.5],\n",
    "}).theta"
   ]
  },
  {
   "cell_type": "code",
   "execution_count": 42,
   "id": "approximate-welcome",
   "metadata": {},
   "outputs": [
    {
     "data": {
      "text/plain": [
       "<Array [[1.5, 1.5], [], [1.5], [1.5, 1.5]] type='4 * var * float64'>"
      ]
     },
     "execution_count": 42,
     "metadata": {},
     "output_type": "execute_result"
    }
   ],
   "source": [
    "vector.Array([\n",
    "    [{\"x\": 1, \"y\": 1.1, \"z\": 0.1}, {\"x\": 2, \"y\": 2.2, \"z\": 0.2}],\n",
    "    [],\n",
    "    [{\"x\": 3, \"y\": 3.3, \"z\": 0.3}],\n",
    "    [{\"x\": 4, \"y\": 4.4, \"z\": 0.4}, {\"x\": 5, \"y\": 5.5, \"z\": 0.5}],\n",
    "]).theta"
   ]
  },
  {
   "cell_type": "code",
   "execution_count": 43,
   "id": "united-tonight",
   "metadata": {},
   "outputs": [
    {
     "data": {
      "text/plain": [
       "MomentumNumpy3D([[[(-7.50610146e-01,  1.0425774 ,  0.29778433),\n",
       "                   ( 1.13287769e+00, -0.24836654,  0.19102889)],\n",
       "                  [( 3.23256593e-01, -0.82910565,  0.79786817),\n",
       "                   (-9.39658863e-01, -0.29452071, -0.10450563)],\n",
       "                  [(-3.78822438e-01, -0.68410682,  0.82435938),\n",
       "                   (-4.55054092e-01,  0.75207561, -1.56669745)],\n",
       "                  [(-9.99329869e-01, -0.25884826,  0.20012055),\n",
       "                   ( 1.64173331e-01, -1.41145348,  1.06922038)],\n",
       "                  [( 3.59727840e-01,  0.97302169,  2.74344962),\n",
       "                   ( 4.87818109e-02,  0.81457248, -1.32574577)]],\n",
       "\n",
       "                 [[(-7.60756991e-01,  0.51675723,  1.55833683),\n",
       "                   ( 3.45371784e-01, -0.53088786, -0.89626629)],\n",
       "                  [( 2.63637828e-01,  1.39933396,  0.81886247),\n",
       "                   (-2.28332543e-01, -1.72884423, -0.67500397)],\n",
       "                  [( 7.61498620e-01, -1.94529145, -0.94960896),\n",
       "                   (-4.07648082e-01, -2.83068261, -2.03418661)],\n",
       "                  [( 1.91120002e+00,  0.12080033,  0.86904393),\n",
       "                   ( 8.09622406e-01,  1.55114849,  0.20035349)],\n",
       "                  [( 8.53542915e-01, -0.51545534, -1.00056224),\n",
       "                   (-5.04405584e-01, -1.0506152 ,  1.64034367)]],\n",
       "\n",
       "                 [[( 1.24157610e+00, -0.25989713, -0.2594185 ),\n",
       "                   ( 5.29493539e-01, -0.11820613, -1.0925785 )],\n",
       "                  [(-8.42568578e-01,  1.50030966, -1.43792398),\n",
       "                   ( 8.34195697e-03,  0.17766223,  1.01444643)],\n",
       "                  [(-3.55617800e-01, -0.20931548,  0.68900409),\n",
       "                   (-2.62934119e-01, -1.37999178, -0.43832529)],\n",
       "                  [(-2.76461587e-01, -1.52070208, -1.04076986),\n",
       "                   ( 8.88619730e-01,  0.17756758,  1.16901362)],\n",
       "                  [( 5.37601960e-01,  0.80700956,  1.44310968),\n",
       "                   (-2.50802972e+00, -0.43368152, -1.39844628)]],\n",
       "\n",
       "                 [[( 9.60325958e-01,  0.87047971, -1.22242607),\n",
       "                   ( 1.02213546e+00, -0.69390924, -0.88799545)],\n",
       "                  [(-3.33637030e-01, -0.51725001,  1.06965099),\n",
       "                   ( 8.36901362e-01, -0.99139892,  0.57499709)],\n",
       "                  [( 4.12810086e-01,  1.02393999,  2.14567681),\n",
       "                   ( 1.68164769e+00, -0.65241195, -0.55223321)],\n",
       "                  [( 1.01358016e+00, -0.41536987, -0.11418287),\n",
       "                   ( 1.27209214e+00, -0.45685962, -1.17577487)],\n",
       "                  [(-7.44817481e-01,  0.30698478,  2.14600185),\n",
       "                   ( 8.72663088e-01, -1.18267404,  0.63664444)]],\n",
       "\n",
       "                 [[(-1.83943213e-03,  0.05974316, -0.3431891 ),\n",
       "                   (-1.60961256e+00, -0.07031346, -0.50098079)],\n",
       "                  [(-4.47325420e-01, -0.24400459,  1.49813313),\n",
       "                   (-3.45351664e-02, -0.03352917,  0.69011697)],\n",
       "                  [( 5.53862586e-01, -1.23446005,  1.6533246 ),\n",
       "                   (-4.80832048e-01,  0.05516505, -0.7317477 )],\n",
       "                  [( 6.01627712e-01, -0.90808504,  0.50524785),\n",
       "                   ( 6.03470445e-01,  0.46066603,  0.4181685 )],\n",
       "                  [( 6.17579182e-02, -0.23870491,  1.78030565),\n",
       "                   ( 2.67011692e-01, -0.07517167, -1.96874159)]]],\n",
       "                dtype=[('x', '<f8'), ('y', '<f8'), ('z', '<f8')])"
      ]
     },
     "execution_count": 43,
     "metadata": {},
     "output_type": "execute_result"
    }
   ],
   "source": [
    "# Make a large, random NumPy array of 3D momentum vectors.\n",
    "array = np.random.normal(0, 1, 150).view([(x, float) for x in (\"x\", \"y\", \"z\")]).view(vector.MomentumNumpy3D).reshape(5, 5, 2)\n",
    "array"
   ]
  },
  {
   "cell_type": "code",
   "execution_count": 44,
   "id": "sustained-relay",
   "metadata": {},
   "outputs": [
    {
     "data": {
      "text/plain": [
       "array([[[1.28467242, 1.15978351],\n",
       "        [0.88989382, 0.98473409],\n",
       "        [0.78199014, 0.87902898],\n",
       "        [1.03230936, 1.42096932],\n",
       "        [1.03738871, 0.81603186]],\n",
       "\n",
       "       [[0.919668  , 0.63334318],\n",
       "        [1.4239524 , 1.74385726],\n",
       "        [2.08902824, 2.85988478],\n",
       "        [1.9150139 , 1.74972858],\n",
       "        [0.99711068, 1.16542579]],\n",
       "\n",
       "       [[1.26848639, 0.54252751],\n",
       "        [1.72071232, 0.17785796],\n",
       "        [0.41264633, 1.40481731],\n",
       "        [1.54562798, 0.90618722],\n",
       "        [0.96968051, 2.54524905]],\n",
       "\n",
       "       [[1.29613304, 1.23542338],\n",
       "        [0.61551705, 1.29741116],\n",
       "        [1.10402231, 1.80376837],\n",
       "        [1.09538891, 1.35164312],\n",
       "        [0.80560085, 1.46978187]],\n",
       "\n",
       "       [[0.05977147, 1.6111476 ],\n",
       "        [0.50954712, 0.04813401],\n",
       "        [1.35301714, 0.4839862 ],\n",
       "        [1.08929993, 0.75920338],\n",
       "        [0.24656454, 0.27739146]]])"
      ]
     },
     "execution_count": 44,
     "metadata": {},
     "output_type": "execute_result"
    }
   ],
   "source": [
    "# Get the transverse momentum of each one.\n",
    "array.pt"
   ]
  },
  {
   "cell_type": "code",
   "execution_count": 45,
   "id": "entire-mediterranean",
   "metadata": {},
   "outputs": [
    {
     "data": {
      "text/plain": [
       "(5, 5, 2)"
      ]
     },
     "execution_count": 45,
     "metadata": {},
     "output_type": "execute_result"
    }
   ],
   "source": [
    "# The array and its components have the same shape.\n",
    "array.shape"
   ]
  },
  {
   "cell_type": "code",
   "execution_count": 46,
   "id": "democratic-grass",
   "metadata": {},
   "outputs": [
    {
     "data": {
      "text/plain": [
       "(5, 5, 2)"
      ]
     },
     "execution_count": 46,
     "metadata": {},
     "output_type": "execute_result"
    }
   ],
   "source": [
    "array.pt.shape"
   ]
  },
  {
   "cell_type": "code",
   "execution_count": 47,
   "id": "unsigned-glass",
   "metadata": {},
   "outputs": [
    {
     "data": {
      "text/plain": [
       "<MomentumArray3D [[{x: 0.346, y: -0.338, ... z: -1.02}]] type='50 * var * Moment...'>"
      ]
     },
     "execution_count": 47,
     "metadata": {},
     "output_type": "execute_result"
    }
   ],
   "source": [
    "# Make a large, random Awkward Array of 3D momentum vectors.\n",
    "array = vector.Array([[{x: np.random.normal(0, 1) for x in (\"px\", \"py\", \"pz\")} for inner in range(np.random.poisson(1.5))] for outer in range(50)])\n",
    "array"
   ]
  },
  {
   "cell_type": "code",
   "execution_count": 48,
   "id": "agricultural-manhattan",
   "metadata": {},
   "outputs": [
    {
     "data": {
      "text/plain": [
       "<Array [[0.484, 1.04], [1.27, ... 1.6], [1.23]] type='50 * var * float64'>"
      ]
     },
     "execution_count": 48,
     "metadata": {},
     "output_type": "execute_result"
    }
   ],
   "source": [
    "# Get the transverse momentum of each one, in the same nested structure.\n",
    "array.pt"
   ]
  },
  {
   "cell_type": "code",
   "execution_count": 49,
   "id": "basic-design",
   "metadata": {},
   "outputs": [
    {
     "data": {
      "text/plain": [
       "<Array [2, 1, 2, 3, 0, 2, ... 1, 0, 1, 1, 2, 1] type='50 * int64'>"
      ]
     },
     "execution_count": 49,
     "metadata": {},
     "output_type": "execute_result"
    }
   ],
   "source": [
    "# The array and its components have the same list lengths (and can therefore be used together in subsequent calculations).\n",
    "ak.num(array)"
   ]
  },
  {
   "cell_type": "code",
   "execution_count": 50,
   "id": "dense-closer",
   "metadata": {},
   "outputs": [
    {
     "data": {
      "text/plain": [
       "<Array [2, 1, 2, 3, 0, 2, ... 1, 0, 1, 1, 2, 1] type='50 * int64'>"
      ]
     },
     "execution_count": 50,
     "metadata": {},
     "output_type": "execute_result"
    }
   ],
   "source": [
    "ak.num(array.pt)"
   ]
  },
  {
   "cell_type": "markdown",
   "id": "extreme-eclipse",
   "metadata": {},
   "source": [
    "## Vector methods\n",
    "\n",
    "Vector methods require arguments (in parentheses), which may be scalars or other vectors, depending on the calculation."
   ]
  },
  {
   "cell_type": "code",
   "execution_count": 51,
   "id": "altered-savannah",
   "metadata": {},
   "outputs": [
    {
     "data": {
      "text/plain": [
       "vector.obj(x=2.585678829246765, y=4.279516911052588)"
      ]
     },
     "execution_count": 51,
     "metadata": {},
     "output_type": "execute_result"
    }
   ],
   "source": [
    "vector.obj(x=3, y=4).rotateZ(0.1)"
   ]
  },
  {
   "cell_type": "code",
   "execution_count": 52,
   "id": "occupational-landscape",
   "metadata": {},
   "outputs": [
    {
     "data": {
      "text/plain": [
       "vector.obj(rho=5, phi=0.5)"
      ]
     },
     "execution_count": 52,
     "metadata": {},
     "output_type": "execute_result"
    }
   ],
   "source": [
    "vector.obj(rho=5, phi=0.4).rotateZ(0.1)"
   ]
  },
  {
   "cell_type": "code",
   "execution_count": 53,
   "id": "certain-channels",
   "metadata": {},
   "outputs": [
    {
     "name": "stdout",
     "output_type": "stream",
     "text": [
      "[(1., 0.6) (2., 0.7) (3., 0.8) (4., 0.9) (5., 1. )]\n"
     ]
    }
   ],
   "source": [
    "# Broadcasts a scalar rotation angle of 0.5 to all elements of the NumPy array.\n",
    "print(vector.array({\"rho\": [1, 2, 3, 4, 5], \"phi\": [0.1, 0.2, 0.3, 0.4, 0.5]}).rotateZ(0.5))"
   ]
  },
  {
   "cell_type": "code",
   "execution_count": 54,
   "id": "understood-class",
   "metadata": {},
   "outputs": [
    {
     "name": "stdout",
     "output_type": "stream",
     "text": [
      "[(1., 0.2) (2., 0.4) (3., 0.6) (4., 0.8) (5., 1. )]\n"
     ]
    }
   ],
   "source": [
    "# Matches each rotation angle to an element of the NumPy array.\n",
    "print(vector.array({\"rho\": [1, 2, 3, 4, 5], \"phi\": [0.1, 0.2, 0.3, 0.4, 0.5]}).rotateZ(np.array([0.1, 0.2, 0.3, 0.4, 0.5])))"
   ]
  },
  {
   "cell_type": "code",
   "execution_count": 55,
   "id": "charitable-bargain",
   "metadata": {},
   "outputs": [
    {
     "name": "stdout",
     "output_type": "stream",
     "text": [
      "[[{rho: 1, phi: 0.6}, {rho: 2, phi: 0.7}], [], [{rho: 3, phi: 0.8}]]\n"
     ]
    }
   ],
   "source": [
    "# Broadcasts a scalar rotation angle of 0.5 to all elements of the Awkward Array.\n",
    "print(vector.Array([[{\"rho\": 1, \"phi\": 0.1}, {\"rho\": 2, \"phi\": 0.2}], [], [{\"rho\": 3, \"phi\": 0.3}]]).rotateZ(0.5))"
   ]
  },
  {
   "cell_type": "code",
   "execution_count": 56,
   "id": "israeli-jurisdiction",
   "metadata": {},
   "outputs": [
    {
     "name": "stdout",
     "output_type": "stream",
     "text": [
      "[[{rho: 1, phi: 0.2}, {rho: 2, phi: 0.3}], [], [{rho: 3, phi: 0.6}]]\n"
     ]
    }
   ],
   "source": [
    "# Broadcasts a rotation angle of 0.1 to both elements of the first list, 0.2 to the empty list, and 0.3 to the only element of the last list.\n",
    "print(vector.Array([[{\"rho\": 1, \"phi\": 0.1}, {\"rho\": 2, \"phi\": 0.2}], [], [{\"rho\": 3, \"phi\": 0.3}]]).rotateZ([0.1, 0.2, 0.3]))"
   ]
  },
  {
   "cell_type": "code",
   "execution_count": 57,
   "id": "alpha-senator",
   "metadata": {},
   "outputs": [
    {
     "name": "stdout",
     "output_type": "stream",
     "text": [
      "[[{rho: 1, phi: 0.2}, {rho: 2, phi: 0.4}], [], [{rho: 3, phi: 0.6}]]\n"
     ]
    }
   ],
   "source": [
    "# Matches each rotation angle to an element of the Awkward Array.\n",
    "print(vector.Array([[{\"rho\": 1, \"phi\": 0.1}, {\"rho\": 2, \"phi\": 0.2}], [], [{\"rho\": 3, \"phi\": 0.3}]]).rotateZ([[0.1, 0.2], [], [0.3]]))"
   ]
  },
  {
   "cell_type": "markdown",
   "id": "ranking-energy",
   "metadata": {},
   "source": [
    "Some methods are equivalent to binary operators."
   ]
  },
  {
   "cell_type": "code",
   "execution_count": 58,
   "id": "detailed-anchor",
   "metadata": {},
   "outputs": [
    {
     "data": {
      "text/plain": [
       "vector.obj(x=30, y=40)"
      ]
     },
     "execution_count": 58,
     "metadata": {},
     "output_type": "execute_result"
    }
   ],
   "source": [
    "vector.obj(x=3, y=4).scale(10)"
   ]
  },
  {
   "cell_type": "code",
   "execution_count": 59,
   "id": "bronze-kelly",
   "metadata": {},
   "outputs": [
    {
     "data": {
      "text/plain": [
       "vector.obj(x=30, y=40)"
      ]
     },
     "execution_count": 59,
     "metadata": {},
     "output_type": "execute_result"
    }
   ],
   "source": [
    "vector.obj(x=3, y=4) * 10"
   ]
  },
  {
   "cell_type": "code",
   "execution_count": 60,
   "id": "divided-ballot",
   "metadata": {},
   "outputs": [
    {
     "data": {
      "text/plain": [
       "vector.obj(x=30, y=40)"
      ]
     },
     "execution_count": 60,
     "metadata": {},
     "output_type": "execute_result"
    }
   ],
   "source": [
    "10 * vector.obj(x=3, y=4)"
   ]
  },
  {
   "cell_type": "code",
   "execution_count": 61,
   "id": "outside-today",
   "metadata": {},
   "outputs": [
    {
     "data": {
      "text/plain": [
       "vector.obj(rho=50, phi=0.5)"
      ]
     },
     "execution_count": 61,
     "metadata": {},
     "output_type": "execute_result"
    }
   ],
   "source": [
    "vector.obj(rho=5, phi=0.5) * 10"
   ]
  },
  {
   "cell_type": "markdown",
   "id": "basic-gilbert",
   "metadata": {},
   "source": [
    "Some methods involve more than one vector."
   ]
  },
  {
   "cell_type": "code",
   "execution_count": 62,
   "id": "sitting-master",
   "metadata": {},
   "outputs": [
    {
     "data": {
      "text/plain": [
       "vector.obj(x=6, y=7)"
      ]
     },
     "execution_count": 62,
     "metadata": {},
     "output_type": "execute_result"
    }
   ],
   "source": [
    "vector.obj(x=1, y=2).add(vector.obj(x=5, y=5))"
   ]
  },
  {
   "cell_type": "code",
   "execution_count": 63,
   "id": "assigned-retrieval",
   "metadata": {},
   "outputs": [
    {
     "data": {
      "text/plain": [
       "vector.obj(x=6, y=7)"
      ]
     },
     "execution_count": 63,
     "metadata": {},
     "output_type": "execute_result"
    }
   ],
   "source": [
    "vector.obj(x=1, y=2) + vector.obj(x=5, y=5)"
   ]
  },
  {
   "cell_type": "code",
   "execution_count": 64,
   "id": "twenty-peoples",
   "metadata": {},
   "outputs": [
    {
     "data": {
      "text/plain": [
       "15"
      ]
     },
     "execution_count": 64,
     "metadata": {},
     "output_type": "execute_result"
    }
   ],
   "source": [
    "vector.obj(x=1, y=2).dot(vector.obj(x=5, y=5))"
   ]
  },
  {
   "cell_type": "code",
   "execution_count": 65,
   "id": "sonic-timer",
   "metadata": {},
   "outputs": [
    {
     "data": {
      "text/plain": [
       "15"
      ]
     },
     "execution_count": 65,
     "metadata": {},
     "output_type": "execute_result"
    }
   ],
   "source": [
    "vector.obj(x=1, y=2) @ vector.obj(x=5, y=5)"
   ]
  },
  {
   "cell_type": "markdown",
   "id": "canadian-silly",
   "metadata": {},
   "source": [
    "The vectors can use different coordinate systems. Conversions are necessary, but minimized for speed and numeric stability."
   ]
  },
  {
   "cell_type": "code",
   "execution_count": 66,
   "id": "compliant-dodge",
   "metadata": {},
   "outputs": [
    {
     "data": {
      "text/plain": [
       "50"
      ]
     },
     "execution_count": 66,
     "metadata": {},
     "output_type": "execute_result"
    }
   ],
   "source": [
    "vector.obj(x=3, y=4) @ vector.obj(x=6, y=8)   # both are Cartesian, dot product is exact"
   ]
  },
  {
   "cell_type": "code",
   "execution_count": 67,
   "id": "homeless-seattle",
   "metadata": {},
   "outputs": [
    {
     "data": {
      "text/plain": [
       "49.99999999942831"
      ]
     },
     "execution_count": 67,
     "metadata": {},
     "output_type": "execute_result"
    }
   ],
   "source": [
    "vector.obj(rho=5, phi=0.9273) @ vector.obj(x=6, y=8)   # one is polar, dot product is approximate"
   ]
  },
  {
   "cell_type": "code",
   "execution_count": 68,
   "id": "finished-breakfast",
   "metadata": {},
   "outputs": [
    {
     "data": {
      "text/plain": [
       "49.99999999942831"
      ]
     },
     "execution_count": 68,
     "metadata": {},
     "output_type": "execute_result"
    }
   ],
   "source": [
    "vector.obj(x=3, y=4) @ vector.obj(rho=10, phi=0.9273)   # one is polar, dot product is approximate"
   ]
  },
  {
   "cell_type": "code",
   "execution_count": 69,
   "id": "personal-oxygen",
   "metadata": {},
   "outputs": [
    {
     "data": {
      "text/plain": [
       "50.0"
      ]
     },
     "execution_count": 69,
     "metadata": {},
     "output_type": "execute_result"
    }
   ],
   "source": [
    "vector.obj(rho=5, phi=0.9273) @ vector.obj(rho=10, phi=0.9273)   # both are polar, a formula that depends on phi differences is used"
   ]
  },
  {
   "cell_type": "markdown",
   "id": "broken-declaration",
   "metadata": {},
   "source": [
    "The vectors can be from different backends. Normal rules for broadcasting Python numbers, NumPy arrays, and Awkward Arrays apply."
   ]
  },
  {
   "cell_type": "code",
   "execution_count": 70,
   "id": "looking-inspection",
   "metadata": {},
   "outputs": [
    {
     "data": {
      "text/plain": [
       "VectorNumpy2D([(11., 5.1), (12., 5.2), (13., 5.3), (14., 5.4), (15., 5.5)],\n",
       "              dtype=[('x', '<f8'), ('y', '<f8')])"
      ]
     },
     "execution_count": 70,
     "metadata": {},
     "output_type": "execute_result"
    }
   ],
   "source": [
    "vector.array({\"x\": [1, 2, 3, 4, 5], \"y\": [0.1, 0.2, 0.3, 0.4, 0.5]}) + vector.obj(x=10, y=5)"
   ]
  },
  {
   "cell_type": "code",
   "execution_count": 74,
   "id": "thirty-typing",
   "metadata": {},
   "outputs": [
    {
     "data": {
      "text/plain": [
       "<VectorArray2D [[{x: 11, y: 6.1}, ... x: 15, y: 10.5}]] type='4 * var * Vector2D...'>"
      ]
     },
     "execution_count": 74,
     "metadata": {},
     "output_type": "execute_result"
    }
   ],
   "source": [
    "(\n",
    "    vector.Array([                                                   # an Awkward Array of vectors\n",
    "        [{\"x\": 1, \"y\": 1.1}, {\"x\": 2, \"y\": 2.2}],\n",
    "        [],\n",
    "        [{\"x\": 3, \"y\": 3.3}],\n",
    "        [{\"x\": 4, \"y\": 4.4}, {\"x\": 5, \"y\": 5.5}],\n",
    "    ])\n",
    "    + vector.obj(x=10, y=5)                                          # and a single vector object\n",
    ")"
   ]
  },
  {
   "cell_type": "code",
   "execution_count": 75,
   "id": "incomplete-tuesday",
   "metadata": {},
   "outputs": [
    {
     "data": {
      "text/plain": [
       "<VectorArray2D [[{x: 5, y: 1.2}, ... x: 6, y: 5.6}]] type='4 * var * Vector2D[\"x...'>"
      ]
     },
     "execution_count": 75,
     "metadata": {},
     "output_type": "execute_result"
    }
   ],
   "source": [
    "(\n",
    "    vector.Array([                                                   # an Awkward Array of vectors\n",
    "        [{\"x\": 1, \"y\": 1.1}, {\"x\": 2, \"y\": 2.2}],\n",
    "        [],\n",
    "        [{\"x\": 3, \"y\": 3.3}],\n",
    "        [{\"x\": 4, \"y\": 4.4}, {\"x\": 5, \"y\": 5.5}],\n",
    "    ])\n",
    "    + vector.array({\"x\": [4, 3, 2, 1], \"y\": [0.1, 0.1, 0.1, 0.1]})   # and a NumPy array of vectors\n",
    ")"
   ]
  },
  {
   "cell_type": "code",
   "execution_count": null,
   "id": "likely-receipt",
   "metadata": {},
   "outputs": [],
   "source": []
  }
 ],
 "metadata": {
  "kernelspec": {
   "display_name": "Python 3",
   "language": "python",
   "name": "python3"
  },
  "language_info": {
   "codemirror_mode": {
    "name": "ipython",
    "version": 3
   },
   "file_extension": ".py",
   "mimetype": "text/x-python",
   "name": "python",
   "nbconvert_exporter": "python",
   "pygments_lexer": "ipython3",
   "version": "3.8.8"
  }
 },
 "nbformat": 4,
 "nbformat_minor": 5
}
