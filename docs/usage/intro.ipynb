{
 "cells": [
  {
   "cell_type": "markdown",
   "id": "dedicated-nevada",
   "metadata": {},
   "source": [
    "# Introduction to Vector\n",
    "\n",
    "Vector is a Python library for 2D, 3D, and [Lorentz vectors](https://en.wikipedia.org/wiki/Special_relativity#Physics_in_spacetime), especially _arrays of vectors_, to solve common physics problems in a NumPy-like way.\n",
    "\n",
    "Main features of Vector:\n",
    "\n",
    "   * Pure Python with NumPy as its only dependency. This makes it easier to install.\n",
    "   * Vectors may be represented in a variety of coordinate systems: Cartesian, cylindrical, spherical, and any combination of these with time or proper time for Lorentz vectors. In all, there are 12 coordinate systems: {$x$-$y$ vs $\\rho$-$\\phi$ in the azimuthal plane} × {$z$ vs $\\theta$ vs $\\eta$ longitudinally} × {$t$ vs $\\tau$ temporally}.\n",
    "   * Uses names and conventions set by [ROOT](https://root.cern/)'s [TLorentzVector](https://root.cern.ch/doc/master/classTLorentzVector.html) and [Math::LorentzVector](https://root.cern.ch/doc/master/classROOT_1_1Math_1_1LorentzVector.html), as well as [scikit-hep/math](https://github.com/scikit-hep/scikit-hep/tree/master/skhep/math), [uproot-methods TLorentzVector](https://github.com/scikit-hep/uproot3-methods/blob/master/uproot3_methods/classes/TLorentzVector.py), [henryiii/hepvector](https://github.com/henryiii/hepvector), and [coffea.nanoevents.methods.vector](https://coffeateam.github.io/coffea/modules/coffea.nanoevents.methods.vector.html).\n",
    "   * Implemented on a variety of backends:\n",
    "      - pure Python objects\n",
    "      - NumPy arrays of vectors (as a [structured array](https://numpy.org/doc/stable/user/basics.rec.html) subclass)\n",
    "      - [Awkward Arrays](https://awkward-array.org/) of vectors\n",
    "      - potential for more: CuPy, TensorFlow, Torch, JAX...\n",
    "   * Implemented in [Numba](https://numba.pydata.org/) for JIT-compiled calculations on vectors.\n",
    "   * Distinction between geometrical vectors, which have a minimum of attribute and method names, and vectors representing momentum, which have synonyms like `pt` = `rho`, `energy` = `t`, `mass` = `tau`.\n",
    "\n",
    "This notebook requires Vector, NumPy, Awkward Array, and Numba to run."
   ]
  },
  {
   "cell_type": "code",
   "execution_count": 1,
   "id": "caring-trade",
   "metadata": {},
   "outputs": [],
   "source": [
    "import vector\n",
    "import numpy as np\n",
    "import awkward as ak\n",
    "import numba as nb"
   ]
  },
  {
   "cell_type": "markdown",
   "id": "descending-porter",
   "metadata": {},
   "source": [
    "## Constructing a vector or an array of vectors\n",
    "\n",
    "The easiest way to create one or many vectors is with\n",
    "\n",
    "   * `vector.obj` to make a pure Python vector object,\n",
    "   * `vector.array` to make a NumPy array of vectors (this is a subclass of `np.ndarray`),\n",
    "   * `vector.Array` to make an Awkward Array of vectors."
   ]
  },
  {
   "cell_type": "markdown",
   "id": "consistent-croatia",
   "metadata": {},
   "source": [
    "### Pure Python vectors"
   ]
  },
  {
   "cell_type": "code",
   "execution_count": 2,
   "id": "vietnamese-application",
   "metadata": {},
   "outputs": [
    {
     "data": {
      "text/plain": [
       "vector.obj(x=3, y=4)"
      ]
     },
     "execution_count": 2,
     "metadata": {},
     "output_type": "execute_result"
    }
   ],
   "source": [
    "vector.obj(x=3, y=4)   # Cartesian 2D vector"
   ]
  },
  {
   "cell_type": "code",
   "execution_count": 3,
   "id": "minimal-spectacular",
   "metadata": {},
   "outputs": [
    {
     "data": {
      "text/plain": [
       "vector.obj(rho=5, phi=0.9273)"
      ]
     },
     "execution_count": 3,
     "metadata": {},
     "output_type": "execute_result"
    }
   ],
   "source": [
    "vector.obj(rho=5, phi=0.9273)   # same in polar coordinates"
   ]
  },
  {
   "cell_type": "code",
   "execution_count": 4,
   "id": "handled-choir",
   "metadata": {},
   "outputs": [
    {
     "data": {
      "text/plain": [
       "True"
      ]
     },
     "execution_count": 4,
     "metadata": {},
     "output_type": "execute_result"
    }
   ],
   "source": [
    "vector.obj(x=3, y=4).isclose(vector.obj(rho=5, phi=0.9273))   # use \"isclose\" unless they are exactly equal"
   ]
  },
  {
   "cell_type": "code",
   "execution_count": 5,
   "id": "regular-prevention",
   "metadata": {},
   "outputs": [
    {
     "data": {
      "text/plain": [
       "vector.obj(x=3, y=4, z=-2)"
      ]
     },
     "execution_count": 5,
     "metadata": {},
     "output_type": "execute_result"
    }
   ],
   "source": [
    "vector.obj(x=3, y=4, z=-2)   # Cartesian 3D vector"
   ]
  },
  {
   "cell_type": "code",
   "execution_count": 6,
   "id": "organizational-combining",
   "metadata": {},
   "outputs": [
    {
     "data": {
      "text/plain": [
       "vector.obj(x=3, y=4, z=-2, t=10)"
      ]
     },
     "execution_count": 6,
     "metadata": {},
     "output_type": "execute_result"
    }
   ],
   "source": [
    "vector.obj(x=3, y=4, z=-2, t=10)   # Cartesian 4D vector"
   ]
  },
  {
   "cell_type": "code",
   "execution_count": 7,
   "id": "proud-cylinder",
   "metadata": {},
   "outputs": [
    {
     "data": {
      "text/plain": [
       "vector.obj(rho=5, phi=0.9273, eta=-0.39, t=10)"
      ]
     },
     "execution_count": 7,
     "metadata": {},
     "output_type": "execute_result"
    }
   ],
   "source": [
    "vector.obj(rho=5, phi=0.9273, eta=-0.39, t=10)   # in rho-phi-eta-t cylindrical coordinates"
   ]
  },
  {
   "cell_type": "code",
   "execution_count": 8,
   "id": "attended-juice",
   "metadata": {},
   "outputs": [
    {
     "data": {
      "text/plain": [
       "vector.obj(pt=5, phi=0.9273, eta=-0.39, E=10)"
      ]
     },
     "execution_count": 8,
     "metadata": {},
     "output_type": "execute_result"
    }
   ],
   "source": [
    "vector.obj(pt=5, phi=0.9273, eta=-0.39, E=10)   # use momentum-synonyms to get a momentum vector"
   ]
  },
  {
   "cell_type": "code",
   "execution_count": 9,
   "id": "pregnant-accused",
   "metadata": {},
   "outputs": [
    {
     "data": {
      "text/plain": [
       "False"
      ]
     },
     "execution_count": 9,
     "metadata": {},
     "output_type": "execute_result"
    }
   ],
   "source": [
    "vector.obj(rho=5, phi=0.9273, eta=-0.39, t=10) == vector.obj(pt=5, phi=0.9273, eta=-0.390035, E=10)"
   ]
  },
  {
   "cell_type": "code",
   "execution_count": 10,
   "id": "spread-panel",
   "metadata": {},
   "outputs": [
    {
     "data": {
      "text/plain": [
       "8.426194916448265"
      ]
     },
     "execution_count": 10,
     "metadata": {},
     "output_type": "execute_result"
    }
   ],
   "source": [
    "vector.obj(rho=5, phi=0.9273, eta=-0.39, t=10).tau   # geometrical vectors have to use geometrical names (\"tau\", not \"mass\")"
   ]
  },
  {
   "cell_type": "code",
   "execution_count": 11,
   "id": "immediate-northwest",
   "metadata": {},
   "outputs": [
    {
     "data": {
      "text/plain": [
       "8.426194916448265"
      ]
     },
     "execution_count": 11,
     "metadata": {},
     "output_type": "execute_result"
    }
   ],
   "source": [
    "vector.obj(pt=5, phi=0.9273, eta=-0.39, E=10).mass   # momentum vectors can use momentum names (as well as geometrical ones)"
   ]
  },
  {
   "cell_type": "code",
   "execution_count": 12,
   "id": "direct-space",
   "metadata": {},
   "outputs": [
    {
     "data": {
      "text/plain": [
       "vector.obj(pt=5, phi=0.9273, theta=1.9513, mass=8.4262)"
      ]
     },
     "execution_count": 12,
     "metadata": {},
     "output_type": "execute_result"
    }
   ],
   "source": [
    "vector.obj(pt=5, phi=0.9273, theta=1.9513, mass=8.4262)   # any combination of azimuthal, longitudinal, and temporal coordinates is allowed"
   ]
  },
  {
   "cell_type": "code",
   "execution_count": 13,
   "id": "academic-above",
   "metadata": {},
   "outputs": [
    {
     "data": {
      "text/plain": [
       "True"
      ]
     },
     "execution_count": 13,
     "metadata": {},
     "output_type": "execute_result"
    }
   ],
   "source": [
    "vector.obj(x=3, y=4, z=-2, t=10).isclose(vector.obj(pt=5, phi=0.9273, theta=1.9513, mass=8.4262))"
   ]
  },
  {
   "cell_type": "code",
   "execution_count": 14,
   "id": "reliable-entrance",
   "metadata": {},
   "outputs": [
    {
     "data": {
      "text/plain": [
       "(True, True, True, True, True, True, True, True, True, True)"
      ]
     },
     "execution_count": 14,
     "metadata": {},
     "output_type": "execute_result"
    }
   ],
   "source": [
    "# Test instance type for any level of granularity.\n",
    "(\n",
    "    isinstance(vector.obj(x=1.1, y=2.2), vector.Vector),                                    # is a vector or array of vectors\n",
    "    isinstance(vector.obj(x=1.1, y=2.2), vector.Vector2D),                                  # is 2D (not 3D or 4D)\n",
    "    isinstance(vector.obj(x=1.1, y=2.2), vector.VectorObject2D),                            # \n",
    "    isinstance(vector.obj(px=1.1, py=2.2), vector.Momentum),                                # has momentum synonyms\n",
    "    isinstance(vector.obj(x=1.1, y=2.2, z=3.3, t=4.4), vector.Planar),                      # has transverse plane (2D, 3D, or 4D)\n",
    "    isinstance(vector.obj(x=1.1, y=2.2, z=3.3, t=4.4), vector.Spatial),                     # has all spatial coordinates (3D or 4D)\n",
    "    isinstance(vector.obj(x=1.1, y=2.2, z=3.3, t=4.4), vector.Lorentz),                     # has temporal coordinates (4D)\n",
    "    isinstance(vector.obj(x=1.1, y=2.2, z=3.3, t=4.4).azimuthal, vector.AzimuthalXY),       # azimuthal coordinate type\n",
    "    isinstance(vector.obj(x=1.1, y=2.2, z=3.3, t=4.4).longitudinal, vector.LongitudinalZ),  # longitudinal coordinate type\n",
    "    isinstance(vector.obj(x=1.1, y=2.2, z=3.3, t=4.4).temporal, vector.TemporalT),          # temporal coordinate type\n",
    ")"
   ]
  },
  {
   "cell_type": "markdown",
   "id": "bound-rescue",
   "metadata": {},
   "source": [
    "### NumPy arrays of vectors"
   ]
  },
  {
   "cell_type": "code",
   "execution_count": 15,
   "id": "independent-soccer",
   "metadata": {},
   "outputs": [
    {
     "data": {
      "text/plain": [
       "<function vector.backends.numpy_.array(*args: Any, **kwargs: Any) -> vector.backends.numpy_.VectorNumpy>"
      ]
     },
     "execution_count": 15,
     "metadata": {},
     "output_type": "execute_result"
    }
   ],
   "source": [
    "vector.array"
   ]
  }
 ],
 "metadata": {
  "kernelspec": {
   "display_name": "Python 3",
   "language": "python",
   "name": "python3"
  },
  "language_info": {
   "codemirror_mode": {
    "name": "ipython",
    "version": 3
   },
   "file_extension": ".py",
   "mimetype": "text/x-python",
   "name": "python",
   "nbconvert_exporter": "python",
   "pygments_lexer": "ipython3",
   "version": "3.8.8"
  }
 },
 "nbformat": 4,
 "nbformat_minor": 5
}
