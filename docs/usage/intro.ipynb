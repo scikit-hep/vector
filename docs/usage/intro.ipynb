{
 "cells": [
  {
   "cell_type": "markdown",
   "id": "auburn-verification",
   "metadata": {},
   "source": [
    "# Introduction to Vector\n",
    "\n",
    "Vector is a Python 3.8+ library (Python 3.6 and 3.7 supported till `v0.9.0` and `v1.0.0`, respectively) for 2D, 3D, and [Lorentz vectors](https://en.wikipedia.org/wiki/Special_relativity#Physics_in_spacetime), especially _arrays of vectors_, to solve common physics problems in a NumPy-like way.\n",
    "\n",
    "Main features of Vector:\n",
    "\n",
    "   * Pure Python with NumPy as its only dependency. This makes it easier to install.\n",
    "   * Vectors may be represented in a variety of coordinate systems: Cartesian, cylindrical, spherical, and any combination of these with time or proper time for Lorentz vectors. In all, there are 12 coordinate systems: {$x$-$y$ vs $\\rho$-$\\phi$ in the azimuthal plane} × {$z$ vs $\\theta$ vs $\\eta$ longitudinally} × {$t$ vs $\\tau$ temporally}.\n",
    "   * Uses names and conventions set by [ROOT](https://root.cern/)'s [TLorentzVector](https://root.cern.ch/doc/master/classTLorentzVector.html) and [Math::LorentzVector](https://root.cern.ch/doc/master/classROOT_1_1Math_1_1LorentzVector.html), as well as [scikit-hep/math](https://github.com/scikit-hep/scikit-hep/tree/master/skhep/math), [uproot-methods TLorentzVector](https://github.com/scikit-hep/uproot3-methods/blob/master/uproot3_methods/classes/TLorentzVector.py), [henryiii/hepvector](https://github.com/henryiii/hepvector), and [coffea.nanoevents.methods.vector](https://coffeateam.github.io/coffea/modules/coffea.nanoevents.methods.vector.html).\n",
    "   * Implemented on a variety of backends:\n",
    "      - pure Python objects\n",
    "      - NumPy arrays of vectors (as a [structured array](https://numpy.org/doc/stable/user/basics.rec.html) subclass)\n",
    "      - [Awkward Arrays](https://awkward-array.org/) of vectors\n",
    "      - potential for more: CuPy, TensorFlow, Torch, JAX...\n",
    "   * Implemented in [Numba](https://numba.pydata.org/) for JIT-compiled calculations on vectors.\n",
    "   * Distinction between geometrical vectors, which have a minimum of attribute and method names, and vectors representing momentum, which have synonyms like `pt` = `rho`, `energy` = `t`, `mass` = `tau`.\n",
    "\n",
    "This notebook requires Vector, NumPy, Awkward Array, and Numba to run."
   ]
  },
  {
   "cell_type": "code",
   "execution_count": 1,
   "id": "careful-mandate",
   "metadata": {},
   "outputs": [],
   "source": [
    "import awkward as ak  # at least version 1.2.0rc5\n",
    "import numba as nb\n",
    "import numpy as np\n",
    "\n",
    "import vector"
   ]
  },
  {
   "cell_type": "markdown",
   "id": "supposed-outreach",
   "metadata": {},
   "source": [
    "## Constructing a vector or an array of vectors\n",
    "\n",
    "The easiest way to create one or many vectors is with a helper function:\n",
    "\n",
    "   * `vector.obj` to make a pure Python vector object,\n",
    "   * `vector.arr` to make a NumPy array of vectors (lowercase, like `np.array`),\n",
    "   * `vector.awk` to make an Awkward Array of vectors (uppercase, like `ak.Array`).\n",
    "   * `vector.zip` to make an Awkward Array of vectors (similar to `ak.zip`)"
   ]
  },
  {
   "cell_type": "markdown",
   "id": "instant-phoenix",
   "metadata": {},
   "source": [
    "### Pure Python vectors\n",
    "\n",
    "You can directly use the `VectorObject` classes to construct object type vectors:"
   ]
  },
  {
   "cell_type": "code",
   "execution_count": 2,
   "id": "c133d634",
   "metadata": {},
   "outputs": [
    {
     "data": {
      "text/plain": [
       "VectorObject2D(x=1.1, y=2.2)"
      ]
     },
     "execution_count": 2,
     "metadata": {},
     "output_type": "execute_result"
    }
   ],
   "source": [
    "vector.VectorObject2D(x=1.1, y=2.2)"
   ]
  },
  {
   "cell_type": "code",
   "execution_count": 3,
   "id": "2e48bfd8",
   "metadata": {},
   "outputs": [
    {
     "data": {
      "text/plain": [
       "MomentumObject3D(px=1.1, py=2.2, pz=3.3)"
      ]
     },
     "execution_count": 3,
     "metadata": {},
     "output_type": "execute_result"
    }
   ],
   "source": [
    "vector.MomentumObject3D(px=1.1, py=2.2, pz=3.3)"
   ]
  },
  {
   "cell_type": "code",
   "execution_count": 4,
   "id": "73748719",
   "metadata": {},
   "outputs": [
    {
     "data": {
      "text/plain": [
       "VectorObject4D(x=1.1, y=2.2, eta=3.3, tau=4.4)"
      ]
     },
     "execution_count": 4,
     "metadata": {},
     "output_type": "execute_result"
    }
   ],
   "source": [
    "vector.VectorObject4D(x=1.1, y=2.2, eta=3.3, tau=4.4)"
   ]
  },
  {
   "cell_type": "markdown",
   "id": "3dbe90b0",
   "metadata": {},
   "source": [
    "and so on for every class.\n",
    "\n",
    "Or, you can use a single wrapper function to construct all possible combinations of\n",
    "object type vectors:"
   ]
  },
  {
   "cell_type": "code",
   "execution_count": 5,
   "id": "divided-control",
   "metadata": {},
   "outputs": [
    {
     "data": {
      "text/plain": [
       "VectorObject2D(x=3, y=4)"
      ]
     },
     "execution_count": 5,
     "metadata": {},
     "output_type": "execute_result"
    }
   ],
   "source": [
    "vector.obj(x=3, y=4)  # Cartesian 2D vector"
   ]
  },
  {
   "cell_type": "code",
   "execution_count": 6,
   "id": "touched-reader",
   "metadata": {},
   "outputs": [
    {
     "data": {
      "text/plain": [
       "VectorObject2D(rho=5, phi=0.9273)"
      ]
     },
     "execution_count": 6,
     "metadata": {},
     "output_type": "execute_result"
    }
   ],
   "source": [
    "vector.obj(rho=5, phi=0.9273)  # same in polar coordinates"
   ]
  },
  {
   "cell_type": "code",
   "execution_count": 7,
   "id": "coordinated-banner",
   "metadata": {},
   "outputs": [
    {
     "data": {
      "text/plain": [
       "True"
      ]
     },
     "execution_count": 7,
     "metadata": {},
     "output_type": "execute_result"
    }
   ],
   "source": [
    "vector.obj(x=3, y=4).isclose(\n",
    "    vector.obj(rho=5, phi=0.9273)\n",
    ")  # use \"isclose\" unless they are exactly equal"
   ]
  },
  {
   "cell_type": "code",
   "execution_count": 8,
   "id": "worse-depression",
   "metadata": {},
   "outputs": [
    {
     "data": {
      "text/plain": [
       "VectorObject3D(x=3, y=4, z=-2)"
      ]
     },
     "execution_count": 8,
     "metadata": {},
     "output_type": "execute_result"
    }
   ],
   "source": [
    "vector.obj(x=3, y=4, z=-2)  # Cartesian 3D vector"
   ]
  },
  {
   "cell_type": "code",
   "execution_count": 9,
   "id": "copyrighted-answer",
   "metadata": {},
   "outputs": [
    {
     "data": {
      "text/plain": [
       "VectorObject4D(x=3, y=4, z=-2, t=10)"
      ]
     },
     "execution_count": 9,
     "metadata": {},
     "output_type": "execute_result"
    }
   ],
   "source": [
    "vector.obj(x=3, y=4, z=-2, t=10)  # Cartesian 4D vector"
   ]
  },
  {
   "cell_type": "code",
   "execution_count": 10,
   "id": "recovered-platinum",
   "metadata": {},
   "outputs": [
    {
     "data": {
      "text/plain": [
       "VectorObject4D(rho=5, phi=0.9273, eta=-0.39, t=10)"
      ]
     },
     "execution_count": 10,
     "metadata": {},
     "output_type": "execute_result"
    }
   ],
   "source": [
    "vector.obj(\n",
    "    rho=5, phi=0.9273, eta=-0.39, t=10\n",
    ")  # in rho-phi-eta-t cylindrical coordinates"
   ]
  },
  {
   "cell_type": "code",
   "execution_count": 11,
   "id": "exempt-palestine",
   "metadata": {},
   "outputs": [
    {
     "data": {
      "text/plain": [
       "MomentumObject4D(pt=5, phi=0.9273, eta=-0.39, E=10)"
      ]
     },
     "execution_count": 11,
     "metadata": {},
     "output_type": "execute_result"
    }
   ],
   "source": [
    "vector.obj(\n",
    "    pt=5, phi=0.9273, eta=-0.39, E=10\n",
    ")  # use momentum-synonyms to get a momentum vector"
   ]
  },
  {
   "cell_type": "code",
   "execution_count": 12,
   "id": "better-responsibility",
   "metadata": {},
   "outputs": [
    {
     "data": {
      "text/plain": [
       "False"
      ]
     },
     "execution_count": 12,
     "metadata": {},
     "output_type": "execute_result"
    }
   ],
   "source": [
    "vector.obj(rho=5, phi=0.9273, eta=-0.39, t=10) == vector.obj(\n",
    "    pt=5, phi=0.9273, eta=-0.390035, E=10\n",
    ")"
   ]
  },
  {
   "cell_type": "code",
   "execution_count": 13,
   "id": "adverse-lighting",
   "metadata": {},
   "outputs": [
    {
     "data": {
      "text/plain": [
       "8.426194916448265"
      ]
     },
     "execution_count": 13,
     "metadata": {},
     "output_type": "execute_result"
    }
   ],
   "source": [
    "vector.obj(\n",
    "    rho=5, phi=0.9273, eta=-0.39, t=10\n",
    ").tau  # geometrical vectors have to use geometrical names (\"tau\", not \"mass\")"
   ]
  },
  {
   "cell_type": "code",
   "execution_count": 14,
   "id": "broadband-budget",
   "metadata": {},
   "outputs": [
    {
     "data": {
      "text/plain": [
       "8.426194916448265"
      ]
     },
     "execution_count": 14,
     "metadata": {},
     "output_type": "execute_result"
    }
   ],
   "source": [
    "vector.obj(\n",
    "    pt=5, phi=0.9273, eta=-0.39, E=10\n",
    ").mass  # momentum vectors can use momentum names (as well as geometrical ones)"
   ]
  },
  {
   "cell_type": "code",
   "execution_count": 15,
   "id": "prompt-archive",
   "metadata": {},
   "outputs": [
    {
     "data": {
      "text/plain": [
       "MomentumObject4D(pt=5, phi=0.9273, theta=1.9513, mass=8.4262)"
      ]
     },
     "execution_count": 15,
     "metadata": {},
     "output_type": "execute_result"
    }
   ],
   "source": [
    "vector.obj(\n",
    "    pt=5, phi=0.9273, theta=1.9513, mass=8.4262\n",
    ")  # any combination of azimuthal, longitudinal, and temporal coordinates is allowed"
   ]
  },
  {
   "cell_type": "code",
   "execution_count": 16,
   "id": "southern-register",
   "metadata": {},
   "outputs": [
    {
     "data": {
      "text/plain": [
       "True"
      ]
     },
     "execution_count": 16,
     "metadata": {},
     "output_type": "execute_result"
    }
   ],
   "source": [
    "vector.obj(x=3, y=4, z=-2, t=10).isclose(\n",
    "    vector.obj(pt=5, phi=0.9273, theta=1.9513, mass=8.4262)\n",
    ")"
   ]
  },
  {
   "cell_type": "code",
   "execution_count": 17,
   "id": "utility-cartridge",
   "metadata": {},
   "outputs": [
    {
     "data": {
      "text/plain": [
       "(True, True, True, True, True, True, True, True, True, True)"
      ]
     },
     "execution_count": 17,
     "metadata": {},
     "output_type": "execute_result"
    }
   ],
   "source": [
    "# Test instance type for any level of granularity.\n",
    "(\n",
    "    isinstance(\n",
    "        vector.obj(x=1.1, y=2.2), vector.Vector\n",
    "    ),  # is a vector or array of vectors\n",
    "    isinstance(vector.obj(x=1.1, y=2.2), vector.Vector2D),  # is 2D (not 3D or 4D)\n",
    "    isinstance(\n",
    "        vector.obj(x=1.1, y=2.2), vector.VectorObject\n",
    "    ),  # is a vector object (not an array)\n",
    "    isinstance(vector.obj(px=1.1, py=2.2), vector.Momentum),  # has momentum synonyms\n",
    "    isinstance(\n",
    "        vector.obj(x=1.1, y=2.2, z=3.3, t=4.4), vector.Planar\n",
    "    ),  # has transverse plane (2D, 3D, or 4D)\n",
    "    isinstance(\n",
    "        vector.obj(x=1.1, y=2.2, z=3.3, t=4.4), vector.Spatial\n",
    "    ),  # has all spatial coordinates (3D or 4D)\n",
    "    isinstance(\n",
    "        vector.obj(x=1.1, y=2.2, z=3.3, t=4.4), vector.Lorentz\n",
    "    ),  # has temporal coordinates (4D)\n",
    "    isinstance(\n",
    "        vector.obj(x=1.1, y=2.2, z=3.3, t=4.4).azimuthal, vector.AzimuthalXY\n",
    "    ),  # azimuthal coordinate type\n",
    "    isinstance(\n",
    "        vector.obj(x=1.1, y=2.2, z=3.3, t=4.4).longitudinal, vector.LongitudinalZ\n",
    "    ),  # longitudinal coordinate type\n",
    "    isinstance(\n",
    "        vector.obj(x=1.1, y=2.2, z=3.3, t=4.4).temporal, vector.TemporalT\n",
    "    ),  # temporal coordinate type\n",
    ")"
   ]
  },
  {
   "cell_type": "markdown",
   "id": "mature-facial",
   "metadata": {},
   "source": [
    "The allowed keyword arguments for 2D vectors are:\n",
    "\n",
    "   * `x` and `y` for Cartesian azimuthal coordinates,\n",
    "   * `px` and `py` for momentum,\n",
    "   * `rho` and `phi` for polar azimuthal coordinates,\n",
    "   * `pt` and `phi` for momentum.\n",
    "\n",
    "For 3D vectors, you need the above and:\n",
    "\n",
    "   * `z` for the Cartesian longitudinal coordinate,\n",
    "   * `pz` for momentum,\n",
    "   * `theta` for the spherical polar angle (from $0$ to $\\pi$, inclusive),\n",
    "   * `eta` for pseudorapidity, which is a kind of spherical polar angle.\n",
    "\n",
    "For 4D vectors, you need the above and:\n",
    "\n",
    "   * `t` for the Cartesian temporal coordinate,\n",
    "   * `E` or `energy` to get four-momentum,\n",
    "   * `tau` for the \"proper time\" (temporal coordinate in the vector's rest coordinate system),\n",
    "   * `M` or `mass` to get four-momentum.\n",
    "\n",
    "Since momentum vectors have momentum-synonyms _in addition_ to the geometrical names, any momentum-synonym will make the whole vector a momentum vector."
   ]
  },
  {
   "cell_type": "markdown",
   "id": "handmade-tract",
   "metadata": {},
   "source": [
    "If you want to bypass the dimension and coordinate system inference through keyword arguments (e.g. for static typing), you can use specialized constructors:"
   ]
  },
  {
   "cell_type": "code",
   "execution_count": 18,
   "id": "center-beauty",
   "metadata": {},
   "outputs": [
    {
     "data": {
      "text/plain": [
       "VectorObject2D(x=1.1, y=2.2)"
      ]
     },
     "execution_count": 18,
     "metadata": {},
     "output_type": "execute_result"
    }
   ],
   "source": [
    "vector.VectorObject2D.from_xy(1.1, 2.2)"
   ]
  },
  {
   "cell_type": "code",
   "execution_count": 19,
   "id": "indoor-playing",
   "metadata": {},
   "outputs": [
    {
     "data": {
      "text/plain": [
       "MomentumObject3D(pt=1.1, phi=2.2, pz=3.3)"
      ]
     },
     "execution_count": 19,
     "metadata": {},
     "output_type": "execute_result"
    }
   ],
   "source": [
    "vector.MomentumObject3D.from_rhophiz(1.1, 2.2, 3.3)"
   ]
  },
  {
   "cell_type": "code",
   "execution_count": 20,
   "id": "documented-lyric",
   "metadata": {},
   "outputs": [
    {
     "data": {
      "text/plain": [
       "VectorObject4D(x=1.1, y=2.2, eta=3.3, tau=4.4)"
      ]
     },
     "execution_count": 20,
     "metadata": {},
     "output_type": "execute_result"
    }
   ],
   "source": [
    "vector.VectorObject4D.from_xyetatau(1.1, 2.2, 3.3, 4.4)"
   ]
  },
  {
   "cell_type": "markdown",
   "id": "improved-coach",
   "metadata": {},
   "source": [
    "and so on, for all combinations of azimuthal, longitudinal, and temporal coordinates, geometric and momentum-flavored."
   ]
  },
  {
   "cell_type": "markdown",
   "id": "sustained-object",
   "metadata": {},
   "source": [
    "### NumPy arrays of vectors\n",
    "\n",
    "You can directly use the `VectorNumpy` classes to construct object type vectors:"
   ]
  },
  {
   "cell_type": "code",
   "execution_count": 21,
   "id": "c88d6a0c",
   "metadata": {},
   "outputs": [
    {
     "data": {
      "text/plain": [
       "VectorNumpy2D([(1.1, 2.1), (1.2, 2.2), (1.3, 2.3), (1.4, 2.4), (1.5, 2.5)],\n",
       "              dtype=[('x', '<f8'), ('y', '<f8')])"
      ]
     },
     "execution_count": 21,
     "metadata": {},
     "output_type": "execute_result"
    }
   ],
   "source": [
    "# NumPy-like arguments (literally passed through to NumPy)\n",
    "vector.VectorNumpy2D(\n",
    "    [(1.1, 2.1), (1.2, 2.2), (1.3, 2.3), (1.4, 2.4), (1.5, 2.5)],\n",
    "    dtype=[(\"x\", float), (\"y\", float)],\n",
    ")"
   ]
  },
  {
   "cell_type": "code",
   "execution_count": 22,
   "id": "63ce54aa",
   "metadata": {},
   "outputs": [
    {
     "data": {
      "text/plain": [
       "VectorNumpy2D([(1.1, 2.1), (1.2, 2.2), (1.3, 2.3), (1.4, 2.4), (1.5, 2.5)],\n",
       "              dtype=[('x', '<f8'), ('y', '<f8')])"
      ]
     },
     "execution_count": 22,
     "metadata": {},
     "output_type": "execute_result"
    }
   ],
   "source": [
    "# Pandas-like arguments (dict from names to column arrays)\n",
    "vector.VectorNumpy2D({\"x\": [1.1, 1.2, 1.3, 1.4, 1.5], \"y\": [2.1, 2.2, 2.3, 2.4, 2.5]})"
   ]
  },
  {
   "cell_type": "code",
   "execution_count": 23,
   "id": "443654ec",
   "metadata": {},
   "outputs": [
    {
     "data": {
      "text/plain": [
       "VectorNumpy4D([(1.1, 2.1, 3.1, 4.1), (1.2, 2.2, 3.2, 4.2), (1.3, 2.3, 3.3, 4.3),\n",
       "               (1.4, 2.4, 3.4, 4.4), (1.5, 2.5, 3.5, 4.5)],\n",
       "              dtype=[('x', '<f8'), ('y', '<f8'), ('z', '<f8'), ('t', '<f8')])"
      ]
     },
     "execution_count": 23,
     "metadata": {},
     "output_type": "execute_result"
    }
   ],
   "source": [
    "# As with objects, the coordinate system and dimension is taken from the names of the fields.\n",
    "vector.VectorNumpy4D(\n",
    "    {\n",
    "        \"x\": [1.1, 1.2, 1.3, 1.4, 1.5],\n",
    "        \"y\": [2.1, 2.2, 2.3, 2.4, 2.5],\n",
    "        \"z\": [3.1, 3.2, 3.3, 3.4, 3.5],\n",
    "        \"t\": [4.1, 4.2, 4.3, 4.4, 4.5],\n",
    "    }\n",
    ")"
   ]
  },
  {
   "cell_type": "markdown",
   "id": "0c54ccf5",
   "metadata": {},
   "source": [
    "and so on for every class.\n",
    "\n",
    "Or, you can use a single wrapper function to construct all possible combinations of\n",
    "NumPy type vectors:"
   ]
  },
  {
   "cell_type": "code",
   "execution_count": 24,
   "id": "utility-graphic",
   "metadata": {},
   "outputs": [
    {
     "data": {
      "text/plain": [
       "VectorNumpy2D([(1.1, 2.1), (1.2, 2.2), (1.3, 2.3), (1.4, 2.4), (1.5, 2.5)],\n",
       "              dtype=[('x', '<f8'), ('y', '<f8')])"
      ]
     },
     "execution_count": 24,
     "metadata": {},
     "output_type": "execute_result"
    }
   ],
   "source": [
    "# NumPy-like arguments (literally passed through to NumPy)\n",
    "vector.array(\n",
    "    [(1.1, 2.1), (1.2, 2.2), (1.3, 2.3), (1.4, 2.4), (1.5, 2.5)],\n",
    "    dtype=[(\"x\", float), (\"y\", float)],\n",
    ")"
   ]
  },
  {
   "cell_type": "code",
   "execution_count": 25,
   "id": "adaptive-situation",
   "metadata": {},
   "outputs": [
    {
     "data": {
      "text/plain": [
       "VectorNumpy2D([(1.1, 2.1), (1.2, 2.2), (1.3, 2.3), (1.4, 2.4), (1.5, 2.5)],\n",
       "              dtype=[('x', '<f8'), ('y', '<f8')])"
      ]
     },
     "execution_count": 25,
     "metadata": {},
     "output_type": "execute_result"
    }
   ],
   "source": [
    "# Pandas-like arguments (dict from names to column arrays)\n",
    "vector.array({\"x\": [1.1, 1.2, 1.3, 1.4, 1.5], \"y\": [2.1, 2.2, 2.3, 2.4, 2.5]})"
   ]
  },
  {
   "cell_type": "code",
   "execution_count": 26,
   "id": "extra-contents",
   "metadata": {},
   "outputs": [
    {
     "data": {
      "text/plain": [
       "VectorNumpy4D([(1.1, 2.1, 3.1, 4.1), (1.2, 2.2, 3.2, 4.2), (1.3, 2.3, 3.3, 4.3),\n",
       "               (1.4, 2.4, 3.4, 4.4), (1.5, 2.5, 3.5, 4.5)],\n",
       "              dtype=[('x', '<f8'), ('y', '<f8'), ('z', '<f8'), ('t', '<f8')])"
      ]
     },
     "execution_count": 26,
     "metadata": {},
     "output_type": "execute_result"
    }
   ],
   "source": [
    "# As with objects, the coordinate system and dimension is taken from the names of the fields.\n",
    "vector.array(\n",
    "    {\n",
    "        \"x\": [1.1, 1.2, 1.3, 1.4, 1.5],\n",
    "        \"y\": [2.1, 2.2, 2.3, 2.4, 2.5],\n",
    "        \"z\": [3.1, 3.2, 3.3, 3.4, 3.5],\n",
    "        \"t\": [4.1, 4.2, 4.3, 4.4, 4.5],\n",
    "    }\n",
    ")"
   ]
  },
  {
   "cell_type": "code",
   "execution_count": 27,
   "id": "bottom-payroll",
   "metadata": {},
   "outputs": [
    {
     "data": {
      "text/plain": [
       "MomentumNumpy4D([(1.1, 2.1, 3.1, 4.1), (1.2, 2.2, 3.2, 4.2), (1.3, 2.3, 3.3, 4.3),\n",
       "                 (1.4, 2.4, 3.4, 4.4), (1.5, 2.5, 3.5, 4.5)],\n",
       "                dtype=[('rho', '<f8'), ('phi', '<f8'), ('eta', '<f8'), ('tau', '<f8')])"
      ]
     },
     "execution_count": 27,
     "metadata": {},
     "output_type": "execute_result"
    }
   ],
   "source": [
    "vector.array(\n",
    "    {\n",
    "        \"pt\": [1.1, 1.2, 1.3, 1.4, 1.5],\n",
    "        \"phi\": [2.1, 2.2, 2.3, 2.4, 2.5],\n",
    "        \"eta\": [3.1, 3.2, 3.3, 3.4, 3.5],\n",
    "        \"M\": [4.1, 4.2, 4.3, 4.4, 4.5],\n",
    "    }\n",
    ")"
   ]
  },
  {
   "cell_type": "markdown",
   "id": "stunning-examination",
   "metadata": {},
   "source": [
    "Existing NumPy arrays can be viewed as arrays of vectors, but it needs to be a [structured array](https://numpy.org/doc/stable/user/basics.rec.html) with recognized field names."
   ]
  },
  {
   "cell_type": "code",
   "execution_count": 28,
   "id": "unlimited-battery",
   "metadata": {},
   "outputs": [
    {
     "data": {
      "text/plain": [
       "VectorNumpy4D([( 0. ,  0.1,  0.2,  0.3), ( 0.4,  0.5,  0.6,  0.7),\n",
       "               ( 0.8,  0.9,  1. ,  1.1), ( 1.2,  1.3,  1.4,  1.5),\n",
       "               ( 1.6,  1.7,  1.8,  1.9), ( 2. ,  2.1,  2.2,  2.3),\n",
       "               ( 2.4,  2.5,  2.6,  2.7), ( 2.8,  2.9,  3. ,  3.1),\n",
       "               ( 3.2,  3.3,  3.4,  3.5), ( 3.6,  3.7,  3.8,  3.9),\n",
       "               ( 4. ,  4.1,  4.2,  4.3), ( 4.4,  4.5,  4.6,  4.7),\n",
       "               ( 4.8,  4.9,  5. ,  5.1), ( 5.2,  5.3,  5.4,  5.5),\n",
       "               ( 5.6,  5.7,  5.8,  5.9), ( 6. ,  6.1,  6.2,  6.3),\n",
       "               ( 6.4,  6.5,  6.6,  6.7), ( 6.8,  6.9,  7. ,  7.1),\n",
       "               ( 7.2,  7.3,  7.4,  7.5), ( 7.6,  7.7,  7.8,  7.9),\n",
       "               ( 8. ,  8.1,  8.2,  8.3), ( 8.4,  8.5,  8.6,  8.7),\n",
       "               ( 8.8,  8.9,  9. ,  9.1), ( 9.2,  9.3,  9.4,  9.5),\n",
       "               ( 9.6,  9.7,  9.8,  9.9), (10. , 10.1, 10.2, 10.3),\n",
       "               (10.4, 10.5, 10.6, 10.7), (10.8, 10.9, 11. , 11.1),\n",
       "               (11.2, 11.3, 11.4, 11.5), (11.6, 11.7, 11.8, 11.9),\n",
       "               (12. , 12.1, 12.2, 12.3), (12.4, 12.5, 12.6, 12.7),\n",
       "               (12.8, 12.9, 13. , 13.1), (13.2, 13.3, 13.4, 13.5),\n",
       "               (13.6, 13.7, 13.8, 13.9), (14. , 14.1, 14.2, 14.3),\n",
       "               (14.4, 14.5, 14.6, 14.7), (14.8, 14.9, 15. , 15.1),\n",
       "               (15.2, 15.3, 15.4, 15.5), (15.6, 15.7, 15.8, 15.9),\n",
       "               (16. , 16.1, 16.2, 16.3), (16.4, 16.5, 16.6, 16.7),\n",
       "               (16.8, 16.9, 17. , 17.1), (17.2, 17.3, 17.4, 17.5),\n",
       "               (17.6, 17.7, 17.8, 17.9), (18. , 18.1, 18.2, 18.3),\n",
       "               (18.4, 18.5, 18.6, 18.7), (18.8, 18.9, 19. , 19.1),\n",
       "               (19.2, 19.3, 19.4, 19.5), (19.6, 19.7, 19.8, 19.9),\n",
       "               (20. , 20.1, 20.2, 20.3), (20.4, 20.5, 20.6, 20.7),\n",
       "               (20.8, 20.9, 21. , 21.1), (21.2, 21.3, 21.4, 21.5),\n",
       "               (21.6, 21.7, 21.8, 21.9), (22. , 22.1, 22.2, 22.3),\n",
       "               (22.4, 22.5, 22.6, 22.7), (22.8, 22.9, 23. , 23.1),\n",
       "               (23.2, 23.3, 23.4, 23.5), (23.6, 23.7, 23.8, 23.9)],\n",
       "              dtype=[('x', '<f8'), ('y', '<f8'), ('z', '<f8'), ('t', '<f8')])"
      ]
     },
     "execution_count": 28,
     "metadata": {},
     "output_type": "execute_result"
    }
   ],
   "source": [
    "# NumPy array         # interpret groups of four values as named fields              # give it vector properties and methods\n",
    "np.arange(0, 24, 0.1).view(\n",
    "    [(\"x\", float), (\"y\", float), (\"z\", float), (\"t\", float)]\n",
    ").view(vector.VectorNumpy4D)"
   ]
  },
  {
   "cell_type": "markdown",
   "id": "duplicate-thompson",
   "metadata": {},
   "source": [
    "Since `VectorNumpy2D`, `VectorNumpy3D`, `VectorNumpy4D`, and their momentum equivalents are NumPy array subclasses, all of the normal NumPy methods and functions work on them."
   ]
  },
  {
   "cell_type": "code",
   "execution_count": 29,
   "id": "amazing-watch",
   "metadata": {},
   "outputs": [
    {
     "data": {
      "text/plain": [
       "VectorNumpy4D([[[( 0. ,  0.1,  0.2,  0.3), ( 0.4,  0.5,  0.6,  0.7)],\n",
       "                [( 0.8,  0.9,  1. ,  1.1), ( 1.2,  1.3,  1.4,  1.5)],\n",
       "                [( 1.6,  1.7,  1.8,  1.9), ( 2. ,  2.1,  2.2,  2.3)],\n",
       "                [( 2.4,  2.5,  2.6,  2.7), ( 2.8,  2.9,  3. ,  3.1)],\n",
       "                [( 3.2,  3.3,  3.4,  3.5), ( 3.6,  3.7,  3.8,  3.9)]],\n",
       "\n",
       "               [[( 4. ,  4.1,  4.2,  4.3), ( 4.4,  4.5,  4.6,  4.7)],\n",
       "                [( 4.8,  4.9,  5. ,  5.1), ( 5.2,  5.3,  5.4,  5.5)],\n",
       "                [( 5.6,  5.7,  5.8,  5.9), ( 6. ,  6.1,  6.2,  6.3)],\n",
       "                [( 6.4,  6.5,  6.6,  6.7), ( 6.8,  6.9,  7. ,  7.1)],\n",
       "                [( 7.2,  7.3,  7.4,  7.5), ( 7.6,  7.7,  7.8,  7.9)]],\n",
       "\n",
       "               [[( 8. ,  8.1,  8.2,  8.3), ( 8.4,  8.5,  8.6,  8.7)],\n",
       "                [( 8.8,  8.9,  9. ,  9.1), ( 9.2,  9.3,  9.4,  9.5)],\n",
       "                [( 9.6,  9.7,  9.8,  9.9), (10. , 10.1, 10.2, 10.3)],\n",
       "                [(10.4, 10.5, 10.6, 10.7), (10.8, 10.9, 11. , 11.1)],\n",
       "                [(11.2, 11.3, 11.4, 11.5), (11.6, 11.7, 11.8, 11.9)]],\n",
       "\n",
       "               [[(12. , 12.1, 12.2, 12.3), (12.4, 12.5, 12.6, 12.7)],\n",
       "                [(12.8, 12.9, 13. , 13.1), (13.2, 13.3, 13.4, 13.5)],\n",
       "                [(13.6, 13.7, 13.8, 13.9), (14. , 14.1, 14.2, 14.3)],\n",
       "                [(14.4, 14.5, 14.6, 14.7), (14.8, 14.9, 15. , 15.1)],\n",
       "                [(15.2, 15.3, 15.4, 15.5), (15.6, 15.7, 15.8, 15.9)]],\n",
       "\n",
       "               [[(16. , 16.1, 16.2, 16.3), (16.4, 16.5, 16.6, 16.7)],\n",
       "                [(16.8, 16.9, 17. , 17.1), (17.2, 17.3, 17.4, 17.5)],\n",
       "                [(17.6, 17.7, 17.8, 17.9), (18. , 18.1, 18.2, 18.3)],\n",
       "                [(18.4, 18.5, 18.6, 18.7), (18.8, 18.9, 19. , 19.1)],\n",
       "                [(19.2, 19.3, 19.4, 19.5), (19.6, 19.7, 19.8, 19.9)]],\n",
       "\n",
       "               [[(20. , 20.1, 20.2, 20.3), (20.4, 20.5, 20.6, 20.7)],\n",
       "                [(20.8, 20.9, 21. , 21.1), (21.2, 21.3, 21.4, 21.5)],\n",
       "                [(21.6, 21.7, 21.8, 21.9), (22. , 22.1, 22.2, 22.3)],\n",
       "                [(22.4, 22.5, 22.6, 22.7), (22.8, 22.9, 23. , 23.1)],\n",
       "                [(23.2, 23.3, 23.4, 23.5), (23.6, 23.7, 23.8, 23.9)]]],\n",
       "              dtype=[('x', '<f8'), ('y', '<f8'), ('z', '<f8'), ('t', '<f8')])"
      ]
     },
     "execution_count": 29,
     "metadata": {},
     "output_type": "execute_result"
    }
   ],
   "source": [
    "np.arange(0, 24, 0.1).view(\n",
    "    [(\"x\", float), (\"y\", float), (\"z\", float), (\"t\", float)]\n",
    ").view(vector.VectorNumpy4D).reshape(6, 5, 2)"
   ]
  },
  {
   "cell_type": "markdown",
   "id": "identical-opposition",
   "metadata": {},
   "source": [
    "All of the keyword arguments and rules that apply to `vector.obj` construction apply to `vector.array` dtypes.\n",
    "\n",
    "Geometrical names are used in the dtype, even if momentum-synonyms are used in construction."
   ]
  },
  {
   "cell_type": "code",
   "execution_count": 30,
   "id": "heard-reservoir",
   "metadata": {},
   "outputs": [
    {
     "data": {
      "text/plain": [
       "MomentumNumpy3D([(1., 1.1, 0.1), (2., 2.2, 0.2), (3., 3.3, 0.3), (4., 4.4, 0.4)],\n",
       "                dtype=[('x', '<f8'), ('y', '<f8'), ('z', '<f8')])"
      ]
     },
     "execution_count": 30,
     "metadata": {},
     "output_type": "execute_result"
    }
   ],
   "source": [
    "vector.array(\n",
    "    {\"px\": [1, 2, 3, 4], \"py\": [1.1, 2.2, 3.3, 4.4], \"pz\": [0.1, 0.2, 0.3, 0.4]}\n",
    ")"
   ]
  },
  {
   "cell_type": "markdown",
   "id": "resident-casting",
   "metadata": {},
   "source": [
    "### Awkward Arrays of vectors\n",
    "\n",
    "[Awkward Arrays](https://awkward-array.org/) are arrays with more complex data structures than NumPy allows, such as variable-length lists, nested records, missing and even heterogeneous data (multiple data types: use sparingly).\n",
    "\n",
    "The `vector.Array` function behaves exactly like the [ak.Array](https://awkward-array.readthedocs.io/en/latest/_auto/ak.Array.html) constructor, except that it makes arrays of vectors."
   ]
  },
  {
   "cell_type": "code",
   "execution_count": 31,
   "id": "tracked-biography",
   "metadata": {},
   "outputs": [
    {
     "data": {
      "text/html": [
       "<pre>[[{x: 1, y: 1.1, z: 0.1}, {x: 2, y: 2.2, z: 0.2}],\n",
       " [],\n",
       " [{x: 3, y: 3.3, z: 0.3}],\n",
       " [{x: 4, y: 4.4, z: 0.4}, {x: 5, y: 5.5, ...}, {x: 6, y: 6.6, z: 0.6}]]\n",
       "-----------------------------------------------------------------------\n",
       "type: 4 * var * Vector3D[\n",
       "    x: int64,\n",
       "    y: float64,\n",
       "    z: float64\n",
       "]</pre>"
      ],
      "text/plain": [
       "<VectorArray3D [[{x: 1, y: 1.1, ...}, {...}], ...] type='4 * var * Vector3D...'>"
      ]
     },
     "execution_count": 31,
     "metadata": {},
     "output_type": "execute_result"
    }
   ],
   "source": [
    "vector.Array(\n",
    "    [\n",
    "        [{\"x\": 1, \"y\": 1.1, \"z\": 0.1}, {\"x\": 2, \"y\": 2.2, \"z\": 0.2}],\n",
    "        [],\n",
    "        [{\"x\": 3, \"y\": 3.3, \"z\": 0.3}],\n",
    "        [\n",
    "            {\"x\": 4, \"y\": 4.4, \"z\": 0.4},\n",
    "            {\"x\": 5, \"y\": 5.5, \"z\": 0.5},\n",
    "            {\"x\": 6, \"y\": 6.6, \"z\": 0.6},\n",
    "        ],\n",
    "    ]\n",
    ")"
   ]
  },
  {
   "cell_type": "markdown",
   "id": "hybrid-powell",
   "metadata": {},
   "source": [
    "If you want _any_ records named \"`Vector2D`\", \"`Vector3D`\", \"`Vector4D`\", \"`Momentum2D`\", \"`Momentum3D`\", or \"`Momentum4D`\" to be interpreted as vectors, register the behaviors globally."
   ]
  },
  {
   "cell_type": "code",
   "execution_count": 32,
   "id": "becoming-demand",
   "metadata": {},
   "outputs": [],
   "source": [
    "vector.register_awkward()"
   ]
  },
  {
   "cell_type": "code",
   "execution_count": 33,
   "id": "bored-ribbon",
   "metadata": {},
   "outputs": [
    {
     "data": {
      "text/html": [
       "<pre>[[{x: 1, y: 1.1, z: 0.1}, {x: 2, y: 2.2, z: 0.2}],\n",
       " [],\n",
       " [{x: 3, y: 3.3, z: 0.3}],\n",
       " [{x: 4, y: 4.4, z: 0.4}, {x: 5, y: 5.5, ...}, {x: 6, y: 6.6, z: 0.6}]]\n",
       "-----------------------------------------------------------------------\n",
       "type: 4 * var * Vector3D[\n",
       "    x: int64,\n",
       "    y: float64,\n",
       "    z: float64\n",
       "]</pre>"
      ],
      "text/plain": [
       "<VectorArray3D [[{x: 1, y: 1.1, ...}, {...}], ...] type='4 * var * Vector3D...'>"
      ]
     },
     "execution_count": 33,
     "metadata": {},
     "output_type": "execute_result"
    }
   ],
   "source": [
    "ak.Array(\n",
    "    [\n",
    "        [{\"x\": 1, \"y\": 1.1, \"z\": 0.1}, {\"x\": 2, \"y\": 2.2, \"z\": 0.2}],\n",
    "        [],\n",
    "        [{\"x\": 3, \"y\": 3.3, \"z\": 0.3}],\n",
    "        [\n",
    "            {\"x\": 4, \"y\": 4.4, \"z\": 0.4},\n",
    "            {\"x\": 5, \"y\": 5.5, \"z\": 0.5},\n",
    "            {\"x\": 6, \"y\": 6.6, \"z\": 0.6},\n",
    "        ],\n",
    "    ],\n",
    "    with_name=\"Vector3D\",\n",
    ")"
   ]
  },
  {
   "cell_type": "markdown",
   "id": "beginning-expert",
   "metadata": {},
   "source": [
    "All of the keyword arguments and rules that apply to `vector.obj` construction apply to `vector.Array` field names.\n",
    "\n",
    "Finally, the `VectorAwkward` mixins can be subclassed to create custom vector classes. The awkward behavior classes and projections must be named as `*Array`. For example, `coffea` uses the following names - `TwoVectorArray`, `ThreeVectorArray`, `PolarTwoVectorArray`, `SphericalThreeVectorArray`, ..."
   ]
  },
  {
   "cell_type": "markdown",
   "id": "documentary-skill",
   "metadata": {},
   "source": [
    "## Vector properties\n",
    "\n",
    "Any geometrical coordinate can be computed from vectors in any coordinate system; they'll be provided or computed as needed."
   ]
  },
  {
   "cell_type": "code",
   "execution_count": 34,
   "id": "colored-directory",
   "metadata": {},
   "outputs": [
    {
     "data": {
      "text/plain": [
       "5.0"
      ]
     },
     "execution_count": 34,
     "metadata": {},
     "output_type": "execute_result"
    }
   ],
   "source": [
    "vector.obj(x=3, y=4).rho"
   ]
  },
  {
   "cell_type": "code",
   "execution_count": 35,
   "id": "passive-benchmark",
   "metadata": {},
   "outputs": [
    {
     "data": {
      "text/plain": [
       "2.9999808719721477"
      ]
     },
     "execution_count": 35,
     "metadata": {},
     "output_type": "execute_result"
    }
   ],
   "source": [
    "vector.obj(rho=5, phi=0.9273).x"
   ]
  },
  {
   "cell_type": "code",
   "execution_count": 36,
   "id": "indoor-opportunity",
   "metadata": {},
   "outputs": [
    {
     "data": {
      "text/plain": [
       "4.000014345949428"
      ]
     },
     "execution_count": 36,
     "metadata": {},
     "output_type": "execute_result"
    }
   ],
   "source": [
    "vector.obj(rho=5, phi=0.9273).y"
   ]
  },
  {
   "cell_type": "code",
   "execution_count": 37,
   "id": "mature-clone",
   "metadata": {},
   "outputs": [
    {
     "data": {
      "text/plain": [
       "0.6405223126794245"
      ]
     },
     "execution_count": 37,
     "metadata": {},
     "output_type": "execute_result"
    }
   ],
   "source": [
    "vector.obj(x=1, y=2, z=3).theta"
   ]
  },
  {
   "cell_type": "code",
   "execution_count": 38,
   "id": "peripheral-script",
   "metadata": {},
   "outputs": [
    {
     "data": {
      "text/plain": [
       "1.103586841560145"
      ]
     },
     "execution_count": 38,
     "metadata": {},
     "output_type": "execute_result"
    }
   ],
   "source": [
    "vector.obj(x=1, y=2, z=3).eta"
   ]
  },
  {
   "cell_type": "markdown",
   "id": "caroline-capability",
   "metadata": {},
   "source": [
    "Some properties are not coordinates, but derived from them."
   ]
  },
  {
   "cell_type": "code",
   "execution_count": 39,
   "id": "stretch-knife",
   "metadata": {},
   "outputs": [
    {
     "data": {
      "text/plain": [
       "0.8017837257372732"
      ]
     },
     "execution_count": 39,
     "metadata": {},
     "output_type": "execute_result"
    }
   ],
   "source": [
    "vector.obj(x=1, y=2, z=3).costheta"
   ]
  },
  {
   "cell_type": "code",
   "execution_count": 40,
   "id": "bearing-protein",
   "metadata": {},
   "outputs": [
    {
     "data": {
      "text/plain": [
       "3.7416573867739413"
      ]
     },
     "execution_count": 40,
     "metadata": {},
     "output_type": "execute_result"
    }
   ],
   "source": [
    "vector.obj(x=1, y=2, z=3).mag  # spatial magnitude"
   ]
  },
  {
   "cell_type": "code",
   "execution_count": 41,
   "id": "green-crack",
   "metadata": {},
   "outputs": [
    {
     "data": {
      "text/plain": [
       "14"
      ]
     },
     "execution_count": 41,
     "metadata": {},
     "output_type": "execute_result"
    }
   ],
   "source": [
    "vector.obj(x=1, y=2, z=3).mag2  # spatial magnitude squared"
   ]
  },
  {
   "cell_type": "markdown",
   "id": "adjustable-serum",
   "metadata": {},
   "source": [
    "These properties are provided because they can be computed faster or with more numerical stability in different coordinate systems. For instance, the magnitude ignores `phi` in polar coordinates."
   ]
  },
  {
   "cell_type": "code",
   "execution_count": 42,
   "id": "amber-disco",
   "metadata": {},
   "outputs": [
    {
     "data": {
      "text/plain": [
       "25"
      ]
     },
     "execution_count": 42,
     "metadata": {},
     "output_type": "execute_result"
    }
   ],
   "source": [
    "vector.obj(rho=3, phi=0.123456789, z=4).mag2"
   ]
  },
  {
   "cell_type": "markdown",
   "id": "interpreted-intensity",
   "metadata": {},
   "source": [
    "Momentum vectors have geometrical properties as well as their momentum-synonyms."
   ]
  },
  {
   "cell_type": "code",
   "execution_count": 43,
   "id": "latest-thunder",
   "metadata": {},
   "outputs": [
    {
     "data": {
      "text/plain": [
       "5.0"
      ]
     },
     "execution_count": 43,
     "metadata": {},
     "output_type": "execute_result"
    }
   ],
   "source": [
    "vector.obj(px=3, py=4).rho"
   ]
  },
  {
   "cell_type": "code",
   "execution_count": 44,
   "id": "included-fireplace",
   "metadata": {},
   "outputs": [
    {
     "data": {
      "text/plain": [
       "5.0"
      ]
     },
     "execution_count": 44,
     "metadata": {},
     "output_type": "execute_result"
    }
   ],
   "source": [
    "vector.obj(px=3, py=4).pt"
   ]
  },
  {
   "cell_type": "code",
   "execution_count": 45,
   "id": "analyzed-andrews",
   "metadata": {},
   "outputs": [
    {
     "data": {
      "text/plain": [
       "1.4142135623730951"
      ]
     },
     "execution_count": 45,
     "metadata": {},
     "output_type": "execute_result"
    }
   ],
   "source": [
    "vector.obj(x=1, y=2, z=3, E=4).tau"
   ]
  },
  {
   "cell_type": "code",
   "execution_count": 46,
   "id": "declared-yeast",
   "metadata": {},
   "outputs": [
    {
     "data": {
      "text/plain": [
       "1.4142135623730951"
      ]
     },
     "execution_count": 46,
     "metadata": {},
     "output_type": "execute_result"
    }
   ],
   "source": [
    "vector.obj(x=1, y=2, z=3, E=4).mass"
   ]
  },
  {
   "cell_type": "markdown",
   "id": "alpine-investor",
   "metadata": {},
   "source": [
    "Here's the key thing: _arrays of vectors return arrays of coordinates_."
   ]
  },
  {
   "cell_type": "code",
   "execution_count": 47,
   "id": "attempted-country",
   "metadata": {},
   "outputs": [
    {
     "data": {
      "text/plain": [
       "array([1.50363023, 1.50363023, 1.50363023, 1.50363023, 1.50363023])"
      ]
     },
     "execution_count": 47,
     "metadata": {},
     "output_type": "execute_result"
    }
   ],
   "source": [
    "vector.array(\n",
    "    {\n",
    "        \"x\": [1.0, 2.0, 3.0, 4.0, 5.0],\n",
    "        \"y\": [1.1, 2.2, 3.3, 4.4, 5.5],\n",
    "        \"z\": [0.1, 0.2, 0.3, 0.4, 0.5],\n",
    "    }\n",
    ").theta"
   ]
  },
  {
   "cell_type": "code",
   "execution_count": 48,
   "id": "consecutive-attempt",
   "metadata": {},
   "outputs": [
    {
     "data": {
      "text/html": [
       "<pre>[[1.5, 1.5],\n",
       " [],\n",
       " [1.5],\n",
       " [1.5, 1.5]]\n",
       "-----------------------\n",
       "type: 4 * var * float64</pre>"
      ],
      "text/plain": [
       "<Array [[1.5, 1.5], [], [1.5], [1.5, 1.5]] type='4 * var * float64'>"
      ]
     },
     "execution_count": 48,
     "metadata": {},
     "output_type": "execute_result"
    }
   ],
   "source": [
    "vector.Array(\n",
    "    [\n",
    "        [{\"x\": 1, \"y\": 1.1, \"z\": 0.1}, {\"x\": 2, \"y\": 2.2, \"z\": 0.2}],\n",
    "        [],\n",
    "        [{\"x\": 3, \"y\": 3.3, \"z\": 0.3}],\n",
    "        [{\"x\": 4, \"y\": 4.4, \"z\": 0.4}, {\"x\": 5, \"y\": 5.5, \"z\": 0.5}],\n",
    "    ]\n",
    ").theta"
   ]
  },
  {
   "cell_type": "code",
   "execution_count": 49,
   "id": "latin-channels",
   "metadata": {},
   "outputs": [
    {
     "data": {
      "text/plain": [
       "MomentumNumpy3D([[[( 2.26039025, -1.98481124, -1.29907057),\n",
       "                   ( 0.95952588, -2.00396017, -0.4404866 )],\n",
       "                  [(-2.55169443,  0.45531406,  0.2200994 ),\n",
       "                   (-1.0996391 , -0.73624228, -0.80890089)],\n",
       "                  [(-0.7411634 , -0.110458  , -0.19701435),\n",
       "                   ( 1.35582837,  0.200836  , -1.27418951)],\n",
       "                  [(-0.62333052,  0.52145296,  0.24492175),\n",
       "                   ( 0.38686249, -1.62346243, -1.06885481)],\n",
       "                  [( 0.54233445, -0.72464489,  0.70890249),\n",
       "                   (-0.10019824,  0.93090357,  0.73060395)]],\n",
       "\n",
       "                 [[( 0.41104402,  0.5590012 ,  2.36215303),\n",
       "                   ( 1.73855749, -0.75679797,  0.15862517)],\n",
       "                  [(-0.0985614 ,  0.57614691, -0.13468802),\n",
       "                   (-1.75545141,  0.31520659, -1.0191747 )],\n",
       "                  [( 0.52953509, -0.454113  ,  0.9103319 ),\n",
       "                   ( 1.06982529, -0.73796475,  0.47365608)],\n",
       "                  [( 0.70143481, -2.48893272,  0.60751234),\n",
       "                   ( 0.26390769,  0.19964715, -0.37988363)],\n",
       "                  [(-2.00117585,  0.07216232,  0.3443312 ),\n",
       "                   (-0.54123369,  1.42881317,  0.39421562)]],\n",
       "\n",
       "                 [[(-0.0130378 ,  0.51884925,  0.38741933),\n",
       "                   ( 0.12128434,  1.63382031,  0.62769807)],\n",
       "                  [(-0.02453509,  0.0088992 , -1.97146483),\n",
       "                   ( 0.52108073, -1.77611003, -0.17590794)],\n",
       "                  [(-2.14835586,  0.16964633,  2.02826159),\n",
       "                   ( 0.73103243,  0.85196301,  1.1617289 )],\n",
       "                  [(-0.16432348,  0.39310727,  0.00777254),\n",
       "                   (-1.05791558,  0.55587963,  0.23693828)],\n",
       "                  [( 0.94864117,  0.77488342, -0.74026367),\n",
       "                   ( 0.71154967, -0.36412087,  0.09636387)]],\n",
       "\n",
       "                 [[( 0.91218559,  1.17236545, -0.0619832 ),\n",
       "                   (-0.13943885, -0.53065792,  0.13009332)],\n",
       "                  [( 0.0400739 , -1.33943471, -0.04176005),\n",
       "                   (-0.47738235,  2.08961029, -1.48695025)],\n",
       "                  [(-0.84699974, -0.16730622, -0.20521711),\n",
       "                   ( 0.37491512,  0.6729008 , -0.47241812)],\n",
       "                  [(-0.83194681,  1.62940666,  0.44099987),\n",
       "                   ( 0.63878738,  1.46062868, -0.41644439)],\n",
       "                  [(-0.10227976,  0.74096051, -1.31529571),\n",
       "                   ( 1.09401836,  0.77294462,  0.27773291)]],\n",
       "\n",
       "                 [[( 1.17205984, -0.15417393,  0.31004223),\n",
       "                   ( 0.99275882, -1.11519843,  1.08783846)],\n",
       "                  [(-0.54770178, -1.69687857,  0.25023612),\n",
       "                   (-0.27828739,  1.14492199,  2.29676035)],\n",
       "                  [(-0.20599501,  0.54057953, -0.83481415),\n",
       "                   (-0.68719168, -2.08795544,  0.83253276)],\n",
       "                  [(-2.55054126, -1.46269813,  1.79934732),\n",
       "                   ( 1.77585908, -1.33620677, -0.35172656)],\n",
       "                  [( 0.50447696,  2.09937313,  0.23885731),\n",
       "                   (-0.21897479, -0.84282187,  2.71267012)]]],\n",
       "                dtype=[('x', '<f8'), ('y', '<f8'), ('z', '<f8')])"
      ]
     },
     "execution_count": 49,
     "metadata": {},
     "output_type": "execute_result"
    }
   ],
   "source": [
    "# Make a large, random NumPy array of 3D momentum vectors.\n",
    "array = (\n",
    "    np.random.normal(0, 1, 150)\n",
    "    .view([(x, float) for x in (\"x\", \"y\", \"z\")])\n",
    "    .view(vector.MomentumNumpy3D)\n",
    "    .reshape(5, 5, 2)\n",
    ")\n",
    "array"
   ]
  },
  {
   "cell_type": "code",
   "execution_count": 50,
   "id": "coral-consultation",
   "metadata": {},
   "outputs": [
    {
     "data": {
      "text/plain": [
       "array([[[3.00812894, 2.22183399],\n",
       "        [2.59199834, 1.32335137],\n",
       "        [0.74934916, 1.37062236],\n",
       "        [0.81268329, 1.66891966],\n",
       "        [0.90511705, 0.93628048]],\n",
       "\n",
       "       [[0.69385844, 1.89613431],\n",
       "        [0.58451656, 1.78352596],\n",
       "        [0.69758586, 1.29966078],\n",
       "        [2.58588415, 0.33091729],\n",
       "        [2.00247651, 1.52788775]],\n",
       "\n",
       "       [[0.51901303, 1.63831581],\n",
       "        [0.02609917, 1.85097055],\n",
       "        [2.15504356, 1.1226083 ],\n",
       "        [0.42606987, 1.19506801],\n",
       "        [1.22489362, 0.79930404]],\n",
       "\n",
       "       [[1.48543708, 0.54867205],\n",
       "        [1.34003405, 2.143447  ],\n",
       "        [0.86336547, 0.77029658],\n",
       "        [1.82950855, 1.59420371],\n",
       "        [0.74798638, 1.33952214]],\n",
       "\n",
       "       [[1.18215645, 1.49306316],\n",
       "        [1.78307996, 1.17825729],\n",
       "        [0.57849821, 2.19813337],\n",
       "        [2.94019498, 2.222414  ],\n",
       "        [2.15913514, 0.87080346]]])"
      ]
     },
     "execution_count": 50,
     "metadata": {},
     "output_type": "execute_result"
    }
   ],
   "source": [
    "# Get the transverse momentum of each one.\n",
    "array.pt"
   ]
  },
  {
   "cell_type": "code",
   "execution_count": 51,
   "id": "ignored-seating",
   "metadata": {},
   "outputs": [
    {
     "data": {
      "text/plain": [
       "(5, 5, 2)"
      ]
     },
     "execution_count": 51,
     "metadata": {},
     "output_type": "execute_result"
    }
   ],
   "source": [
    "# The array and its components have the same shape.\n",
    "array.shape"
   ]
  },
  {
   "cell_type": "code",
   "execution_count": 52,
   "id": "reduced-nutrition",
   "metadata": {},
   "outputs": [
    {
     "data": {
      "text/plain": [
       "(5, 5, 2)"
      ]
     },
     "execution_count": 52,
     "metadata": {},
     "output_type": "execute_result"
    }
   ],
   "source": [
    "array.pt.shape"
   ]
  },
  {
   "cell_type": "code",
   "execution_count": 53,
   "id": "colored-talent",
   "metadata": {},
   "outputs": [
    {
     "data": {
      "text/html": [
       "<pre>[[{x: -0.376, y: 1.92, z: -1.87}],\n",
       " [{x: -0.106, y: -0.827, z: -0.61}],\n",
       " [{x: 0.682, y: -0.445, z: 1.25}, {...}, {x: 0.336, y: -1.04, z: 1.59}],\n",
       " [{x: 0.236, y: -0.778, z: 2.41}, {x: -0.627, y: -0.654, z: 1.6}],\n",
       " [],\n",
       " [{x: -0.689, y: -1.14, z: -0.376}, {x: 0.141, y: 0.546, z: -1.1}],\n",
       " [],\n",
       " [{x: 0.426, y: 1.25, z: -0.33}, {...}, {x: 0.792, y: 0.0574, z: -1.69}],\n",
       " [],\n",
       " [{x: -0.165, y: 0.0744, z: 1}],\n",
       " ...,\n",
       " [{x: -0.922, y: -0.895, z: -1.07}],\n",
       " [{x: -1.95, y: -1.75, z: 1.41}, {...}, {x: 0.73, y: 0.472, z: -0.969}],\n",
       " [{x: -0.139, y: 1.62, z: -0.308}, {x: -0.0608, y: 0.825, z: -1.75}],\n",
       " [{x: 1.41, y: 0.951, z: -1.47}, {x: -0.836, y: -0.196, z: -0.887}],\n",
       " [{x: -1, y: 0.94, z: 1.12}],\n",
       " [],\n",
       " [{x: 0.718, y: -1.04, z: -0.305}, {x: -0.228, y: 0.862, z: -0.5}],\n",
       " [{x: 0.754, y: 0.365, z: 0.465}],\n",
       " [{x: -0.99, y: 0.726, z: -1.38}, {x: 1.03, y: 0.119, z: -0.0639}]]\n",
       "-------------------------------------------------------------------------\n",
       "type: 50 * var * Momentum3D[\n",
       "    x: float64,\n",
       "    y: float64,\n",
       "    z: float64\n",
       "]</pre>"
      ],
      "text/plain": [
       "<MomentumArray3D [[{x: -0.376, y: 1.92, ...}], ...] type='50 * var * Moment...'>"
      ]
     },
     "execution_count": 53,
     "metadata": {},
     "output_type": "execute_result"
    }
   ],
   "source": [
    "# Make a large, random Awkward Array of 3D momentum vectors.\n",
    "array = vector.Array(\n",
    "    [\n",
    "        [\n",
    "            {x: np.random.normal(0, 1) for x in (\"px\", \"py\", \"pz\")}\n",
    "            for inner in range(np.random.poisson(1.5))\n",
    "        ]\n",
    "        for outer in range(50)\n",
    "    ]\n",
    ")\n",
    "array"
   ]
  },
  {
   "cell_type": "code",
   "execution_count": 54,
   "id": "conditional-modeling",
   "metadata": {},
   "outputs": [
    {
     "data": {
      "text/html": [
       "<pre>[[1.96],\n",
       " [0.834],\n",
       " [0.814, 1.72, 1.09],\n",
       " [0.813, 0.906],\n",
       " [],\n",
       " [1.33, 0.564],\n",
       " [],\n",
       " [1.32, 1.75, 0.794],\n",
       " [],\n",
       " [0.181],\n",
       " ...,\n",
       " [1.29],\n",
       " [2.62, 2.66, 0.869],\n",
       " [1.63, 0.828],\n",
       " [1.7, 0.859],\n",
       " [1.37],\n",
       " [],\n",
       " [1.26, 0.892],\n",
       " [0.838],\n",
       " [1.23, 1.04]]\n",
       "------------------------\n",
       "type: 50 * var * float64</pre>"
      ],
      "text/plain": [
       "<Array [[1.96], [0.834], ..., [0.838], [1.23, 1.04]] type='50 * var * float64'>"
      ]
     },
     "execution_count": 54,
     "metadata": {},
     "output_type": "execute_result"
    }
   ],
   "source": [
    "# Get the transverse momentum of each one, in the same nested structure.\n",
    "array.pt"
   ]
  },
  {
   "cell_type": "code",
   "execution_count": 55,
   "id": "general-october",
   "metadata": {},
   "outputs": [
    {
     "data": {
      "text/html": [
       "<pre>[1,\n",
       " 1,\n",
       " 3,\n",
       " 2,\n",
       " 0,\n",
       " 2,\n",
       " 0,\n",
       " 3,\n",
       " 0,\n",
       " 1,\n",
       " ...,\n",
       " 1,\n",
       " 3,\n",
       " 2,\n",
       " 2,\n",
       " 1,\n",
       " 0,\n",
       " 2,\n",
       " 1,\n",
       " 2]\n",
       "----------------\n",
       "type: 50 * int64</pre>"
      ],
      "text/plain": [
       "<Array [1, 1, 3, 2, 0, 2, 0, 3, ..., 3, 2, 2, 1, 0, 2, 1, 2] type='50 * int64'>"
      ]
     },
     "execution_count": 55,
     "metadata": {},
     "output_type": "execute_result"
    }
   ],
   "source": [
    "# The array and its components have the same list lengths (and can therefore be used together in subsequent calculations).\n",
    "ak.num(array)"
   ]
  },
  {
   "cell_type": "code",
   "execution_count": 56,
   "id": "ongoing-rally",
   "metadata": {},
   "outputs": [
    {
     "data": {
      "text/html": [
       "<pre>[1,\n",
       " 1,\n",
       " 3,\n",
       " 2,\n",
       " 0,\n",
       " 2,\n",
       " 0,\n",
       " 3,\n",
       " 0,\n",
       " 1,\n",
       " ...,\n",
       " 1,\n",
       " 3,\n",
       " 2,\n",
       " 2,\n",
       " 1,\n",
       " 0,\n",
       " 2,\n",
       " 1,\n",
       " 2]\n",
       "----------------\n",
       "type: 50 * int64</pre>"
      ],
      "text/plain": [
       "<Array [1, 1, 3, 2, 0, 2, 0, 3, ..., 3, 2, 2, 1, 0, 2, 1, 2] type='50 * int64'>"
      ]
     },
     "execution_count": 56,
     "metadata": {},
     "output_type": "execute_result"
    }
   ],
   "source": [
    "ak.num(array.pt)"
   ]
  },
  {
   "cell_type": "markdown",
   "id": "brown-blood",
   "metadata": {},
   "source": [
    "## Vector methods\n",
    "\n",
    "Vector methods require arguments (in parentheses), which may be scalars or other vectors, depending on the calculation."
   ]
  },
  {
   "cell_type": "code",
   "execution_count": 57,
   "id": "unique-trance",
   "metadata": {},
   "outputs": [
    {
     "data": {
      "text/plain": [
       "VectorObject2D(x=2.585678829246765, y=4.279516911052588)"
      ]
     },
     "execution_count": 57,
     "metadata": {},
     "output_type": "execute_result"
    }
   ],
   "source": [
    "vector.obj(x=3, y=4).rotateZ(0.1)"
   ]
  },
  {
   "cell_type": "code",
   "execution_count": 58,
   "id": "pharmaceutical-notebook",
   "metadata": {},
   "outputs": [
    {
     "data": {
      "text/plain": [
       "VectorObject2D(rho=5, phi=0.5)"
      ]
     },
     "execution_count": 58,
     "metadata": {},
     "output_type": "execute_result"
    }
   ],
   "source": [
    "vector.obj(rho=5, phi=0.4).rotateZ(0.1)"
   ]
  },
  {
   "cell_type": "code",
   "execution_count": 59,
   "id": "approved-ancient",
   "metadata": {},
   "outputs": [
    {
     "name": "stdout",
     "output_type": "stream",
     "text": [
      "[(1., 0.6) (2., 0.7) (3., 0.8) (4., 0.9) (5., 1. )]\n"
     ]
    }
   ],
   "source": [
    "# Broadcasts a scalar rotation angle of 0.5 to all elements of the NumPy array.\n",
    "print(\n",
    "    vector.array({\"rho\": [1, 2, 3, 4, 5], \"phi\": [0.1, 0.2, 0.3, 0.4, 0.5]}).rotateZ(\n",
    "        0.5\n",
    "    )\n",
    ")"
   ]
  },
  {
   "cell_type": "code",
   "execution_count": 60,
   "id": "derived-lincoln",
   "metadata": {},
   "outputs": [
    {
     "name": "stdout",
     "output_type": "stream",
     "text": [
      "[(1., 0.2) (2., 0.4) (3., 0.6) (4., 0.8) (5., 1. )]\n"
     ]
    }
   ],
   "source": [
    "# Matches each rotation angle to an element of the NumPy array.\n",
    "print(\n",
    "    vector.array({\"rho\": [1, 2, 3, 4, 5], \"phi\": [0.1, 0.2, 0.3, 0.4, 0.5]}).rotateZ(\n",
    "        np.array([0.1, 0.2, 0.3, 0.4, 0.5])\n",
    "    )\n",
    ")"
   ]
  },
  {
   "cell_type": "code",
   "execution_count": 61,
   "id": "dangerous-effect",
   "metadata": {},
   "outputs": [
    {
     "name": "stdout",
     "output_type": "stream",
     "text": [
      "[[{rho: 1, phi: 0.6}, {rho: 2, phi: 0.7}], [], [{rho: 3, phi: 0.8}]]\n"
     ]
    }
   ],
   "source": [
    "# Broadcasts a scalar rotation angle of 0.5 to all elements of the Awkward Array.\n",
    "print(\n",
    "    vector.Array(\n",
    "        [[{\"rho\": 1, \"phi\": 0.1}, {\"rho\": 2, \"phi\": 0.2}], [], [{\"rho\": 3, \"phi\": 0.3}]]\n",
    "    ).rotateZ(0.5)\n",
    ")"
   ]
  },
  {
   "cell_type": "code",
   "execution_count": 62,
   "id": "weird-insert",
   "metadata": {},
   "outputs": [
    {
     "name": "stdout",
     "output_type": "stream",
     "text": [
      "[[{rho: 1, phi: 0.2}, {rho: 2, phi: 0.3}], [], [{rho: 3, phi: 0.6}]]\n"
     ]
    }
   ],
   "source": [
    "# Broadcasts a rotation angle of 0.1 to both elements of the first list, 0.2 to the empty list, and 0.3 to the only element of the last list.\n",
    "print(\n",
    "    vector.Array(\n",
    "        [[{\"rho\": 1, \"phi\": 0.1}, {\"rho\": 2, \"phi\": 0.2}], [], [{\"rho\": 3, \"phi\": 0.3}]]\n",
    "    ).rotateZ([0.1, 0.2, 0.3])\n",
    ")"
   ]
  },
  {
   "cell_type": "code",
   "execution_count": 63,
   "id": "satellite-southeast",
   "metadata": {},
   "outputs": [
    {
     "name": "stdout",
     "output_type": "stream",
     "text": [
      "[[{rho: 1, phi: 0.2}, {rho: 2, phi: 0.4}], [], [{rho: 3, phi: 0.6}]]\n"
     ]
    }
   ],
   "source": [
    "# Matches each rotation angle to an element of the Awkward Array.\n",
    "print(\n",
    "    vector.Array(\n",
    "        [[{\"rho\": 1, \"phi\": 0.1}, {\"rho\": 2, \"phi\": 0.2}], [], [{\"rho\": 3, \"phi\": 0.3}]]\n",
    "    ).rotateZ([[0.1, 0.2], [], [0.3]])\n",
    ")"
   ]
  },
  {
   "cell_type": "markdown",
   "id": "animal-specific",
   "metadata": {},
   "source": [
    "Some methods are equivalent to binary operators."
   ]
  },
  {
   "cell_type": "code",
   "execution_count": 64,
   "id": "statutory-bathroom",
   "metadata": {},
   "outputs": [
    {
     "data": {
      "text/plain": [
       "VectorObject2D(x=30, y=40)"
      ]
     },
     "execution_count": 64,
     "metadata": {},
     "output_type": "execute_result"
    }
   ],
   "source": [
    "vector.obj(x=3, y=4).scale(10)"
   ]
  },
  {
   "cell_type": "code",
   "execution_count": 65,
   "id": "foreign-celebration",
   "metadata": {},
   "outputs": [
    {
     "data": {
      "text/plain": [
       "VectorObject2D(x=30, y=40)"
      ]
     },
     "execution_count": 65,
     "metadata": {},
     "output_type": "execute_result"
    }
   ],
   "source": [
    "vector.obj(x=3, y=4) * 10"
   ]
  },
  {
   "cell_type": "code",
   "execution_count": 66,
   "id": "solved-resident",
   "metadata": {},
   "outputs": [
    {
     "data": {
      "text/plain": [
       "VectorObject2D(x=30, y=40)"
      ]
     },
     "execution_count": 66,
     "metadata": {},
     "output_type": "execute_result"
    }
   ],
   "source": [
    "10 * vector.obj(x=3, y=4)"
   ]
  },
  {
   "cell_type": "code",
   "execution_count": 67,
   "id": "comic-threshold",
   "metadata": {},
   "outputs": [
    {
     "data": {
      "text/plain": [
       "VectorObject2D(rho=50, phi=0.5)"
      ]
     },
     "execution_count": 67,
     "metadata": {},
     "output_type": "execute_result"
    }
   ],
   "source": [
    "vector.obj(rho=5, phi=0.5) * 10"
   ]
  },
  {
   "cell_type": "markdown",
   "id": "novel-fancy",
   "metadata": {},
   "source": [
    "Some methods involve more than one vector."
   ]
  },
  {
   "cell_type": "code",
   "execution_count": 68,
   "id": "prescription-arkansas",
   "metadata": {},
   "outputs": [
    {
     "data": {
      "text/plain": [
       "VectorObject2D(x=6, y=7)"
      ]
     },
     "execution_count": 68,
     "metadata": {},
     "output_type": "execute_result"
    }
   ],
   "source": [
    "vector.obj(x=1, y=2).add(vector.obj(x=5, y=5))"
   ]
  },
  {
   "cell_type": "code",
   "execution_count": 69,
   "id": "sought-allah",
   "metadata": {},
   "outputs": [
    {
     "data": {
      "text/plain": [
       "VectorObject2D(x=6, y=7)"
      ]
     },
     "execution_count": 69,
     "metadata": {},
     "output_type": "execute_result"
    }
   ],
   "source": [
    "vector.obj(x=1, y=2) + vector.obj(x=5, y=5)"
   ]
  },
  {
   "cell_type": "code",
   "execution_count": 70,
   "id": "egyptian-nursing",
   "metadata": {},
   "outputs": [
    {
     "data": {
      "text/plain": [
       "15"
      ]
     },
     "execution_count": 70,
     "metadata": {},
     "output_type": "execute_result"
    }
   ],
   "source": [
    "vector.obj(x=1, y=2).dot(vector.obj(x=5, y=5))"
   ]
  },
  {
   "cell_type": "code",
   "execution_count": 71,
   "id": "hourly-section",
   "metadata": {},
   "outputs": [
    {
     "data": {
      "text/plain": [
       "15"
      ]
     },
     "execution_count": 71,
     "metadata": {},
     "output_type": "execute_result"
    }
   ],
   "source": [
    "vector.obj(x=1, y=2) @ vector.obj(x=5, y=5)"
   ]
  },
  {
   "cell_type": "markdown",
   "id": "earned-precipitation",
   "metadata": {},
   "source": [
    "The vectors can use different coordinate systems. Conversions are necessary, but minimized for speed and numeric stability."
   ]
  },
  {
   "cell_type": "code",
   "execution_count": 72,
   "id": "unlike-melissa",
   "metadata": {},
   "outputs": [
    {
     "data": {
      "text/plain": [
       "50"
      ]
     },
     "execution_count": 72,
     "metadata": {},
     "output_type": "execute_result"
    }
   ],
   "source": [
    "vector.obj(x=3, y=4) @ vector.obj(x=6, y=8)  # both are Cartesian, dot product is exact"
   ]
  },
  {
   "cell_type": "code",
   "execution_count": 73,
   "id": "seasonal-section",
   "metadata": {},
   "outputs": [
    {
     "data": {
      "text/plain": [
       "49.99999999942831"
      ]
     },
     "execution_count": 73,
     "metadata": {},
     "output_type": "execute_result"
    }
   ],
   "source": [
    "vector.obj(rho=5, phi=0.9273) @ vector.obj(\n",
    "    x=6, y=8\n",
    ")  # one is polar, dot product is approximate"
   ]
  },
  {
   "cell_type": "code",
   "execution_count": 74,
   "id": "second-joseph",
   "metadata": {},
   "outputs": [
    {
     "data": {
      "text/plain": [
       "49.99999999942831"
      ]
     },
     "execution_count": 74,
     "metadata": {},
     "output_type": "execute_result"
    }
   ],
   "source": [
    "vector.obj(x=3, y=4) @ vector.obj(\n",
    "    rho=10, phi=0.9273\n",
    ")  # one is polar, dot product is approximate"
   ]
  },
  {
   "cell_type": "code",
   "execution_count": 75,
   "id": "material-technician",
   "metadata": {},
   "outputs": [
    {
     "data": {
      "text/plain": [
       "50.0"
      ]
     },
     "execution_count": 75,
     "metadata": {},
     "output_type": "execute_result"
    }
   ],
   "source": [
    "vector.obj(rho=5, phi=0.9273) @ vector.obj(\n",
    "    rho=10, phi=0.9273\n",
    ")  # both are polar, a formula that depends on phi differences is used"
   ]
  },
  {
   "cell_type": "markdown",
   "id": "attractive-ebony",
   "metadata": {},
   "source": [
    "In Python, some \"operators\" are actually built-in functions, such as `abs`."
   ]
  },
  {
   "cell_type": "code",
   "execution_count": 76,
   "id": "focal-tactics",
   "metadata": {},
   "outputs": [
    {
     "data": {
      "text/plain": [
       "5.0"
      ]
     },
     "execution_count": 76,
     "metadata": {},
     "output_type": "execute_result"
    }
   ],
   "source": [
    "abs(vector.obj(x=3, y=4))"
   ]
  },
  {
   "cell_type": "markdown",
   "id": "stone-resource",
   "metadata": {},
   "source": [
    "Note that `abs` returns\n",
    "\n",
    "   * `rho` for 2D vectors\n",
    "   * `mag` for 3D vectors\n",
    "   * `tau` (`mass`) for 4D vectors\n",
    "\n",
    "Use the named properties when you want magnitude in a specific number of dimensions; use `abs` when you want the magnitude for any number of dimensions."
   ]
  },
  {
   "cell_type": "markdown",
   "id": "shared-resolution",
   "metadata": {},
   "source": [
    "The vectors can be from different backends. Normal rules for broadcasting Python numbers, NumPy arrays, and Awkward Arrays apply."
   ]
  },
  {
   "cell_type": "code",
   "execution_count": 77,
   "id": "purple-disco",
   "metadata": {},
   "outputs": [
    {
     "data": {
      "text/plain": [
       "VectorNumpy2D([(11., 5.1), (12., 5.2), (13., 5.3), (14., 5.4), (15., 5.5)],\n",
       "              dtype=[('x', '<f8'), ('y', '<f8')])"
      ]
     },
     "execution_count": 77,
     "metadata": {},
     "output_type": "execute_result"
    }
   ],
   "source": [
    "vector.array({\"x\": [1, 2, 3, 4, 5], \"y\": [0.1, 0.2, 0.3, 0.4, 0.5]}) + vector.obj(\n",
    "    x=10, y=5\n",
    ")"
   ]
  },
  {
   "cell_type": "code",
   "execution_count": 78,
   "id": "abroad-diversity",
   "metadata": {},
   "outputs": [
    {
     "data": {
      "text/html": [
       "<pre>[[{x: 11, y: 6.1}, {x: 12, y: 7.2}],\n",
       " [],\n",
       " [{x: 13, y: 8.3}],\n",
       " [{x: 14, y: 9.4}, {x: 15, y: 10.5}]]\n",
       "-------------------------------------\n",
       "type: 4 * var * Vector2D[\n",
       "    x: int64,\n",
       "    y: float64\n",
       "]</pre>"
      ],
      "text/plain": [
       "<VectorArray2D [[{x: 11, y: 6.1}, {...}], ..., [...]] type='4 * var * Vecto...'>"
      ]
     },
     "execution_count": 78,
     "metadata": {},
     "output_type": "execute_result"
    }
   ],
   "source": [
    "(\n",
    "    vector.Array(\n",
    "        [  # an Awkward Array of vectors\n",
    "            [{\"x\": 1, \"y\": 1.1}, {\"x\": 2, \"y\": 2.2}],\n",
    "            [],\n",
    "            [{\"x\": 3, \"y\": 3.3}],\n",
    "            [{\"x\": 4, \"y\": 4.4}, {\"x\": 5, \"y\": 5.5}],\n",
    "        ]\n",
    "    )\n",
    "    + vector.obj(x=10, y=5)  # and a single vector object\n",
    ")"
   ]
  },
  {
   "cell_type": "code",
   "execution_count": 79,
   "id": "empirical-starter",
   "metadata": {},
   "outputs": [
    {
     "data": {
      "text/html": [
       "<pre>[[{x: 5, y: 1.2}, {x: 6, y: 2.3}],\n",
       " [],\n",
       " [{x: 5, y: 3.4}],\n",
       " [{x: 5, y: 4.5}, {x: 6, y: 5.6}]]\n",
       "----------------------------------\n",
       "type: 4 * var * Vector2D[\n",
       "    x: float64,\n",
       "    y: float64\n",
       "]</pre>"
      ],
      "text/plain": [
       "<VectorArray2D [[{x: 5, y: 1.2}, {...}], ..., [...]] type='4 * var * Vector...'>"
      ]
     },
     "execution_count": 79,
     "metadata": {},
     "output_type": "execute_result"
    }
   ],
   "source": [
    "(\n",
    "    vector.Array(\n",
    "        [  # an Awkward Array of vectors\n",
    "            [{\"x\": 1, \"y\": 1.1}, {\"x\": 2, \"y\": 2.2}],\n",
    "            [],\n",
    "            [{\"x\": 3, \"y\": 3.3}],\n",
    "            [{\"x\": 4, \"y\": 4.4}, {\"x\": 5, \"y\": 5.5}],\n",
    "        ]\n",
    "    )\n",
    "    + vector.array(\n",
    "        {\"x\": [4, 3, 2, 1], \"y\": [0.1, 0.1, 0.1, 0.1]}\n",
    "    )  # and a NumPy array of vectors\n",
    ")"
   ]
  },
  {
   "cell_type": "markdown",
   "id": "pregnant-chest",
   "metadata": {},
   "source": [
    "Some operations are defined for 2D or 3D vectors, but are usable on higher-dimensional vectors because the additional components can be ignored or are passed through unaffected."
   ]
  },
  {
   "cell_type": "code",
   "execution_count": 80,
   "id": "blocked-keyboard",
   "metadata": {},
   "outputs": [
    {
     "data": {
      "text/plain": [
       "0.20000000000000018"
      ]
     },
     "execution_count": 80,
     "metadata": {},
     "output_type": "execute_result"
    }
   ],
   "source": [
    "vector.obj(rho=1, phi=0.5).deltaphi(\n",
    "    vector.obj(rho=2, phi=0.3)\n",
    ")  # deltaphi is a planar operation (defined on the transverse plane)"
   ]
  },
  {
   "cell_type": "code",
   "execution_count": 81,
   "id": "exposed-pendant",
   "metadata": {},
   "outputs": [
    {
     "data": {
      "text/plain": [
       "0.20000000000000018"
      ]
     },
     "execution_count": 81,
     "metadata": {},
     "output_type": "execute_result"
    }
   ],
   "source": [
    "vector.obj(rho=1, phi=0.5, z=10).deltaphi(\n",
    "    vector.obj(rho=2, phi=0.3, theta=1.4)\n",
    ")  # but we can use it on 3D vectors"
   ]
  },
  {
   "cell_type": "code",
   "execution_count": 82,
   "id": "liked-depression",
   "metadata": {},
   "outputs": [
    {
     "data": {
      "text/plain": [
       "0.20000000000000018"
      ]
     },
     "execution_count": 82,
     "metadata": {},
     "output_type": "execute_result"
    }
   ],
   "source": [
    "vector.obj(rho=1, phi=0.5, z=10, t=100).deltaphi(\n",
    "    vector.obj(rho=2, phi=0.3, theta=1.4, tau=1000)\n",
    ")  # and 4D vectors"
   ]
  },
  {
   "cell_type": "code",
   "execution_count": 83,
   "id": "several-senator",
   "metadata": {},
   "outputs": [
    {
     "data": {
      "text/plain": [
       "0.20000000000000018"
      ]
     },
     "execution_count": 83,
     "metadata": {},
     "output_type": "execute_result"
    }
   ],
   "source": [
    "vector.obj(rho=1, phi=0.5).deltaphi(\n",
    "    vector.obj(rho=2, phi=0.3, theta=1.4, tau=1000)\n",
    ")  # and mixed dimensionality"
   ]
  },
  {
   "cell_type": "markdown",
   "id": "breathing-helicopter",
   "metadata": {},
   "source": [
    "This is especially useful for giving 4D vectors all the capabilities of 3D vectors."
   ]
  },
  {
   "cell_type": "code",
   "execution_count": 84,
   "id": "considerable-general",
   "metadata": {},
   "outputs": [
    {
     "data": {
      "text/plain": [
       "VectorObject3D(x=1, y=-0.7071067811865472, z=3.5355339059327378)"
      ]
     },
     "execution_count": 84,
     "metadata": {},
     "output_type": "execute_result"
    }
   ],
   "source": [
    "vector.obj(x=1, y=2, z=3).rotateX(np.pi / 4)"
   ]
  },
  {
   "cell_type": "code",
   "execution_count": 85,
   "id": "formed-fisher",
   "metadata": {},
   "outputs": [
    {
     "data": {
      "text/plain": [
       "VectorObject4D(x=1, y=-0.7071067811865472, z=3.5355339059327378, tau=10)"
      ]
     },
     "execution_count": 85,
     "metadata": {},
     "output_type": "execute_result"
    }
   ],
   "source": [
    "vector.obj(x=1, y=2, z=3, tau=10).rotateX(np.pi / 4)"
   ]
  },
  {
   "cell_type": "code",
   "execution_count": 86,
   "id": "tribal-danger",
   "metadata": {},
   "outputs": [
    {
     "data": {
      "text/plain": [
       "1.4142135623730951"
      ]
     },
     "execution_count": 86,
     "metadata": {},
     "output_type": "execute_result"
    }
   ],
   "source": [
    "vector.obj(pt=1, phi=1.3, eta=2).deltaR(vector.obj(pt=2, phi=0.3, eta=1))"
   ]
  },
  {
   "cell_type": "code",
   "execution_count": 87,
   "id": "strategic-hypothesis",
   "metadata": {},
   "outputs": [
    {
     "data": {
      "text/plain": [
       "1.4142135623730951"
      ]
     },
     "execution_count": 87,
     "metadata": {},
     "output_type": "execute_result"
    }
   ],
   "source": [
    "vector.obj(pt=1, phi=1.3, eta=2, mass=5).deltaR(\n",
    "    vector.obj(pt=2, phi=0.3, eta=1, mass=10)\n",
    ")"
   ]
  },
  {
   "cell_type": "markdown",
   "id": "sensitive-booking",
   "metadata": {},
   "source": [
    "The opposite—using low-dimensional vectors in operations defined for higher numbers of dimensions—is sometimes defined. In these cases, a zero longitudinal or temporal component has to be imputed."
   ]
  },
  {
   "cell_type": "code",
   "execution_count": 88,
   "id": "loaded-kidney",
   "metadata": {},
   "outputs": [
    {
     "data": {
      "text/plain": [
       "VectorObject3D(x=0, y=0, z=3)"
      ]
     },
     "execution_count": 88,
     "metadata": {},
     "output_type": "execute_result"
    }
   ],
   "source": [
    "vector.obj(x=1, y=2, z=3) - vector.obj(x=1, y=2)"
   ]
  },
  {
   "cell_type": "code",
   "execution_count": 89,
   "id": "atomic-corps",
   "metadata": {},
   "outputs": [
    {
     "data": {
      "text/plain": [
       "True"
      ]
     },
     "execution_count": 89,
     "metadata": {},
     "output_type": "execute_result"
    }
   ],
   "source": [
    "vector.obj(x=1, y=2, z=0).is_parallel(vector.obj(x=1, y=2))"
   ]
  },
  {
   "cell_type": "markdown",
   "id": "willing-detail",
   "metadata": {},
   "source": [
    "And finally, in some cases, the function excludes a higher-dimensional component, even if the input vectors had them.\n",
    "\n",
    "It would be confusing if the 3D cross-product returned a fourth component."
   ]
  },
  {
   "cell_type": "code",
   "execution_count": 90,
   "id": "preceding-possibility",
   "metadata": {},
   "outputs": [
    {
     "data": {
      "text/plain": [
       "VectorObject3D(x=-0.03, y=0.06, z=-0.030000000000000013)"
      ]
     },
     "execution_count": 90,
     "metadata": {},
     "output_type": "execute_result"
    }
   ],
   "source": [
    "vector.obj(x=0.1, y=0.2, z=0.3, t=10).cross(vector.obj(x=0.4, y=0.5, z=0.6, t=20))"
   ]
  },
  {
   "cell_type": "markdown",
   "id": "operational-accused",
   "metadata": {},
   "source": [
    "The (current) list of properties and methods is:\n",
    "\n",
    "**Planar (2D, 3D, 4D):**\n",
    "\n",
    "   * `x` (`px`)\n",
    "   * `y` (`py`)\n",
    "   * `rho` (`pt`): two-dimensional magnitude\n",
    "   * `rho2` (`pt2`): two-dimensional magnitude squared\n",
    "   * `phi`\n",
    "   * `deltaphi(vector)`: difference in `phi` (signed and rectified to $-\\pi$ through $\\pi$)\n",
    "   * `rotateZ(angle)`\n",
    "   * `transform2D(obj)`: the `obj` must supply components through `obj[\"xx\"]`, `obj[\"xy\"]`, `obj[\"yx\"]`, `obj[\"yy\"]`\n",
    "   * `is_parallel(vector, tolerance=1e-5)`: only true _if they're pointing in the same direction_\n",
    "   * `is_antiparallel(vector, tolerance=1e-5)`: only true _if they're pointing in opposite directions_\n",
    "   * `is_perpendicular(vector, tolerance=1e-5)`\n",
    "\n",
    "**Spatial (3D, 4D):**\n",
    "\n",
    "   * `z` (`pz`)\n",
    "   * `theta`\n",
    "   * `eta`\n",
    "   * `costheta`\n",
    "   * `cottheta`\n",
    "   * `mag` (`p`): three-dimensional magnitude, does not include temporal component\n",
    "   * `mag2` (`p2`): three-dimensional magnitude squared\n",
    "   * `cross`: cross-product (strictly 3D)\n",
    "   * `deltaangle(vector)`: difference in angle (always non-negative)\n",
    "   * `deltaeta(vector)`: difference in `eta` (signed)\n",
    "   * `deltaR(vector)`: $\\Delta R = \\sqrt{\\Delta\\phi^2 + \\Delta\\eta^2}$\n",
    "   * `deltaR2(vector)`: the above, squared\n",
    "   * `rotateX(angle)`\n",
    "   * `rotateY(angle)`\n",
    "   * `rotate_axis(axis, angle)`: the magnitude of `axis` is ignored, but it must be at least 3D\n",
    "   * `rotate_euler(phi, theta, psi, order=\"zxz\")`: the arguments are in the same order as [ROOT::Math::EulerAngles](https://root.cern.ch/doc/master/classROOT_1_1Math_1_1EulerAngles.html), and `order=\"zxz\"` agrees with ROOT's choice of conventions\n",
    "   * `rotate_nautical(yaw, pitch, roll)`\n",
    "   * `rotate_quaternion(u, i, j, k)`: again, the conventions match [ROOT::Math::Quaternion](https://root.cern.ch/doc/master/classROOT_1_1Math_1_1Quaternion.html).\n",
    "   * `transform3D(obj)`: the `obj` must supply components through `obj[\"xx\"]`, `obj[\"xy\"]`, etc.\n",
    "   * `is_parallel(vector, tolerance=1e-5)`: only true _if they're pointing in the same direction_\n",
    "   * `is_antiparallel(vector, tolerance=1e-5)`: only true _if they're pointing in opposite directions_\n",
    "   * `is_perpendicular(vector, tolerance=1e-5)`\n",
    "\n",
    "**Lorentz (4D only):**\n",
    "\n",
    "   * `t` (`E`, `energy`): follows the [ROOT::Math::LorentzVector](https://root.cern/doc/master/LorentzVectorPage.html) behavior of treating spacelike vectors as negative `t` and negative `tau` and truncating wrong-direction timelike vectors\n",
    "   * `t2` (`E2`, `energy2`)\n",
    "   * `tau` (`M`, `mass`): see note above\n",
    "   * `tau2` (`M2`, `mass2`)\n",
    "   * `beta`: scalar(s) between $0$ (inclusive) and $1$ (exclusive, unless the vector components are infinite)\n",
    "   * `deltaRapidityPhi`: $\\Delta R_{\\mbox{rapidity}} = \\Delta\\phi^2 + \\Delta \\mbox{rapidity}^2$\n",
    "   * `deltaRapidityPhi2`: the above, squared\n",
    "   * `gamma`: scalar(s) between $1$ (inclusive) and $\\infty$\n",
    "   * `rapidity`: scalar(s) between $0$ (inclusive) and $\\infty$\n",
    "   * `boost_p4(four_vector)`: change coordinate system using another 4D vector as the difference\n",
    "   * `boost_beta(three_vector)`: change coordinate system using a 3D beta vector (all components between $-1$ and $+1$)\n",
    "   * `boost(vector)`: uses the dimension of the given `vector` to determine behavior\n",
    "   * `boostX(beta=None, gamma=None)`: supply `beta` xor `gamma`, but not both\n",
    "   * `boostY(beta=None, gamma=None)`: supply `beta` xor `gamma`, but not both\n",
    "   * `boostZ(beta=None, gamma=None)`: supply `beta` xor `gamma`, but not both\n",
    "   * `transform4D(obj)`: the `obj` must supply components through `obj[\"xx\"]`, `obj[\"xy\"]`, etc.\n",
    "   * `to_beta3()`: turns a `four_vector` (for `boost_p4`) into a `three_vector` (for `boost_beta3`)\n",
    "   * `is_timelike(tolerance=0)`\n",
    "   * `is_spacelike(tolerance=0)`\n",
    "   * `is_lightlike(tolerance=1e-5)`: note the different tolerance\n",
    "\n",
    "**All numbers of dimensions:**\n",
    "\n",
    "   * `unit()`: note the parentheses\n",
    "   * `dot(vector)`: can also use the `@` operator\n",
    "   * `add(vector)`: can also use the `+` operator\n",
    "   * `subtract(vector)`: can also use the `-` operator\n",
    "   * `scale(factor)`: can also use the `*` operator\n",
    "   * `equal(vector)`: can also use the `==` operator, but consider `isclose` instead\n",
    "   * `not_equal(vector)`: can also use the `!=` operator, but consider `isclose` instead\n",
    "   * `sum()`: can also use the `numpy.sum` or `awkward.sum`, only for NumPy and Awkward vectors\n",
    "   * `count_nonzero()`: can also use `numpy.count_nonzero` or `awkward.count_nonzero`, only for NumPy and Awkward vectors\n",
    "   * `count()`: can also use `awkward.count`, only for Awkward vectors\n",
    "   * `isclose(vector, rtol=1e-5, atol=1e-8, equal_nan=False)`: works like [np.isclose](https://numpy.org/doc/stable/reference/generated/numpy.isclose.html); arrays also have an [allclose](https://numpy.org/doc/stable/reference/generated/numpy.allclose.html) method\n",
    "   * `to_Vector*D(coordinates)`: replace `*` with the reuquired vector dimension\n",
    "   * `to_{coordinate-names}`: for example - `to_rhophietatau`\n"
   ]
  },
  {
   "cell_type": "markdown",
   "id": "dedicated-exemption",
   "metadata": {},
   "source": [
    "## Compiling your Python with Numba\n",
    "\n",
    "[Numba](https://numba.pydata.org/) is a just-in-time (JIT) compiler for a mathematically relevant subset of NumPy and Python. It allows you to write fast code without leaving the Python environment. The drawback of Numba is that it can only compile code blocks involving objects and functions that it recognizes.\n",
    "\n",
    "The Vector library includes extensions to inform Numba about vector objects, vector NumPy arrays, and vector Awkward Arrays. At the time of writing, the implementation of vector NumPy arrays is incomplete due to [numba/numba#6148](https://github.com/numba/numba/pull/6148).\n",
    "\n",
    "For instance, consider the following function:"
   ]
  },
  {
   "cell_type": "code",
   "execution_count": 91,
   "id": "sporting-champion",
   "metadata": {},
   "outputs": [],
   "source": [
    "@nb.njit\n",
    "def compute_mass(v1, v2):\n",
    "    return (v1 + v2).mass"
   ]
  },
  {
   "cell_type": "code",
   "execution_count": 92,
   "id": "blocked-attribute",
   "metadata": {},
   "outputs": [
    {
     "data": {
      "text/plain": [
       "8.0"
      ]
     },
     "execution_count": 92,
     "metadata": {},
     "output_type": "execute_result"
    }
   ],
   "source": [
    "compute_mass(vector.obj(px=1, py=2, pz=3, E=4), vector.obj(px=-1, py=-2, pz=-3, E=4))"
   ]
  },
  {
   "cell_type": "markdown",
   "id": "significant-sweden",
   "metadata": {},
   "source": [
    "When the two `MomentumObject4D` objects are passed as arguments, Numba recognizes them and replaces the Python objects with low-level structs. When it compiles the function, it recognizes `+` as the 4D `add` function and recognizes `.mass` as the `tau` component of the result.\n",
    "\n",
    "Although this demonstrates that Numba can manipulate vector objects, there is no performance advantage (and a likely disadvantage) to compiling a calculation on just a few vectors. The advantage comes when many vectors are involved, in arrays."
   ]
  },
  {
   "cell_type": "code",
   "execution_count": 93,
   "id": "round-supplier",
   "metadata": {},
   "outputs": [
    {
     "data": {
      "text/html": [
       "<pre>[[{x: 0.687, y: 1.15, z: -0.272, t: 11.5}],\n",
       " [{x: -0.00848, y: 0.739, z: 1.91, t: 11.2}, {x: 0.684, y: 0.686, ...}],\n",
       " [{x: -0.348, y: 1.72, z: -0.385, t: 10.3}],\n",
       " [{x: -0.818, y: -1.59, z: -0.719, t: 9.27}],\n",
       " [{x: -0.15, y: -1.29, z: 1.05, t: 8.68}],\n",
       " [{x: 0.789, y: 1.43, z: 0.76, t: 8.26}],\n",
       " [],\n",
       " [{x: -0.151, y: 1.87, z: -0.418, t: 10.8}, ..., {x: 1.16, y: -0.342, ...}],\n",
       " [],\n",
       " [{x: 0.111, y: -0.17, z: -1.85, t: 10.4}],\n",
       " ...,\n",
       " [{x: 0.281, y: 1.15, z: -0.604, t: 9.11}],\n",
       " [{x: 1.19, y: 0.0225, z: 0.453, t: 10.4}],\n",
       " [],\n",
       " [{x: 0.637, y: 1.12, z: -0.651, t: 9.12}],\n",
       " [{x: -0.609, y: -0.739, z: -0.225, t: 8.64}, {x: 0.326, y: -0.913, ...}],\n",
       " [{x: 0.996, y: 1.03, z: 1.92, t: 9.4}],\n",
       " [{x: 0.174, y: 0.759, z: 0.298, t: 9.74}],\n",
       " [{x: 0.0768, y: -1.53, z: 1.87, t: 10.4}],\n",
       " [{x: -1.22, y: -0.848, z: -0.486, t: 8.1}, {x: 0.487, y: 2.11, ...}]]\n",
       "----------------------------------------------------------------------------\n",
       "type: 50 * var * Momentum4D[\n",
       "    x: float64,\n",
       "    y: float64,\n",
       "    z: float64,\n",
       "    t: float64\n",
       "]</pre>"
      ],
      "text/plain": [
       "<MomentumArray4D [[{x: 0.687, y: 1.15, ...}], ..., [...]] type='50 * var * ...'>"
      ]
     },
     "execution_count": 93,
     "metadata": {},
     "output_type": "execute_result"
    }
   ],
   "source": [
    "# This is still not a large number. You want millions.\n",
    "array = vector.Array(\n",
    "    [\n",
    "        [\n",
    "            dict(\n",
    "                {x: np.random.normal(0, 1) for x in (\"px\", \"py\", \"pz\")},\n",
    "                E=np.random.normal(10, 1),\n",
    "            )\n",
    "            for inner in range(np.random.poisson(1.5))\n",
    "        ]\n",
    "        for outer in range(50)\n",
    "    ]\n",
    ")\n",
    "array"
   ]
  },
  {
   "cell_type": "code",
   "execution_count": 94,
   "id": "emotional-headquarters",
   "metadata": {},
   "outputs": [],
   "source": [
    "@nb.njit\n",
    "def compute_masses(array):\n",
    "    out = np.empty(len(array), np.float64)\n",
    "    for i, event in enumerate(array):\n",
    "        total = vector.obj(px=0.0, py=0.0, pz=0.0, E=0.0)\n",
    "        for vec in event:\n",
    "            total = total + vec\n",
    "        out[i] = total.mass\n",
    "    return out"
   ]
  },
  {
   "cell_type": "code",
   "execution_count": 95,
   "id": "recorded-grass",
   "metadata": {},
   "outputs": [
    {
     "data": {
      "text/plain": [
       "array([11.41642718, 22.27865971, 10.18939374,  9.07252983,  8.51331485,\n",
       "        8.06422211,  0.        , 29.352758  ,  0.        , 10.21844468,\n",
       "       11.34362616, 21.10216985, 11.4527522 , 20.14324739,  9.98358839,\n",
       "       18.23053058, 10.98279243, 11.19606712, 10.26290851,  0.        ,\n",
       "       38.84013335,  8.15996425,  0.        ,  0.        , 30.09499597,\n",
       "       19.91427266, 19.72327799,  8.73084137, 20.89841204, 31.50194351,\n",
       "       21.27361129,  9.11625113, 16.13237037, 31.6223863 , 52.00371003,\n",
       "        9.42533027, 18.02849722,  9.26139639,  0.        ,  9.28157987,\n",
       "       30.40031906,  9.01300947, 10.32904192,  0.        ,  9.0039702 ,\n",
       "       18.76867382,  9.0933228 ,  9.70217628, 10.06981863, 19.48030101])"
      ]
     },
     "execution_count": 95,
     "metadata": {},
     "output_type": "execute_result"
    }
   ],
   "source": [
    "compute_masses(array)"
   ]
  },
  {
   "cell_type": "markdown",
   "id": "bb6c289a",
   "metadata": {},
   "source": [
    "## Talks about vector\n",
    "\n",
    "- 9th October 2023 - [What’s new with Vector? First major release is out!](https://indi.to/35ym5) - [PyHEP 2023 (virtual)](https://indico.cern.ch/event/1252095/) [🎥](https://www.youtube.com/watch?v=JHEAb2R3xzE&list=PLKZ9c4ONm-VlAorAG8kR09ZqhMfHiH2LJ&index=10)\n",
    "- 13th September 2022 - [Constructing HEP vectors and analyzing HEP data using Vector](https://indi.to/bPmMc) - [PyHEP 2022 (virtual)](https://indico.cern.ch/event/1150631/) [🎥](https://www.youtube.com/watch?v=4iveMzrbe7s&list=PLKZ9c4ONm-VkohKG-skzEG_gklMaSgaO7&index=15)\n",
    "- 20th July 2022 - [Analysis Grand Challenge / HEP Scientific Python Ecosystem](https://indico.cern.ch/event/1151329/timetable/#3-analysis-grand-challenge-hep) - [DANCE/CoDaS@Snowmass 2022 computational and data science software training](https://indico.cern.ch/event/1151329/)\n",
    "- 25th April 2022 - [Foundation libraries (uproot, awkward, hist, mplhep)](https://indico.cern.ch/event/1126109/contributions/4780138/) - [IRIS-HEP AGC Tools 2022 Workshop](https://indico.cern.ch/event/1126109/) [🎥](https://www.youtube.com/watch?v=O9KvsDMKOmY)\n",
    "- 3rd November 2021 - [Data handling: uproot, awkward & vector](https://indico.cern.ch/event/1076231/contributions/4560398/) - [IRIS-HEP AGC Tools 2021 Workshop](https://indico.cern.ch/event/1076231/) [🎥](https://indico.cern.ch/event/1076231/contributions/4560398/attachments/2338579/4017718/agc_uproot_awk.mp4)\n"
   ]
  },
  {
   "cell_type": "markdown",
   "id": "particular-bangkok",
   "metadata": {},
   "source": [
    "### Status as of November 17, 2023\n",
    "\n",
    "First major release of vector is out and the package has reached a stable position. The work is spearheaded by bug reports and feature requests created on GitHub. It can only be improved by your feedback!"
   ]
  }
 ],
 "metadata": {
  "kernelspec": {
   "display_name": "Python 3 (ipykernel)",
   "language": "python",
   "name": "python3"
  },
  "language_info": {
   "codemirror_mode": {
    "name": "ipython",
    "version": 3
   },
   "file_extension": ".py",
   "mimetype": "text/x-python",
   "name": "python",
   "nbconvert_exporter": "python",
   "pygments_lexer": "ipython3",
   "version": "3.11.5"
  }
 },
 "nbformat": 4,
 "nbformat_minor": 5
}
