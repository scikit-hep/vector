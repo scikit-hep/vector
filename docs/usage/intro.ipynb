{
 "cells": [
  {
   "cell_type": "markdown",
   "id": "auburn-verification",
   "metadata": {},
   "source": [
    "# Introduction to Vector\n",
    "\n",
    "Vector is a Python 3.8+ library (Python 3.6 and 3.7 supported till `v0.9.0` and `v1.0.0`, respectively) for 2D, 3D, and [Lorentz vectors](https://en.wikipedia.org/wiki/Special_relativity#Physics_in_spacetime), especially _arrays of vectors_, to solve common physics problems in a NumPy-like way.\n",
    "\n",
    "Main features of Vector:\n",
    "\n",
    "   * Pure Python with NumPy as its only dependency. This makes it easier to install.\n",
    "   * Vectors may be represented in a variety of coordinate systems: Cartesian, cylindrical, spherical, and any combination of these with time or proper time for Lorentz vectors. In all, there are 12 coordinate systems: {$x$-$y$ vs $\\rho$-$\\phi$ in the azimuthal plane} × {$z$ vs $\\theta$ vs $\\eta$ longitudinally} × {$t$ vs $\\tau$ temporally}.\n",
    "   * Uses names and conventions set by [ROOT](https://root.cern/)'s [TLorentzVector](https://root.cern.ch/doc/master/classTLorentzVector.html) and [Math::LorentzVector](https://root.cern.ch/doc/master/classROOT_1_1Math_1_1LorentzVector.html), as well as [scikit-hep/math](https://github.com/scikit-hep/scikit-hep/tree/master/skhep/math), [uproot-methods TLorentzVector](https://github.com/scikit-hep/uproot3-methods/blob/master/uproot3_methods/classes/TLorentzVector.py), [henryiii/hepvector](https://github.com/henryiii/hepvector), and [coffea.nanoevents.methods.vector](https://coffeateam.github.io/coffea/modules/coffea.nanoevents.methods.vector.html).\n",
    "   * Implemented on a variety of backends:\n",
    "      - pure Python objects\n",
    "      - NumPy arrays of vectors (as a [structured array](https://numpy.org/doc/stable/user/basics.rec.html) subclass)\n",
    "      - [Awkward Arrays](https://awkward-array.org/) of vectors\n",
    "      - potential for more: CuPy, TensorFlow, Torch, JAX...\n",
    "   * Implemented in [Numba](https://numba.pydata.org/) for JIT-compiled calculations on vectors.\n",
    "   * Distinction between geometrical vectors, which have a minimum of attribute and method names, and vectors representing momentum, which have synonyms like `pt` = `rho`, `energy` = `t`, `mass` = `tau`.\n",
    "\n",
    "This notebook requires Vector, NumPy, Awkward Array, and Numba to run."
   ]
  },
  {
   "cell_type": "code",
   "execution_count": 1,
   "id": "careful-mandate",
   "metadata": {},
   "outputs": [],
   "source": [
    "import awkward as ak  # at least version 1.2.0rc5\n",
    "import numba as nb\n",
    "import numpy as np\n",
    "\n",
    "import vector"
   ]
  },
  {
   "cell_type": "markdown",
   "id": "supposed-outreach",
   "metadata": {},
   "source": [
    "## Constructing a vector or an array of vectors\n",
    "\n",
    "The easiest way to create one or many vectors is with a helper function:\n",
    "\n",
    "   * `vector.obj` to make a pure Python vector object,\n",
    "   * `vector.arr` to make a NumPy array of vectors (lowercase, like `np.array`),\n",
    "   * `vector.awk` to make an Awkward Array of vectors (uppercase, like `ak.Array`).\n",
    "   * `vector.zip` to make an Awkward Array of vectors (similar to `ak.zip`)"
   ]
  },
  {
   "cell_type": "markdown",
   "id": "instant-phoenix",
   "metadata": {},
   "source": [
    "### Pure Python vectors\n",
    "\n",
    "You can directly use the `VectorObject` classes to construct object type vectors:"
   ]
  },
  {
   "cell_type": "code",
   "execution_count": 2,
   "id": "c133d634",
   "metadata": {},
   "outputs": [
    {
     "data": {
      "text/plain": [
       "VectorObject2D(x=1.1, y=2.2)"
      ]
     },
     "execution_count": 2,
     "metadata": {},
     "output_type": "execute_result"
    }
   ],
   "source": [
    "vector.VectorObject2D(x=1.1, y=2.2)"
   ]
  },
  {
   "cell_type": "code",
   "execution_count": 3,
   "id": "2e48bfd8",
   "metadata": {},
   "outputs": [
    {
     "data": {
      "text/plain": [
       "MomentumObject3D(px=1.1, py=2.2, pz=3.3)"
      ]
     },
     "execution_count": 3,
     "metadata": {},
     "output_type": "execute_result"
    }
   ],
   "source": [
    "vector.MomentumObject3D(px=1.1, py=2.2, pz=3.3)"
   ]
  },
  {
   "cell_type": "code",
   "execution_count": 4,
   "id": "73748719",
   "metadata": {},
   "outputs": [
    {
     "data": {
      "text/plain": [
       "VectorObject4D(x=1.1, y=2.2, eta=3.3, tau=4.4)"
      ]
     },
     "execution_count": 4,
     "metadata": {},
     "output_type": "execute_result"
    }
   ],
   "source": [
    "vector.VectorObject4D(x=1.1, y=2.2, eta=3.3, tau=4.4)"
   ]
  },
  {
   "cell_type": "markdown",
   "id": "3dbe90b0",
   "metadata": {},
   "source": [
    "and so on for every class.\n",
    "\n",
    "Or, you can use a single wrapper function to construct all possible combinations of\n",
    "object type vectors:"
   ]
  },
  {
   "cell_type": "code",
   "execution_count": 5,
   "id": "divided-control",
   "metadata": {},
   "outputs": [
    {
     "data": {
      "text/plain": [
       "VectorObject2D(x=3, y=4)"
      ]
     },
     "execution_count": 5,
     "metadata": {},
     "output_type": "execute_result"
    }
   ],
   "source": [
    "vector.obj(x=3, y=4)  # Cartesian 2D vector"
   ]
  },
  {
   "cell_type": "code",
   "execution_count": 6,
   "id": "touched-reader",
   "metadata": {},
   "outputs": [
    {
     "data": {
      "text/plain": [
       "VectorObject2D(rho=5, phi=0.9273)"
      ]
     },
     "execution_count": 6,
     "metadata": {},
     "output_type": "execute_result"
    }
   ],
   "source": [
    "vector.obj(rho=5, phi=0.9273)  # same in polar coordinates"
   ]
  },
  {
   "cell_type": "code",
   "execution_count": 7,
   "id": "coordinated-banner",
   "metadata": {},
   "outputs": [
    {
     "data": {
      "text/plain": [
       "True"
      ]
     },
     "execution_count": 7,
     "metadata": {},
     "output_type": "execute_result"
    }
   ],
   "source": [
    "vector.obj(x=3, y=4).isclose(\n",
    "    vector.obj(rho=5, phi=0.9273)\n",
    ")  # use \"isclose\" unless they are exactly equal"
   ]
  },
  {
   "cell_type": "code",
   "execution_count": 8,
   "id": "worse-depression",
   "metadata": {},
   "outputs": [
    {
     "data": {
      "text/plain": [
       "VectorObject3D(x=3, y=4, z=-2)"
      ]
     },
     "execution_count": 8,
     "metadata": {},
     "output_type": "execute_result"
    }
   ],
   "source": [
    "vector.obj(x=3, y=4, z=-2)  # Cartesian 3D vector"
   ]
  },
  {
   "cell_type": "code",
   "execution_count": 9,
   "id": "copyrighted-answer",
   "metadata": {},
   "outputs": [
    {
     "data": {
      "text/plain": [
       "VectorObject4D(x=3, y=4, z=-2, t=10)"
      ]
     },
     "execution_count": 9,
     "metadata": {},
     "output_type": "execute_result"
    }
   ],
   "source": [
    "vector.obj(x=3, y=4, z=-2, t=10)  # Cartesian 4D vector"
   ]
  },
  {
   "cell_type": "code",
   "execution_count": 10,
   "id": "recovered-platinum",
   "metadata": {},
   "outputs": [
    {
     "data": {
      "text/plain": [
       "VectorObject4D(rho=5, phi=0.9273, eta=-0.39, t=10)"
      ]
     },
     "execution_count": 10,
     "metadata": {},
     "output_type": "execute_result"
    }
   ],
   "source": [
    "vector.obj(\n",
    "    rho=5, phi=0.9273, eta=-0.39, t=10\n",
    ")  # in rho-phi-eta-t cylindrical coordinates"
   ]
  },
  {
   "cell_type": "code",
   "execution_count": 11,
   "id": "exempt-palestine",
   "metadata": {},
   "outputs": [
    {
     "data": {
      "text/plain": [
       "MomentumObject4D(pt=5, phi=0.9273, eta=-0.39, E=10)"
      ]
     },
     "execution_count": 11,
     "metadata": {},
     "output_type": "execute_result"
    }
   ],
   "source": [
    "vector.obj(\n",
    "    pt=5, phi=0.9273, eta=-0.39, E=10\n",
    ")  # use momentum-synonyms to get a momentum vector"
   ]
  },
  {
   "cell_type": "code",
   "execution_count": 12,
   "id": "better-responsibility",
   "metadata": {},
   "outputs": [
    {
     "data": {
      "text/plain": [
       "False"
      ]
     },
     "execution_count": 12,
     "metadata": {},
     "output_type": "execute_result"
    }
   ],
   "source": [
    "vector.obj(rho=5, phi=0.9273, eta=-0.39, t=10) == vector.obj(\n",
    "    pt=5, phi=0.9273, eta=-0.390035, E=10\n",
    ")"
   ]
  },
  {
   "cell_type": "code",
   "execution_count": 13,
   "id": "adverse-lighting",
   "metadata": {},
   "outputs": [
    {
     "data": {
      "text/plain": [
       "8.426194916448265"
      ]
     },
     "execution_count": 13,
     "metadata": {},
     "output_type": "execute_result"
    }
   ],
   "source": [
    "vector.obj(\n",
    "    rho=5, phi=0.9273, eta=-0.39, t=10\n",
    ").tau  # geometrical vectors have to use geometrical names (\"tau\", not \"mass\")"
   ]
  },
  {
   "cell_type": "code",
   "execution_count": 14,
   "id": "broadband-budget",
   "metadata": {},
   "outputs": [
    {
     "data": {
      "text/plain": [
       "8.426194916448265"
      ]
     },
     "execution_count": 14,
     "metadata": {},
     "output_type": "execute_result"
    }
   ],
   "source": [
    "vector.obj(\n",
    "    pt=5, phi=0.9273, eta=-0.39, E=10\n",
    ").mass  # momentum vectors can use momentum names (as well as geometrical ones)"
   ]
  },
  {
   "cell_type": "code",
   "execution_count": 15,
   "id": "prompt-archive",
   "metadata": {},
   "outputs": [
    {
     "data": {
      "text/plain": [
       "MomentumObject4D(pt=5, phi=0.9273, theta=1.9513, mass=8.4262)"
      ]
     },
     "execution_count": 15,
     "metadata": {},
     "output_type": "execute_result"
    }
   ],
   "source": [
    "vector.obj(\n",
    "    pt=5, phi=0.9273, theta=1.9513, mass=8.4262\n",
    ")  # any combination of azimuthal, longitudinal, and temporal coordinates is allowed"
   ]
  },
  {
   "cell_type": "code",
   "execution_count": 16,
   "id": "southern-register",
   "metadata": {},
   "outputs": [
    {
     "data": {
      "text/plain": [
       "True"
      ]
     },
     "execution_count": 16,
     "metadata": {},
     "output_type": "execute_result"
    }
   ],
   "source": [
    "vector.obj(x=3, y=4, z=-2, t=10).isclose(\n",
    "    vector.obj(pt=5, phi=0.9273, theta=1.9513, mass=8.4262)\n",
    ")"
   ]
  },
  {
   "cell_type": "code",
   "execution_count": 17,
   "id": "utility-cartridge",
   "metadata": {},
   "outputs": [
    {
     "data": {
      "text/plain": [
       "(True, True, True, True, True, True, True, True, True, True)"
      ]
     },
     "execution_count": 17,
     "metadata": {},
     "output_type": "execute_result"
    }
   ],
   "source": [
    "# Test instance type for any level of granularity.\n",
    "(\n",
    "    isinstance(\n",
    "        vector.obj(x=1.1, y=2.2), vector.Vector\n",
    "    ),  # is a vector or array of vectors\n",
    "    isinstance(vector.obj(x=1.1, y=2.2), vector.Vector2D),  # is 2D (not 3D or 4D)\n",
    "    isinstance(\n",
    "        vector.obj(x=1.1, y=2.2), vector.VectorObject\n",
    "    ),  # is a vector object (not an array)\n",
    "    isinstance(vector.obj(px=1.1, py=2.2), vector.Momentum),  # has momentum synonyms\n",
    "    isinstance(\n",
    "        vector.obj(x=1.1, y=2.2, z=3.3, t=4.4), vector.Planar\n",
    "    ),  # has transverse plane (2D, 3D, or 4D)\n",
    "    isinstance(\n",
    "        vector.obj(x=1.1, y=2.2, z=3.3, t=4.4), vector.Spatial\n",
    "    ),  # has all spatial coordinates (3D or 4D)\n",
    "    isinstance(\n",
    "        vector.obj(x=1.1, y=2.2, z=3.3, t=4.4), vector.Lorentz\n",
    "    ),  # has temporal coordinates (4D)\n",
    "    isinstance(\n",
    "        vector.obj(x=1.1, y=2.2, z=3.3, t=4.4).azimuthal, vector.AzimuthalXY\n",
    "    ),  # azimuthal coordinate type\n",
    "    isinstance(\n",
    "        vector.obj(x=1.1, y=2.2, z=3.3, t=4.4).longitudinal, vector.LongitudinalZ\n",
    "    ),  # longitudinal coordinate type\n",
    "    isinstance(\n",
    "        vector.obj(x=1.1, y=2.2, z=3.3, t=4.4).temporal, vector.TemporalT\n",
    "    ),  # temporal coordinate type\n",
    ")"
   ]
  },
  {
   "cell_type": "markdown",
   "id": "mature-facial",
   "metadata": {},
   "source": [
    "The allowed keyword arguments for 2D vectors are:\n",
    "\n",
    "   * `x` and `y` for Cartesian azimuthal coordinates,\n",
    "   * `px` and `py` for momentum,\n",
    "   * `rho` and `phi` for polar azimuthal coordinates,\n",
    "   * `pt` and `phi` for momentum.\n",
    "\n",
    "For 3D vectors, you need the above and:\n",
    "\n",
    "   * `z` for the Cartesian longitudinal coordinate,\n",
    "   * `pz` for momentum,\n",
    "   * `theta` for the spherical polar angle (from $0$ to $\\pi$, inclusive),\n",
    "   * `eta` for pseudorapidity, which is a kind of spherical polar angle.\n",
    "\n",
    "For 4D vectors, you need the above and:\n",
    "\n",
    "   * `t` for the Cartesian temporal coordinate,\n",
    "   * `E` or `energy` to get four-momentum,\n",
    "   * `tau` for the \"proper time\" (temporal coordinate in the vector's rest coordinate system),\n",
    "   * `M` or `mass` to get four-momentum.\n",
    "\n",
    "Since momentum vectors have momentum-synonyms _in addition_ to the geometrical names, any momentum-synonym will make the whole vector a momentum vector."
   ]
  },
  {
   "cell_type": "markdown",
   "id": "handmade-tract",
   "metadata": {},
   "source": [
    "If you want to bypass the dimension and coordinate system inference through keyword arguments (e.g. for static typing), you can use specialized constructors:"
   ]
  },
  {
   "cell_type": "code",
   "execution_count": 18,
   "id": "center-beauty",
   "metadata": {},
   "outputs": [
    {
     "data": {
      "text/plain": [
       "VectorObject2D(x=1.1, y=2.2)"
      ]
     },
     "execution_count": 18,
     "metadata": {},
     "output_type": "execute_result"
    }
   ],
   "source": [
    "vector.VectorObject2D.from_xy(1.1, 2.2)"
   ]
  },
  {
   "cell_type": "code",
   "execution_count": 19,
   "id": "indoor-playing",
   "metadata": {},
   "outputs": [
    {
     "data": {
      "text/plain": [
       "MomentumObject3D(pt=1.1, phi=2.2, pz=3.3)"
      ]
     },
     "execution_count": 19,
     "metadata": {},
     "output_type": "execute_result"
    }
   ],
   "source": [
    "vector.MomentumObject3D.from_rhophiz(1.1, 2.2, 3.3)"
   ]
  },
  {
   "cell_type": "code",
   "execution_count": 20,
   "id": "documented-lyric",
   "metadata": {},
   "outputs": [
    {
     "data": {
      "text/plain": [
       "VectorObject4D(x=1.1, y=2.2, eta=3.3, tau=4.4)"
      ]
     },
     "execution_count": 20,
     "metadata": {},
     "output_type": "execute_result"
    }
   ],
   "source": [
    "vector.VectorObject4D.from_xyetatau(1.1, 2.2, 3.3, 4.4)"
   ]
  },
  {
   "cell_type": "markdown",
   "id": "improved-coach",
   "metadata": {},
   "source": [
    "and so on, for all combinations of azimuthal, longitudinal, and temporal coordinates, geometric and momentum-flavored."
   ]
  },
  {
   "cell_type": "markdown",
   "id": "sustained-object",
   "metadata": {},
   "source": [
    "### NumPy arrays of vectors\n",
    "\n",
    "You can directly use the `VectorNumpy` classes to construct object type vectors:"
   ]
  },
  {
   "cell_type": "code",
   "execution_count": 21,
   "id": "c88d6a0c",
   "metadata": {},
   "outputs": [
    {
     "data": {
      "text/plain": [
       "VectorNumpy2D([(1.1, 2.1), (1.2, 2.2), (1.3, 2.3), (1.4, 2.4), (1.5, 2.5)],\n",
       "              dtype=[('x', '<f8'), ('y', '<f8')])"
      ]
     },
     "execution_count": 21,
     "metadata": {},
     "output_type": "execute_result"
    }
   ],
   "source": [
    "# NumPy-like arguments (literally passed through to NumPy)\n",
    "vector.VectorNumpy2D(\n",
    "    [(1.1, 2.1), (1.2, 2.2), (1.3, 2.3), (1.4, 2.4), (1.5, 2.5)],\n",
    "    dtype=[(\"x\", float), (\"y\", float)],\n",
    ")"
   ]
  },
  {
   "cell_type": "code",
   "execution_count": 22,
   "id": "63ce54aa",
   "metadata": {},
   "outputs": [
    {
     "data": {
      "text/plain": [
       "VectorNumpy2D([(1.1, 2.1), (1.2, 2.2), (1.3, 2.3), (1.4, 2.4), (1.5, 2.5)],\n",
       "              dtype=[('x', '<f8'), ('y', '<f8')])"
      ]
     },
     "execution_count": 22,
     "metadata": {},
     "output_type": "execute_result"
    }
   ],
   "source": [
    "# Pandas-like arguments (dict from names to column arrays)\n",
    "vector.VectorNumpy2D({\"x\": [1.1, 1.2, 1.3, 1.4, 1.5], \"y\": [2.1, 2.2, 2.3, 2.4, 2.5]})"
   ]
  },
  {
   "cell_type": "code",
   "execution_count": 23,
   "id": "443654ec",
   "metadata": {},
   "outputs": [
    {
     "data": {
      "text/plain": [
       "VectorNumpy4D([(1.1, 2.1, 3.1, 4.1), (1.2, 2.2, 3.2, 4.2), (1.3, 2.3, 3.3, 4.3),\n",
       "               (1.4, 2.4, 3.4, 4.4), (1.5, 2.5, 3.5, 4.5)],\n",
       "              dtype=[('x', '<f8'), ('y', '<f8'), ('z', '<f8'), ('t', '<f8')])"
      ]
     },
     "execution_count": 23,
     "metadata": {},
     "output_type": "execute_result"
    }
   ],
   "source": [
    "# As with objects, the coordinate system and dimension is taken from the names of the fields.\n",
    "vector.VectorNumpy4D(\n",
    "    {\n",
    "        \"x\": [1.1, 1.2, 1.3, 1.4, 1.5],\n",
    "        \"y\": [2.1, 2.2, 2.3, 2.4, 2.5],\n",
    "        \"z\": [3.1, 3.2, 3.3, 3.4, 3.5],\n",
    "        \"t\": [4.1, 4.2, 4.3, 4.4, 4.5],\n",
    "    }\n",
    ")"
   ]
  },
  {
   "cell_type": "markdown",
   "id": "0c54ccf5",
   "metadata": {},
   "source": [
    "and so on for every class.\n",
    "\n",
    "Or, you can use a single wrapper function to construct all possible combinations of\n",
    "NumPy type vectors:"
   ]
  },
  {
   "cell_type": "code",
   "execution_count": 24,
   "id": "utility-graphic",
   "metadata": {},
   "outputs": [
    {
     "data": {
      "text/plain": [
       "VectorNumpy2D([(1.1, 2.1), (1.2, 2.2), (1.3, 2.3), (1.4, 2.4), (1.5, 2.5)],\n",
       "              dtype=[('x', '<f8'), ('y', '<f8')])"
      ]
     },
     "execution_count": 24,
     "metadata": {},
     "output_type": "execute_result"
    }
   ],
   "source": [
    "# NumPy-like arguments (literally passed through to NumPy)\n",
    "vector.array(\n",
    "    [(1.1, 2.1), (1.2, 2.2), (1.3, 2.3), (1.4, 2.4), (1.5, 2.5)],\n",
    "    dtype=[(\"x\", float), (\"y\", float)],\n",
    ")"
   ]
  },
  {
   "cell_type": "code",
   "execution_count": 25,
   "id": "adaptive-situation",
   "metadata": {},
   "outputs": [
    {
     "data": {
      "text/plain": [
       "VectorNumpy2D([(1.1, 2.1), (1.2, 2.2), (1.3, 2.3), (1.4, 2.4), (1.5, 2.5)],\n",
       "              dtype=[('x', '<f8'), ('y', '<f8')])"
      ]
     },
     "execution_count": 25,
     "metadata": {},
     "output_type": "execute_result"
    }
   ],
   "source": [
    "# Pandas-like arguments (dict from names to column arrays)\n",
    "vector.array({\"x\": [1.1, 1.2, 1.3, 1.4, 1.5], \"y\": [2.1, 2.2, 2.3, 2.4, 2.5]})"
   ]
  },
  {
   "cell_type": "code",
   "execution_count": 26,
   "id": "extra-contents",
   "metadata": {},
   "outputs": [
    {
     "data": {
      "text/plain": [
       "VectorNumpy4D([(1.1, 2.1, 3.1, 4.1), (1.2, 2.2, 3.2, 4.2), (1.3, 2.3, 3.3, 4.3),\n",
       "               (1.4, 2.4, 3.4, 4.4), (1.5, 2.5, 3.5, 4.5)],\n",
       "              dtype=[('x', '<f8'), ('y', '<f8'), ('z', '<f8'), ('t', '<f8')])"
      ]
     },
     "execution_count": 26,
     "metadata": {},
     "output_type": "execute_result"
    }
   ],
   "source": [
    "# As with objects, the coordinate system and dimension is taken from the names of the fields.\n",
    "vector.array(\n",
    "    {\n",
    "        \"x\": [1.1, 1.2, 1.3, 1.4, 1.5],\n",
    "        \"y\": [2.1, 2.2, 2.3, 2.4, 2.5],\n",
    "        \"z\": [3.1, 3.2, 3.3, 3.4, 3.5],\n",
    "        \"t\": [4.1, 4.2, 4.3, 4.4, 4.5],\n",
    "    }\n",
    ")"
   ]
  },
  {
   "cell_type": "code",
   "execution_count": 27,
   "id": "bottom-payroll",
   "metadata": {},
   "outputs": [
    {
     "data": {
      "text/plain": [
       "MomentumNumpy4D([(1.1, 2.1, 3.1, 4.1), (1.2, 2.2, 3.2, 4.2), (1.3, 2.3, 3.3, 4.3),\n",
       "                 (1.4, 2.4, 3.4, 4.4), (1.5, 2.5, 3.5, 4.5)],\n",
       "                dtype=[('rho', '<f8'), ('phi', '<f8'), ('eta', '<f8'), ('tau', '<f8')])"
      ]
     },
     "execution_count": 27,
     "metadata": {},
     "output_type": "execute_result"
    }
   ],
   "source": [
    "vector.array(\n",
    "    {\n",
    "        \"pt\": [1.1, 1.2, 1.3, 1.4, 1.5],\n",
    "        \"phi\": [2.1, 2.2, 2.3, 2.4, 2.5],\n",
    "        \"eta\": [3.1, 3.2, 3.3, 3.4, 3.5],\n",
    "        \"M\": [4.1, 4.2, 4.3, 4.4, 4.5],\n",
    "    }\n",
    ")"
   ]
  },
  {
   "cell_type": "markdown",
   "id": "stunning-examination",
   "metadata": {},
   "source": [
    "Existing NumPy arrays can be viewed as arrays of vectors, but it needs to be a [structured array](https://numpy.org/doc/stable/user/basics.rec.html) with recognized field names."
   ]
  },
  {
   "cell_type": "code",
   "execution_count": 28,
   "id": "unlimited-battery",
   "metadata": {},
   "outputs": [
    {
     "data": {
      "text/plain": [
       "VectorNumpy4D([( 0. ,  0.1,  0.2,  0.3), ( 0.4,  0.5,  0.6,  0.7),\n",
       "               ( 0.8,  0.9,  1. ,  1.1), ( 1.2,  1.3,  1.4,  1.5),\n",
       "               ( 1.6,  1.7,  1.8,  1.9), ( 2. ,  2.1,  2.2,  2.3),\n",
       "               ( 2.4,  2.5,  2.6,  2.7), ( 2.8,  2.9,  3. ,  3.1),\n",
       "               ( 3.2,  3.3,  3.4,  3.5), ( 3.6,  3.7,  3.8,  3.9),\n",
       "               ( 4. ,  4.1,  4.2,  4.3), ( 4.4,  4.5,  4.6,  4.7),\n",
       "               ( 4.8,  4.9,  5. ,  5.1), ( 5.2,  5.3,  5.4,  5.5),\n",
       "               ( 5.6,  5.7,  5.8,  5.9), ( 6. ,  6.1,  6.2,  6.3),\n",
       "               ( 6.4,  6.5,  6.6,  6.7), ( 6.8,  6.9,  7. ,  7.1),\n",
       "               ( 7.2,  7.3,  7.4,  7.5), ( 7.6,  7.7,  7.8,  7.9),\n",
       "               ( 8. ,  8.1,  8.2,  8.3), ( 8.4,  8.5,  8.6,  8.7),\n",
       "               ( 8.8,  8.9,  9. ,  9.1), ( 9.2,  9.3,  9.4,  9.5),\n",
       "               ( 9.6,  9.7,  9.8,  9.9), (10. , 10.1, 10.2, 10.3),\n",
       "               (10.4, 10.5, 10.6, 10.7), (10.8, 10.9, 11. , 11.1),\n",
       "               (11.2, 11.3, 11.4, 11.5), (11.6, 11.7, 11.8, 11.9),\n",
       "               (12. , 12.1, 12.2, 12.3), (12.4, 12.5, 12.6, 12.7),\n",
       "               (12.8, 12.9, 13. , 13.1), (13.2, 13.3, 13.4, 13.5),\n",
       "               (13.6, 13.7, 13.8, 13.9), (14. , 14.1, 14.2, 14.3),\n",
       "               (14.4, 14.5, 14.6, 14.7), (14.8, 14.9, 15. , 15.1),\n",
       "               (15.2, 15.3, 15.4, 15.5), (15.6, 15.7, 15.8, 15.9),\n",
       "               (16. , 16.1, 16.2, 16.3), (16.4, 16.5, 16.6, 16.7),\n",
       "               (16.8, 16.9, 17. , 17.1), (17.2, 17.3, 17.4, 17.5),\n",
       "               (17.6, 17.7, 17.8, 17.9), (18. , 18.1, 18.2, 18.3),\n",
       "               (18.4, 18.5, 18.6, 18.7), (18.8, 18.9, 19. , 19.1),\n",
       "               (19.2, 19.3, 19.4, 19.5), (19.6, 19.7, 19.8, 19.9),\n",
       "               (20. , 20.1, 20.2, 20.3), (20.4, 20.5, 20.6, 20.7),\n",
       "               (20.8, 20.9, 21. , 21.1), (21.2, 21.3, 21.4, 21.5),\n",
       "               (21.6, 21.7, 21.8, 21.9), (22. , 22.1, 22.2, 22.3),\n",
       "               (22.4, 22.5, 22.6, 22.7), (22.8, 22.9, 23. , 23.1),\n",
       "               (23.2, 23.3, 23.4, 23.5), (23.6, 23.7, 23.8, 23.9)],\n",
       "              dtype=[('x', '<f8'), ('y', '<f8'), ('z', '<f8'), ('t', '<f8')])"
      ]
     },
     "execution_count": 28,
     "metadata": {},
     "output_type": "execute_result"
    }
   ],
   "source": [
    "# NumPy array         # interpret groups of four values as named fields              # give it vector properties and methods\n",
    "np.arange(0, 24, 0.1).view(\n",
    "    [(\"x\", float), (\"y\", float), (\"z\", float), (\"t\", float)]\n",
    ").view(vector.VectorNumpy4D)"
   ]
  },
  {
   "cell_type": "markdown",
   "id": "duplicate-thompson",
   "metadata": {},
   "source": [
    "Since `VectorNumpy2D`, `VectorNumpy3D`, `VectorNumpy4D`, and their momentum equivalents are NumPy array subclasses, all of the normal NumPy methods and functions work on them."
   ]
  },
  {
   "cell_type": "code",
   "execution_count": 29,
   "id": "amazing-watch",
   "metadata": {},
   "outputs": [
    {
     "data": {
      "text/plain": [
       "VectorNumpy4D([[[( 0. ,  0.1,  0.2,  0.3), ( 0.4,  0.5,  0.6,  0.7)],\n",
       "                [( 0.8,  0.9,  1. ,  1.1), ( 1.2,  1.3,  1.4,  1.5)],\n",
       "                [( 1.6,  1.7,  1.8,  1.9), ( 2. ,  2.1,  2.2,  2.3)],\n",
       "                [( 2.4,  2.5,  2.6,  2.7), ( 2.8,  2.9,  3. ,  3.1)],\n",
       "                [( 3.2,  3.3,  3.4,  3.5), ( 3.6,  3.7,  3.8,  3.9)]],\n",
       "\n",
       "               [[( 4. ,  4.1,  4.2,  4.3), ( 4.4,  4.5,  4.6,  4.7)],\n",
       "                [( 4.8,  4.9,  5. ,  5.1), ( 5.2,  5.3,  5.4,  5.5)],\n",
       "                [( 5.6,  5.7,  5.8,  5.9), ( 6. ,  6.1,  6.2,  6.3)],\n",
       "                [( 6.4,  6.5,  6.6,  6.7), ( 6.8,  6.9,  7. ,  7.1)],\n",
       "                [( 7.2,  7.3,  7.4,  7.5), ( 7.6,  7.7,  7.8,  7.9)]],\n",
       "\n",
       "               [[( 8. ,  8.1,  8.2,  8.3), ( 8.4,  8.5,  8.6,  8.7)],\n",
       "                [( 8.8,  8.9,  9. ,  9.1), ( 9.2,  9.3,  9.4,  9.5)],\n",
       "                [( 9.6,  9.7,  9.8,  9.9), (10. , 10.1, 10.2, 10.3)],\n",
       "                [(10.4, 10.5, 10.6, 10.7), (10.8, 10.9, 11. , 11.1)],\n",
       "                [(11.2, 11.3, 11.4, 11.5), (11.6, 11.7, 11.8, 11.9)]],\n",
       "\n",
       "               [[(12. , 12.1, 12.2, 12.3), (12.4, 12.5, 12.6, 12.7)],\n",
       "                [(12.8, 12.9, 13. , 13.1), (13.2, 13.3, 13.4, 13.5)],\n",
       "                [(13.6, 13.7, 13.8, 13.9), (14. , 14.1, 14.2, 14.3)],\n",
       "                [(14.4, 14.5, 14.6, 14.7), (14.8, 14.9, 15. , 15.1)],\n",
       "                [(15.2, 15.3, 15.4, 15.5), (15.6, 15.7, 15.8, 15.9)]],\n",
       "\n",
       "               [[(16. , 16.1, 16.2, 16.3), (16.4, 16.5, 16.6, 16.7)],\n",
       "                [(16.8, 16.9, 17. , 17.1), (17.2, 17.3, 17.4, 17.5)],\n",
       "                [(17.6, 17.7, 17.8, 17.9), (18. , 18.1, 18.2, 18.3)],\n",
       "                [(18.4, 18.5, 18.6, 18.7), (18.8, 18.9, 19. , 19.1)],\n",
       "                [(19.2, 19.3, 19.4, 19.5), (19.6, 19.7, 19.8, 19.9)]],\n",
       "\n",
       "               [[(20. , 20.1, 20.2, 20.3), (20.4, 20.5, 20.6, 20.7)],\n",
       "                [(20.8, 20.9, 21. , 21.1), (21.2, 21.3, 21.4, 21.5)],\n",
       "                [(21.6, 21.7, 21.8, 21.9), (22. , 22.1, 22.2, 22.3)],\n",
       "                [(22.4, 22.5, 22.6, 22.7), (22.8, 22.9, 23. , 23.1)],\n",
       "                [(23.2, 23.3, 23.4, 23.5), (23.6, 23.7, 23.8, 23.9)]]],\n",
       "              dtype=[('x', '<f8'), ('y', '<f8'), ('z', '<f8'), ('t', '<f8')])"
      ]
     },
     "execution_count": 29,
     "metadata": {},
     "output_type": "execute_result"
    }
   ],
   "source": [
    "np.arange(0, 24, 0.1).view(\n",
    "    [(\"x\", float), (\"y\", float), (\"z\", float), (\"t\", float)]\n",
    ").view(vector.VectorNumpy4D).reshape(6, 5, 2)"
   ]
  },
  {
   "cell_type": "markdown",
   "id": "identical-opposition",
   "metadata": {},
   "source": [
    "All of the keyword arguments and rules that apply to `vector.obj` construction apply to `vector.array` dtypes.\n",
    "\n",
    "Geometrical names are used in the dtype, even if momentum-synonyms are used in construction."
   ]
  },
  {
   "cell_type": "code",
   "execution_count": 30,
   "id": "heard-reservoir",
   "metadata": {},
   "outputs": [
    {
     "data": {
      "text/plain": [
       "MomentumNumpy3D([(1., 1.1, 0.1), (2., 2.2, 0.2), (3., 3.3, 0.3), (4., 4.4, 0.4)],\n",
       "                dtype=[('x', '<f8'), ('y', '<f8'), ('z', '<f8')])"
      ]
     },
     "execution_count": 30,
     "metadata": {},
     "output_type": "execute_result"
    }
   ],
   "source": [
    "vector.array(\n",
    "    {\"px\": [1, 2, 3, 4], \"py\": [1.1, 2.2, 3.3, 4.4], \"pz\": [0.1, 0.2, 0.3, 0.4]}\n",
    ")"
   ]
  },
  {
   "cell_type": "markdown",
   "id": "resident-casting",
   "metadata": {},
   "source": [
    "### Awkward Arrays of vectors\n",
    "\n",
    "[Awkward Arrays](https://awkward-array.org/) are arrays with more complex data structures than NumPy allows, such as variable-length lists, nested records, missing and even heterogeneous data (multiple data types: use sparingly).\n",
    "\n",
    "The `vector.Array` function behaves exactly like the [ak.Array](https://awkward-array.readthedocs.io/en/latest/_auto/ak.Array.html) constructor, except that it makes arrays of vectors."
   ]
  },
  {
   "cell_type": "code",
   "execution_count": 31,
   "id": "tracked-biography",
   "metadata": {},
   "outputs": [
    {
     "data": {
      "text/plain": [
       "<VectorArray3D [[{x: 1, y: 1.1, z: 0.1, ... z: 0.6}]] type='4 * var * Vector3D[\"...'>"
      ]
     },
     "execution_count": 31,
     "metadata": {},
     "output_type": "execute_result"
    }
   ],
   "source": [
    "vector.Array(\n",
    "    [\n",
    "        [{\"x\": 1, \"y\": 1.1, \"z\": 0.1}, {\"x\": 2, \"y\": 2.2, \"z\": 0.2}],\n",
    "        [],\n",
    "        [{\"x\": 3, \"y\": 3.3, \"z\": 0.3}],\n",
    "        [\n",
    "            {\"x\": 4, \"y\": 4.4, \"z\": 0.4},\n",
    "            {\"x\": 5, \"y\": 5.5, \"z\": 0.5},\n",
    "            {\"x\": 6, \"y\": 6.6, \"z\": 0.6},\n",
    "        ],\n",
    "    ]\n",
    ")"
   ]
  },
  {
   "cell_type": "markdown",
   "id": "hybrid-powell",
   "metadata": {},
   "source": [
    "If you want _any_ records named \"`Vector2D`\", \"`Vector3D`\", \"`Vector4D`\", \"`Momentum2D`\", \"`Momentum3D`\", or \"`Momentum4D`\" to be interpreted as vectors, register the behaviors globally."
   ]
  },
  {
   "cell_type": "code",
   "execution_count": 32,
   "id": "becoming-demand",
   "metadata": {},
   "outputs": [],
   "source": [
    "vector.register_awkward()"
   ]
  },
  {
   "cell_type": "code",
   "execution_count": 33,
   "id": "bored-ribbon",
   "metadata": {},
   "outputs": [
    {
     "data": {
      "text/plain": [
       "<VectorArray3D [[{x: 1, y: 1.1, z: 0.1, ... z: 0.6}]] type='4 * var * Vector3D[\"...'>"
      ]
     },
     "execution_count": 33,
     "metadata": {},
     "output_type": "execute_result"
    }
   ],
   "source": [
    "ak.Array(\n",
    "    [\n",
    "        [{\"x\": 1, \"y\": 1.1, \"z\": 0.1}, {\"x\": 2, \"y\": 2.2, \"z\": 0.2}],\n",
    "        [],\n",
    "        [{\"x\": 3, \"y\": 3.3, \"z\": 0.3}],\n",
    "        [\n",
    "            {\"x\": 4, \"y\": 4.4, \"z\": 0.4},\n",
    "            {\"x\": 5, \"y\": 5.5, \"z\": 0.5},\n",
    "            {\"x\": 6, \"y\": 6.6, \"z\": 0.6},\n",
    "        ],\n",
    "    ],\n",
    "    with_name=\"Vector3D\",\n",
    ")"
   ]
  },
  {
   "cell_type": "markdown",
   "id": "beginning-expert",
   "metadata": {},
   "source": [
    "All of the keyword arguments and rules that apply to `vector.obj` construction apply to `vector.Array` field names.\n",
    "\n",
    "Finally, the `VectorAwkward` mixins can be subclassed to create custom vector classes. The awkward behavior classes and projections must be named as `*Array`. For example, `coffea` uses the following names - `TwoVectorArray`, `ThreeVectorArray`, `PolarTwoVectorArray`, `SphericalThreeVectorArray`, ..."
   ]
  },
  {
   "cell_type": "markdown",
   "id": "documentary-skill",
   "metadata": {},
   "source": [
    "## Vector properties\n",
    "\n",
    "Any geometrical coordinate can be computed from vectors in any coordinate system; they'll be provided or computed as needed."
   ]
  },
  {
   "cell_type": "code",
   "execution_count": 34,
   "id": "colored-directory",
   "metadata": {},
   "outputs": [
    {
     "data": {
      "text/plain": [
       "5.0"
      ]
     },
     "execution_count": 34,
     "metadata": {},
     "output_type": "execute_result"
    }
   ],
   "source": [
    "vector.obj(x=3, y=4).rho"
   ]
  },
  {
   "cell_type": "code",
   "execution_count": 35,
   "id": "passive-benchmark",
   "metadata": {},
   "outputs": [
    {
     "data": {
      "text/plain": [
       "2.9999808719721477"
      ]
     },
     "execution_count": 35,
     "metadata": {},
     "output_type": "execute_result"
    }
   ],
   "source": [
    "vector.obj(rho=5, phi=0.9273).x"
   ]
  },
  {
   "cell_type": "code",
   "execution_count": 36,
   "id": "indoor-opportunity",
   "metadata": {},
   "outputs": [
    {
     "data": {
      "text/plain": [
       "4.000014345949428"
      ]
     },
     "execution_count": 36,
     "metadata": {},
     "output_type": "execute_result"
    }
   ],
   "source": [
    "vector.obj(rho=5, phi=0.9273).y"
   ]
  },
  {
   "cell_type": "code",
   "execution_count": 37,
   "id": "mature-clone",
   "metadata": {},
   "outputs": [
    {
     "data": {
      "text/plain": [
       "0.6405223126794245"
      ]
     },
     "execution_count": 37,
     "metadata": {},
     "output_type": "execute_result"
    }
   ],
   "source": [
    "vector.obj(x=1, y=2, z=3).theta"
   ]
  },
  {
   "cell_type": "code",
   "execution_count": 38,
   "id": "peripheral-script",
   "metadata": {},
   "outputs": [
    {
     "data": {
      "text/plain": [
       "1.103586841560145"
      ]
     },
     "execution_count": 38,
     "metadata": {},
     "output_type": "execute_result"
    }
   ],
   "source": [
    "vector.obj(x=1, y=2, z=3).eta"
   ]
  },
  {
   "cell_type": "markdown",
   "id": "caroline-capability",
   "metadata": {},
   "source": [
    "Some properties are not coordinates, but derived from them."
   ]
  },
  {
   "cell_type": "code",
   "execution_count": 39,
   "id": "stretch-knife",
   "metadata": {},
   "outputs": [
    {
     "data": {
      "text/plain": [
       "0.8017837257372732"
      ]
     },
     "execution_count": 39,
     "metadata": {},
     "output_type": "execute_result"
    }
   ],
   "source": [
    "vector.obj(x=1, y=2, z=3).costheta"
   ]
  },
  {
   "cell_type": "code",
   "execution_count": 40,
   "id": "bearing-protein",
   "metadata": {},
   "outputs": [
    {
     "data": {
      "text/plain": [
       "3.7416573867739413"
      ]
     },
     "execution_count": 40,
     "metadata": {},
     "output_type": "execute_result"
    }
   ],
   "source": [
    "vector.obj(x=1, y=2, z=3).mag  # spatial magnitude"
   ]
  },
  {
   "cell_type": "code",
   "execution_count": 41,
   "id": "green-crack",
   "metadata": {},
   "outputs": [
    {
     "data": {
      "text/plain": [
       "14"
      ]
     },
     "execution_count": 41,
     "metadata": {},
     "output_type": "execute_result"
    }
   ],
   "source": [
    "vector.obj(x=1, y=2, z=3).mag2  # spatial magnitude squared"
   ]
  },
  {
   "cell_type": "markdown",
   "id": "adjustable-serum",
   "metadata": {},
   "source": [
    "These properties are provided because they can be computed faster or with more numerical stability in different coordinate systems. For instance, the magnitude ignores `phi` in polar coordinates."
   ]
  },
  {
   "cell_type": "code",
   "execution_count": 42,
   "id": "amber-disco",
   "metadata": {},
   "outputs": [
    {
     "data": {
      "text/plain": [
       "25"
      ]
     },
     "execution_count": 42,
     "metadata": {},
     "output_type": "execute_result"
    }
   ],
   "source": [
    "vector.obj(rho=3, phi=0.123456789, z=4).mag2"
   ]
  },
  {
   "cell_type": "markdown",
   "id": "interpreted-intensity",
   "metadata": {},
   "source": [
    "Momentum vectors have geometrical properties as well as their momentum-synonyms."
   ]
  },
  {
   "cell_type": "code",
   "execution_count": 43,
   "id": "latest-thunder",
   "metadata": {},
   "outputs": [
    {
     "data": {
      "text/plain": [
       "5.0"
      ]
     },
     "execution_count": 43,
     "metadata": {},
     "output_type": "execute_result"
    }
   ],
   "source": [
    "vector.obj(px=3, py=4).rho"
   ]
  },
  {
   "cell_type": "code",
   "execution_count": 44,
   "id": "included-fireplace",
   "metadata": {},
   "outputs": [
    {
     "data": {
      "text/plain": [
       "5.0"
      ]
     },
     "execution_count": 44,
     "metadata": {},
     "output_type": "execute_result"
    }
   ],
   "source": [
    "vector.obj(px=3, py=4).pt"
   ]
  },
  {
   "cell_type": "code",
   "execution_count": 45,
   "id": "analyzed-andrews",
   "metadata": {},
   "outputs": [
    {
     "data": {
      "text/plain": [
       "1.4142135623730951"
      ]
     },
     "execution_count": 45,
     "metadata": {},
     "output_type": "execute_result"
    }
   ],
   "source": [
    "vector.obj(x=1, y=2, z=3, E=4).tau"
   ]
  },
  {
   "cell_type": "code",
   "execution_count": 46,
   "id": "declared-yeast",
   "metadata": {},
   "outputs": [
    {
     "data": {
      "text/plain": [
       "1.4142135623730951"
      ]
     },
     "execution_count": 46,
     "metadata": {},
     "output_type": "execute_result"
    }
   ],
   "source": [
    "vector.obj(x=1, y=2, z=3, E=4).mass"
   ]
  },
  {
   "cell_type": "markdown",
   "id": "alpine-investor",
   "metadata": {},
   "source": [
    "Here's the key thing: _arrays of vectors return arrays of coordinates_."
   ]
  },
  {
   "cell_type": "code",
   "execution_count": 47,
   "id": "attempted-country",
   "metadata": {},
   "outputs": [
    {
     "data": {
      "text/plain": [
       "array([1.50363023, 1.50363023, 1.50363023, 1.50363023, 1.50363023])"
      ]
     },
     "execution_count": 47,
     "metadata": {},
     "output_type": "execute_result"
    }
   ],
   "source": [
    "vector.array(\n",
    "    {\n",
    "        \"x\": [1.0, 2.0, 3.0, 4.0, 5.0],\n",
    "        \"y\": [1.1, 2.2, 3.3, 4.4, 5.5],\n",
    "        \"z\": [0.1, 0.2, 0.3, 0.4, 0.5],\n",
    "    }\n",
    ").theta"
   ]
  },
  {
   "cell_type": "code",
   "execution_count": 48,
   "id": "consecutive-attempt",
   "metadata": {},
   "outputs": [
    {
     "data": {
      "text/plain": [
       "<Array [[1.5, 1.5], [], [1.5], [1.5, 1.5]] type='4 * var * float64'>"
      ]
     },
     "execution_count": 48,
     "metadata": {},
     "output_type": "execute_result"
    }
   ],
   "source": [
    "vector.Array(\n",
    "    [\n",
    "        [{\"x\": 1, \"y\": 1.1, \"z\": 0.1}, {\"x\": 2, \"y\": 2.2, \"z\": 0.2}],\n",
    "        [],\n",
    "        [{\"x\": 3, \"y\": 3.3, \"z\": 0.3}],\n",
    "        [{\"x\": 4, \"y\": 4.4, \"z\": 0.4}, {\"x\": 5, \"y\": 5.5, \"z\": 0.5}],\n",
    "    ]\n",
    ").theta"
   ]
  },
  {
   "cell_type": "code",
   "execution_count": 49,
   "id": "latin-channels",
   "metadata": {},
   "outputs": [
    {
     "data": {
      "text/plain": [
       "MomentumNumpy3D([[[(-1.28111366, -0.03739087, -0.07545124),\n",
       "                   ( 1.06708043,  0.97346557, -0.19277744)],\n",
       "                  [(-0.23630574,  0.44316921, -1.22301664),\n",
       "                   (-0.21826562,  0.31016588, -0.28959995)],\n",
       "                  [(-1.58731867, -0.16787318,  0.78579993),\n",
       "                   ( 1.32631401, -0.42905606, -1.10015408)],\n",
       "                  [(-1.98659247,  0.38280964,  1.58770278),\n",
       "                   ( 0.74213839,  0.30165301, -0.25113917)],\n",
       "                  [( 0.78490232,  1.26226008, -0.76560468),\n",
       "                   ( 0.25209577, -0.68758547,  1.45163241)]],\n",
       "\n",
       "                 [[(-0.14200396, -0.14399414, -0.35272254),\n",
       "                   (-0.67984015,  1.30776276,  0.36465356)],\n",
       "                  [(-0.22503716,  0.63175451, -0.01989071),\n",
       "                   ( 0.82195282,  0.13522461,  0.09509848)],\n",
       "                  [( 0.03447106,  0.96871536,  0.21010707),\n",
       "                   (-0.8698646 , -0.77621204,  0.40058609)],\n",
       "                  [( 0.20848069,  1.01548712, -0.85426311),\n",
       "                   ( 0.06095666,  0.71386182,  0.37158603)],\n",
       "                  [( 0.66663264, -0.04903835, -1.11774726),\n",
       "                   (-2.39836887,  1.88709819,  1.37915756)]],\n",
       "\n",
       "                 [[( 0.04679556,  1.18193822, -0.68347002),\n",
       "                   ( 1.32968718, -1.22745787, -2.07644921)],\n",
       "                  [(-0.48392287,  1.21293123, -0.89212269),\n",
       "                   ( 0.08891877,  0.47951847, -0.32271716)],\n",
       "                  [(-2.51062534,  0.28547534, -0.02872058),\n",
       "                   ( 1.23980306, -1.18747183, -1.13954732)],\n",
       "                  [( 0.98850636,  0.31716296, -1.75326658),\n",
       "                   ( 0.47257719, -1.95447454,  1.64815549)],\n",
       "                  [(-1.11751157,  0.57985208,  0.68405595),\n",
       "                   ( 0.90640743,  0.3252713 ,  0.45997663)]],\n",
       "\n",
       "                 [[( 1.23167693, -0.0138671 , -0.28351331),\n",
       "                   (-0.55242017, -0.76347505,  2.65230372)],\n",
       "                  [(-1.55964887, -1.83923968,  0.13636228),\n",
       "                   ( 2.98497113, -0.83197579, -0.69486487)],\n",
       "                  [( 1.91190798, -1.51432909,  0.28146617),\n",
       "                   ( 1.03501284, -1.16765322, -0.24032661)],\n",
       "                  [( 0.42566688, -0.49780587, -0.92254891),\n",
       "                   ( 1.3981141 , -0.08558606, -0.99102221)],\n",
       "                  [( 1.3275643 ,  0.89537104,  0.61550022),\n",
       "                   ( 0.50082994, -0.85531455, -0.81540409)]],\n",
       "\n",
       "                 [[(-0.831434  , -0.38982444, -1.37106712),\n",
       "                   ( 1.37606582, -1.27148566, -0.63527537)],\n",
       "                  [( 1.26147372, -0.11481016, -0.771715  ),\n",
       "                   ( 3.17139268,  0.12957072, -0.9483    )],\n",
       "                  [( 1.78684372, -0.50542474, -0.85576546),\n",
       "                   (-1.63062017,  1.75286287, -1.89527705)],\n",
       "                  [(-0.94314179,  0.39386664,  0.40824193),\n",
       "                   ( 1.08814245, -1.53473737,  0.83560381)],\n",
       "                  [(-0.09420044, -0.96442976,  0.63416259),\n",
       "                   ( 2.41228061, -0.92962671,  0.59070564)]]],\n",
       "                dtype=[('x', '<f8'), ('y', '<f8'), ('z', '<f8')])"
      ]
     },
     "execution_count": 49,
     "metadata": {},
     "output_type": "execute_result"
    }
   ],
   "source": [
    "# Make a large, random NumPy array of 3D momentum vectors.\n",
    "array = (\n",
    "    np.random.normal(0, 1, 150)\n",
    "    .view([(x, float) for x in (\"x\", \"y\", \"z\")])\n",
    "    .view(vector.MomentumNumpy3D)\n",
    "    .reshape(5, 5, 2)\n",
    ")\n",
    "array"
   ]
  },
  {
   "cell_type": "code",
   "execution_count": 50,
   "id": "coral-consultation",
   "metadata": {},
   "outputs": [
    {
     "data": {
      "text/plain": [
       "array([[[1.28165919, 1.44440156],\n",
       "        [0.50223436, 0.37926607],\n",
       "        [1.59617103, 1.39398635],\n",
       "        [2.02313936, 0.8011017 ],\n",
       "        [1.48639569, 0.73234286]],\n",
       "\n",
       "       [[0.20223609, 1.47391522],\n",
       "        [0.67063811, 0.83300188],\n",
       "        [0.96932848, 1.16583427],\n",
       "        [1.03666692, 0.71645964],\n",
       "        [0.66843387, 3.05177208]],\n",
       "\n",
       "       [[1.18286423, 1.80961898],\n",
       "        [1.30590333, 0.48769305],\n",
       "        [2.52680347, 1.71674138],\n",
       "        [1.03814121, 2.01079584],\n",
       "        [1.25899188, 0.96300356]],\n",
       "\n",
       "       [[1.23175499, 0.94237052],\n",
       "        [2.41149481, 3.09874755],\n",
       "        [2.43897206, 1.56034151],\n",
       "        [0.65498318, 1.40073124],\n",
       "        [1.60128582, 0.99115771]],\n",
       "\n",
       "       [[0.91828405, 1.87356156],\n",
       "        [1.26668754, 3.17403845],\n",
       "        [1.85695036, 2.39404478],\n",
       "        [1.02207992, 1.88134866],\n",
       "        [0.96901934, 2.58520861]]])"
      ]
     },
     "execution_count": 50,
     "metadata": {},
     "output_type": "execute_result"
    }
   ],
   "source": [
    "# Get the transverse momentum of each one.\n",
    "array.pt"
   ]
  },
  {
   "cell_type": "code",
   "execution_count": 51,
   "id": "ignored-seating",
   "metadata": {},
   "outputs": [
    {
     "data": {
      "text/plain": [
       "(5, 5, 2)"
      ]
     },
     "execution_count": 51,
     "metadata": {},
     "output_type": "execute_result"
    }
   ],
   "source": [
    "# The array and its components have the same shape.\n",
    "array.shape"
   ]
  },
  {
   "cell_type": "code",
   "execution_count": 52,
   "id": "reduced-nutrition",
   "metadata": {},
   "outputs": [
    {
     "data": {
      "text/plain": [
       "(5, 5, 2)"
      ]
     },
     "execution_count": 52,
     "metadata": {},
     "output_type": "execute_result"
    }
   ],
   "source": [
    "array.pt.shape"
   ]
  },
  {
   "cell_type": "code",
   "execution_count": 53,
   "id": "colored-talent",
   "metadata": {},
   "outputs": [
    {
     "data": {
      "text/plain": [
       "<MomentumArray3D [[], [{x: -0.0764, ... z: 0.0521}]] type='50 * var * Momentum3D...'>"
      ]
     },
     "execution_count": 53,
     "metadata": {},
     "output_type": "execute_result"
    }
   ],
   "source": [
    "# Make a large, random Awkward Array of 3D momentum vectors.\n",
    "array = vector.Array(\n",
    "    [\n",
    "        [\n",
    "            {x: np.random.normal(0, 1) for x in (\"px\", \"py\", \"pz\")}\n",
    "            for inner in range(np.random.poisson(1.5))\n",
    "        ]\n",
    "        for outer in range(50)\n",
    "    ]\n",
    ")\n",
    "array"
   ]
  },
  {
   "cell_type": "code",
   "execution_count": 54,
   "id": "conditional-modeling",
   "metadata": {},
   "outputs": [
    {
     "data": {
      "text/plain": [
       "<Array [[], [0.586, ... 0.433, 2.5, 0.772]] type='50 * var * float64'>"
      ]
     },
     "execution_count": 54,
     "metadata": {},
     "output_type": "execute_result"
    }
   ],
   "source": [
    "# Get the transverse momentum of each one, in the same nested structure.\n",
    "array.pt"
   ]
  },
  {
   "cell_type": "code",
   "execution_count": 55,
   "id": "general-october",
   "metadata": {},
   "outputs": [
    {
     "data": {
      "text/plain": [
       "<Array [0, 2, 2, 5, 2, 2, ... 0, 1, 2, 1, 0, 3] type='50 * int64'>"
      ]
     },
     "execution_count": 55,
     "metadata": {},
     "output_type": "execute_result"
    }
   ],
   "source": [
    "# The array and its components have the same list lengths (and can therefore be used together in subsequent calculations).\n",
    "ak.num(array)"
   ]
  },
  {
   "cell_type": "code",
   "execution_count": 56,
   "id": "ongoing-rally",
   "metadata": {},
   "outputs": [
    {
     "data": {
      "text/plain": [
       "<Array [0, 2, 2, 5, 2, 2, ... 0, 1, 2, 1, 0, 3] type='50 * int64'>"
      ]
     },
     "execution_count": 56,
     "metadata": {},
     "output_type": "execute_result"
    }
   ],
   "source": [
    "ak.num(array.pt)"
   ]
  },
  {
   "cell_type": "markdown",
   "id": "brown-blood",
   "metadata": {},
   "source": [
    "## Vector methods\n",
    "\n",
    "Vector methods require arguments (in parentheses), which may be scalars or other vectors, depending on the calculation."
   ]
  },
  {
   "cell_type": "code",
   "execution_count": 57,
   "id": "unique-trance",
   "metadata": {},
   "outputs": [
    {
     "data": {
      "text/plain": [
       "VectorObject2D(x=2.585678829246765, y=4.279516911052588)"
      ]
     },
     "execution_count": 57,
     "metadata": {},
     "output_type": "execute_result"
    }
   ],
   "source": [
    "vector.obj(x=3, y=4).rotateZ(0.1)"
   ]
  },
  {
   "cell_type": "code",
   "execution_count": 58,
   "id": "pharmaceutical-notebook",
   "metadata": {},
   "outputs": [
    {
     "data": {
      "text/plain": [
       "VectorObject2D(rho=5, phi=0.5)"
      ]
     },
     "execution_count": 58,
     "metadata": {},
     "output_type": "execute_result"
    }
   ],
   "source": [
    "vector.obj(rho=5, phi=0.4).rotateZ(0.1)"
   ]
  },
  {
   "cell_type": "code",
   "execution_count": 59,
   "id": "approved-ancient",
   "metadata": {},
   "outputs": [
    {
     "name": "stdout",
     "output_type": "stream",
     "text": [
      "[(1., 0.6) (2., 0.7) (3., 0.8) (4., 0.9) (5., 1. )]\n"
     ]
    }
   ],
   "source": [
    "# Broadcasts a scalar rotation angle of 0.5 to all elements of the NumPy array.\n",
    "print(\n",
    "    vector.array({\"rho\": [1, 2, 3, 4, 5], \"phi\": [0.1, 0.2, 0.3, 0.4, 0.5]}).rotateZ(\n",
    "        0.5\n",
    "    )\n",
    ")"
   ]
  },
  {
   "cell_type": "code",
   "execution_count": 60,
   "id": "derived-lincoln",
   "metadata": {},
   "outputs": [
    {
     "name": "stdout",
     "output_type": "stream",
     "text": [
      "[(1., 0.2) (2., 0.4) (3., 0.6) (4., 0.8) (5., 1. )]\n"
     ]
    }
   ],
   "source": [
    "# Matches each rotation angle to an element of the NumPy array.\n",
    "print(\n",
    "    vector.array({\"rho\": [1, 2, 3, 4, 5], \"phi\": [0.1, 0.2, 0.3, 0.4, 0.5]}).rotateZ(\n",
    "        np.array([0.1, 0.2, 0.3, 0.4, 0.5])\n",
    "    )\n",
    ")"
   ]
  },
  {
   "cell_type": "code",
   "execution_count": 61,
   "id": "dangerous-effect",
   "metadata": {},
   "outputs": [
    {
     "name": "stdout",
     "output_type": "stream",
     "text": [
      "[[{rho: 1, phi: 0.6}, {rho: 2, phi: 0.7}], [], [{rho: 3, phi: 0.8}]]\n"
     ]
    }
   ],
   "source": [
    "# Broadcasts a scalar rotation angle of 0.5 to all elements of the Awkward Array.\n",
    "print(\n",
    "    vector.Array(\n",
    "        [[{\"rho\": 1, \"phi\": 0.1}, {\"rho\": 2, \"phi\": 0.2}], [], [{\"rho\": 3, \"phi\": 0.3}]]\n",
    "    ).rotateZ(0.5)\n",
    ")"
   ]
  },
  {
   "cell_type": "code",
   "execution_count": 62,
   "id": "weird-insert",
   "metadata": {},
   "outputs": [
    {
     "name": "stdout",
     "output_type": "stream",
     "text": [
      "[[{rho: 1, phi: 0.2}, {rho: 2, phi: 0.3}], [], [{rho: 3, phi: 0.6}]]\n"
     ]
    }
   ],
   "source": [
    "# Broadcasts a rotation angle of 0.1 to both elements of the first list, 0.2 to the empty list, and 0.3 to the only element of the last list.\n",
    "print(\n",
    "    vector.Array(\n",
    "        [[{\"rho\": 1, \"phi\": 0.1}, {\"rho\": 2, \"phi\": 0.2}], [], [{\"rho\": 3, \"phi\": 0.3}]]\n",
    "    ).rotateZ([0.1, 0.2, 0.3])\n",
    ")"
   ]
  },
  {
   "cell_type": "code",
   "execution_count": 63,
   "id": "satellite-southeast",
   "metadata": {},
   "outputs": [
    {
     "name": "stdout",
     "output_type": "stream",
     "text": [
      "[[{rho: 1, phi: 0.2}, {rho: 2, phi: 0.4}], [], [{rho: 3, phi: 0.6}]]\n"
     ]
    }
   ],
   "source": [
    "# Matches each rotation angle to an element of the Awkward Array.\n",
    "print(\n",
    "    vector.Array(\n",
    "        [[{\"rho\": 1, \"phi\": 0.1}, {\"rho\": 2, \"phi\": 0.2}], [], [{\"rho\": 3, \"phi\": 0.3}]]\n",
    "    ).rotateZ([[0.1, 0.2], [], [0.3]])\n",
    ")"
   ]
  },
  {
   "cell_type": "markdown",
   "id": "animal-specific",
   "metadata": {},
   "source": [
    "Some methods are equivalent to binary operators."
   ]
  },
  {
   "cell_type": "code",
   "execution_count": 64,
   "id": "statutory-bathroom",
   "metadata": {},
   "outputs": [
    {
     "data": {
      "text/plain": [
       "VectorObject2D(x=30, y=40)"
      ]
     },
     "execution_count": 64,
     "metadata": {},
     "output_type": "execute_result"
    }
   ],
   "source": [
    "vector.obj(x=3, y=4).scale(10)"
   ]
  },
  {
   "cell_type": "code",
   "execution_count": 65,
   "id": "foreign-celebration",
   "metadata": {},
   "outputs": [
    {
     "data": {
      "text/plain": [
       "VectorObject2D(x=30, y=40)"
      ]
     },
     "execution_count": 65,
     "metadata": {},
     "output_type": "execute_result"
    }
   ],
   "source": [
    "vector.obj(x=3, y=4) * 10"
   ]
  },
  {
   "cell_type": "code",
   "execution_count": 66,
   "id": "solved-resident",
   "metadata": {},
   "outputs": [
    {
     "data": {
      "text/plain": [
       "VectorObject2D(x=30, y=40)"
      ]
     },
     "execution_count": 66,
     "metadata": {},
     "output_type": "execute_result"
    }
   ],
   "source": [
    "10 * vector.obj(x=3, y=4)"
   ]
  },
  {
   "cell_type": "code",
   "execution_count": 67,
   "id": "comic-threshold",
   "metadata": {},
   "outputs": [
    {
     "data": {
      "text/plain": [
       "VectorObject2D(rho=50, phi=0.5)"
      ]
     },
     "execution_count": 67,
     "metadata": {},
     "output_type": "execute_result"
    }
   ],
   "source": [
    "vector.obj(rho=5, phi=0.5) * 10"
   ]
  },
  {
   "cell_type": "markdown",
   "id": "novel-fancy",
   "metadata": {},
   "source": [
    "Some methods involve more than one vector."
   ]
  },
  {
   "cell_type": "code",
   "execution_count": 68,
   "id": "prescription-arkansas",
   "metadata": {},
   "outputs": [
    {
     "data": {
      "text/plain": [
       "VectorObject2D(x=6, y=7)"
      ]
     },
     "execution_count": 68,
     "metadata": {},
     "output_type": "execute_result"
    }
   ],
   "source": [
    "vector.obj(x=1, y=2).add(vector.obj(x=5, y=5))"
   ]
  },
  {
   "cell_type": "code",
   "execution_count": 69,
   "id": "sought-allah",
   "metadata": {},
   "outputs": [
    {
     "data": {
      "text/plain": [
       "VectorObject2D(x=6, y=7)"
      ]
     },
     "execution_count": 69,
     "metadata": {},
     "output_type": "execute_result"
    }
   ],
   "source": [
    "vector.obj(x=1, y=2) + vector.obj(x=5, y=5)"
   ]
  },
  {
   "cell_type": "code",
   "execution_count": 70,
   "id": "egyptian-nursing",
   "metadata": {},
   "outputs": [
    {
     "data": {
      "text/plain": [
       "15"
      ]
     },
     "execution_count": 70,
     "metadata": {},
     "output_type": "execute_result"
    }
   ],
   "source": [
    "vector.obj(x=1, y=2).dot(vector.obj(x=5, y=5))"
   ]
  },
  {
   "cell_type": "code",
   "execution_count": 71,
   "id": "hourly-section",
   "metadata": {},
   "outputs": [
    {
     "data": {
      "text/plain": [
       "15"
      ]
     },
     "execution_count": 71,
     "metadata": {},
     "output_type": "execute_result"
    }
   ],
   "source": [
    "vector.obj(x=1, y=2) @ vector.obj(x=5, y=5)"
   ]
  },
  {
   "cell_type": "markdown",
   "id": "earned-precipitation",
   "metadata": {},
   "source": [
    "The vectors can use different coordinate systems. Conversions are necessary, but minimized for speed and numeric stability."
   ]
  },
  {
   "cell_type": "code",
   "execution_count": 72,
   "id": "unlike-melissa",
   "metadata": {},
   "outputs": [
    {
     "data": {
      "text/plain": [
       "50"
      ]
     },
     "execution_count": 72,
     "metadata": {},
     "output_type": "execute_result"
    }
   ],
   "source": [
    "vector.obj(x=3, y=4) @ vector.obj(x=6, y=8)  # both are Cartesian, dot product is exact"
   ]
  },
  {
   "cell_type": "code",
   "execution_count": 73,
   "id": "seasonal-section",
   "metadata": {},
   "outputs": [
    {
     "data": {
      "text/plain": [
       "49.99999999942831"
      ]
     },
     "execution_count": 73,
     "metadata": {},
     "output_type": "execute_result"
    }
   ],
   "source": [
    "vector.obj(rho=5, phi=0.9273) @ vector.obj(\n",
    "    x=6, y=8\n",
    ")  # one is polar, dot product is approximate"
   ]
  },
  {
   "cell_type": "code",
   "execution_count": 74,
   "id": "second-joseph",
   "metadata": {},
   "outputs": [
    {
     "data": {
      "text/plain": [
       "49.99999999942831"
      ]
     },
     "execution_count": 74,
     "metadata": {},
     "output_type": "execute_result"
    }
   ],
   "source": [
    "vector.obj(x=3, y=4) @ vector.obj(\n",
    "    rho=10, phi=0.9273\n",
    ")  # one is polar, dot product is approximate"
   ]
  },
  {
   "cell_type": "code",
   "execution_count": 75,
   "id": "material-technician",
   "metadata": {},
   "outputs": [
    {
     "data": {
      "text/plain": [
       "50.0"
      ]
     },
     "execution_count": 75,
     "metadata": {},
     "output_type": "execute_result"
    }
   ],
   "source": [
    "vector.obj(rho=5, phi=0.9273) @ vector.obj(\n",
    "    rho=10, phi=0.9273\n",
    ")  # both are polar, a formula that depends on phi differences is used"
   ]
  },
  {
   "cell_type": "markdown",
   "id": "attractive-ebony",
   "metadata": {},
   "source": [
    "In Python, some \"operators\" are actually built-in functions, such as `abs`."
   ]
  },
  {
   "cell_type": "code",
   "execution_count": 76,
   "id": "focal-tactics",
   "metadata": {},
   "outputs": [
    {
     "data": {
      "text/plain": [
       "5.0"
      ]
     },
     "execution_count": 76,
     "metadata": {},
     "output_type": "execute_result"
    }
   ],
   "source": [
    "abs(vector.obj(x=3, y=4))"
   ]
  },
  {
   "cell_type": "markdown",
   "id": "stone-resource",
   "metadata": {},
   "source": [
    "Note that `abs` returns\n",
    "\n",
    "   * `rho` for 2D vectors\n",
    "   * `mag` for 3D vectors\n",
    "   * `tau` (`mass`) for 4D vectors\n",
    "\n",
    "Use the named properties when you want magnitude in a specific number of dimensions; use `abs` when you want the magnitude for any number of dimensions."
   ]
  },
  {
   "cell_type": "markdown",
   "id": "shared-resolution",
   "metadata": {},
   "source": [
    "The vectors can be from different backends. Normal rules for broadcasting Python numbers, NumPy arrays, and Awkward Arrays apply."
   ]
  },
  {
   "cell_type": "code",
   "execution_count": 77,
   "id": "purple-disco",
   "metadata": {},
   "outputs": [
    {
     "data": {
      "text/plain": [
       "VectorNumpy2D([(11., 5.1), (12., 5.2), (13., 5.3), (14., 5.4), (15., 5.5)],\n",
       "              dtype=[('x', '<f8'), ('y', '<f8')])"
      ]
     },
     "execution_count": 77,
     "metadata": {},
     "output_type": "execute_result"
    }
   ],
   "source": [
    "vector.array({\"x\": [1, 2, 3, 4, 5], \"y\": [0.1, 0.2, 0.3, 0.4, 0.5]}) + vector.obj(\n",
    "    x=10, y=5\n",
    ")"
   ]
  },
  {
   "cell_type": "code",
   "execution_count": 78,
   "id": "abroad-diversity",
   "metadata": {},
   "outputs": [
    {
     "data": {
      "text/plain": [
       "<VectorArray2D [[{x: 11, y: 6.1}, ... x: 15, y: 10.5}]] type='4 * var * Vector2D...'>"
      ]
     },
     "execution_count": 78,
     "metadata": {},
     "output_type": "execute_result"
    }
   ],
   "source": [
    "(\n",
    "    vector.Array(\n",
    "        [  # an Awkward Array of vectors\n",
    "            [{\"x\": 1, \"y\": 1.1}, {\"x\": 2, \"y\": 2.2}],\n",
    "            [],\n",
    "            [{\"x\": 3, \"y\": 3.3}],\n",
    "            [{\"x\": 4, \"y\": 4.4}, {\"x\": 5, \"y\": 5.5}],\n",
    "        ]\n",
    "    )\n",
    "    + vector.obj(x=10, y=5)  # and a single vector object\n",
    ")"
   ]
  },
  {
   "cell_type": "code",
   "execution_count": 79,
   "id": "empirical-starter",
   "metadata": {},
   "outputs": [
    {
     "data": {
      "text/plain": [
       "<VectorArray2D [[{x: 5, y: 1.2}, ... x: 6, y: 5.6}]] type='4 * var * Vector2D[\"x...'>"
      ]
     },
     "execution_count": 79,
     "metadata": {},
     "output_type": "execute_result"
    }
   ],
   "source": [
    "(\n",
    "    vector.Array(\n",
    "        [  # an Awkward Array of vectors\n",
    "            [{\"x\": 1, \"y\": 1.1}, {\"x\": 2, \"y\": 2.2}],\n",
    "            [],\n",
    "            [{\"x\": 3, \"y\": 3.3}],\n",
    "            [{\"x\": 4, \"y\": 4.4}, {\"x\": 5, \"y\": 5.5}],\n",
    "        ]\n",
    "    )\n",
    "    + vector.array(\n",
    "        {\"x\": [4, 3, 2, 1], \"y\": [0.1, 0.1, 0.1, 0.1]}\n",
    "    )  # and a NumPy array of vectors\n",
    ")"
   ]
  },
  {
   "cell_type": "markdown",
   "id": "pregnant-chest",
   "metadata": {},
   "source": [
    "Some operations are defined for 2D or 3D vectors, but are usable on higher-dimensional vectors because the additional components can be ignored or are passed through unaffected."
   ]
  },
  {
   "cell_type": "code",
   "execution_count": 80,
   "id": "blocked-keyboard",
   "metadata": {},
   "outputs": [
    {
     "data": {
      "text/plain": [
       "0.20000000000000018"
      ]
     },
     "execution_count": 80,
     "metadata": {},
     "output_type": "execute_result"
    }
   ],
   "source": [
    "vector.obj(rho=1, phi=0.5).deltaphi(\n",
    "    vector.obj(rho=2, phi=0.3)\n",
    ")  # deltaphi is a planar operation (defined on the transverse plane)"
   ]
  },
  {
   "cell_type": "code",
   "execution_count": 81,
   "id": "exposed-pendant",
   "metadata": {},
   "outputs": [
    {
     "data": {
      "text/plain": [
       "0.20000000000000018"
      ]
     },
     "execution_count": 81,
     "metadata": {},
     "output_type": "execute_result"
    }
   ],
   "source": [
    "vector.obj(rho=1, phi=0.5, z=10).deltaphi(\n",
    "    vector.obj(rho=2, phi=0.3, theta=1.4)\n",
    ")  # but we can use it on 3D vectors"
   ]
  },
  {
   "cell_type": "code",
   "execution_count": 82,
   "id": "liked-depression",
   "metadata": {},
   "outputs": [
    {
     "data": {
      "text/plain": [
       "0.20000000000000018"
      ]
     },
     "execution_count": 82,
     "metadata": {},
     "output_type": "execute_result"
    }
   ],
   "source": [
    "vector.obj(rho=1, phi=0.5, z=10, t=100).deltaphi(\n",
    "    vector.obj(rho=2, phi=0.3, theta=1.4, tau=1000)\n",
    ")  # and 4D vectors"
   ]
  },
  {
   "cell_type": "code",
   "execution_count": 83,
   "id": "several-senator",
   "metadata": {},
   "outputs": [
    {
     "data": {
      "text/plain": [
       "0.20000000000000018"
      ]
     },
     "execution_count": 83,
     "metadata": {},
     "output_type": "execute_result"
    }
   ],
   "source": [
    "vector.obj(rho=1, phi=0.5).deltaphi(\n",
    "    vector.obj(rho=2, phi=0.3, theta=1.4, tau=1000)\n",
    ")  # and mixed dimensionality"
   ]
  },
  {
   "cell_type": "markdown",
   "id": "breathing-helicopter",
   "metadata": {},
   "source": [
    "This is especially useful for giving 4D vectors all the capabilities of 3D vectors."
   ]
  },
  {
   "cell_type": "code",
   "execution_count": 84,
   "id": "considerable-general",
   "metadata": {},
   "outputs": [
    {
     "data": {
      "text/plain": [
       "VectorObject3D(x=1, y=-0.7071067811865472, z=3.5355339059327378)"
      ]
     },
     "execution_count": 84,
     "metadata": {},
     "output_type": "execute_result"
    }
   ],
   "source": [
    "vector.obj(x=1, y=2, z=3).rotateX(np.pi / 4)"
   ]
  },
  {
   "cell_type": "code",
   "execution_count": 85,
   "id": "formed-fisher",
   "metadata": {},
   "outputs": [
    {
     "data": {
      "text/plain": [
       "VectorObject4D(x=1, y=-0.7071067811865472, z=3.5355339059327378, tau=10)"
      ]
     },
     "execution_count": 85,
     "metadata": {},
     "output_type": "execute_result"
    }
   ],
   "source": [
    "vector.obj(x=1, y=2, z=3, tau=10).rotateX(np.pi / 4)"
   ]
  },
  {
   "cell_type": "code",
   "execution_count": 86,
   "id": "tribal-danger",
   "metadata": {},
   "outputs": [
    {
     "data": {
      "text/plain": [
       "1.4142135623730951"
      ]
     },
     "execution_count": 86,
     "metadata": {},
     "output_type": "execute_result"
    }
   ],
   "source": [
    "vector.obj(pt=1, phi=1.3, eta=2).deltaR(vector.obj(pt=2, phi=0.3, eta=1))"
   ]
  },
  {
   "cell_type": "code",
   "execution_count": 87,
   "id": "strategic-hypothesis",
   "metadata": {},
   "outputs": [
    {
     "data": {
      "text/plain": [
       "1.4142135623730951"
      ]
     },
     "execution_count": 87,
     "metadata": {},
     "output_type": "execute_result"
    }
   ],
   "source": [
    "vector.obj(pt=1, phi=1.3, eta=2, mass=5).deltaR(\n",
    "    vector.obj(pt=2, phi=0.3, eta=1, mass=10)\n",
    ")"
   ]
  },
  {
   "cell_type": "markdown",
   "id": "sensitive-booking",
   "metadata": {},
   "source": [
    "For a few operations - `+`, `-`, `==`, `!=`, ... - the dimension of the vectors should be equal. This can be achieved by using the `like` method, `to_{coordinate_name}` methods, `to_Vector*D` methods. The `to_Vector*D` methods provide more flexibility to the users, that is, new coordinate values can be passed into the methods as named arguments."
   ]
  },
  {
   "cell_type": "code",
   "execution_count": 88,
   "id": "loaded-kidney",
   "metadata": {},
   "outputs": [
    {
     "name": "stdout",
     "output_type": "stream",
     "text": [
      "VectorObject3D(x=0, y=0, z=3.0)\n",
      "VectorObject2D(x=0, y=0)\n",
      "VectorObject3D(x=0, y=0, z=3)\n",
      "VectorObject2D(x=0, y=0)\n",
      "VectorObject3D(x=0, y=0, z=0)\n",
      "VectorObject2D(x=0, y=0)\n"
     ]
    }
   ],
   "source": [
    "v1 = vector.obj(x=1, y=2, z=3)\n",
    "v2 = vector.obj(x=1, y=2)\n",
    "\n",
    "print(v1 - v2.like(v1))           # transforms v2 to v1's coordinate system (imputes z=0)\n",
    "print(v1.like(v2) - v2)           # transforms v1 to v2's coordinate system (removes z)\n",
    "print(v1 - v2.to_xyz())           # transforms v2 to xyz coordinates (imputes z=0)\n",
    "print(v1.to_xy() - v2)            # transforms v1 to xy coordinates (removes z)\n",
    "print(v1 - v2.to_Vector3D(z=3))   # transforms v2 to 3D (imputes z=3)\n",
    "print(v1.to_Vector2D() - v2)      # transforms v1 to 2D (removes z)"
   ]
  },
  {
   "cell_type": "markdown",
   "id": "willing-detail",
   "metadata": {},
   "source": [
    "Similarly, for a few vector methods, the dimension of the input vectors are type checked strictly.\n",
    "\n",
    "For instance, a cross-product is only defined for 3D and 7D vectors; hence, running the method on a 4D vector will error out."
   ]
  },
  {
   "cell_type": "code",
   "execution_count": 89,
   "id": "preceding-possibility",
   "metadata": {},
   "outputs": [
    {
     "data": {
      "text/plain": [
       "VectorObject3D(x=-0.03, y=0.06, z=-0.030000000000000013)"
      ]
     },
     "execution_count": 89,
     "metadata": {},
     "output_type": "execute_result"
    }
   ],
   "source": [
    "vector.obj(x=0.1, y=0.2, z=0.3).cross(vector.obj(x=0.4, y=0.5, z=0.6))"
   ]
  },
  {
   "cell_type": "markdown",
   "id": "operational-accused",
   "metadata": {},
   "source": [
    "The (current) list of properties and methods is:\n",
    "\n",
    "**Planar (2D, 3D, 4D):**\n",
    "\n",
    "   * `x` (`px`)\n",
    "   * `y` (`py`)\n",
    "   * `rho` (`pt`): two-dimensional magnitude\n",
    "   * `rho2` (`pt2`): two-dimensional magnitude squared\n",
    "   * `phi`\n",
    "   * `deltaphi(vector)`: difference in `phi` (signed and rectified to $-\\pi$ through $\\pi$)\n",
    "   * `rotateZ(angle)`\n",
    "   * `transform2D(obj)`: the `obj` must supply components through `obj[\"xx\"]`, `obj[\"xy\"]`, `obj[\"yx\"]`, `obj[\"yy\"]`\n",
    "   * `is_parallel(vector, tolerance=1e-5)`: only true _if they're pointing in the same direction_\n",
    "   * `is_antiparallel(vector, tolerance=1e-5)`: only true _if they're pointing in opposite directions_\n",
    "   * `is_perpendicular(vector, tolerance=1e-5)`\n",
    "\n",
    "**Spatial (3D, 4D):**\n",
    "\n",
    "   * `z` (`pz`)\n",
    "   * `theta`\n",
    "   * `eta`\n",
    "   * `costheta`\n",
    "   * `cottheta`\n",
    "   * `mag` (`p`): three-dimensional magnitude, does not include temporal component\n",
    "   * `mag2` (`p2`): three-dimensional magnitude squared\n",
    "   * `cross`: cross-product (strictly 3D)\n",
    "   * `deltaangle(vector)`: difference in angle (always non-negative)\n",
    "   * `deltaeta(vector)`: difference in `eta` (signed)\n",
    "   * `deltaR(vector)`: $\\Delta R = \\sqrt{\\Delta\\phi^2 + \\Delta\\eta^2}$\n",
    "   * `deltaR2(vector)`: the above, squared\n",
    "   * `rotateX(angle)`\n",
    "   * `rotateY(angle)`\n",
    "   * `rotate_axis(axis, angle)`: the magnitude of `axis` is ignored, but it must be at least 3D\n",
    "   * `rotate_euler(phi, theta, psi, order=\"zxz\")`: the arguments are in the same order as [ROOT::Math::EulerAngles](https://root.cern.ch/doc/master/classROOT_1_1Math_1_1EulerAngles.html), and `order=\"zxz\"` agrees with ROOT's choice of conventions\n",
    "   * `rotate_nautical(yaw, pitch, roll)`\n",
    "   * `rotate_quaternion(u, i, j, k)`: again, the conventions match [ROOT::Math::Quaternion](https://root.cern.ch/doc/master/classROOT_1_1Math_1_1Quaternion.html).\n",
    "   * `transform3D(obj)`: the `obj` must supply components through `obj[\"xx\"]`, `obj[\"xy\"]`, etc.\n",
    "   * `is_parallel(vector, tolerance=1e-5)`: only true _if they're pointing in the same direction_\n",
    "   * `is_antiparallel(vector, tolerance=1e-5)`: only true _if they're pointing in opposite directions_\n",
    "   * `is_perpendicular(vector, tolerance=1e-5)`\n",
    "\n",
    "**Lorentz (4D only):**\n",
    "\n",
    "   * `t` (`E`, `energy`): follows the [ROOT::Math::LorentzVector](https://root.cern/doc/master/LorentzVectorPage.html) behavior of treating spacelike vectors as negative `t` and negative `tau` and truncating wrong-direction timelike vectors\n",
    "   * `t2` (`E2`, `energy2`)\n",
    "   * `tau` (`M`, `mass`): see note above\n",
    "   * `tau2` (`M2`, `mass2`)\n",
    "   * `beta`: scalar(s) between $0$ (inclusive) and $1$ (exclusive, unless the vector components are infinite)\n",
    "   * `deltaRapidityPhi`: $\\Delta R_{\\mbox{rapidity}} = \\Delta\\phi^2 + \\Delta \\mbox{rapidity}^2$\n",
    "   * `deltaRapidityPhi2`: the above, squared\n",
    "   * `gamma`: scalar(s) between $1$ (inclusive) and $\\infty$\n",
    "   * `rapidity`: scalar(s) between $0$ (inclusive) and $\\infty$\n",
    "   * `boost_p4(four_vector)`: change coordinate system using another 4D vector as the difference\n",
    "   * `boost_beta(three_vector)`: change coordinate system using a 3D beta vector (all components between $-1$ and $+1$)\n",
    "   * `boost(vector)`: uses the dimension of the given `vector` to determine behavior\n",
    "   * `boostX(beta=None, gamma=None)`: supply `beta` xor `gamma`, but not both\n",
    "   * `boostY(beta=None, gamma=None)`: supply `beta` xor `gamma`, but not both\n",
    "   * `boostZ(beta=None, gamma=None)`: supply `beta` xor `gamma`, but not both\n",
    "   * `transform4D(obj)`: the `obj` must supply components through `obj[\"xx\"]`, `obj[\"xy\"]`, etc.\n",
    "   * `to_beta3()`: turns a `four_vector` (for `boost_p4`) into a `three_vector` (for `boost_beta3`)\n",
    "   * `is_timelike(tolerance=0)`\n",
    "   * `is_spacelike(tolerance=0)`\n",
    "   * `is_lightlike(tolerance=1e-5)`: note the different tolerance\n",
    "\n",
    "**All numbers of dimensions:**\n",
    "\n",
    "   * `unit()`: note the parentheses\n",
    "   * `dot(vector)`: can also use the `@` operator\n",
    "   * `add(vector)`: can also use the `+` operator\n",
    "   * `subtract(vector)`: can also use the `-` operator\n",
    "   * `scale(factor)`: can also use the `*` operator\n",
    "   * `equal(vector)`: can also use the `==` operator, but consider `isclose` instead\n",
    "   * `not_equal(vector)`: can also use the `!=` operator, but consider `isclose` instead\n",
    "   * `sum()`: can also use the `numpy.sum` or `awkward.sum`, only for NumPy and Awkward vectors\n",
    "   * `count_nonzero()`: can also use `numpy.count_nonzero` or `awkward.count_nonzero`, only for NumPy and Awkward vectors\n",
    "   * `count()`: can also use `awkward.count`, only for Awkward vectors\n",
    "   * `isclose(vector, rtol=1e-5, atol=1e-8, equal_nan=False)`: works like [np.isclose](https://numpy.org/doc/stable/reference/generated/numpy.isclose.html); arrays also have an [allclose](https://numpy.org/doc/stable/reference/generated/numpy.allclose.html) method\n",
    "   * `to_VectorND(coordinates)`/`to_ND(coordinates)`: replace `N` with the required vector dimension\n",
    "   * `to_{coordinate-names}`: for example - `to_rhophietatau`\n",
    "   * `like(other)`: projects the vector into the dimensions of `other`, for example - `two_d_vector.like(three_d_vector)`\n"
   ]
  },
  {
   "cell_type": "markdown",
   "id": "dedicated-exemption",
   "metadata": {},
   "source": [
    "## Compiling your Python with Numba\n",
    "\n",
    "[Numba](https://numba.pydata.org/) is a just-in-time (JIT) compiler for a mathematically relevant subset of NumPy and Python. It allows you to write fast code without leaving the Python environment. The drawback of Numba is that it can only compile code blocks involving objects and functions that it recognizes.\n",
    "\n",
    "The Vector library includes extensions to inform Numba about vector objects, vector NumPy arrays, and vector Awkward Arrays. At the time of writing, the implementation of vector NumPy arrays is incomplete due to [numba/numba#6148](https://github.com/numba/numba/pull/6148).\n",
    "\n",
    "For instance, consider the following function:"
   ]
  },
  {
   "cell_type": "code",
   "execution_count": 90,
   "id": "sporting-champion",
   "metadata": {},
   "outputs": [],
   "source": [
    "@nb.njit\n",
    "def compute_mass(v1, v2):\n",
    "    return (v1 + v2).mass"
   ]
  },
  {
   "cell_type": "code",
   "execution_count": 91,
   "id": "blocked-attribute",
   "metadata": {},
   "outputs": [
    {
     "data": {
      "text/plain": [
       "8.0"
      ]
     },
     "execution_count": 91,
     "metadata": {},
     "output_type": "execute_result"
    }
   ],
   "source": [
    "compute_mass(vector.obj(px=1, py=2, pz=3, E=4), vector.obj(px=-1, py=-2, pz=-3, E=4))"
   ]
  },
  {
   "cell_type": "markdown",
   "id": "significant-sweden",
   "metadata": {},
   "source": [
    "When the two `MomentumObject4D` objects are passed as arguments, Numba recognizes them and replaces the Python objects with low-level structs. When it compiles the function, it recognizes `+` as the 4D `add` function and recognizes `.mass` as the `tau` component of the result.\n",
    "\n",
    "Although this demonstrates that Numba can manipulate vector objects, there is no performance advantage (and a likely disadvantage) to compiling a calculation on just a few vectors. The advantage comes when many vectors are involved, in arrays."
   ]
  },
  {
   "cell_type": "code",
   "execution_count": 92,
   "id": "round-supplier",
   "metadata": {},
   "outputs": [
    {
     "data": {
      "text/plain": [
       "<MomentumArray4D [[{x: 0.49, y: -2.77, ... t: 9.31}]] type='50 * var * Momentum4...'>"
      ]
     },
     "execution_count": 92,
     "metadata": {},
     "output_type": "execute_result"
    }
   ],
   "source": [
    "# This is still not a large number. You want millions.\n",
    "array = vector.Array(\n",
    "    [\n",
    "        [\n",
    "            dict(\n",
    "                {x: np.random.normal(0, 1) for x in (\"px\", \"py\", \"pz\")},\n",
    "                E=np.random.normal(10, 1),\n",
    "            )\n",
    "            for inner in range(np.random.poisson(1.5))\n",
    "        ]\n",
    "        for outer in range(50)\n",
    "    ]\n",
    ")\n",
    "array"
   ]
  },
  {
   "cell_type": "code",
   "execution_count": 93,
   "id": "emotional-headquarters",
   "metadata": {},
   "outputs": [],
   "source": [
    "@nb.njit\n",
    "def compute_masses(array):\n",
    "    out = np.empty(len(array), np.float64)\n",
    "    for i, event in enumerate(array):\n",
    "        total = vector.obj(px=0.0, py=0.0, pz=0.0, E=0.0)\n",
    "        for vec in event:\n",
    "            total = total + vec\n",
    "        out[i] = total.mass\n",
    "    return out"
   ]
  },
  {
   "cell_type": "code",
   "execution_count": 94,
   "id": "recorded-grass",
   "metadata": {},
   "outputs": [
    {
     "data": {
      "text/plain": [
       "array([17.8909645 , 10.55040759, 20.07523827,  9.84004207, 20.67409871,\n",
       "       27.88106879,  0.        , 32.26388208, 28.44712907,  8.82669677,\n",
       "        9.77241892,  0.        , 18.92545164, 19.36782081, 16.79226804,\n",
       "       10.62459674, 32.13326598,  9.57807961, 10.77717215,  0.        ,\n",
       "       21.0389158 , 30.44473778,  0.        , 50.41526533,  0.        ,\n",
       "        9.24508557, 22.26878408, 29.88592903,  0.        , 18.96505713,\n",
       "       10.28562132,  0.        , 21.31843914,  9.0798792 , 21.74269618,\n",
       "       10.64529248, 10.45420065,  7.9109517 ,  0.        ,  9.09929944,\n",
       "       29.70836013, 48.5004124 , 18.63789529,  9.89926012,  9.19757276,\n",
       "       31.6617626 ,  0.        ,  0.        ,  0.        ,  9.07660597])"
      ]
     },
     "execution_count": 94,
     "metadata": {},
     "output_type": "execute_result"
    }
   ],
   "source": [
    "compute_masses(array)"
   ]
  },
  {
   "cell_type": "markdown",
   "id": "bb6c289a",
   "metadata": {},
   "source": [
    "## Talks about vector\n",
    "\n",
    "- 9th October 2023 - [What’s new with Vector? First major release is out!](https://indi.to/35ym5) - [PyHEP 2023 (virtual)](https://indico.cern.ch/event/1252095/) [🎥](https://www.youtube.com/watch?v=JHEAb2R3xzE&list=PLKZ9c4ONm-VlAorAG8kR09ZqhMfHiH2LJ&index=10)\n",
    "- 13th September 2022 - [Constructing HEP vectors and analyzing HEP data using Vector](https://indi.to/bPmMc) - [PyHEP 2022 (virtual)](https://indico.cern.ch/event/1150631/) [🎥](https://www.youtube.com/watch?v=4iveMzrbe7s&list=PLKZ9c4ONm-VkohKG-skzEG_gklMaSgaO7&index=15)\n",
    "- 20th July 2022 - [Analysis Grand Challenge / HEP Scientific Python Ecosystem](https://indico.cern.ch/event/1151329/timetable/#3-analysis-grand-challenge-hep) - [DANCE/CoDaS@Snowmass 2022 computational and data science software training](https://indico.cern.ch/event/1151329/)\n",
    "- 25th April 2022 - [Foundation libraries (uproot, awkward, hist, mplhep)](https://indico.cern.ch/event/1126109/contributions/4780138/) - [IRIS-HEP AGC Tools 2022 Workshop](https://indico.cern.ch/event/1126109/) [🎥](https://www.youtube.com/watch?v=O9KvsDMKOmY)\n",
    "- 3rd November 2021 - [Data handling: uproot, awkward & vector](https://indico.cern.ch/event/1076231/contributions/4560398/) - [IRIS-HEP AGC Tools 2021 Workshop](https://indico.cern.ch/event/1076231/) [🎥](https://indico.cern.ch/event/1076231/contributions/4560398/attachments/2338579/4017718/agc_uproot_awk.mp4)\n"
   ]
  },
  {
   "cell_type": "markdown",
   "id": "particular-bangkok",
   "metadata": {},
   "source": [
    "### Status as of November 17, 2023\n",
    "\n",
    "First major release of vector is out and the package has reached a stable position. The work is spearheaded by bug reports and feature requests created on GitHub. It can only be improved by your feedback!"
   ]
  },
  {
   "cell_type": "code",
   "execution_count": null,
   "id": "7ab4764f-b030-4831-9568-e46e47faf40a",
   "metadata": {},
   "outputs": [],
   "source": []
  }
 ],
 "metadata": {
  "kernelspec": {
   "display_name": "Python 3 (ipykernel)",
   "language": "python",
   "name": "python3"
  },
  "language_info": {
   "codemirror_mode": {
    "name": "ipython",
    "version": 3
   },
   "file_extension": ".py",
   "mimetype": "text/x-python",
   "name": "python",
   "nbconvert_exporter": "python",
   "pygments_lexer": "ipython3",
   "version": "3.11.5"
  }
 },
 "nbformat": 4,
 "nbformat_minor": 5
}
